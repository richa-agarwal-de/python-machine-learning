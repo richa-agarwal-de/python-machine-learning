{
  "cells": [
    {
      "cell_type": "markdown",
      "metadata": {
        "id": "view-in-github",
        "colab_type": "text"
      },
      "source": [
        "<a href=\"https://colab.research.google.com/github/richa-agarwal-de/python-machine-learning/blob/main/python_day6.ipynb\" target=\"_parent\"><img src=\"https://colab.research.google.com/assets/colab-badge.svg\" alt=\"Open In Colab\"/></a>"
      ]
    },
    {
      "cell_type": "markdown",
      "source": [
        "# List, Tuple, Dict"
      ],
      "metadata": {
        "id": "wTHBKpAevIjO"
      }
    },
    {
      "cell_type": "markdown",
      "source": [
        "## List"
      ],
      "metadata": {
        "id": "s5sdj-4bxDLI"
      }
    },
    {
      "cell_type": "code",
      "source": [
        "l1 = [10,20,3.14,3+4j,[100,200,300],'NTT',2*3j]\n",
        "print(type(l1))\n",
        "print(l1)\n",
        "\n",
        "# indexing\n",
        "print(l1[0],l1[-1])\n",
        "print(l1[-3][1])\n"
      ],
      "metadata": {
        "id": "_Jz2MJqeuyZx",
        "outputId": "f4c1b943-5af0-4d61-bb58-888ef79e68ef",
        "colab": {
          "base_uri": "https://localhost:8080/"
        }
      },
      "execution_count": null,
      "outputs": [
        {
          "output_type": "stream",
          "name": "stdout",
          "text": [
            "<class 'list'>\n",
            "[10, 20, 3.14, (3+4j), [100, 200, 300], 'NTT', 6j]\n",
            "10 6j\n",
            "200\n"
          ]
        }
      ]
    },
    {
      "cell_type": "code",
      "source": [
        "# complex number data type  check\n",
        "a = 3+4j\n",
        "\n",
        "print(a)\n",
        "print(type(a))"
      ],
      "metadata": {
        "id": "KP5wBFnavBRq",
        "outputId": "6c52b8a3-cd4b-44da-e3a8-a4122d09c3f0",
        "colab": {
          "base_uri": "https://localhost:8080/"
        }
      },
      "execution_count": null,
      "outputs": [
        {
          "output_type": "stream",
          "name": "stdout",
          "text": [
            "(3+4j)\n",
            "<class 'complex'>\n"
          ]
        }
      ]
    },
    {
      "cell_type": "code",
      "source": [
        "# slicing\n",
        "print(l1[0:5:1])\n",
        "print(l1[0:5:2])\n",
        "print(l1[::])\n",
        "print(l1[::-1])"
      ],
      "metadata": {
        "id": "SE8KuxZsyRRs",
        "outputId": "a1398da7-e299-4014-e8db-235cdfd82cf0",
        "colab": {
          "base_uri": "https://localhost:8080/"
        }
      },
      "execution_count": null,
      "outputs": [
        {
          "output_type": "stream",
          "name": "stdout",
          "text": [
            "[10, 20, 3.14, (3+4j), [100, 200, 300]]\n",
            "[10, 3.14, [100, 200, 300]]\n",
            "[10, 20, 3.14, (3+4j), [100, 200, 300], 'NTT', 6j]\n",
            "[6j, 'NTT', [100, 200, 300], (3+4j), 3.14, 20, 10]\n"
          ]
        }
      ]
    },
    {
      "cell_type": "code",
      "source": [
        "# concatenation of List\n",
        "\n",
        "l2 = [20, 50, 46]\n",
        "l3 = [9832, 424]\n",
        "\n",
        "l4 = l2 + l3\n",
        "\n",
        "print(l2)\n",
        "print(l3)\n",
        "print(l4)\n",
        "\n",
        "print(id(l2))\n",
        "print(id(l3))\n",
        "print(id(l4))"
      ],
      "metadata": {
        "id": "iKLwRRt4y_D7",
        "outputId": "4eed48eb-13b6-457b-95bf-52f736f26d03",
        "colab": {
          "base_uri": "https://localhost:8080/"
        }
      },
      "execution_count": null,
      "outputs": [
        {
          "output_type": "stream",
          "name": "stdout",
          "text": [
            "[20, 50, 46]\n",
            "[9832, 424]\n",
            "[20, 50, 46, 9832, 424]\n",
            "136921341437056\n",
            "136921768501568\n",
            "136921341438080\n"
          ]
        }
      ]
    },
    {
      "cell_type": "code",
      "source": [
        "# multiplication of list\n",
        "\n",
        "l5 = [10, 201, 30]\n",
        "\n",
        "print(l5)\n",
        "print(l5*3)"
      ],
      "metadata": {
        "id": "D3gBPMfb0UNG",
        "outputId": "4b59b1fa-29ee-4ccb-cf83-81adb7c6a2a9",
        "colab": {
          "base_uri": "https://localhost:8080/"
        }
      },
      "execution_count": null,
      "outputs": [
        {
          "output_type": "stream",
          "name": "stdout",
          "text": [
            "[10, 201, 30]\n",
            "[10, 201, 30, 10, 201, 30, 10, 201, 30]\n"
          ]
        }
      ]
    },
    {
      "cell_type": "code",
      "source": [
        "# iteration of list\n",
        "\n",
        "l6 = [10, 20, 30, 40, 347, 23, 587]\n",
        "\n",
        "for i  in l6:\n",
        "  print(i)\n",
        "\n",
        "for i  in l6:\n",
        "  print(i+5)"
      ],
      "metadata": {
        "id": "VS8JEbSC1NEp",
        "outputId": "149cd48d-1262-424a-969d-c8cd9965771e",
        "colab": {
          "base_uri": "https://localhost:8080/"
        }
      },
      "execution_count": null,
      "outputs": [
        {
          "output_type": "stream",
          "name": "stdout",
          "text": [
            "10\n",
            "20\n",
            "30\n",
            "40\n",
            "347\n",
            "23\n",
            "587\n",
            "15\n",
            "25\n",
            "35\n",
            "45\n",
            "352\n",
            "28\n",
            "592\n"
          ]
        }
      ]
    },
    {
      "cell_type": "code",
      "source": [
        "# membership operator --- IN / NOT IN\n",
        "\n",
        "print(10 in [30, 229,4309, 38])\n",
        "print(10 in [30, 229,4309, 38,10])\n",
        "\n",
        "print(10 not in [30, 229,4309, 38])\n",
        "print(10 not in [30, 229,4309, 38,10])\n",
        "\n",
        "\n",
        "print('NTT' in 'NTT DATA')\n"
      ],
      "metadata": {
        "id": "VMwBlwe71lK1",
        "outputId": "5fcd75c5-af5f-488f-ba16-38b05c9362fc",
        "colab": {
          "base_uri": "https://localhost:8080/"
        }
      },
      "execution_count": null,
      "outputs": [
        {
          "output_type": "stream",
          "name": "stdout",
          "text": [
            "False\n",
            "True\n",
            "True\n",
            "False\n",
            "True\n"
          ]
        }
      ]
    },
    {
      "cell_type": "code",
      "source": [
        "# deletion of list\n",
        "\n",
        "l7 = [10, 20, 30]\n",
        "\n",
        "print(l7)\n",
        "\n",
        "del l7\n",
        "\n",
        "print(l7)"
      ],
      "metadata": {
        "id": "Kcx267b22Hsz",
        "outputId": "55750a8d-c83b-4358-b54c-53f31239c6c0",
        "colab": {
          "base_uri": "https://localhost:8080/",
          "height": 193
        }
      },
      "execution_count": null,
      "outputs": [
        {
          "output_type": "stream",
          "name": "stdout",
          "text": [
            "[10, 20, 30]\n"
          ]
        },
        {
          "output_type": "error",
          "ename": "NameError",
          "evalue": "name 'l7' is not defined",
          "traceback": [
            "\u001b[0;31m---------------------------------------------------------------------------\u001b[0m",
            "\u001b[0;31mNameError\u001b[0m                                 Traceback (most recent call last)",
            "\u001b[0;32m<ipython-input-24-6137bee61ffb>\u001b[0m in \u001b[0;36m<cell line: 0>\u001b[0;34m()\u001b[0m\n\u001b[1;32m      7\u001b[0m \u001b[0;32mdel\u001b[0m \u001b[0ml7\u001b[0m\u001b[0;34m\u001b[0m\u001b[0;34m\u001b[0m\u001b[0m\n\u001b[1;32m      8\u001b[0m \u001b[0;34m\u001b[0m\u001b[0m\n\u001b[0;32m----> 9\u001b[0;31m \u001b[0mprint\u001b[0m\u001b[0;34m(\u001b[0m\u001b[0ml7\u001b[0m\u001b[0;34m)\u001b[0m\u001b[0;34m\u001b[0m\u001b[0;34m\u001b[0m\u001b[0m\n\u001b[0m",
            "\u001b[0;31mNameError\u001b[0m: name 'l7' is not defined"
          ]
        }
      ]
    },
    {
      "cell_type": "code",
      "source": [
        "l8 = [10,20,30]\n",
        "l9 = [30,29]\n",
        "\n",
        "print(l8*l9)"
      ],
      "metadata": {
        "id": "hnS18uQc25fw",
        "outputId": "84e3b74b-2035-4bad-b0db-c0c34cf8e521",
        "colab": {
          "base_uri": "https://localhost:8080/",
          "height": 176
        }
      },
      "execution_count": null,
      "outputs": [
        {
          "output_type": "error",
          "ename": "TypeError",
          "evalue": "can't multiply sequence by non-int of type 'list'",
          "traceback": [
            "\u001b[0;31m---------------------------------------------------------------------------\u001b[0m",
            "\u001b[0;31mTypeError\u001b[0m                                 Traceback (most recent call last)",
            "\u001b[0;32m<ipython-input-25-a0f7c50c0e4c>\u001b[0m in \u001b[0;36m<cell line: 0>\u001b[0;34m()\u001b[0m\n\u001b[1;32m      2\u001b[0m \u001b[0ml9\u001b[0m \u001b[0;34m=\u001b[0m \u001b[0;34m[\u001b[0m\u001b[0;36m30\u001b[0m\u001b[0;34m,\u001b[0m\u001b[0;36m29\u001b[0m\u001b[0;34m]\u001b[0m\u001b[0;34m\u001b[0m\u001b[0;34m\u001b[0m\u001b[0m\n\u001b[1;32m      3\u001b[0m \u001b[0;34m\u001b[0m\u001b[0m\n\u001b[0;32m----> 4\u001b[0;31m \u001b[0mprint\u001b[0m\u001b[0;34m(\u001b[0m\u001b[0ml8\u001b[0m\u001b[0;34m*\u001b[0m\u001b[0ml9\u001b[0m\u001b[0;34m)\u001b[0m\u001b[0;34m\u001b[0m\u001b[0;34m\u001b[0m\u001b[0m\n\u001b[0m",
            "\u001b[0;31mTypeError\u001b[0m: can't multiply sequence by non-int of type 'list'"
          ]
        }
      ]
    },
    {
      "cell_type": "markdown",
      "source": [
        "### inbuilt function"
      ],
      "metadata": {
        "id": "YNwFHB3J38NC"
      }
    },
    {
      "cell_type": "code",
      "source": [
        "# max()\n",
        "\n",
        "l1 = [100,43,3843,4853980,121]\n",
        "\n",
        "print(max(l1))"
      ],
      "metadata": {
        "id": "2WPHzYnd3FJN",
        "outputId": "75c84f12-8895-4a6b-d2f0-8da926fe81ce",
        "colab": {
          "base_uri": "https://localhost:8080/"
        }
      },
      "execution_count": null,
      "outputs": [
        {
          "output_type": "stream",
          "name": "stdout",
          "text": [
            "4853980\n"
          ]
        }
      ]
    },
    {
      "cell_type": "code",
      "source": [
        "l2 = [342,'fefew','zgsjag',4398743298]\n",
        "\n",
        "print(max(l2))"
      ],
      "metadata": {
        "id": "DAQkdum74ECq",
        "outputId": "3329f03a-df73-4daf-9f3d-e59d7b47460d",
        "colab": {
          "base_uri": "https://localhost:8080/",
          "height": 176
        }
      },
      "execution_count": null,
      "outputs": [
        {
          "output_type": "error",
          "ename": "TypeError",
          "evalue": "'>' not supported between instances of 'str' and 'int'",
          "traceback": [
            "\u001b[0;31m---------------------------------------------------------------------------\u001b[0m",
            "\u001b[0;31mTypeError\u001b[0m                                 Traceback (most recent call last)",
            "\u001b[0;32m<ipython-input-28-2e8c4d407470>\u001b[0m in \u001b[0;36m<cell line: 0>\u001b[0;34m()\u001b[0m\n\u001b[1;32m      1\u001b[0m \u001b[0ml2\u001b[0m \u001b[0;34m=\u001b[0m \u001b[0;34m[\u001b[0m\u001b[0;36m342\u001b[0m\u001b[0;34m,\u001b[0m\u001b[0;34m'fefew'\u001b[0m\u001b[0;34m,\u001b[0m\u001b[0;34m'zgsjag'\u001b[0m\u001b[0;34m,\u001b[0m\u001b[0;36m4398743298\u001b[0m\u001b[0;34m]\u001b[0m\u001b[0;34m\u001b[0m\u001b[0;34m\u001b[0m\u001b[0m\n\u001b[1;32m      2\u001b[0m \u001b[0;34m\u001b[0m\u001b[0m\n\u001b[0;32m----> 3\u001b[0;31m \u001b[0mprint\u001b[0m\u001b[0;34m(\u001b[0m\u001b[0mmax\u001b[0m\u001b[0;34m(\u001b[0m\u001b[0ml2\u001b[0m\u001b[0;34m)\u001b[0m\u001b[0;34m)\u001b[0m\u001b[0;34m\u001b[0m\u001b[0;34m\u001b[0m\u001b[0m\n\u001b[0m",
            "\u001b[0;31mTypeError\u001b[0m: '>' not supported between instances of 'str' and 'int'"
          ]
        }
      ]
    },
    {
      "cell_type": "code",
      "source": [
        "l3 = ['aa','fefew','zgsjag','zzz']\n",
        "\n",
        "print(max(l3))\n",
        "\n",
        "print(max(l3,key=len))  #### can define own function and provide it as parameter to key"
      ],
      "metadata": {
        "id": "yaTSa1XE4Qfy",
        "outputId": "0ed840d8-15dc-4a04-b730-b79a0cbd9a13",
        "colab": {
          "base_uri": "https://localhost:8080/"
        }
      },
      "execution_count": null,
      "outputs": [
        {
          "output_type": "stream",
          "name": "stdout",
          "text": [
            "zzz\n",
            "zgsjag\n"
          ]
        }
      ]
    },
    {
      "cell_type": "code",
      "source": [
        "# empty list throws error with max\n",
        "# Default value to max()\n",
        "\n",
        "l4 = []\n",
        "\n",
        "print(max(l4))\n",
        "\n",
        "print(max(l4,default=10))"
      ],
      "metadata": {
        "id": "Y12p_HYq4iqK",
        "outputId": "9234e206-002f-4b69-edbd-b0a0fb57ed56",
        "colab": {
          "base_uri": "https://localhost:8080/",
          "height": 211
        }
      },
      "execution_count": null,
      "outputs": [
        {
          "output_type": "error",
          "ename": "ValueError",
          "evalue": "max() arg is an empty sequence",
          "traceback": [
            "\u001b[0;31m---------------------------------------------------------------------------\u001b[0m",
            "\u001b[0;31mValueError\u001b[0m                                Traceback (most recent call last)",
            "\u001b[0;32m<ipython-input-33-040f1ab6674b>\u001b[0m in \u001b[0;36m<cell line: 0>\u001b[0;34m()\u001b[0m\n\u001b[1;32m      4\u001b[0m \u001b[0ml4\u001b[0m \u001b[0;34m=\u001b[0m \u001b[0;34m[\u001b[0m\u001b[0;34m]\u001b[0m\u001b[0;34m\u001b[0m\u001b[0;34m\u001b[0m\u001b[0m\n\u001b[1;32m      5\u001b[0m \u001b[0;34m\u001b[0m\u001b[0m\n\u001b[0;32m----> 6\u001b[0;31m \u001b[0mprint\u001b[0m\u001b[0;34m(\u001b[0m\u001b[0mmax\u001b[0m\u001b[0;34m(\u001b[0m\u001b[0ml4\u001b[0m\u001b[0;34m)\u001b[0m\u001b[0;34m)\u001b[0m\u001b[0;34m\u001b[0m\u001b[0;34m\u001b[0m\u001b[0m\n\u001b[0m\u001b[1;32m      7\u001b[0m \u001b[0;34m\u001b[0m\u001b[0m\n\u001b[1;32m      8\u001b[0m \u001b[0mprint\u001b[0m\u001b[0;34m(\u001b[0m\u001b[0mmax\u001b[0m\u001b[0;34m(\u001b[0m\u001b[0ml4\u001b[0m\u001b[0;34m,\u001b[0m\u001b[0mdefault\u001b[0m\u001b[0;34m=\u001b[0m\u001b[0;36m10\u001b[0m\u001b[0;34m)\u001b[0m\u001b[0;34m)\u001b[0m\u001b[0;34m\u001b[0m\u001b[0;34m\u001b[0m\u001b[0m\n",
            "\u001b[0;31mValueError\u001b[0m: max() arg is an empty sequence"
          ]
        }
      ]
    },
    {
      "cell_type": "code",
      "source": [
        "# empty list throws error with max\n",
        "# Default value to max()\n",
        "\n",
        "l4 = []\n",
        "\n",
        "\n",
        "print(max(l4,default=10))"
      ],
      "metadata": {
        "id": "RMp7-SF45j2Z",
        "outputId": "e250c3a4-a497-4f0e-c82d-fb558e7110ff",
        "colab": {
          "base_uri": "https://localhost:8080/"
        }
      },
      "execution_count": null,
      "outputs": [
        {
          "output_type": "stream",
          "name": "stdout",
          "text": [
            "10\n"
          ]
        }
      ]
    },
    {
      "cell_type": "markdown",
      "source": [
        "### Append element to list"
      ],
      "metadata": {
        "id": "RiyvksxM6pzN"
      }
    },
    {
      "cell_type": "code",
      "source": [
        "# append list\n",
        "# can append only 1 element at a time\n",
        "\n",
        "l1 = [30,343,121,34]\n",
        "\n",
        "print(l1)\n",
        "\n",
        "l1.append(37432)\n",
        "\n",
        "print(l1)"
      ],
      "metadata": {
        "id": "muvuNC0T6OTA",
        "outputId": "e216be46-e6d8-4a0d-abdb-bdcd600f8f41",
        "colab": {
          "base_uri": "https://localhost:8080/"
        }
      },
      "execution_count": null,
      "outputs": [
        {
          "output_type": "stream",
          "name": "stdout",
          "text": [
            "[30, 343, 121, 34]\n",
            "[30, 343, 121, 34, 37432]\n"
          ]
        }
      ]
    },
    {
      "cell_type": "code",
      "source": [
        "print(id(l1[0]))\n",
        "print(id(l1[1]))\n",
        "print(id(l1[2]))\n",
        "print(id(l1[3]))\n",
        "print(id(l1[4]))\n",
        "\n",
        "l1.append('NTT')\n",
        "\n",
        "print(id(l1[5]))"
      ],
      "metadata": {
        "id": "zplySAWT66Zk",
        "outputId": "c8a5de05-51a1-45d3-996a-b60787c7c860",
        "colab": {
          "base_uri": "https://localhost:8080/"
        }
      },
      "execution_count": null,
      "outputs": [
        {
          "output_type": "stream",
          "name": "stdout",
          "text": [
            "10751784\n",
            "136921342329296\n",
            "10754696\n",
            "10751912\n",
            "136921342329744\n",
            "136921768497968\n"
          ]
        }
      ]
    },
    {
      "cell_type": "code",
      "source": [
        "l1 = []\n",
        "\n",
        "for i in range(6):\n",
        "  n = int(input('Enter a number to append to list: '))\n",
        "  l1.append(n)\n",
        "\n",
        "print(l1)"
      ],
      "metadata": {
        "id": "008fkL4O7GTr",
        "outputId": "a711f7e3-e271-46c6-cb04-6bec31c36991",
        "colab": {
          "base_uri": "https://localhost:8080/",
          "height": 263
        }
      },
      "execution_count": null,
      "outputs": [
        {
          "name": "stdout",
          "output_type": "stream",
          "text": [
            "Enter a number to append to list: 232\n",
            "Enter a number to append to list: 2\n",
            "Enter a number to append to list: \n"
          ]
        },
        {
          "output_type": "error",
          "ename": "ValueError",
          "evalue": "invalid literal for int() with base 10: ''",
          "traceback": [
            "\u001b[0;31m---------------------------------------------------------------------------\u001b[0m",
            "\u001b[0;31mValueError\u001b[0m                                Traceback (most recent call last)",
            "\u001b[0;32m<ipython-input-43-33ad023f2b0c>\u001b[0m in \u001b[0;36m<cell line: 0>\u001b[0;34m()\u001b[0m\n\u001b[1;32m      2\u001b[0m \u001b[0;34m\u001b[0m\u001b[0m\n\u001b[1;32m      3\u001b[0m \u001b[0;32mfor\u001b[0m \u001b[0mi\u001b[0m \u001b[0;32min\u001b[0m \u001b[0mrange\u001b[0m\u001b[0;34m(\u001b[0m\u001b[0;36m6\u001b[0m\u001b[0;34m)\u001b[0m\u001b[0;34m:\u001b[0m\u001b[0;34m\u001b[0m\u001b[0;34m\u001b[0m\u001b[0m\n\u001b[0;32m----> 4\u001b[0;31m   \u001b[0mn\u001b[0m \u001b[0;34m=\u001b[0m \u001b[0mint\u001b[0m\u001b[0;34m(\u001b[0m\u001b[0minput\u001b[0m\u001b[0;34m(\u001b[0m\u001b[0;34m'Enter a number to append to list: '\u001b[0m\u001b[0;34m)\u001b[0m\u001b[0;34m)\u001b[0m\u001b[0;34m\u001b[0m\u001b[0;34m\u001b[0m\u001b[0m\n\u001b[0m\u001b[1;32m      5\u001b[0m   \u001b[0ml1\u001b[0m\u001b[0;34m.\u001b[0m\u001b[0mappend\u001b[0m\u001b[0;34m(\u001b[0m\u001b[0mn\u001b[0m\u001b[0;34m)\u001b[0m\u001b[0;34m\u001b[0m\u001b[0;34m\u001b[0m\u001b[0m\n\u001b[1;32m      6\u001b[0m \u001b[0;34m\u001b[0m\u001b[0m\n",
            "\u001b[0;31mValueError\u001b[0m: invalid literal for int() with base 10: ''"
          ]
        }
      ]
    },
    {
      "cell_type": "code",
      "source": [
        "# extend method\n",
        "\n",
        "l1 = [10,20,30]\n",
        "l2 = [490,2250,160]\n",
        "\n",
        "l1.extend(l2)\n",
        "\n",
        "print(l1)"
      ],
      "metadata": {
        "id": "vnCu2jco7163",
        "outputId": "1d8aa44f-5ee6-4107-cb6f-b651daa69b53",
        "colab": {
          "base_uri": "https://localhost:8080/"
        }
      },
      "execution_count": null,
      "outputs": [
        {
          "output_type": "stream",
          "name": "stdout",
          "text": [
            "[10, 20, 30, 490, 2250, 160]\n"
          ]
        }
      ]
    },
    {
      "cell_type": "code",
      "source": [
        "# insert method\n",
        "\n",
        "l3 = [33,432, 22232]\n",
        "\n",
        "print(l3)\n",
        "print(id(l3[0]))\n",
        "print(id(l3[1]))\n",
        "print(id(l3[2]))\n",
        "\n",
        "print(id(l3))\n",
        "\n",
        "l3.insert(1,100)\n",
        "print(l3)\n",
        "print(id(l3[0]))\n",
        "print(id(l3[1]))\n",
        "print(id(l3[2]))\n",
        "print(id(l3[3]))\n",
        "\n",
        "print(id(l3))"
      ],
      "metadata": {
        "id": "XsXho_UC92Cq",
        "outputId": "30b70ee2-97a6-4027-e6fc-9efa0b779c17",
        "colab": {
          "base_uri": "https://localhost:8080/"
        }
      },
      "execution_count": null,
      "outputs": [
        {
          "output_type": "stream",
          "name": "stdout",
          "text": [
            "[33, 432, 22232]\n",
            "10751880\n",
            "136921311482704\n",
            "136921311483184\n",
            "136921310995264\n",
            "[33, 100, 432, 22232]\n",
            "10751880\n",
            "10754024\n",
            "136921311482704\n",
            "136921311483184\n",
            "136921310995264\n"
          ]
        }
      ]
    },
    {
      "cell_type": "code",
      "source": [
        "# remove method (it works on value.. which value you want to remove)\n",
        "\n",
        "l1 = [10,323,2329,10,3843]\n",
        "\n",
        "print(l1)\n",
        "\n",
        "l1.remove(10)\n",
        "\n",
        "print(l1)"
      ],
      "metadata": {
        "id": "AhJTog4J-s63",
        "outputId": "dee92222-aa56-45df-f317-de2d8751dfba",
        "colab": {
          "base_uri": "https://localhost:8080/"
        }
      },
      "execution_count": null,
      "outputs": [
        {
          "output_type": "stream",
          "name": "stdout",
          "text": [
            "[10, 323, 2329, 10, 3843]\n",
            "[323, 2329, 10, 3843]\n"
          ]
        }
      ]
    },
    {
      "cell_type": "code",
      "source": [
        "# pop method (it works on index.. which index you want to remove)\n",
        "\n",
        "l1 = list(range(10,100,10))\n",
        "\n",
        "print(l1)\n",
        "print(l1.pop())\n",
        "\n",
        "print(l1)\n",
        "\n",
        "print(l1.pop(5))\n",
        "print(l1)"
      ],
      "metadata": {
        "id": "mQthAOGd_R4_",
        "outputId": "38641e41-96a1-4f42-9a71-d930ab2c9053",
        "colab": {
          "base_uri": "https://localhost:8080/"
        }
      },
      "execution_count": null,
      "outputs": [
        {
          "output_type": "stream",
          "name": "stdout",
          "text": [
            "[10, 20, 30, 40, 50, 60, 70, 80, 90]\n",
            "90\n",
            "[10, 20, 30, 40, 50, 60, 70, 80]\n",
            "60\n",
            "[10, 20, 30, 40, 50, 70, 80]\n"
          ]
        }
      ]
    },
    {
      "cell_type": "code",
      "source": [
        "# clear (emtpy the list in place)\n",
        "\n",
        "print(l1)\n",
        "l1.clear()\n",
        "\n",
        "print(l1)"
      ],
      "metadata": {
        "id": "TW5AGDbG_nrv",
        "outputId": "7713a627-f1c7-46e0-cb36-93cb7cbbefbe",
        "colab": {
          "base_uri": "https://localhost:8080/"
        }
      },
      "execution_count": null,
      "outputs": [
        {
          "output_type": "stream",
          "name": "stdout",
          "text": [
            "[10, 20, 30, 40, 50, 70, 80]\n",
            "[]\n"
          ]
        }
      ]
    },
    {
      "cell_type": "code",
      "source": [
        "# del (can delete, one element, a slice of list, or entire list)\n",
        "\n",
        "l1 = list(range(10,300,10))\n",
        "print(l1)\n",
        "\n",
        "del l1[1]\n",
        "print(l1)\n",
        "\n",
        "del l1[-1]\n",
        "print(l1)\n",
        "\n",
        "del l1[1:3]\n",
        "print(l1)\n",
        "\n",
        "del l1[-1:-3:-1] # not working\n",
        "print(l1)\n",
        "\n",
        "del l1[-3:-1] #working\n",
        "print(l1)\n",
        "\n",
        "del l1\n",
        "print(l1)"
      ],
      "metadata": {
        "id": "EV3Ts6uvA-XE",
        "outputId": "7132404a-2adc-44a7-f4f5-9015b96ec96f",
        "colab": {
          "base_uri": "https://localhost:8080/",
          "height": 280
        }
      },
      "execution_count": null,
      "outputs": [
        {
          "output_type": "stream",
          "name": "stdout",
          "text": [
            "[10, 20, 30, 40, 50, 60, 70, 80, 90, 100, 110, 120, 130, 140, 150, 160, 170, 180, 190, 200, 210, 220, 230, 240, 250, 260, 270, 280, 290]\n",
            "[10, 30, 40, 50, 60, 70, 80, 90, 100, 110, 120, 130, 140, 150, 160, 170, 180, 190, 200, 210, 220, 230, 240, 250, 260, 270, 280, 290]\n",
            "[10, 30, 40, 50, 60, 70, 80, 90, 100, 110, 120, 130, 140, 150, 160, 170, 180, 190, 200, 210, 220, 230, 240, 250, 260, 270, 280]\n",
            "[10, 50, 60, 70, 80, 90, 100, 110, 120, 130, 140, 150, 160, 170, 180, 190, 200, 210, 220, 230, 240, 250, 260, 270, 280]\n",
            "[10, 50, 60, 70, 80, 90, 100, 110, 120, 130, 140, 150, 160, 170, 180, 190, 200, 210, 220, 230, 240, 250, 260]\n",
            "[10, 50, 60, 70, 80, 90, 100, 110, 120, 130, 140, 150, 160, 170, 180, 190, 200, 210, 220, 230, 260]\n"
          ]
        },
        {
          "output_type": "error",
          "ename": "NameError",
          "evalue": "name 'l1' is not defined",
          "traceback": [
            "\u001b[0;31m---------------------------------------------------------------------------\u001b[0m",
            "\u001b[0;31mNameError\u001b[0m                                 Traceback (most recent call last)",
            "\u001b[0;32m<ipython-input-66-04f50a1f3a93>\u001b[0m in \u001b[0;36m<cell line: 0>\u001b[0;34m()\u001b[0m\n\u001b[1;32m     20\u001b[0m \u001b[0;34m\u001b[0m\u001b[0m\n\u001b[1;32m     21\u001b[0m \u001b[0;32mdel\u001b[0m \u001b[0ml1\u001b[0m\u001b[0;34m\u001b[0m\u001b[0;34m\u001b[0m\u001b[0m\n\u001b[0;32m---> 22\u001b[0;31m \u001b[0mprint\u001b[0m\u001b[0;34m(\u001b[0m\u001b[0ml1\u001b[0m\u001b[0;34m)\u001b[0m\u001b[0;34m\u001b[0m\u001b[0;34m\u001b[0m\u001b[0m\n\u001b[0m",
            "\u001b[0;31mNameError\u001b[0m: name 'l1' is not defined"
          ]
        }
      ]
    },
    {
      "cell_type": "code",
      "source": [
        "# remove duplicate in list\n",
        "\n",
        "l1 = [10,20,10,30,40,50]\n",
        "l2 = []\n",
        "\n",
        "l1.sort()\n",
        "print(l1)\n",
        "l2.append(l1[0])\n",
        "\n",
        "for i in range(1,len(l1)):\n",
        "  if l1[i-1] != l1[i]:\n",
        "    l2.append(l1[i])\n",
        "\n",
        "print(l2)"
      ],
      "metadata": {
        "id": "jsyisx_JBtDe",
        "outputId": "3827c42d-75c1-44e2-c2e9-3d05aa199589",
        "colab": {
          "base_uri": "https://localhost:8080/"
        }
      },
      "execution_count": null,
      "outputs": [
        {
          "output_type": "stream",
          "name": "stdout",
          "text": [
            "[10, 10, 20, 30, 40, 50]\n",
            "[10, 20, 30, 40, 50]\n"
          ]
        }
      ]
    },
    {
      "cell_type": "code",
      "source": [
        "l1 = [10,20,10,30,40,50]\n",
        "l2 = []\n",
        "\n",
        "l1.sort()\n",
        "print(l1)\n",
        "\n",
        "for i in l1:\n",
        "  if i not in l2:\n",
        "    l2.append(i)\n",
        "\n",
        "print(l2)"
      ],
      "metadata": {
        "id": "Vijb5gIdC3RH",
        "outputId": "f40420a0-6223-4ff1-b66f-0f7cdf07e865",
        "colab": {
          "base_uri": "https://localhost:8080/"
        }
      },
      "execution_count": null,
      "outputs": [
        {
          "output_type": "stream",
          "name": "stdout",
          "text": [
            "[10, 10, 20, 30, 40, 50]\n",
            "[10, 20, 30, 40, 50]\n"
          ]
        }
      ]
    },
    {
      "cell_type": "code",
      "source": [
        "# find 2nd largest number in the list\n",
        "\n",
        "l1 = list(range(10,100,10))\n",
        "\n",
        "print(l1)\n",
        "m1 = max(l1)\n",
        "l1.remove(m1)\n",
        "m2 = max(l1)\n",
        "print(l1)\n",
        "print(m2)\n",
        "\n"
      ],
      "metadata": {
        "id": "4JKerX26DrzO",
        "outputId": "1cfc3587-8331-48ab-d1c7-96e66a7b4bb6",
        "colab": {
          "base_uri": "https://localhost:8080/"
        }
      },
      "execution_count": null,
      "outputs": [
        {
          "output_type": "stream",
          "name": "stdout",
          "text": [
            "[10, 20, 30, 40, 50, 60, 70, 80, 90]\n",
            "[10, 20, 30, 40, 50, 60, 70, 80]\n",
            "80\n"
          ]
        }
      ]
    },
    {
      "cell_type": "code",
      "source": [
        "# find 2nd largest number in the list\n",
        "\n",
        "l1 = list(range(10,100,10))\n",
        "\n",
        "print(l1)\n",
        "l1.remove(max(l1))\n",
        "\n",
        "print(l1)\n",
        "print(max(l1))\n",
        "\n",
        "\n"
      ],
      "metadata": {
        "id": "vt_oG_hnF00O",
        "outputId": "1a2c9bd4-338c-4daf-8f44-a65815f1200a",
        "colab": {
          "base_uri": "https://localhost:8080/"
        }
      },
      "execution_count": null,
      "outputs": [
        {
          "output_type": "stream",
          "name": "stdout",
          "text": [
            "[10, 20, 30, 40, 50, 60, 70, 80, 90]\n",
            "[10, 20, 30, 40, 50, 60, 70, 80]\n",
            "80\n"
          ]
        }
      ]
    },
    {
      "cell_type": "code",
      "source": [
        "## python evaluates right side first\n",
        "\n",
        "a = 3\n",
        "b = 7\n",
        "\n",
        "print(a)\n",
        "print(b)\n",
        "\n",
        "a,b = b, a+b\n",
        "\n",
        "print(a)\n",
        "print(b)\n",
        "\n",
        "a,b = b+5, b+5\n",
        "\n",
        "print(a)\n",
        "print(b)\n",
        "\n",
        "a,b = b/5, 0\n",
        "\n",
        "print(a)\n",
        "print(b)"
      ],
      "metadata": {
        "id": "EwsEkUs0G03x",
        "outputId": "e85d794f-403e-4b63-d683-c985e49c37cb",
        "colab": {
          "base_uri": "https://localhost:8080/"
        }
      },
      "execution_count": 3,
      "outputs": [
        {
          "output_type": "stream",
          "name": "stdout",
          "text": [
            "3\n",
            "7\n",
            "7\n",
            "10\n",
            "15\n",
            "15\n",
            "3.0\n",
            "0\n"
          ]
        }
      ]
    },
    {
      "cell_type": "code",
      "source": [],
      "metadata": {
        "id": "kt19jcZ1amJ1"
      },
      "execution_count": null,
      "outputs": []
    }
  ],
  "metadata": {
    "colab": {
      "name": "Welcome To Colab",
      "provenance": [],
      "include_colab_link": true
    },
    "kernelspec": {
      "display_name": "Python 3",
      "name": "python3"
    }
  },
  "nbformat": 4,
  "nbformat_minor": 0
}