{
  "cells": [
    {
      "cell_type": "markdown",
      "metadata": {
        "id": "view-in-github",
        "colab_type": "text"
      },
      "source": [
        "<a href=\"https://colab.research.google.com/github/richa-agarwal-de/python-machine-learning/blob/main/python_day6.ipynb\" target=\"_parent\"><img src=\"https://colab.research.google.com/assets/colab-badge.svg\" alt=\"Open In Colab\"/></a>"
      ]
    },
    {
      "cell_type": "markdown",
      "source": [
        "# List, Tuple, Dict, Set"
      ],
      "metadata": {
        "id": "wTHBKpAevIjO"
      }
    },
    {
      "cell_type": "markdown",
      "source": [
        "## List"
      ],
      "metadata": {
        "id": "s5sdj-4bxDLI"
      }
    },
    {
      "cell_type": "code",
      "source": [
        "l1 = [10,20,3.14,3+4j,[100,200,300],'NTT',2*3j]\n",
        "print(type(l1))\n",
        "print(l1)\n",
        "\n",
        "# indexing\n",
        "print(l1[0],l1[-1])\n",
        "print(l1[-3][1])\n"
      ],
      "metadata": {
        "id": "_Jz2MJqeuyZx",
        "outputId": "f4c1b943-5af0-4d61-bb58-888ef79e68ef",
        "colab": {
          "base_uri": "https://localhost:8080/"
        }
      },
      "execution_count": null,
      "outputs": [
        {
          "output_type": "stream",
          "name": "stdout",
          "text": [
            "<class 'list'>\n",
            "[10, 20, 3.14, (3+4j), [100, 200, 300], 'NTT', 6j]\n",
            "10 6j\n",
            "200\n"
          ]
        }
      ]
    },
    {
      "cell_type": "code",
      "source": [
        "# complex number data type  check\n",
        "a = 3+4j\n",
        "\n",
        "print(a)\n",
        "print(type(a))"
      ],
      "metadata": {
        "id": "KP5wBFnavBRq",
        "outputId": "6c52b8a3-cd4b-44da-e3a8-a4122d09c3f0",
        "colab": {
          "base_uri": "https://localhost:8080/"
        }
      },
      "execution_count": null,
      "outputs": [
        {
          "output_type": "stream",
          "name": "stdout",
          "text": [
            "(3+4j)\n",
            "<class 'complex'>\n"
          ]
        }
      ]
    },
    {
      "cell_type": "code",
      "source": [
        "# slicing\n",
        "print(l1[0:5:1])\n",
        "print(l1[0:5:2])\n",
        "print(l1[::])\n",
        "print(l1[::-1])"
      ],
      "metadata": {
        "id": "SE8KuxZsyRRs",
        "outputId": "a1398da7-e299-4014-e8db-235cdfd82cf0",
        "colab": {
          "base_uri": "https://localhost:8080/"
        }
      },
      "execution_count": null,
      "outputs": [
        {
          "output_type": "stream",
          "name": "stdout",
          "text": [
            "[10, 20, 3.14, (3+4j), [100, 200, 300]]\n",
            "[10, 3.14, [100, 200, 300]]\n",
            "[10, 20, 3.14, (3+4j), [100, 200, 300], 'NTT', 6j]\n",
            "[6j, 'NTT', [100, 200, 300], (3+4j), 3.14, 20, 10]\n"
          ]
        }
      ]
    },
    {
      "cell_type": "code",
      "source": [
        "# concatenation of List\n",
        "\n",
        "l2 = [20, 50, 46]\n",
        "l3 = [9832, 424]\n",
        "\n",
        "l4 = l2 + l3\n",
        "\n",
        "print(l2)\n",
        "print(l3)\n",
        "print(l4)\n",
        "\n",
        "print(id(l2))\n",
        "print(id(l3))\n",
        "print(id(l4))"
      ],
      "metadata": {
        "id": "iKLwRRt4y_D7",
        "outputId": "4eed48eb-13b6-457b-95bf-52f736f26d03",
        "colab": {
          "base_uri": "https://localhost:8080/"
        }
      },
      "execution_count": null,
      "outputs": [
        {
          "output_type": "stream",
          "name": "stdout",
          "text": [
            "[20, 50, 46]\n",
            "[9832, 424]\n",
            "[20, 50, 46, 9832, 424]\n",
            "136921341437056\n",
            "136921768501568\n",
            "136921341438080\n"
          ]
        }
      ]
    },
    {
      "cell_type": "code",
      "source": [
        "# multiplication of list\n",
        "\n",
        "l5 = [10, 201, 30]\n",
        "\n",
        "print(l5)\n",
        "print(l5*3)"
      ],
      "metadata": {
        "id": "D3gBPMfb0UNG",
        "outputId": "4b59b1fa-29ee-4ccb-cf83-81adb7c6a2a9",
        "colab": {
          "base_uri": "https://localhost:8080/"
        }
      },
      "execution_count": null,
      "outputs": [
        {
          "output_type": "stream",
          "name": "stdout",
          "text": [
            "[10, 201, 30]\n",
            "[10, 201, 30, 10, 201, 30, 10, 201, 30]\n"
          ]
        }
      ]
    },
    {
      "cell_type": "code",
      "source": [
        "# iteration of list\n",
        "\n",
        "l6 = [10, 20, 30, 40, 347, 23, 587]\n",
        "\n",
        "for i  in l6:\n",
        "  print(i)\n",
        "\n",
        "for i  in l6:\n",
        "  print(i+5)"
      ],
      "metadata": {
        "id": "VS8JEbSC1NEp",
        "outputId": "149cd48d-1262-424a-969d-c8cd9965771e",
        "colab": {
          "base_uri": "https://localhost:8080/"
        }
      },
      "execution_count": null,
      "outputs": [
        {
          "output_type": "stream",
          "name": "stdout",
          "text": [
            "10\n",
            "20\n",
            "30\n",
            "40\n",
            "347\n",
            "23\n",
            "587\n",
            "15\n",
            "25\n",
            "35\n",
            "45\n",
            "352\n",
            "28\n",
            "592\n"
          ]
        }
      ]
    },
    {
      "cell_type": "code",
      "source": [
        "# membership operator --- IN / NOT IN\n",
        "\n",
        "print(10 in [30, 229,4309, 38])\n",
        "print(10 in [30, 229,4309, 38,10])\n",
        "\n",
        "print(10 not in [30, 229,4309, 38])\n",
        "print(10 not in [30, 229,4309, 38,10])\n",
        "\n",
        "\n",
        "print('NTT' in 'NTT DATA')\n"
      ],
      "metadata": {
        "id": "VMwBlwe71lK1",
        "outputId": "5fcd75c5-af5f-488f-ba16-38b05c9362fc",
        "colab": {
          "base_uri": "https://localhost:8080/"
        }
      },
      "execution_count": null,
      "outputs": [
        {
          "output_type": "stream",
          "name": "stdout",
          "text": [
            "False\n",
            "True\n",
            "True\n",
            "False\n",
            "True\n"
          ]
        }
      ]
    },
    {
      "cell_type": "code",
      "source": [
        "# deletion of list\n",
        "\n",
        "l7 = [10, 20, 30]\n",
        "\n",
        "print(l7)\n",
        "\n",
        "del l7\n",
        "\n",
        "print(l7)"
      ],
      "metadata": {
        "id": "Kcx267b22Hsz",
        "outputId": "55750a8d-c83b-4358-b54c-53f31239c6c0",
        "colab": {
          "base_uri": "https://localhost:8080/",
          "height": 193
        }
      },
      "execution_count": null,
      "outputs": [
        {
          "output_type": "stream",
          "name": "stdout",
          "text": [
            "[10, 20, 30]\n"
          ]
        },
        {
          "output_type": "error",
          "ename": "NameError",
          "evalue": "name 'l7' is not defined",
          "traceback": [
            "\u001b[0;31m---------------------------------------------------------------------------\u001b[0m",
            "\u001b[0;31mNameError\u001b[0m                                 Traceback (most recent call last)",
            "\u001b[0;32m<ipython-input-24-6137bee61ffb>\u001b[0m in \u001b[0;36m<cell line: 0>\u001b[0;34m()\u001b[0m\n\u001b[1;32m      7\u001b[0m \u001b[0;32mdel\u001b[0m \u001b[0ml7\u001b[0m\u001b[0;34m\u001b[0m\u001b[0;34m\u001b[0m\u001b[0m\n\u001b[1;32m      8\u001b[0m \u001b[0;34m\u001b[0m\u001b[0m\n\u001b[0;32m----> 9\u001b[0;31m \u001b[0mprint\u001b[0m\u001b[0;34m(\u001b[0m\u001b[0ml7\u001b[0m\u001b[0;34m)\u001b[0m\u001b[0;34m\u001b[0m\u001b[0;34m\u001b[0m\u001b[0m\n\u001b[0m",
            "\u001b[0;31mNameError\u001b[0m: name 'l7' is not defined"
          ]
        }
      ]
    },
    {
      "cell_type": "code",
      "source": [
        "l8 = [10,20,30]\n",
        "l9 = [30,29]\n",
        "\n",
        "print(l8*l9)"
      ],
      "metadata": {
        "id": "hnS18uQc25fw",
        "outputId": "84e3b74b-2035-4bad-b0db-c0c34cf8e521",
        "colab": {
          "base_uri": "https://localhost:8080/",
          "height": 176
        }
      },
      "execution_count": null,
      "outputs": [
        {
          "output_type": "error",
          "ename": "TypeError",
          "evalue": "can't multiply sequence by non-int of type 'list'",
          "traceback": [
            "\u001b[0;31m---------------------------------------------------------------------------\u001b[0m",
            "\u001b[0;31mTypeError\u001b[0m                                 Traceback (most recent call last)",
            "\u001b[0;32m<ipython-input-25-a0f7c50c0e4c>\u001b[0m in \u001b[0;36m<cell line: 0>\u001b[0;34m()\u001b[0m\n\u001b[1;32m      2\u001b[0m \u001b[0ml9\u001b[0m \u001b[0;34m=\u001b[0m \u001b[0;34m[\u001b[0m\u001b[0;36m30\u001b[0m\u001b[0;34m,\u001b[0m\u001b[0;36m29\u001b[0m\u001b[0;34m]\u001b[0m\u001b[0;34m\u001b[0m\u001b[0;34m\u001b[0m\u001b[0m\n\u001b[1;32m      3\u001b[0m \u001b[0;34m\u001b[0m\u001b[0m\n\u001b[0;32m----> 4\u001b[0;31m \u001b[0mprint\u001b[0m\u001b[0;34m(\u001b[0m\u001b[0ml8\u001b[0m\u001b[0;34m*\u001b[0m\u001b[0ml9\u001b[0m\u001b[0;34m)\u001b[0m\u001b[0;34m\u001b[0m\u001b[0;34m\u001b[0m\u001b[0m\n\u001b[0m",
            "\u001b[0;31mTypeError\u001b[0m: can't multiply sequence by non-int of type 'list'"
          ]
        }
      ]
    },
    {
      "cell_type": "markdown",
      "source": [
        "### inbuilt function"
      ],
      "metadata": {
        "id": "YNwFHB3J38NC"
      }
    },
    {
      "cell_type": "code",
      "source": [
        "# max()\n",
        "\n",
        "l1 = [100,43,3843,4853980,121]\n",
        "\n",
        "print(max(l1))"
      ],
      "metadata": {
        "id": "2WPHzYnd3FJN",
        "outputId": "75c84f12-8895-4a6b-d2f0-8da926fe81ce",
        "colab": {
          "base_uri": "https://localhost:8080/"
        }
      },
      "execution_count": null,
      "outputs": [
        {
          "output_type": "stream",
          "name": "stdout",
          "text": [
            "4853980\n"
          ]
        }
      ]
    },
    {
      "cell_type": "code",
      "source": [
        "l2 = [342,'fefew','zgsjag',4398743298]\n",
        "\n",
        "print(max(l2))"
      ],
      "metadata": {
        "id": "DAQkdum74ECq",
        "outputId": "3329f03a-df73-4daf-9f3d-e59d7b47460d",
        "colab": {
          "base_uri": "https://localhost:8080/",
          "height": 176
        }
      },
      "execution_count": null,
      "outputs": [
        {
          "output_type": "error",
          "ename": "TypeError",
          "evalue": "'>' not supported between instances of 'str' and 'int'",
          "traceback": [
            "\u001b[0;31m---------------------------------------------------------------------------\u001b[0m",
            "\u001b[0;31mTypeError\u001b[0m                                 Traceback (most recent call last)",
            "\u001b[0;32m<ipython-input-28-2e8c4d407470>\u001b[0m in \u001b[0;36m<cell line: 0>\u001b[0;34m()\u001b[0m\n\u001b[1;32m      1\u001b[0m \u001b[0ml2\u001b[0m \u001b[0;34m=\u001b[0m \u001b[0;34m[\u001b[0m\u001b[0;36m342\u001b[0m\u001b[0;34m,\u001b[0m\u001b[0;34m'fefew'\u001b[0m\u001b[0;34m,\u001b[0m\u001b[0;34m'zgsjag'\u001b[0m\u001b[0;34m,\u001b[0m\u001b[0;36m4398743298\u001b[0m\u001b[0;34m]\u001b[0m\u001b[0;34m\u001b[0m\u001b[0;34m\u001b[0m\u001b[0m\n\u001b[1;32m      2\u001b[0m \u001b[0;34m\u001b[0m\u001b[0m\n\u001b[0;32m----> 3\u001b[0;31m \u001b[0mprint\u001b[0m\u001b[0;34m(\u001b[0m\u001b[0mmax\u001b[0m\u001b[0;34m(\u001b[0m\u001b[0ml2\u001b[0m\u001b[0;34m)\u001b[0m\u001b[0;34m)\u001b[0m\u001b[0;34m\u001b[0m\u001b[0;34m\u001b[0m\u001b[0m\n\u001b[0m",
            "\u001b[0;31mTypeError\u001b[0m: '>' not supported between instances of 'str' and 'int'"
          ]
        }
      ]
    },
    {
      "cell_type": "code",
      "source": [
        "l3 = ['aa','fefew','zgsjag','zzz']\n",
        "\n",
        "print(max(l3))\n",
        "\n",
        "print(max(l3,key=len))  #### can define own function and provide it as parameter to key"
      ],
      "metadata": {
        "id": "yaTSa1XE4Qfy",
        "outputId": "0ed840d8-15dc-4a04-b730-b79a0cbd9a13",
        "colab": {
          "base_uri": "https://localhost:8080/"
        }
      },
      "execution_count": null,
      "outputs": [
        {
          "output_type": "stream",
          "name": "stdout",
          "text": [
            "zzz\n",
            "zgsjag\n"
          ]
        }
      ]
    },
    {
      "cell_type": "code",
      "source": [
        "# empty list throws error with max\n",
        "# Default value to max()\n",
        "\n",
        "l4 = []\n",
        "\n",
        "print(max(l4))\n",
        "\n",
        "print(max(l4,default=10))"
      ],
      "metadata": {
        "id": "Y12p_HYq4iqK",
        "outputId": "9234e206-002f-4b69-edbd-b0a0fb57ed56",
        "colab": {
          "base_uri": "https://localhost:8080/",
          "height": 211
        }
      },
      "execution_count": null,
      "outputs": [
        {
          "output_type": "error",
          "ename": "ValueError",
          "evalue": "max() arg is an empty sequence",
          "traceback": [
            "\u001b[0;31m---------------------------------------------------------------------------\u001b[0m",
            "\u001b[0;31mValueError\u001b[0m                                Traceback (most recent call last)",
            "\u001b[0;32m<ipython-input-33-040f1ab6674b>\u001b[0m in \u001b[0;36m<cell line: 0>\u001b[0;34m()\u001b[0m\n\u001b[1;32m      4\u001b[0m \u001b[0ml4\u001b[0m \u001b[0;34m=\u001b[0m \u001b[0;34m[\u001b[0m\u001b[0;34m]\u001b[0m\u001b[0;34m\u001b[0m\u001b[0;34m\u001b[0m\u001b[0m\n\u001b[1;32m      5\u001b[0m \u001b[0;34m\u001b[0m\u001b[0m\n\u001b[0;32m----> 6\u001b[0;31m \u001b[0mprint\u001b[0m\u001b[0;34m(\u001b[0m\u001b[0mmax\u001b[0m\u001b[0;34m(\u001b[0m\u001b[0ml4\u001b[0m\u001b[0;34m)\u001b[0m\u001b[0;34m)\u001b[0m\u001b[0;34m\u001b[0m\u001b[0;34m\u001b[0m\u001b[0m\n\u001b[0m\u001b[1;32m      7\u001b[0m \u001b[0;34m\u001b[0m\u001b[0m\n\u001b[1;32m      8\u001b[0m \u001b[0mprint\u001b[0m\u001b[0;34m(\u001b[0m\u001b[0mmax\u001b[0m\u001b[0;34m(\u001b[0m\u001b[0ml4\u001b[0m\u001b[0;34m,\u001b[0m\u001b[0mdefault\u001b[0m\u001b[0;34m=\u001b[0m\u001b[0;36m10\u001b[0m\u001b[0;34m)\u001b[0m\u001b[0;34m)\u001b[0m\u001b[0;34m\u001b[0m\u001b[0;34m\u001b[0m\u001b[0m\n",
            "\u001b[0;31mValueError\u001b[0m: max() arg is an empty sequence"
          ]
        }
      ]
    },
    {
      "cell_type": "code",
      "source": [
        "# empty list throws error with max\n",
        "# Default value to max()\n",
        "\n",
        "l4 = []\n",
        "\n",
        "\n",
        "print(max(l4,default=10))"
      ],
      "metadata": {
        "id": "RMp7-SF45j2Z",
        "outputId": "e250c3a4-a497-4f0e-c82d-fb558e7110ff",
        "colab": {
          "base_uri": "https://localhost:8080/"
        }
      },
      "execution_count": null,
      "outputs": [
        {
          "output_type": "stream",
          "name": "stdout",
          "text": [
            "10\n"
          ]
        }
      ]
    },
    {
      "cell_type": "markdown",
      "source": [
        "### Append element to list"
      ],
      "metadata": {
        "id": "RiyvksxM6pzN"
      }
    },
    {
      "cell_type": "code",
      "source": [
        "# append list\n",
        "# can append only 1 element at a time\n",
        "\n",
        "l1 = [30,343,121,34]\n",
        "\n",
        "print(l1)\n",
        "\n",
        "l1.append(37432)\n",
        "\n",
        "print(l1)"
      ],
      "metadata": {
        "id": "muvuNC0T6OTA",
        "outputId": "e216be46-e6d8-4a0d-abdb-bdcd600f8f41",
        "colab": {
          "base_uri": "https://localhost:8080/"
        }
      },
      "execution_count": null,
      "outputs": [
        {
          "output_type": "stream",
          "name": "stdout",
          "text": [
            "[30, 343, 121, 34]\n",
            "[30, 343, 121, 34, 37432]\n"
          ]
        }
      ]
    },
    {
      "cell_type": "code",
      "source": [
        "print(id(l1[0]))\n",
        "print(id(l1[1]))\n",
        "print(id(l1[2]))\n",
        "print(id(l1[3]))\n",
        "print(id(l1[4]))\n",
        "\n",
        "l1.append('NTT')\n",
        "\n",
        "print(id(l1[5]))"
      ],
      "metadata": {
        "id": "zplySAWT66Zk",
        "outputId": "c8a5de05-51a1-45d3-996a-b60787c7c860",
        "colab": {
          "base_uri": "https://localhost:8080/"
        }
      },
      "execution_count": null,
      "outputs": [
        {
          "output_type": "stream",
          "name": "stdout",
          "text": [
            "10751784\n",
            "136921342329296\n",
            "10754696\n",
            "10751912\n",
            "136921342329744\n",
            "136921768497968\n"
          ]
        }
      ]
    },
    {
      "cell_type": "code",
      "source": [
        "l1 = []\n",
        "\n",
        "for i in range(6):\n",
        "  n = int(input('Enter a number to append to list: '))\n",
        "  l1.append(n)\n",
        "\n",
        "print(l1)"
      ],
      "metadata": {
        "id": "008fkL4O7GTr",
        "outputId": "a711f7e3-e271-46c6-cb04-6bec31c36991",
        "colab": {
          "base_uri": "https://localhost:8080/",
          "height": 263
        }
      },
      "execution_count": null,
      "outputs": [
        {
          "name": "stdout",
          "output_type": "stream",
          "text": [
            "Enter a number to append to list: 232\n",
            "Enter a number to append to list: 2\n",
            "Enter a number to append to list: \n"
          ]
        },
        {
          "output_type": "error",
          "ename": "ValueError",
          "evalue": "invalid literal for int() with base 10: ''",
          "traceback": [
            "\u001b[0;31m---------------------------------------------------------------------------\u001b[0m",
            "\u001b[0;31mValueError\u001b[0m                                Traceback (most recent call last)",
            "\u001b[0;32m<ipython-input-43-33ad023f2b0c>\u001b[0m in \u001b[0;36m<cell line: 0>\u001b[0;34m()\u001b[0m\n\u001b[1;32m      2\u001b[0m \u001b[0;34m\u001b[0m\u001b[0m\n\u001b[1;32m      3\u001b[0m \u001b[0;32mfor\u001b[0m \u001b[0mi\u001b[0m \u001b[0;32min\u001b[0m \u001b[0mrange\u001b[0m\u001b[0;34m(\u001b[0m\u001b[0;36m6\u001b[0m\u001b[0;34m)\u001b[0m\u001b[0;34m:\u001b[0m\u001b[0;34m\u001b[0m\u001b[0;34m\u001b[0m\u001b[0m\n\u001b[0;32m----> 4\u001b[0;31m   \u001b[0mn\u001b[0m \u001b[0;34m=\u001b[0m \u001b[0mint\u001b[0m\u001b[0;34m(\u001b[0m\u001b[0minput\u001b[0m\u001b[0;34m(\u001b[0m\u001b[0;34m'Enter a number to append to list: '\u001b[0m\u001b[0;34m)\u001b[0m\u001b[0;34m)\u001b[0m\u001b[0;34m\u001b[0m\u001b[0;34m\u001b[0m\u001b[0m\n\u001b[0m\u001b[1;32m      5\u001b[0m   \u001b[0ml1\u001b[0m\u001b[0;34m.\u001b[0m\u001b[0mappend\u001b[0m\u001b[0;34m(\u001b[0m\u001b[0mn\u001b[0m\u001b[0;34m)\u001b[0m\u001b[0;34m\u001b[0m\u001b[0;34m\u001b[0m\u001b[0m\n\u001b[1;32m      6\u001b[0m \u001b[0;34m\u001b[0m\u001b[0m\n",
            "\u001b[0;31mValueError\u001b[0m: invalid literal for int() with base 10: ''"
          ]
        }
      ]
    },
    {
      "cell_type": "code",
      "source": [
        "# extend method\n",
        "\n",
        "l1 = [10,20,30]\n",
        "l2 = [490,2250,160]\n",
        "\n",
        "l1.extend(l2)\n",
        "\n",
        "print(l1)"
      ],
      "metadata": {
        "id": "vnCu2jco7163",
        "outputId": "1d8aa44f-5ee6-4107-cb6f-b651daa69b53",
        "colab": {
          "base_uri": "https://localhost:8080/"
        }
      },
      "execution_count": null,
      "outputs": [
        {
          "output_type": "stream",
          "name": "stdout",
          "text": [
            "[10, 20, 30, 490, 2250, 160]\n"
          ]
        }
      ]
    },
    {
      "cell_type": "code",
      "source": [
        "# insert method\n",
        "\n",
        "l3 = [33,432, 22232]\n",
        "\n",
        "print(l3)\n",
        "print(id(l3[0]))\n",
        "print(id(l3[1]))\n",
        "print(id(l3[2]))\n",
        "\n",
        "print(id(l3))\n",
        "\n",
        "l3.insert(1,100)\n",
        "print(l3)\n",
        "print(id(l3[0]))\n",
        "print(id(l3[1]))\n",
        "print(id(l3[2]))\n",
        "print(id(l3[3]))\n",
        "\n",
        "print(id(l3))"
      ],
      "metadata": {
        "id": "XsXho_UC92Cq",
        "outputId": "30b70ee2-97a6-4027-e6fc-9efa0b779c17",
        "colab": {
          "base_uri": "https://localhost:8080/"
        }
      },
      "execution_count": null,
      "outputs": [
        {
          "output_type": "stream",
          "name": "stdout",
          "text": [
            "[33, 432, 22232]\n",
            "10751880\n",
            "136921311482704\n",
            "136921311483184\n",
            "136921310995264\n",
            "[33, 100, 432, 22232]\n",
            "10751880\n",
            "10754024\n",
            "136921311482704\n",
            "136921311483184\n",
            "136921310995264\n"
          ]
        }
      ]
    },
    {
      "cell_type": "code",
      "source": [
        "# remove method (it works on value.. which value you want to remove)\n",
        "\n",
        "l1 = [10,323,2329,10,3843]\n",
        "\n",
        "print(l1)\n",
        "\n",
        "l1.remove(10)\n",
        "\n",
        "print(l1)"
      ],
      "metadata": {
        "id": "AhJTog4J-s63",
        "outputId": "dee92222-aa56-45df-f317-de2d8751dfba",
        "colab": {
          "base_uri": "https://localhost:8080/"
        }
      },
      "execution_count": null,
      "outputs": [
        {
          "output_type": "stream",
          "name": "stdout",
          "text": [
            "[10, 323, 2329, 10, 3843]\n",
            "[323, 2329, 10, 3843]\n"
          ]
        }
      ]
    },
    {
      "cell_type": "code",
      "source": [
        "# pop method (it works on index.. which index you want to remove)\n",
        "\n",
        "l1 = list(range(10,100,10))\n",
        "\n",
        "print(l1)\n",
        "print(l1.pop())\n",
        "\n",
        "print(l1)\n",
        "\n",
        "print(l1.pop(5))\n",
        "print(l1)"
      ],
      "metadata": {
        "id": "mQthAOGd_R4_",
        "outputId": "38641e41-96a1-4f42-9a71-d930ab2c9053",
        "colab": {
          "base_uri": "https://localhost:8080/"
        }
      },
      "execution_count": null,
      "outputs": [
        {
          "output_type": "stream",
          "name": "stdout",
          "text": [
            "[10, 20, 30, 40, 50, 60, 70, 80, 90]\n",
            "90\n",
            "[10, 20, 30, 40, 50, 60, 70, 80]\n",
            "60\n",
            "[10, 20, 30, 40, 50, 70, 80]\n"
          ]
        }
      ]
    },
    {
      "cell_type": "code",
      "source": [
        "# clear (emtpy the list in place)\n",
        "\n",
        "print(l1)\n",
        "l1.clear()\n",
        "\n",
        "print(l1)"
      ],
      "metadata": {
        "id": "TW5AGDbG_nrv",
        "outputId": "7713a627-f1c7-46e0-cb36-93cb7cbbefbe",
        "colab": {
          "base_uri": "https://localhost:8080/"
        }
      },
      "execution_count": null,
      "outputs": [
        {
          "output_type": "stream",
          "name": "stdout",
          "text": [
            "[10, 20, 30, 40, 50, 70, 80]\n",
            "[]\n"
          ]
        }
      ]
    },
    {
      "cell_type": "code",
      "source": [
        "# del (can delete, one element, a slice of list, or entire list)\n",
        "\n",
        "l1 = list(range(10,300,10))\n",
        "print(l1)\n",
        "\n",
        "del l1[1]\n",
        "print(l1)\n",
        "\n",
        "del l1[-1]\n",
        "print(l1)\n",
        "\n",
        "del l1[1:3]\n",
        "print(l1)\n",
        "\n",
        "del l1[-1:-3:-1] # not working\n",
        "print(l1)\n",
        "\n",
        "del l1[-3:-1] #working\n",
        "print(l1)\n",
        "\n",
        "del l1\n",
        "print(l1)"
      ],
      "metadata": {
        "id": "EV3Ts6uvA-XE",
        "outputId": "7132404a-2adc-44a7-f4f5-9015b96ec96f",
        "colab": {
          "base_uri": "https://localhost:8080/",
          "height": 280
        }
      },
      "execution_count": null,
      "outputs": [
        {
          "output_type": "stream",
          "name": "stdout",
          "text": [
            "[10, 20, 30, 40, 50, 60, 70, 80, 90, 100, 110, 120, 130, 140, 150, 160, 170, 180, 190, 200, 210, 220, 230, 240, 250, 260, 270, 280, 290]\n",
            "[10, 30, 40, 50, 60, 70, 80, 90, 100, 110, 120, 130, 140, 150, 160, 170, 180, 190, 200, 210, 220, 230, 240, 250, 260, 270, 280, 290]\n",
            "[10, 30, 40, 50, 60, 70, 80, 90, 100, 110, 120, 130, 140, 150, 160, 170, 180, 190, 200, 210, 220, 230, 240, 250, 260, 270, 280]\n",
            "[10, 50, 60, 70, 80, 90, 100, 110, 120, 130, 140, 150, 160, 170, 180, 190, 200, 210, 220, 230, 240, 250, 260, 270, 280]\n",
            "[10, 50, 60, 70, 80, 90, 100, 110, 120, 130, 140, 150, 160, 170, 180, 190, 200, 210, 220, 230, 240, 250, 260]\n",
            "[10, 50, 60, 70, 80, 90, 100, 110, 120, 130, 140, 150, 160, 170, 180, 190, 200, 210, 220, 230, 260]\n"
          ]
        },
        {
          "output_type": "error",
          "ename": "NameError",
          "evalue": "name 'l1' is not defined",
          "traceback": [
            "\u001b[0;31m---------------------------------------------------------------------------\u001b[0m",
            "\u001b[0;31mNameError\u001b[0m                                 Traceback (most recent call last)",
            "\u001b[0;32m<ipython-input-66-04f50a1f3a93>\u001b[0m in \u001b[0;36m<cell line: 0>\u001b[0;34m()\u001b[0m\n\u001b[1;32m     20\u001b[0m \u001b[0;34m\u001b[0m\u001b[0m\n\u001b[1;32m     21\u001b[0m \u001b[0;32mdel\u001b[0m \u001b[0ml1\u001b[0m\u001b[0;34m\u001b[0m\u001b[0;34m\u001b[0m\u001b[0m\n\u001b[0;32m---> 22\u001b[0;31m \u001b[0mprint\u001b[0m\u001b[0;34m(\u001b[0m\u001b[0ml1\u001b[0m\u001b[0;34m)\u001b[0m\u001b[0;34m\u001b[0m\u001b[0;34m\u001b[0m\u001b[0m\n\u001b[0m",
            "\u001b[0;31mNameError\u001b[0m: name 'l1' is not defined"
          ]
        }
      ]
    },
    {
      "cell_type": "code",
      "source": [
        "# remove duplicate in list\n",
        "\n",
        "l1 = [10,20,10,30,40,50]\n",
        "l2 = []\n",
        "\n",
        "l1.sort()\n",
        "print(l1)\n",
        "l2.append(l1[0])\n",
        "\n",
        "for i in range(1,len(l1)):\n",
        "  if l1[i-1] != l1[i]:\n",
        "    l2.append(l1[i])\n",
        "\n",
        "print(l2)"
      ],
      "metadata": {
        "id": "jsyisx_JBtDe",
        "outputId": "3827c42d-75c1-44e2-c2e9-3d05aa199589",
        "colab": {
          "base_uri": "https://localhost:8080/"
        }
      },
      "execution_count": null,
      "outputs": [
        {
          "output_type": "stream",
          "name": "stdout",
          "text": [
            "[10, 10, 20, 30, 40, 50]\n",
            "[10, 20, 30, 40, 50]\n"
          ]
        }
      ]
    },
    {
      "cell_type": "code",
      "source": [
        "l1 = [10,20,10,30,40,50]\n",
        "l2 = []\n",
        "\n",
        "l1.sort()\n",
        "print(l1)\n",
        "\n",
        "for i in l1:\n",
        "  if i not in l2:\n",
        "    l2.append(i)\n",
        "\n",
        "print(l2)"
      ],
      "metadata": {
        "id": "Vijb5gIdC3RH",
        "outputId": "f40420a0-6223-4ff1-b66f-0f7cdf07e865",
        "colab": {
          "base_uri": "https://localhost:8080/"
        }
      },
      "execution_count": null,
      "outputs": [
        {
          "output_type": "stream",
          "name": "stdout",
          "text": [
            "[10, 10, 20, 30, 40, 50]\n",
            "[10, 20, 30, 40, 50]\n"
          ]
        }
      ]
    },
    {
      "cell_type": "code",
      "source": [
        "# find 2nd largest number in the list\n",
        "\n",
        "l1 = list(range(10,100,10))\n",
        "\n",
        "print(l1)\n",
        "m1 = max(l1)\n",
        "l1.remove(m1)\n",
        "m2 = max(l1)\n",
        "print(l1)\n",
        "print(m2)\n",
        "\n"
      ],
      "metadata": {
        "id": "4JKerX26DrzO",
        "outputId": "1cfc3587-8331-48ab-d1c7-96e66a7b4bb6",
        "colab": {
          "base_uri": "https://localhost:8080/"
        }
      },
      "execution_count": null,
      "outputs": [
        {
          "output_type": "stream",
          "name": "stdout",
          "text": [
            "[10, 20, 30, 40, 50, 60, 70, 80, 90]\n",
            "[10, 20, 30, 40, 50, 60, 70, 80]\n",
            "80\n"
          ]
        }
      ]
    },
    {
      "cell_type": "code",
      "source": [
        "# find 2nd largest number in the list\n",
        "\n",
        "l1 = list(range(10,100,10))\n",
        "\n",
        "print(l1)\n",
        "l1.remove(max(l1))\n",
        "\n",
        "print(l1)\n",
        "print(max(l1))\n",
        "\n",
        "\n"
      ],
      "metadata": {
        "id": "vt_oG_hnF00O",
        "outputId": "1a2c9bd4-338c-4daf-8f44-a65815f1200a",
        "colab": {
          "base_uri": "https://localhost:8080/"
        }
      },
      "execution_count": null,
      "outputs": [
        {
          "output_type": "stream",
          "name": "stdout",
          "text": [
            "[10, 20, 30, 40, 50, 60, 70, 80, 90]\n",
            "[10, 20, 30, 40, 50, 60, 70, 80]\n",
            "80\n"
          ]
        }
      ]
    },
    {
      "cell_type": "code",
      "source": [
        "## python evaluates right side first\n",
        "\n",
        "a = 3\n",
        "b = 7\n",
        "\n",
        "print(a)\n",
        "print(b)\n",
        "\n",
        "a,b = b, a+b\n",
        "\n",
        "print(a)\n",
        "print(b)\n",
        "\n",
        "a,b = b+5, b+5\n",
        "\n",
        "print(a)\n",
        "print(b)\n",
        "\n",
        "a,b = b/5, 0\n",
        "\n",
        "print(a)\n",
        "print(b)"
      ],
      "metadata": {
        "id": "EwsEkUs0G03x",
        "outputId": "e85d794f-403e-4b63-d683-c985e49c37cb",
        "colab": {
          "base_uri": "https://localhost:8080/"
        }
      },
      "execution_count": null,
      "outputs": [
        {
          "output_type": "stream",
          "name": "stdout",
          "text": [
            "3\n",
            "7\n",
            "7\n",
            "10\n",
            "15\n",
            "15\n",
            "3.0\n",
            "0\n"
          ]
        }
      ]
    },
    {
      "cell_type": "code",
      "source": [
        "# Leet code - Two sum\n",
        "\n",
        "nums = [2,7,11,15]\n",
        "target = 9\n",
        "\n",
        "print(len(nums))"
      ],
      "metadata": {
        "id": "kt19jcZ1amJ1",
        "colab": {
          "base_uri": "https://localhost:8080/"
        },
        "outputId": "a13c4175-f1a4-40d2-9fc7-e2bc900668cc"
      },
      "execution_count": null,
      "outputs": [
        {
          "output_type": "stream",
          "name": "stdout",
          "text": [
            "4\n"
          ]
        }
      ]
    },
    {
      "cell_type": "code",
      "source": [
        "# count occurrence of element in a list\n",
        "\n",
        "# option 1\n",
        "\n",
        "l1 = [2,3,3,4,4,4,2,6,7,8,6]\n",
        "uniq = []\n",
        "cnt = []\n",
        "\n",
        "for ele in l1:\n",
        "  if ele not in uniq:\n",
        "    uniq.append(ele)\n",
        "    cnt.append(1)\n",
        "  else:\n",
        "    i = uniq.index(ele)\n",
        "    cnt[i] += 1\n",
        "print(l1)\n",
        "print(uniq)\n",
        "print(cnt)"
      ],
      "metadata": {
        "colab": {
          "base_uri": "https://localhost:8080/"
        },
        "id": "Iz4A2UzRpkXB",
        "outputId": "4ab4ae90-e6e1-409d-8448-bbcde66c6dff"
      },
      "execution_count": null,
      "outputs": [
        {
          "output_type": "stream",
          "name": "stdout",
          "text": [
            "[2, 3, 3, 4, 4, 4, 2, 6, 7, 8, 6]\n",
            "[2, 3, 4, 6, 7, 8]\n",
            "[2, 2, 3, 2, 1, 1]\n"
          ]
        }
      ]
    },
    {
      "cell_type": "code",
      "source": [
        "# count occurrence of element in a list\n",
        "\n",
        "# option 2\n",
        "\n",
        "l1 = [2,3,3,4,4,4,2,6,7,8,6]\n",
        "uniq = []\n",
        "cnt = []\n",
        "\n",
        "for ele in l1:\n",
        "  if ele not in uniq:\n",
        "    uniq.append(ele)\n",
        "    cnt.append(l1.count(ele))\n",
        "print(l1)\n",
        "print(uniq)\n",
        "print(cnt)"
      ],
      "metadata": {
        "id": "_2LrqZ9SGn6V",
        "outputId": "33b72610-7034-482b-8443-ec5e44a8e8f1",
        "colab": {
          "base_uri": "https://localhost:8080/"
        }
      },
      "execution_count": null,
      "outputs": [
        {
          "output_type": "stream",
          "name": "stdout",
          "text": [
            "[2, 3, 3, 4, 4, 4, 2, 6, 7, 8, 6]\n",
            "[2, 3, 4, 6, 7, 8]\n",
            "[2, 2, 3, 2, 1, 1]\n"
          ]
        }
      ]
    },
    {
      "cell_type": "code",
      "source": [
        "# list method\n",
        "\n",
        "s = 'NTT DATA'\n",
        "print(s)\n",
        "print(type(s))\n",
        "\n",
        "l = list(s)\n",
        "print(l)\n",
        "print(type(l))"
      ],
      "metadata": {
        "id": "4jpT0pcIHPWh",
        "outputId": "288cea98-8205-4201-8780-633d3869286a",
        "colab": {
          "base_uri": "https://localhost:8080/"
        }
      },
      "execution_count": null,
      "outputs": [
        {
          "output_type": "stream",
          "name": "stdout",
          "text": [
            "NTT DATA\n",
            "<class 'str'>\n",
            "['N', 'T', 'T', ' ', 'D', 'A', 'T', 'A']\n",
            "<class 'list'>\n"
          ]
        }
      ]
    },
    {
      "cell_type": "code",
      "source": [],
      "metadata": {
        "id": "B7soSVAdIHqI"
      },
      "execution_count": null,
      "outputs": []
    },
    {
      "cell_type": "markdown",
      "source": [
        "## Tuple"
      ],
      "metadata": {
        "id": "xnGENIidI28y"
      }
    },
    {
      "cell_type": "markdown",
      "source": [
        "immutable, ordered, elements of different data type, defined by (), tuple constructor tuple()"
      ],
      "metadata": {
        "id": "F7lAZwCPI7dC"
      }
    },
    {
      "cell_type": "code",
      "source": [
        "# creating a tuple\n",
        "\n",
        "s = 'NTT DATA'\n",
        "print(s)\n",
        "print(type(s))\n",
        "\n",
        "t = tuple(s)\n",
        "print(t)\n",
        "print(type(t))"
      ],
      "metadata": {
        "id": "-wvyWQLMI4X2",
        "outputId": "2c456b69-c10b-4a55-f19d-b167f86c1eda",
        "colab": {
          "base_uri": "https://localhost:8080/"
        }
      },
      "execution_count": null,
      "outputs": [
        {
          "output_type": "stream",
          "name": "stdout",
          "text": [
            "NTT DATA\n",
            "<class 'str'>\n",
            "('N', 'T', 'T', ' ', 'D', 'A', 'T', 'A')\n",
            "<class 'tuple'>\n"
          ]
        }
      ]
    },
    {
      "cell_type": "code",
      "source": [
        "t1 = (1,2,3.14,'NTT',[4,32,42],(23,'fah'))\n",
        "print(t1)\n",
        "print(type(t1))\n",
        "\n",
        "l1 = list(t1)\n",
        "print(l1)\n",
        "print(type(l1))\n",
        "\n",
        "t2 = tuple(l1)\n",
        "print(t2)\n",
        "print(type(t2))"
      ],
      "metadata": {
        "id": "pEKHf2z1JNrC",
        "outputId": "dc2bc5df-e52a-4d91-c464-bcdea368cd8e",
        "colab": {
          "base_uri": "https://localhost:8080/"
        }
      },
      "execution_count": null,
      "outputs": [
        {
          "output_type": "stream",
          "name": "stdout",
          "text": [
            "(1, 2, 3.14, 'NTT', [4, 32, 42], (23, 'fah'))\n",
            "<class 'tuple'>\n",
            "[1, 2, 3.14, 'NTT', [4, 32, 42], (23, 'fah')]\n",
            "<class 'list'>\n",
            "(1, 2, 3.14, 'NTT', [4, 32, 42], (23, 'fah'))\n",
            "<class 'tuple'>\n"
          ]
        }
      ]
    },
    {
      "cell_type": "code",
      "source": [
        "t2 = tuple()\n",
        "print(t2)\n",
        "print(type(t2))"
      ],
      "metadata": {
        "id": "frepvwsxJdoz",
        "outputId": "683d232d-21d9-4e18-fba6-2bf4213bb2f8",
        "colab": {
          "base_uri": "https://localhost:8080/"
        }
      },
      "execution_count": null,
      "outputs": [
        {
          "output_type": "stream",
          "name": "stdout",
          "text": [
            "()\n",
            "<class 'tuple'>\n"
          ]
        }
      ]
    },
    {
      "cell_type": "code",
      "source": [
        "# tuple with a single element\n",
        "\n",
        "t3 = (6)\n",
        "print(t3)\n",
        "print(type(t3))\n",
        "\n",
        "t4 = (6,)\n",
        "print(t4)\n",
        "print(type(t4))\n",
        "\n",
        "t5 = tuple([6])\n",
        "print(t5)\n",
        "print(type(t5))\n",
        "\n",
        "\n",
        "l3 = [6]\n",
        "print(l3)\n",
        "print(type(l3))\n",
        "\n",
        "l4 = [6,]\n",
        "print(l4)\n",
        "print(type(l4))"
      ],
      "metadata": {
        "id": "vywGHEGDJiuW",
        "outputId": "c11660cb-2bc8-4120-90c2-28fee3b20e8b",
        "colab": {
          "base_uri": "https://localhost:8080/"
        }
      },
      "execution_count": null,
      "outputs": [
        {
          "output_type": "stream",
          "name": "stdout",
          "text": [
            "6\n",
            "<class 'int'>\n",
            "(6,)\n",
            "<class 'tuple'>\n",
            "(6,)\n",
            "<class 'tuple'>\n",
            "[6]\n",
            "<class 'list'>\n",
            "[6]\n",
            "<class 'list'>\n"
          ]
        }
      ]
    },
    {
      "cell_type": "code",
      "source": [
        "# tuple concatenation\n",
        "\n",
        "t1 = (10,20,30)\n",
        "t2 = (30,40,50)\n",
        "\n",
        "print(t1)\n",
        "print(type(t1))\n",
        "print(t2)\n",
        "print(type(t2))\n",
        "\n",
        "t3 = t1 + t2\n",
        "\n",
        "print(t3)\n",
        "print(type(t3))"
      ],
      "metadata": {
        "id": "oufXrbKCKm_D",
        "outputId": "1ca6a13e-f000-4295-b78a-53688d38b208",
        "colab": {
          "base_uri": "https://localhost:8080/"
        }
      },
      "execution_count": null,
      "outputs": [
        {
          "output_type": "stream",
          "name": "stdout",
          "text": [
            "(10, 20, 30)\n",
            "<class 'tuple'>\n",
            "(30, 40, 50)\n",
            "<class 'tuple'>\n",
            "(10, 20, 30, 30, 40, 50)\n",
            "<class 'tuple'>\n"
          ]
        }
      ]
    },
    {
      "cell_type": "code",
      "source": [
        "# tuple multiplication\n",
        "\n",
        "t1 = (10,20,30)\n",
        "\n",
        "t2 = t1 * 3\n",
        "\n",
        "print(t2)\n",
        "print(type(t2))"
      ],
      "metadata": {
        "id": "OTc_HuApMMfJ",
        "outputId": "e3faea73-f3f0-49de-e9d8-23353301f5c8",
        "colab": {
          "base_uri": "https://localhost:8080/"
        }
      },
      "execution_count": null,
      "outputs": [
        {
          "output_type": "stream",
          "name": "stdout",
          "text": [
            "(10, 20, 30, 10, 20, 30, 10, 20, 30)\n",
            "<class 'tuple'>\n"
          ]
        }
      ]
    },
    {
      "cell_type": "code",
      "source": [
        "# iterating tuple\n",
        "\n",
        "t1 = (10,20,30)\n",
        "\n",
        "for i in t1:\n",
        "  print(i)"
      ],
      "metadata": {
        "id": "baUWpL3NMXWW",
        "outputId": "4fa6a218-f70e-4d0a-c76a-8ecffe953136",
        "colab": {
          "base_uri": "https://localhost:8080/"
        }
      },
      "execution_count": null,
      "outputs": [
        {
          "output_type": "stream",
          "name": "stdout",
          "text": [
            "10\n",
            "20\n",
            "30\n"
          ]
        }
      ]
    },
    {
      "cell_type": "code",
      "source": [
        "# slicing in tuple\n",
        "\n",
        "t1 = (1,2,3.14,'NTT',[4,32,42],(23,'fah'))\n",
        "\n",
        "print(t1[0])\n",
        "print(t1[0:4])"
      ],
      "metadata": {
        "id": "OjmpDNukMeea",
        "outputId": "e313871b-3121-44f3-9d0e-7f97312273cb",
        "colab": {
          "base_uri": "https://localhost:8080/"
        }
      },
      "execution_count": null,
      "outputs": [
        {
          "output_type": "stream",
          "name": "stdout",
          "text": [
            "1\n",
            "(1, 2, 3.14, 'NTT')\n"
          ]
        }
      ]
    },
    {
      "cell_type": "code",
      "source": [],
      "metadata": {
        "id": "voN1S4xHMu2z"
      },
      "execution_count": null,
      "outputs": []
    },
    {
      "cell_type": "markdown",
      "source": [
        "## Dictionary"
      ],
      "metadata": {
        "id": "5xKxKmWaQFFz"
      }
    },
    {
      "cell_type": "markdown",
      "source": [
        "unordered, mutable, key:value pair, key is immutable (string, number, tuple), denoted by {}, value can be any data type,"
      ],
      "metadata": {
        "id": "j4RZCo6wQHcH"
      }
    },
    {
      "cell_type": "code",
      "source": [
        "## Dict\n",
        "\n",
        "d1 = {'name':'Ram','age':25,'city':'Bangalore'}\n",
        "\n",
        "print(d1)\n",
        "print(type(d1))\n",
        "\n",
        "# extract all keys\n",
        "print(d1.keys())\n",
        "print(type(d1.keys()))\n",
        "\n",
        "# extract all values\n",
        "print(d1.values())\n",
        "print(type(d1.values()))\n",
        "\n",
        "# etract all dict items\n",
        "print(d1.items())\n",
        "print(type(d1.items()))\n"
      ],
      "metadata": {
        "id": "sr-w5IPvQGkl",
        "outputId": "26267b11-c394-48cb-a91e-509f58f85a60",
        "colab": {
          "base_uri": "https://localhost:8080/"
        }
      },
      "execution_count": null,
      "outputs": [
        {
          "output_type": "stream",
          "name": "stdout",
          "text": [
            "{'name': 'Ram', 'age': 25, 'city': 'Bangalore'}\n",
            "<class 'dict'>\n",
            "dict_keys(['name', 'age', 'city'])\n",
            "<class 'dict_keys'>\n",
            "dict_values(['Ram', 25, 'Bangalore'])\n",
            "<class 'dict_values'>\n",
            "dict_items([('name', 'Ram'), ('age', 25), ('city', 'Bangalore')])\n",
            "<class 'dict_items'>\n"
          ]
        }
      ]
    },
    {
      "cell_type": "code",
      "source": [
        "# Create dictionary\n",
        "\n",
        "d1 = { 2:100 ,\n",
        "       4:200 ,\n",
        "       6:300 ,\n",
        "       8:400 ,\n",
        "       10:500}\n",
        "\n",
        "print(d1)\n",
        "print(type(d1))\n",
        "\n",
        "print(d1.keys())\n",
        "print(d1.values())\n",
        "\n",
        "print(d1[2])\n",
        "print(d1[10])"
      ],
      "metadata": {
        "id": "HHSE0mHkQcEM",
        "colab": {
          "base_uri": "https://localhost:8080/"
        },
        "outputId": "2716a5b5-346f-4afd-caa0-3d90b764cd2e"
      },
      "execution_count": null,
      "outputs": [
        {
          "output_type": "stream",
          "name": "stdout",
          "text": [
            "{2: 100, 4: 200, 6: 300, 8: 400, 10: 500}\n",
            "<class 'dict'>\n",
            "dict_keys([2, 4, 6, 8, 10])\n",
            "dict_values([100, 200, 300, 400, 500])\n",
            "100\n",
            "500\n"
          ]
        }
      ]
    },
    {
      "cell_type": "code",
      "source": [
        "d2 = {'aa':100,\n",
        "      'bb':200,\n",
        "      'cc':300}\n",
        "\n",
        "print(d2)\n",
        "print(type(d2))\n",
        "\n",
        "print(d2['aa'])\n",
        "print(d2['cc'])\n"
      ],
      "metadata": {
        "colab": {
          "base_uri": "https://localhost:8080/"
        },
        "id": "H2zM-qKWbE9Q",
        "outputId": "9c9c6782-19b7-4006-9471-b9403df1b744"
      },
      "execution_count": null,
      "outputs": [
        {
          "output_type": "stream",
          "name": "stdout",
          "text": [
            "{'aa': 100, 'bb': 200, 'cc': 300}\n",
            "<class 'dict'>\n",
            "100\n",
            "300\n"
          ]
        }
      ]
    },
    {
      "cell_type": "code",
      "source": [
        "d3 = {3:[1,2,3],\n",
        "      6:(4,5),\n",
        "      9:'NTT'}\n",
        "\n",
        "print(d3)\n",
        "print(type(d3))\n",
        "\n",
        "print(d3[3])\n",
        "print(d3[6])\n",
        "print(d3[9])\n",
        "\n",
        "\n",
        "print(type(d3[6]))"
      ],
      "metadata": {
        "colab": {
          "base_uri": "https://localhost:8080/"
        },
        "id": "oTXGWLVeb5s8",
        "outputId": "a4b56ab3-1a15-40e8-f726-1c61ebd14ce8"
      },
      "execution_count": null,
      "outputs": [
        {
          "output_type": "stream",
          "name": "stdout",
          "text": [
            "{3: [1, 2, 3], 6: (4, 5), 9: 'NTT'}\n",
            "<class 'dict'>\n",
            "[1, 2, 3]\n",
            "(4, 5)\n",
            "NTT\n",
            "<class 'tuple'>\n"
          ]
        }
      ]
    },
    {
      "cell_type": "code",
      "source": [
        "d4 = {(1,2):'Ram',\n",
        "      ('a',):39,\n",
        "      'NT': 35.5,\n",
        "      35.5:35.5}\n",
        "\n",
        "print(d4)\n",
        "print(d4[35.5])\n",
        "print(d4[(1,2)])\n",
        "print(d4[('a',)])\n",
        "print(d4['NT'])"
      ],
      "metadata": {
        "colab": {
          "base_uri": "https://localhost:8080/"
        },
        "id": "SKLVODSCcT6t",
        "outputId": "7aeef02e-5310-4c7b-8d27-042bcf41cdae"
      },
      "execution_count": null,
      "outputs": [
        {
          "output_type": "stream",
          "name": "stdout",
          "text": [
            "{(1, 2): 'Ram', ('a',): 39, 'NT': 35.5, 35.5: 35.5}\n",
            "35.5\n",
            "Ram\n",
            "39\n",
            "35.5\n"
          ]
        }
      ]
    },
    {
      "cell_type": "code",
      "source": [
        "# iterating through a dict keys\n",
        "\n",
        "d5 = {(1,2):'Ram',\n",
        "      ('a',):39,\n",
        "      'NT': 35.5,\n",
        "      35.5:35.5,\n",
        "      5:'ad'}\n",
        "\n",
        "for k in d5:  ## by default dictiory iterates through keys. so dont have to specify d1.keys()\n",
        "  print(k)"
      ],
      "metadata": {
        "colab": {
          "base_uri": "https://localhost:8080/"
        },
        "id": "OCV336n0dPw1",
        "outputId": "5bf8fd20-c5d0-4f74-8522-ed2bd3fdba35"
      },
      "execution_count": null,
      "outputs": [
        {
          "output_type": "stream",
          "name": "stdout",
          "text": [
            "(1, 2)\n",
            "('a',)\n",
            "NT\n",
            "35.5\n",
            "5\n"
          ]
        }
      ]
    },
    {
      "cell_type": "code",
      "source": [
        "# iterating through a dict values\n",
        "\n",
        "d5 = {(1,2):'Ram',\n",
        "      ('a',):39,\n",
        "      'NT': 35.5,\n",
        "      35.5:35.5,\n",
        "      5:'ad'}\n",
        "\n",
        "for v in d5.values():\n",
        "  print(v)"
      ],
      "metadata": {
        "colab": {
          "base_uri": "https://localhost:8080/"
        },
        "id": "D_8h_4Msenvi",
        "outputId": "3c7fde8e-5c92-42c8-da56-7c73512abeb1"
      },
      "execution_count": null,
      "outputs": [
        {
          "output_type": "stream",
          "name": "stdout",
          "text": [
            "Ram\n",
            "39\n",
            "35.5\n",
            "35.5\n",
            "ad\n"
          ]
        }
      ]
    },
    {
      "cell_type": "code",
      "source": [
        "# Iterating through items\n",
        "\n",
        "d5 = {(1,2):'Ram',\n",
        "      ('a',):39,\n",
        "      'NT': 35.5,\n",
        "      35.5:35.5,\n",
        "      5:'ad'}\n",
        "\n",
        "for item in d5.items():\n",
        "  print(item)"
      ],
      "metadata": {
        "colab": {
          "base_uri": "https://localhost:8080/"
        },
        "id": "6aXGZfkgevCE",
        "outputId": "07aec7de-df3e-4bc1-d900-c1228a830dd8"
      },
      "execution_count": null,
      "outputs": [
        {
          "output_type": "stream",
          "name": "stdout",
          "text": [
            "((1, 2), 'Ram')\n",
            "(('a',), 39)\n",
            "('NT', 35.5)\n",
            "(35.5, 35.5)\n",
            "(5, 'ad')\n"
          ]
        }
      ]
    },
    {
      "cell_type": "code",
      "source": [
        "# Iterating through items\n",
        "\n",
        "d5 = {(1,2):'Ram',\n",
        "      ('a',):39,\n",
        "      'NT': 35.5,\n",
        "      35.5:35.5,\n",
        "      5:'ad'}\n",
        "\n",
        "for k in d5:\n",
        "  print(d5[k])"
      ],
      "metadata": {
        "colab": {
          "base_uri": "https://localhost:8080/"
        },
        "id": "zX7X4ddefc0A",
        "outputId": "50dabfee-6db1-4b49-d5f2-f0ca8740b4a1"
      },
      "execution_count": null,
      "outputs": [
        {
          "output_type": "stream",
          "name": "stdout",
          "text": [
            "Ram\n",
            "39\n",
            "35.5\n",
            "35.5\n",
            "ad\n"
          ]
        }
      ]
    },
    {
      "cell_type": "code",
      "source": [
        "# Iterating through items\n",
        "\n",
        "d5 = {(1,2):'Ram',\n",
        "      ('a',):39,\n",
        "      'NT': 35.5,\n",
        "      35.5:35.5,\n",
        "      5:'ad'}\n",
        "\n",
        "for key,value in d5.items():\n",
        "  print(key,value)"
      ],
      "metadata": {
        "colab": {
          "base_uri": "https://localhost:8080/"
        },
        "id": "NW9aQnq9gREX",
        "outputId": "8a66f0a6-159c-4345-fe53-5bf638ac2271"
      },
      "execution_count": null,
      "outputs": [
        {
          "output_type": "stream",
          "name": "stdout",
          "text": [
            "(1, 2) Ram\n",
            "('a',) 39\n",
            "NT 35.5\n",
            "35.5 35.5\n",
            "5 ad\n"
          ]
        }
      ]
    },
    {
      "cell_type": "code",
      "source": [
        "# membership operator in, not in\n",
        "\n",
        "d6 = {(1,2):'Ram',\n",
        "      ('a',):39,\n",
        "      'NT': 35.5,\n",
        "      35.5:3}\n",
        "\n",
        "if 2 in d6:\n",
        "  print('2 is present')\n",
        "else:\n",
        "  print('2 is not present')\n",
        "\n",
        "if 35.5 in d6:\n",
        "  print('35.5 is present')\n",
        "else:\n",
        "  print('35.5 is not present')\n",
        "\n",
        "if 'a' not in d6:\n",
        "  print(\"'a' is not present\")\n",
        "else:\n",
        "  print(\"'a' is present\")"
      ],
      "metadata": {
        "colab": {
          "base_uri": "https://localhost:8080/"
        },
        "id": "slkdD2WOgxWS",
        "outputId": "64b56fcf-3d64-4dfc-b159-78447b41516b"
      },
      "execution_count": null,
      "outputs": [
        {
          "output_type": "stream",
          "name": "stdout",
          "text": [
            "2 is not present\n",
            "35.5 is present\n",
            "'a' is not present\n"
          ]
        }
      ]
    },
    {
      "cell_type": "code",
      "source": [
        "# inbuilt methods for dict\n",
        "\n",
        "# keys()\n",
        "\n",
        "d6 = {(1,2):'Ram',\n",
        "      ('a',):39,\n",
        "      'NT': 35.5,\n",
        "      35.5:3}\n",
        "\n",
        "k = d6.keys()\n",
        "\n",
        "print(k)\n",
        "print(type(k))\n",
        "\n",
        "l = list(k)\n",
        "print(l)\n",
        "print(type(l))"
      ],
      "metadata": {
        "colab": {
          "base_uri": "https://localhost:8080/"
        },
        "id": "T3rbvM3Whkif",
        "outputId": "653533cc-c5b5-4bd1-ef44-7d2079b2381f"
      },
      "execution_count": null,
      "outputs": [
        {
          "output_type": "stream",
          "name": "stdout",
          "text": [
            "dict_keys([(1, 2), ('a',), 'NT', 35.5])\n",
            "<class 'dict_keys'>\n",
            "[(1, 2), ('a',), 'NT', 35.5]\n",
            "<class 'list'>\n"
          ]
        }
      ]
    },
    {
      "cell_type": "code",
      "source": [
        "# values()\n",
        "\n",
        "d6 = {(1,2):'Ram',\n",
        "      ('a',):39,\n",
        "      'NT': 35.5,\n",
        "      35.5:3}\n",
        "\n",
        "v = d6.values()\n",
        "\n",
        "print(v)"
      ],
      "metadata": {
        "colab": {
          "base_uri": "https://localhost:8080/"
        },
        "id": "lFlwgZqRiLDQ",
        "outputId": "781f2ee5-fd82-4627-aa44-7a3decdbb2f1"
      },
      "execution_count": null,
      "outputs": [
        {
          "output_type": "stream",
          "name": "stdout",
          "text": [
            "dict_values(['Ram', 39, 35.5, 3])\n"
          ]
        }
      ]
    },
    {
      "cell_type": "code",
      "source": [
        "# items()\n",
        "\n",
        "d6 = {(1,2):'Ram',\n",
        "      ('a',):39,\n",
        "      'NT': 35.5,\n",
        "      35.5:3}\n",
        "\n",
        "itm = d6.items()\n",
        "print(itm)"
      ],
      "metadata": {
        "colab": {
          "base_uri": "https://localhost:8080/"
        },
        "id": "AFBxunt7jMmW",
        "outputId": "e8e2c11f-02ea-472a-e724-48a1ac1479fb"
      },
      "execution_count": null,
      "outputs": [
        {
          "output_type": "stream",
          "name": "stdout",
          "text": [
            "dict_items([((1, 2), 'Ram'), (('a',), 39), ('NT', 35.5), (35.5, 3)])\n"
          ]
        }
      ]
    },
    {
      "cell_type": "code",
      "source": [
        "# get()\n",
        "\n",
        "d6 = {(1,2):'Ram',\n",
        "      ('a',):39,\n",
        "      'NT': 35.5,\n",
        "      35.5:3}\n",
        "\n",
        "val = d6.get(35.5)\n",
        "print(val)\n",
        "\n",
        "print(d6.get(10)) # if key not present it uses default value\n",
        "\n",
        "val2 = d6.get(10,'###') # specifying defalt value when key is not present\n",
        "print(val2)"
      ],
      "metadata": {
        "colab": {
          "base_uri": "https://localhost:8080/"
        },
        "id": "2gSQyodMjTnJ",
        "outputId": "e9912436-98e5-415f-a6b0-aa19f6d4c472"
      },
      "execution_count": null,
      "outputs": [
        {
          "output_type": "stream",
          "name": "stdout",
          "text": [
            "3\n",
            "None\n",
            "###\n"
          ]
        }
      ]
    },
    {
      "cell_type": "code",
      "source": [
        "# pop()\n",
        "\n",
        "d6 = {(1,2):'Ram',\n",
        "      ('a',):39,\n",
        "      'NT': 35.5,\n",
        "      35.5:3}\n",
        "\n",
        "print(d6)\n",
        "\n",
        "val = d6.pop(('a',))\n",
        "print(val)\n",
        "\n",
        "print(d6)\n",
        "\n",
        "print(d6.pop()) # pop needs atleast one argument.\n",
        "\n"
      ],
      "metadata": {
        "colab": {
          "base_uri": "https://localhost:8080/",
          "height": 263
        },
        "id": "po1Arl1yj05V",
        "outputId": "084908c7-5ae8-4a59-94f9-e7883af71a2a"
      },
      "execution_count": null,
      "outputs": [
        {
          "output_type": "stream",
          "name": "stdout",
          "text": [
            "{(1, 2): 'Ram', ('a',): 39, 'NT': 35.5, 35.5: 3}\n",
            "39\n",
            "{(1, 2): 'Ram', 'NT': 35.5, 35.5: 3}\n"
          ]
        },
        {
          "output_type": "error",
          "ename": "TypeError",
          "evalue": "pop expected at least 1 argument, got 0",
          "traceback": [
            "\u001b[0;31m---------------------------------------------------------------------------\u001b[0m",
            "\u001b[0;31mTypeError\u001b[0m                                 Traceback (most recent call last)",
            "\u001b[0;32m<ipython-input-34-99945423d993>\u001b[0m in \u001b[0;36m<cell line: 0>\u001b[0;34m()\u001b[0m\n\u001b[1;32m     13\u001b[0m \u001b[0mprint\u001b[0m\u001b[0;34m(\u001b[0m\u001b[0md6\u001b[0m\u001b[0;34m)\u001b[0m\u001b[0;34m\u001b[0m\u001b[0;34m\u001b[0m\u001b[0m\n\u001b[1;32m     14\u001b[0m \u001b[0;34m\u001b[0m\u001b[0m\n\u001b[0;32m---> 15\u001b[0;31m \u001b[0mprint\u001b[0m\u001b[0;34m(\u001b[0m\u001b[0md6\u001b[0m\u001b[0;34m.\u001b[0m\u001b[0mpop\u001b[0m\u001b[0;34m(\u001b[0m\u001b[0;34m)\u001b[0m\u001b[0;34m)\u001b[0m \u001b[0;31m# pop needs one argument.\u001b[0m\u001b[0;34m\u001b[0m\u001b[0;34m\u001b[0m\u001b[0m\n\u001b[0m\u001b[1;32m     16\u001b[0m \u001b[0;34m\u001b[0m\u001b[0m\n\u001b[1;32m     17\u001b[0m \u001b[0mprint\u001b[0m\u001b[0;34m(\u001b[0m\u001b[0md6\u001b[0m\u001b[0;34m.\u001b[0m\u001b[0mpop\u001b[0m\u001b[0;34m(\u001b[0m\u001b[0;36m10\u001b[0m\u001b[0;34m)\u001b[0m\u001b[0;34m)\u001b[0m \u001b[0;31m# pop needs one argument.\u001b[0m\u001b[0;34m\u001b[0m\u001b[0;34m\u001b[0m\u001b[0m\n",
            "\u001b[0;31mTypeError\u001b[0m: pop expected at least 1 argument, got 0"
          ]
        }
      ]
    },
    {
      "cell_type": "code",
      "source": [
        "print(d6.pop(10)) # pop throws error  as key value not present."
      ],
      "metadata": {
        "colab": {
          "base_uri": "https://localhost:8080/",
          "height": 141
        },
        "id": "ByipzQq-kXUr",
        "outputId": "4523e650-9c1e-4389-c725-49b8bd60216e"
      },
      "execution_count": null,
      "outputs": [
        {
          "output_type": "error",
          "ename": "KeyError",
          "evalue": "10",
          "traceback": [
            "\u001b[0;31m---------------------------------------------------------------------------\u001b[0m",
            "\u001b[0;31mKeyError\u001b[0m                                  Traceback (most recent call last)",
            "\u001b[0;32m<ipython-input-35-c139dc322b9f>\u001b[0m in \u001b[0;36m<cell line: 0>\u001b[0;34m()\u001b[0m\n\u001b[0;32m----> 1\u001b[0;31m \u001b[0mprint\u001b[0m\u001b[0;34m(\u001b[0m\u001b[0md6\u001b[0m\u001b[0;34m.\u001b[0m\u001b[0mpop\u001b[0m\u001b[0;34m(\u001b[0m\u001b[0;36m10\u001b[0m\u001b[0;34m)\u001b[0m\u001b[0;34m)\u001b[0m \u001b[0;31m# pop needs one argument.\u001b[0m\u001b[0;34m\u001b[0m\u001b[0;34m\u001b[0m\u001b[0m\n\u001b[0m",
            "\u001b[0;31mKeyError\u001b[0m: 10"
          ]
        }
      ]
    },
    {
      "cell_type": "code",
      "source": [
        "print(d6.pop(10,'###')) # default value specified if key not present in the dict"
      ],
      "metadata": {
        "colab": {
          "base_uri": "https://localhost:8080/"
        },
        "id": "g7gu_Ohkk1Q_",
        "outputId": "cbddb65c-1885-4321-f5c9-276e8611b812"
      },
      "execution_count": null,
      "outputs": [
        {
          "output_type": "stream",
          "name": "stdout",
          "text": [
            "###\n"
          ]
        }
      ]
    },
    {
      "cell_type": "code",
      "source": [
        "## update()\n",
        "\n",
        "d7 = {(1,2):'Ram',\n",
        "      ('a',):39,\n",
        "      'NT': 35.5,\n",
        "      35.5:3}\n",
        "\n",
        "d8 = {10: 'a', 20: 'c'}\n",
        "print(d7)\n",
        "\n",
        "d7.update(d8)\n",
        "print(d7)\n",
        "\n",
        "\n",
        "d7.update({10:'richa',30:'d'})\n",
        "print(d7)\n",
        "\n",
        "d7.update({10:'richa1',10:'d'})\n",
        "print(d7)"
      ],
      "metadata": {
        "colab": {
          "base_uri": "https://localhost:8080/"
        },
        "id": "CJYshe28k7qk",
        "outputId": "2db983e6-4807-445e-d828-424d9d5cce98"
      },
      "execution_count": null,
      "outputs": [
        {
          "output_type": "stream",
          "name": "stdout",
          "text": [
            "{(1, 2): 'Ram', ('a',): 39, 'NT': 35.5, 35.5: 3}\n",
            "{(1, 2): 'Ram', ('a',): 39, 'NT': 35.5, 35.5: 3, 10: 'a', 20: 'c'}\n",
            "{(1, 2): 'Ram', ('a',): 39, 'NT': 35.5, 35.5: 3, 10: 'richa', 20: 'c', 30: 'd'}\n",
            "{(1, 2): 'Ram', ('a',): 39, 'NT': 35.5, 35.5: 3, 10: 'd', 20: 'c', 30: 'd'}\n"
          ]
        }
      ]
    },
    {
      "cell_type": "code",
      "source": [
        "d9 = {2:100, 3:300, 4:400, 5:500, 2:200}\n",
        "\n",
        "print(d9)"
      ],
      "metadata": {
        "colab": {
          "base_uri": "https://localhost:8080/"
        },
        "id": "Mt3096SwmFAG",
        "outputId": "03dcdb9b-678d-4452-bf2c-fb27a3d76b06"
      },
      "execution_count": null,
      "outputs": [
        {
          "output_type": "stream",
          "name": "stdout",
          "text": [
            "{2: 200, 3: 300, 4: 400, 5: 500}\n"
          ]
        }
      ]
    },
    {
      "cell_type": "code",
      "source": [
        "# clear()\n",
        "\n",
        "print(d9)\n",
        "\n",
        "d9.clear()\n",
        "\n",
        "print(d9)"
      ],
      "metadata": {
        "colab": {
          "base_uri": "https://localhost:8080/"
        },
        "id": "CgXZuw3ZmuLR",
        "outputId": "0f9afbb0-ac6a-4163-fde8-33510817f0f8"
      },
      "execution_count": null,
      "outputs": [
        {
          "output_type": "stream",
          "name": "stdout",
          "text": [
            "{2: 200, 3: 300, 4: 400, 5: 500}\n",
            "{}\n"
          ]
        }
      ]
    },
    {
      "cell_type": "code",
      "source": [
        "# shallow copy - copy the memory location, still points to the same address. any changes to one reflects in the other\n",
        "\n",
        "d1 = {1:100, 2:200, 3:300}\n",
        "d2 = d1.copy()\n",
        "\n",
        "print(d1)\n",
        "print(d2)\n",
        "\n",
        "print(id(d1))\n",
        "print(id(d2))"
      ],
      "metadata": {
        "colab": {
          "base_uri": "https://localhost:8080/"
        },
        "id": "9oPTnICFnD0E",
        "outputId": "73a7a54f-d5ce-4365-eff8-0c97c8c87c0a"
      },
      "execution_count": null,
      "outputs": [
        {
          "output_type": "stream",
          "name": "stdout",
          "text": [
            "{1: 100, 2: 200, 3: 300}\n",
            "{1: 100, 2: 200, 3: 300}\n",
            "132536296173632\n",
            "132536296165120\n"
          ]
        }
      ]
    },
    {
      "cell_type": "code",
      "source": [
        "# shallow copy - copy the memory location, still points to the same address. any changes to one reflects in the other\n",
        "\n",
        "d1 = {1:[100,100], 2:[200,34], 3:[300,'as']}\n",
        "d2 = d1.copy()\n",
        "\n",
        "print(d1)\n",
        "print(d2)\n",
        "\n",
        "print(id(d1))\n",
        "print(id(d2))"
      ],
      "metadata": {
        "colab": {
          "base_uri": "https://localhost:8080/"
        },
        "id": "XMSgkiCJnzT9",
        "outputId": "f4ee3e83-3e8c-40fd-9e05-7601ba47d642"
      },
      "execution_count": null,
      "outputs": [
        {
          "output_type": "stream",
          "name": "stdout",
          "text": [
            "{1: [100, 100], 2: [200, 34], 3: [300, 'as']}\n",
            "{1: [100, 100], 2: [200, 34], 3: [300, 'as']}\n",
            "132536294191296\n",
            "132536293913600\n"
          ]
        }
      ]
    },
    {
      "cell_type": "code",
      "source": [
        "# shallow copy - copy the memory location, still points to the same address. any changes to one reflects in the other\n",
        "\n",
        "d1 = {1:[100,100], 2:[200,34], 3:[300,'as']}\n",
        "d2 = d1\n",
        "\n",
        "print(d1)\n",
        "print(d2)\n",
        "\n",
        "print(id(d1))\n",
        "print(id(d2))"
      ],
      "metadata": {
        "colab": {
          "base_uri": "https://localhost:8080/"
        },
        "id": "eIl5-oNSoU94",
        "outputId": "4f1733d0-5a47-4364-943b-c13c77e03951"
      },
      "execution_count": null,
      "outputs": [
        {
          "output_type": "stream",
          "name": "stdout",
          "text": [
            "{1: [100, 100], 2: [200, 34], 3: [300, 'as']}\n",
            "{1: [100, 100], 2: [200, 34], 3: [300, 'as']}\n",
            "132536293903040\n",
            "132536293903040\n"
          ]
        }
      ]
    },
    {
      "cell_type": "code",
      "source": [
        "# shallow copy - copy the memory location, still points to the same address. any changes to one reflects in the other\n",
        "\n",
        "d1 = [10,20,30]\n",
        "d2 = d1.copy()\n",
        "d3 = d1\n",
        "\n",
        "print(d1)\n",
        "print(d2)\n",
        "\n",
        "print(id(d1))\n",
        "print(id(d2))\n",
        "print(id(d3))\n"
      ],
      "metadata": {
        "colab": {
          "base_uri": "https://localhost:8080/"
        },
        "id": "wjVYNKQnofsW",
        "outputId": "7c3575cc-3688-4c15-d974-cf88cddc4727"
      },
      "execution_count": null,
      "outputs": [
        {
          "output_type": "stream",
          "name": "stdout",
          "text": [
            "[10, 20, 30]\n",
            "[10, 20, 30]\n",
            "132536294187648\n",
            "132536294044672\n",
            "132536294187648\n"
          ]
        }
      ]
    },
    {
      "cell_type": "code",
      "source": [
        "d1 = {1:100,2:200,3:300}\n",
        "d2 = d1.copy()\n",
        "\n",
        "d3 = d1\n",
        "\n",
        "print(d1)\n",
        "print(d2)\n",
        "\n",
        "print(id(d1))\n",
        "print(id(d2))\n",
        "\n",
        "d1.update({4:400})\n",
        "\n",
        "print(d1)\n",
        "print(d2)\n",
        "print(d3)"
      ],
      "metadata": {
        "colab": {
          "base_uri": "https://localhost:8080/"
        },
        "id": "l_8vbnLQoua0",
        "outputId": "6da698bc-9f04-4cf7-8007-336b7f033656"
      },
      "execution_count": null,
      "outputs": [
        {
          "output_type": "stream",
          "name": "stdout",
          "text": [
            "{1: 100, 2: 200, 3: 300}\n",
            "{1: 100, 2: 200, 3: 300}\n",
            "132536294193024\n",
            "132536294194624\n",
            "{1: 100, 2: 200, 3: 300, 4: 400}\n",
            "{1: 100, 2: 200, 3: 300}\n",
            "{1: 100, 2: 200, 3: 300, 4: 400}\n"
          ]
        }
      ]
    },
    {
      "cell_type": "code",
      "source": [
        "# deep copy - not a default method\n",
        "\n",
        "import copy\n",
        "\n",
        "d1 = {1:100,2:200,3:300}\n",
        "d2 = copy.deepcopy(d1)\n",
        "\n",
        "print(id(d1))\n",
        "print(id(d2))\n",
        "\n",
        "print(d1)\n",
        "print(d2)\n"
      ],
      "metadata": {
        "colab": {
          "base_uri": "https://localhost:8080/"
        },
        "id": "wtGDgVjRpRFV",
        "outputId": "06811431-7959-4af7-cc1c-50acfd662b26"
      },
      "execution_count": null,
      "outputs": [
        {
          "output_type": "stream",
          "name": "stdout",
          "text": [
            "132536294181184\n",
            "132536294188480\n",
            "{1: 100, 2: 200, 3: 300}\n",
            "{1: 100, 2: 200, 3: 300}\n"
          ]
        }
      ]
    },
    {
      "cell_type": "code",
      "source": [
        "# fromkeys()\n",
        "\n",
        "keys = [1,2,3,4]\n",
        "\n",
        "d1 = dict.fromkeys(keys,2000)\n",
        "\n",
        "print(d1)"
      ],
      "metadata": {
        "colab": {
          "base_uri": "https://localhost:8080/"
        },
        "id": "dzMMPX4Vp2YS",
        "outputId": "4856cbde-112f-41aa-f7cd-2c38e43d4847"
      },
      "execution_count": null,
      "outputs": [
        {
          "output_type": "stream",
          "name": "stdout",
          "text": [
            "{1: 2000, 2: 2000, 3: 2000, 4: 2000}\n"
          ]
        }
      ]
    },
    {
      "cell_type": "code",
      "source": [
        "keys = [1,2,3,4,5,6]\n",
        "values = [10,20,30,40,50]\n",
        "\n",
        "d2 = dict.fromkeys(keys,values)\n",
        "\n",
        "print(d2)\n",
        "\n",
        "d3 = dict(zip(keys,values))\n",
        "print(d3)"
      ],
      "metadata": {
        "colab": {
          "base_uri": "https://localhost:8080/"
        },
        "id": "f0YBID0IqPXP",
        "outputId": "37c6d47f-4854-47f7-ea05-5947d4fd828d"
      },
      "execution_count": null,
      "outputs": [
        {
          "output_type": "stream",
          "name": "stdout",
          "text": [
            "{1: [10, 20, 30, 40, 50], 2: [10, 20, 30, 40, 50], 3: [10, 20, 30, 40, 50], 4: [10, 20, 30, 40, 50], 5: [10, 20, 30, 40, 50], 6: [10, 20, 30, 40, 50]}\n",
            "{1: 10, 2: 20, 3: 30, 4: 40, 5: 50}\n"
          ]
        }
      ]
    },
    {
      "cell_type": "code",
      "source": [
        "# test zip\n",
        "\n",
        "l1 = [1,2,3,4]\n",
        "l2 = [10,20,30,40]\n",
        "l3 = [100,200,300,400]\n",
        "\n",
        "print(list(zip(l1,l2,l3)))\n"
      ],
      "metadata": {
        "colab": {
          "base_uri": "https://localhost:8080/"
        },
        "id": "sCXmxCBfqZdC",
        "outputId": "ef6c78c4-63ca-4226-e3c6-093feb3d1dd5"
      },
      "execution_count": null,
      "outputs": [
        {
          "output_type": "stream",
          "name": "stdout",
          "text": [
            "[(1, 10, 100), (2, 20, 200), (3, 30, 300), (4, 40, 400)]\n"
          ]
        }
      ]
    },
    {
      "cell_type": "code",
      "source": [
        "# assignment\n",
        "\n",
        "s = 'I  live in  blr , blr is a garden city and beautiful city'\n",
        "\n",
        "### output = {'I':1 , 'live':1, 'in':2, 'blr':2, 'is':1, 'a':1, 'garden':1, 'city':2}\n",
        "\n",
        "\n",
        "l = s.split()\n",
        "print(l)\n",
        "\n",
        "d = {}\n",
        "\n",
        "for i in l:\n",
        "  if i not in d:\n",
        "    d[i] = l.count(i)\n",
        "\n",
        "print(d)\n",
        "\n",
        "\n"
      ],
      "metadata": {
        "colab": {
          "base_uri": "https://localhost:8080/"
        },
        "id": "878n8E7mq0pH",
        "outputId": "91fa9907-5d3d-4851-dce2-b4200ecfd4c8"
      },
      "execution_count": null,
      "outputs": [
        {
          "output_type": "stream",
          "name": "stdout",
          "text": [
            "['I', 'live', 'in', 'blr', ',', 'blr', 'is', 'a', 'garden', 'city', 'and', 'beautiful', 'city']\n",
            "{'I': 1, 'live': 1, 'in': 1, 'blr': 2, ',': 1, 'is': 1, 'a': 1, 'garden': 1, 'city': 2, 'and': 1, 'beautiful': 1}\n"
          ]
        }
      ]
    },
    {
      "cell_type": "code",
      "source": [
        "## copy refence with =\n",
        "\n",
        "l1 = [1,2,3,4]\n",
        "\n",
        "l2 = l1\n",
        "\n",
        "print(l1)\n",
        "print(l2)\n",
        "\n",
        "print(id(l1))\n",
        "print(id(l2))\n",
        "\n",
        "l2[1] = 200\n",
        "\n",
        "print(l1)\n",
        "print(l2)\n",
        "\n",
        "print(id(l1))\n",
        "print(id(l2))"
      ],
      "metadata": {
        "id": "Q-Xyc8fUrXNw",
        "colab": {
          "base_uri": "https://localhost:8080/"
        },
        "outputId": "371205a0-2498-4f48-f655-aabbc9080bbc"
      },
      "execution_count": 2,
      "outputs": [
        {
          "output_type": "stream",
          "name": "stdout",
          "text": [
            "[1, 2, 3, 4]\n",
            "[1, 2, 3, 4]\n",
            "136319349379200\n",
            "136319349379200\n",
            "[1, 200, 3, 4]\n",
            "[1, 200, 3, 4]\n",
            "136319349379200\n",
            "136319349379200\n"
          ]
        }
      ]
    },
    {
      "cell_type": "code",
      "source": [
        "## shallow copy\n",
        "\n",
        "import copy\n",
        "\n",
        "l1 = [[1,2,3],[3.4,5.4],[6,'a']]\n",
        "\n",
        "l2 = copy.copy(l1)\n",
        "\n",
        "print(l1)\n",
        "print(l2)\n",
        "\n",
        "print(id(l1))\n",
        "print(id(l2))\n",
        "\n",
        "l2[1] = [4,5]\n",
        "\n",
        "print(l1)\n",
        "print(l2)\n",
        "\n",
        "print(id(l1))\n",
        "print(id(l2))\n",
        "\n",
        "l1.append('NTT')\n",
        "\n",
        "print(l1)\n",
        "print(l2)\n",
        "\n",
        "print(id(l1))\n",
        "print(id(l2))\n",
        "\n",
        "l3 = copy.copy(l1)\n",
        "l1[3] = 'NTT DATA'\n",
        "\n",
        "print(l1)\n",
        "print(l2)\n",
        "print(l3)\n",
        "\n",
        "print(id(l1))\n",
        "print(id(l2))\n",
        "print(id(l3))"
      ],
      "metadata": {
        "colab": {
          "base_uri": "https://localhost:8080/"
        },
        "id": "GxYJ3lMlx8RI",
        "outputId": "924de4b4-9a10-41dc-b5ae-77113529dc26"
      },
      "execution_count": 9,
      "outputs": [
        {
          "output_type": "stream",
          "name": "stdout",
          "text": [
            "[[1, 2, 3], [3.4, 5.4], [6, 'a']]\n",
            "[[1, 2, 3], [3.4, 5.4], [6, 'a']]\n",
            "136319349699456\n",
            "136319576149312\n",
            "[[1, 2, 3], [3.4, 5.4], [6, 'a']]\n",
            "[[1, 2, 3], [4, 5], [6, 'a']]\n",
            "136319349699456\n",
            "136319576149312\n",
            "[[1, 2, 3], [3.4, 5.4], [6, 'a'], 'NTT']\n",
            "[[1, 2, 3], [4, 5], [6, 'a']]\n",
            "136319349699456\n",
            "136319576149312\n",
            "[[1, 2, 3], [3.4, 5.4], [6, 'a'], 'NTT DATA']\n",
            "[[1, 2, 3], [4, 5], [6, 'a']]\n",
            "[[1, 2, 3], [3.4, 5.4], [6, 'a'], 'NTT']\n",
            "136319349699456\n",
            "136319576149312\n",
            "136319349694272\n"
          ]
        }
      ]
    },
    {
      "cell_type": "code",
      "source": [
        "## shallow copy : copies only reference for 1st level. after that immutables change dont get referenced or updated\n",
        "\n",
        "import copy\n",
        "\n",
        "l1 = [[1,2,3],[3.4,5.4],[6,'a']]\n",
        "\n",
        "l2 = copy.copy(l1)\n",
        "\n",
        "print(l1)\n",
        "print(l2)\n",
        "\n",
        "print(id(l1))\n",
        "print(id(l2))\n",
        "\n",
        "l1[0][0] = 5\n",
        "l2[1] = [4,5]\n",
        "\n",
        "print(l1)\n",
        "print(l2)\n",
        "\n",
        "print(id(l1))\n",
        "print(id(l2))\n",
        "\n",
        "l1.append('NTT')\n",
        "l2[0][1] = 2.0\n",
        "\n",
        "print(l1)\n",
        "print(l2)\n",
        "\n",
        "print(id(l1))\n",
        "print(id(l2))\n",
        "\n",
        "l1 = [[1,2,3],[3.4,5.4],[6,'a'],'NTT']\n",
        "l3 = copy.copy(l1)\n",
        "l1[3] = 'NTT DATA'\n",
        "\n",
        "print(l1)\n",
        "\n",
        "print(l3)\n",
        "\n",
        "print(id(l1))\n",
        "\n",
        "print(id(l3))\n"
      ],
      "metadata": {
        "colab": {
          "base_uri": "https://localhost:8080/"
        },
        "id": "SWXwxo_4zWgM",
        "outputId": "d53765d1-d46e-4e5e-b8be-ac86a1d167af"
      },
      "execution_count": 14,
      "outputs": [
        {
          "output_type": "stream",
          "name": "stdout",
          "text": [
            "[[1, 2, 3], [3.4, 5.4], [6, 'a']]\n",
            "[[1, 2, 3], [3.4, 5.4], [6, 'a']]\n",
            "136319348480448\n",
            "136319349788736\n",
            "[[5, 2, 3], [3.4, 5.4], [6, 'a']]\n",
            "[[5, 2, 3], [4, 5], [6, 'a']]\n",
            "136319348480448\n",
            "136319349788736\n",
            "[[5, 2.0, 3], [3.4, 5.4], [6, 'a'], 'NTT']\n",
            "[[5, 2.0, 3], [4, 5], [6, 'a']]\n",
            "136319348480448\n",
            "136319349788736\n",
            "[[1, 2, 3], [3.4, 5.4], [6, 'a'], 'NTT DATA']\n",
            "[[1, 2, 3], [3.4, 5.4], [6, 'a'], 'NTT']\n",
            "136319349787264\n",
            "136319349750016\n"
          ]
        }
      ]
    },
    {
      "cell_type": "code",
      "source": [
        "# deepcopy - creates a copy\n",
        "\n",
        "import copy\n",
        "\n",
        "l1 = [[1,2,3],3.4,'NTT',(1,2,3,4)]\n",
        "\n",
        "l2 = copy.deepcopy(l1)\n",
        "\n",
        "print(l1)\n",
        "print(l2)\n",
        "print(id(l1))\n",
        "print(id(l2))\n",
        "\n",
        "l1[0][0] = 5\n",
        "\n",
        "print(l1)\n",
        "print(l2)"
      ],
      "metadata": {
        "colab": {
          "base_uri": "https://localhost:8080/"
        },
        "id": "i0ICFRbV3PUw",
        "outputId": "c7ac9bbb-af4b-4ce2-92a9-9b78d754e0b3"
      },
      "execution_count": 12,
      "outputs": [
        {
          "output_type": "stream",
          "name": "stdout",
          "text": [
            "[[1, 2, 3], 3.4, 'NTT', (1, 2, 3, 4)]\n",
            "[[1, 2, 3], 3.4, 'NTT', (1, 2, 3, 4)]\n",
            "136319349692096\n",
            "136320406453440\n",
            "[[5, 2, 3], 3.4, 'NTT', (1, 2, 3, 4)]\n",
            "[[1, 2, 3], 3.4, 'NTT', (1, 2, 3, 4)]\n"
          ]
        }
      ]
    },
    {
      "cell_type": "markdown",
      "source": [
        "## SET"
      ],
      "metadata": {
        "id": "IQzXREJS4St9"
      }
    },
    {
      "cell_type": "code",
      "source": [
        "## unordered pair, stored in a different order than defined using hashing, unique items, {}\n",
        "\n",
        "s = {1,'NTT',30+4j, 40, 30, (18,), 30,50,40,50}  ## list not allowed, duplicateds not allowed\n",
        "\n",
        "print(s)\n",
        "print(id(s))"
      ],
      "metadata": {
        "colab": {
          "base_uri": "https://localhost:8080/"
        },
        "id": "VSRzd39W3fxt",
        "outputId": "e00b2714-26d2-4b51-ecea-ffde5634f28d"
      },
      "execution_count": 18,
      "outputs": [
        {
          "output_type": "stream",
          "name": "stdout",
          "text": [
            "{1, (18,), 50, 40, (30+4j), 'NTT', 30}\n",
            "136319349265056\n"
          ]
        }
      ]
    },
    {
      "cell_type": "code",
      "source": [
        "## set is mutable, but elements in set must be mutable\n",
        "## set can be modified\n",
        "## indexing slicing do not apply to set\n",
        "\n",
        "s2 = {10,10,20,30,20,30}\n",
        "print(s2)\n"
      ],
      "metadata": {
        "id": "Dn-j6t4C40Ly",
        "outputId": "53cf45c1-e06b-4175-fbb3-044ba112f3b8",
        "colab": {
          "base_uri": "https://localhost:8080/"
        }
      },
      "execution_count": 19,
      "outputs": [
        {
          "output_type": "stream",
          "name": "stdout",
          "text": [
            "{10, 20, 30}\n"
          ]
        }
      ]
    },
    {
      "cell_type": "code",
      "source": [
        "# list not allowed in set\n",
        "\n",
        "s3 = {10,20,30,[4,3]}\n",
        "print(s3)"
      ],
      "metadata": {
        "id": "KH4ZjHl950Rj",
        "outputId": "30095600-6364-4722-b44f-5508a39eb2ae",
        "colab": {
          "base_uri": "https://localhost:8080/",
          "height": 193
        }
      },
      "execution_count": 20,
      "outputs": [
        {
          "output_type": "error",
          "ename": "TypeError",
          "evalue": "unhashable type: 'list'",
          "traceback": [
            "\u001b[0;31m---------------------------------------------------------------------------\u001b[0m",
            "\u001b[0;31mTypeError\u001b[0m                                 Traceback (most recent call last)",
            "\u001b[0;32m<ipython-input-20-0083e303d9a0>\u001b[0m in \u001b[0;36m<cell line: 0>\u001b[0;34m()\u001b[0m\n\u001b[1;32m      1\u001b[0m \u001b[0;31m# list not allowed in set\u001b[0m\u001b[0;34m\u001b[0m\u001b[0;34m\u001b[0m\u001b[0m\n\u001b[1;32m      2\u001b[0m \u001b[0;34m\u001b[0m\u001b[0m\n\u001b[0;32m----> 3\u001b[0;31m \u001b[0ms3\u001b[0m \u001b[0;34m=\u001b[0m \u001b[0;34m{\u001b[0m\u001b[0;36m10\u001b[0m\u001b[0;34m,\u001b[0m\u001b[0;36m20\u001b[0m\u001b[0;34m,\u001b[0m\u001b[0;36m30\u001b[0m\u001b[0;34m,\u001b[0m\u001b[0;34m[\u001b[0m\u001b[0;36m4\u001b[0m\u001b[0;34m,\u001b[0m\u001b[0;36m3\u001b[0m\u001b[0;34m]\u001b[0m\u001b[0;34m}\u001b[0m\u001b[0;34m\u001b[0m\u001b[0;34m\u001b[0m\u001b[0m\n\u001b[0m\u001b[1;32m      4\u001b[0m \u001b[0mprint\u001b[0m\u001b[0;34m(\u001b[0m\u001b[0ms3\u001b[0m\u001b[0;34m)\u001b[0m\u001b[0;34m\u001b[0m\u001b[0;34m\u001b[0m\u001b[0m\n",
            "\u001b[0;31mTypeError\u001b[0m: unhashable type: 'list'"
          ]
        }
      ]
    },
    {
      "cell_type": "code",
      "source": [
        "# using set()\n",
        "\n",
        "s1 = set('NTT Data ')\n",
        "print(s1)\n",
        "\n",
        "s2 = set(['NTT Data '])\n",
        "print(s2)"
      ],
      "metadata": {
        "id": "Z3Pcx4Wa6Igm",
        "outputId": "20c95353-8d19-404e-f746-7a6083c02fe5",
        "colab": {
          "base_uri": "https://localhost:8080/"
        }
      },
      "execution_count": 21,
      "outputs": [
        {
          "output_type": "stream",
          "name": "stdout",
          "text": [
            "{'T', ' ', 't', 'N', 'D', 'a'}\n",
            "{'NTT Data '}\n"
          ]
        }
      ]
    },
    {
      "cell_type": "code",
      "source": [
        "s5 = {} ## creates empty dict\n",
        "print(s5)\n",
        "print(type(s5))\n",
        "\n",
        "s6 = set() ##Use set() to create empty set\n",
        "print(s6)\n",
        "print(type(s6))"
      ],
      "metadata": {
        "id": "NvnmxQOn641r",
        "outputId": "4a5b6d1e-f805-4a9b-f283-533a21c044b3",
        "colab": {
          "base_uri": "https://localhost:8080/"
        }
      },
      "execution_count": 23,
      "outputs": [
        {
          "output_type": "stream",
          "name": "stdout",
          "text": [
            "{}\n",
            "<class 'dict'>\n",
            "set()\n",
            "<class 'set'>\n"
          ]
        }
      ]
    },
    {
      "cell_type": "code",
      "source": [
        "## set methods : add, update, remove, discard, pop, clear\n",
        "\n",
        "s = {10,20,40+3j,'NTT'}\n",
        "\n",
        "print(s)\n",
        "\n",
        "s.add('Data') ## add one element to set using add()\n",
        "\n",
        "print(s)\n",
        "\n",
        "s.update(['100',100,4.5]) ## add multiple element to set using update(). pass multiple items as list []\n",
        "print(s)\n",
        "\n",
        "\n",
        "s.remove('100')\n",
        "print(s)\n",
        "\n",
        "s.discard(4.5)\n",
        "print(s)\n",
        "\n",
        "#s.remove('abc') ## throws error when element doesnt exist in set\n",
        "print(s)\n",
        "\n",
        "s.discard('abc')  ## discard doesnt throw error when element doesnt exist in the set\n",
        "print(s)\n",
        "\n",
        "ele = s.pop()\n",
        "print(ele)\n",
        "print(s)\n",
        "\n",
        "ele2 = s.pop()\n",
        "print(ele2)\n",
        "print(s)\n",
        "\n",
        "ele3 = s.pop()\n",
        "print(ele3)\n",
        "print(s)\n",
        "\n",
        "\n",
        "s.clear()\n",
        "print(s)"
      ],
      "metadata": {
        "id": "5sd-ot5U7bMz",
        "outputId": "60e72290-1fc4-4048-aafe-a711c78ee074",
        "colab": {
          "base_uri": "https://localhost:8080/"
        }
      },
      "execution_count": 37,
      "outputs": [
        {
          "output_type": "stream",
          "name": "stdout",
          "text": [
            "{(40+3j), 10, 'NTT', 20}\n",
            "{10, 'Data', (40+3j), 20, 'NTT'}\n",
            "{'100', 100, 4.5, 10, 'Data', (40+3j), 20, 'NTT'}\n",
            "{100, 4.5, 10, 'Data', (40+3j), 20, 'NTT'}\n",
            "{100, 10, 'Data', (40+3j), 20, 'NTT'}\n",
            "{100, 10, 'Data', (40+3j), 20, 'NTT'}\n",
            "{100, 10, 'Data', (40+3j), 20, 'NTT'}\n",
            "100\n",
            "{10, 'Data', (40+3j), 20, 'NTT'}\n",
            "10\n",
            "{'Data', (40+3j), 20, 'NTT'}\n",
            "Data\n",
            "{(40+3j), 20, 'NTT'}\n",
            "set()\n"
          ]
        }
      ]
    },
    {
      "cell_type": "code",
      "source": [
        "## set union  : pipe | operator or union()\n",
        "\n",
        "s1 = {1,2,3,4,5}\n",
        "s2 = {3,4,5,6,7}\n",
        "\n",
        "print(s1|s2)\n",
        "\n",
        "print(s1.union(s2))"
      ],
      "metadata": {
        "id": "UbR0AkHp8hga",
        "outputId": "eb590265-9c76-4b6b-d887-6570768a64e9",
        "colab": {
          "base_uri": "https://localhost:8080/"
        }
      },
      "execution_count": 39,
      "outputs": [
        {
          "output_type": "stream",
          "name": "stdout",
          "text": [
            "{1, 2, 3, 4, 5, 6, 7}\n",
            "{1, 2, 3, 4, 5, 6, 7}\n"
          ]
        }
      ]
    },
    {
      "cell_type": "code",
      "source": [
        "## set intersection : using & or intersection()\n",
        "\n",
        "s1 = {1,2,3,4,5}\n",
        "s2 = {3,4,5,6,7}\n",
        "\n",
        "print(s1&s2)\n",
        "\n",
        "print(s1.intersection(s2))"
      ],
      "metadata": {
        "id": "oUS6ggqa-uh-",
        "outputId": "8bfb1ebd-0ae1-4bcb-82f6-584fb2e92d6e",
        "colab": {
          "base_uri": "https://localhost:8080/"
        }
      },
      "execution_count": 41,
      "outputs": [
        {
          "output_type": "stream",
          "name": "stdout",
          "text": [
            "{3, 4, 5}\n",
            "{3, 4, 5}\n"
          ]
        }
      ]
    },
    {
      "cell_type": "code",
      "source": [
        "## difference : using - or difference()\n",
        "\n",
        "print(s1-s2)\n",
        "\n",
        "print(s2-s1)\n",
        "\n",
        "print(s1.difference(s2))\n",
        "\n",
        "print(s2.difference(s1))"
      ],
      "metadata": {
        "id": "BuWyI_46_FfH",
        "outputId": "5364ba06-500e-4fc1-9e4d-a4bb45b9f01a",
        "colab": {
          "base_uri": "https://localhost:8080/"
        }
      },
      "execution_count": 43,
      "outputs": [
        {
          "output_type": "stream",
          "name": "stdout",
          "text": [
            "{1, 2}\n",
            "{6, 7}\n",
            "{1, 2}\n",
            "{6, 7}\n"
          ]
        }
      ]
    },
    {
      "cell_type": "markdown",
      "source": [
        "## Frozen set\n",
        "\n",
        "immutable version of python set"
      ],
      "metadata": {
        "id": "CSDcPDYH__TX"
      }
    },
    {
      "cell_type": "code",
      "source": [
        "## frozenset\n",
        "\n",
        "s = {1,2,3,4}\n",
        "fs = frozenset(s)\n",
        "\n",
        "print(s)\n",
        "print(type(s))\n",
        "print(fs)\n",
        "print(type(fs))"
      ],
      "metadata": {
        "id": "8F8PCJOY_cZF",
        "outputId": "ea9ee2c0-db09-457e-8c7d-b66d329bd934",
        "colab": {
          "base_uri": "https://localhost:8080/"
        }
      },
      "execution_count": 44,
      "outputs": [
        {
          "output_type": "stream",
          "name": "stdout",
          "text": [
            "{1, 2, 3, 4}\n",
            "<class 'set'>\n",
            "frozenset({1, 2, 3, 4})\n",
            "<class 'frozenset'>\n"
          ]
        }
      ]
    },
    {
      "cell_type": "code",
      "source": [
        "fs.add(1)"
      ],
      "metadata": {
        "id": "mAu35Je9AYI4",
        "outputId": "10f60bc4-145d-4d54-b91e-7939047d2cc5",
        "colab": {
          "base_uri": "https://localhost:8080/",
          "height": 141
        }
      },
      "execution_count": 45,
      "outputs": [
        {
          "output_type": "error",
          "ename": "AttributeError",
          "evalue": "'frozenset' object has no attribute 'add'",
          "traceback": [
            "\u001b[0;31m---------------------------------------------------------------------------\u001b[0m",
            "\u001b[0;31mAttributeError\u001b[0m                            Traceback (most recent call last)",
            "\u001b[0;32m<ipython-input-45-5bc80e7845a4>\u001b[0m in \u001b[0;36m<cell line: 0>\u001b[0;34m()\u001b[0m\n\u001b[0;32m----> 1\u001b[0;31m \u001b[0mfs\u001b[0m\u001b[0;34m.\u001b[0m\u001b[0madd\u001b[0m\u001b[0;34m(\u001b[0m\u001b[0;36m1\u001b[0m\u001b[0;34m)\u001b[0m\u001b[0;34m\u001b[0m\u001b[0;34m\u001b[0m\u001b[0m\n\u001b[0m",
            "\u001b[0;31mAttributeError\u001b[0m: 'frozenset' object has no attribute 'add'"
          ]
        }
      ]
    },
    {
      "cell_type": "code",
      "source": [],
      "metadata": {
        "id": "P9Re2w83AcfY"
      },
      "execution_count": null,
      "outputs": []
    }
  ],
  "metadata": {
    "colab": {
      "name": "Welcome To Colab",
      "provenance": [],
      "include_colab_link": true
    },
    "kernelspec": {
      "display_name": "Python 3",
      "name": "python3"
    }
  },
  "nbformat": 4,
  "nbformat_minor": 0
}