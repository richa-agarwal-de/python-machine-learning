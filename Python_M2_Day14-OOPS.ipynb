{
  "nbformat": 4,
  "nbformat_minor": 0,
  "metadata": {
    "colab": {
      "provenance": [],
      "include_colab_link": true
    },
    "kernelspec": {
      "name": "python3",
      "display_name": "Python 3"
    },
    "language_info": {
      "name": "python"
    }
  },
  "cells": [
    {
      "cell_type": "markdown",
      "metadata": {
        "id": "view-in-github",
        "colab_type": "text"
      },
      "source": [
        "<a href=\"https://colab.research.google.com/github/richa-agarwal-de/python-machine-learning/blob/main/Python_M2_Day14-OOPS.ipynb\" target=\"_parent\"><img src=\"https://colab.research.google.com/assets/colab-badge.svg\" alt=\"Open In Colab\"/></a>"
      ]
    },
    {
      "cell_type": "markdown",
      "source": [
        "\n",
        "# OOPS:\n",
        "## Class\n",
        "- is like a template or blueprint or design\n",
        "- No memory is created for class\n",
        "- Memory is created for the object of the class\n",
        "- Object is the instance of the class\n",
        "\n",
        "*   Attributes - data or variables\n",
        "*   Method - Behaviour or operations on the data/variable\n",
        "\n",
        "- Class variables (defined outside the __init__ function) - one variable for all objects of the class\n",
        "- Instance variables (defined within the __init__ function) - specific to object\n",
        "\n",
        "- Instance method\n",
        "- Class method - used to modify class variable - declared using @classmethod  decorator\n",
        "\n"
      ],
      "metadata": {
        "id": "k-NZhWCKmZMS"
      }
    },
    {
      "cell_type": "code",
      "execution_count": null,
      "metadata": {
        "id": "HpmbKqI7jltH"
      },
      "outputs": [],
      "source": [
        "# Class definition- class Class_name:\n",
        "class Calculator:\n",
        "\n",
        "  # attributes\n",
        "  n1=0\n",
        "  n2=0\n",
        "  res=0\n",
        "\n",
        "  # methods/behaviour\n",
        "\n",
        "  def __init__(self,n1,n2):   ## Constructor called implicitly during object creation\n",
        "    self.n1=n1\n",
        "    self.n2=n2\n",
        "    self.res=0\n",
        "\n",
        "  def add(self,n1,n2):\n",
        "    pass\n",
        "\n",
        "  def sub(self,n1,n2):\n",
        "    pass\n",
        "\n",
        "  def mul(self,n1,n2):\n",
        "    pass\n",
        "\n",
        "  def div(self,n1,n2):\n",
        "    pass\n",
        "\n",
        "obj1 = Calculator(10,20)  # object creation\n",
        "obj2 = Calculator(100,200)  # object creation"
      ]
    },
    {
      "cell_type": "code",
      "source": [
        "# Class example\n",
        "\n",
        "class Sample:\n",
        "\n",
        "  def __init__(self):\n",
        "    self.data = 10\n",
        "\n",
        "  def input_data(self):\n",
        "    self.data = input(\"Enter some data: \")\n",
        "\n",
        "  def process_data(self):\n",
        "    self.data = self.data.upper()\n",
        "\n",
        "  def output_data(self):\n",
        "    print(self.data)\n",
        "\n",
        "# object creation\n",
        "obj1 = Sample()\n",
        "obj2 = Sample()\n",
        "obj3 = Sample()\n",
        "\n",
        "#\n",
        "obj1.output_data()\n",
        "print(obj1.data)\n",
        "obj1.input_data()\n",
        "obj1.process_data()\n",
        "obj1.output_data()\n",
        "\n",
        "obj2.output_data()\n",
        "obj2.input_data()\n",
        "obj2.process_data()\n",
        "obj2.output_data()\n",
        "\n",
        "obj3.output_data()\n",
        "obj3.input_data()\n",
        "obj3.process_data()\n",
        "obj3.output_data()"
      ],
      "metadata": {
        "colab": {
          "base_uri": "https://localhost:8080/"
        },
        "id": "gKXgw0T9iXPF",
        "outputId": "4d6c873b-225b-4d6f-e4ba-80108bc8c83e"
      },
      "execution_count": null,
      "outputs": [
        {
          "output_type": "stream",
          "name": "stdout",
          "text": [
            "10\n",
            "10\n",
            "Enter some data: ab\n",
            "AB\n",
            "10\n",
            "Enter some data: abc\n",
            "ABC\n",
            "10\n",
            "Enter some data: acask\n",
            "ACASK\n"
          ]
        }
      ]
    },
    {
      "cell_type": "code",
      "source": [
        "# Class definition- class Class_name:\n",
        "class Calculator:\n",
        "\n",
        "  # methods/behaviour\n",
        "\n",
        "  def __init__(self):\n",
        "    self.n1=0\n",
        "    self.n2=0\n",
        "    self.res=0\n",
        "\n",
        "  def get_data(self):\n",
        "    self.n1 = int(input('Enter 1st number: '))\n",
        "    self.n2 = int(input('Enter 2nd number: '))\n",
        "\n",
        "  def add(self):\n",
        "    self.res = self.n1+self.n2\n",
        "    print(self.res)\n",
        "\n",
        "  def sub(self):\n",
        "    self.res = self.n1 - self.n2\n",
        "    print(self.res)\n",
        "\n",
        "  def mul(self):\n",
        "    self.res = self.n1 * self.n2\n",
        "    print(self.res)\n",
        "\n",
        "  def div(self):\n",
        "    self.res = self.n1 / self.n2\n",
        "    print(self.res)\n",
        "\n",
        "  def compare(self, other):\n",
        "    if self.n1 == other.n1 and self.n2 == other.n2:\n",
        "      print(\"Same\")\n",
        "    else:\n",
        "      print(\"Different\")\n",
        "\n",
        "obj1 = Calculator()  # object creation\n",
        "obj1.get_data()\n",
        "obj1.add()\n",
        "obj1.sub()\n",
        "obj1.mul()\n",
        "obj1.div()\n",
        "\n",
        "obj2 = Calculator()  # object creation\n",
        "obj2.get_data()\n",
        "obj2.add()\n",
        "obj2.sub()\n",
        "obj2.mul()\n",
        "obj2.div()\n",
        "\n",
        "obj1.compare(obj2)"
      ],
      "metadata": {
        "colab": {
          "base_uri": "https://localhost:8080/"
        },
        "id": "aR0pTAvNmDxs",
        "outputId": "7b760e9f-9cec-4761-a028-6eb7965be2cd"
      },
      "execution_count": null,
      "outputs": [
        {
          "output_type": "stream",
          "name": "stdout",
          "text": [
            "Enter 1st number: 10\n",
            "Enter 2nd number: 5\n",
            "15\n",
            "5\n",
            "50\n",
            "2.0\n",
            "Enter 1st number: 8\n",
            "Enter 2nd number: 3\n",
            "11\n",
            "5\n",
            "24\n",
            "2.6666666666666665\n",
            "Different\n"
          ]
        }
      ]
    },
    {
      "cell_type": "code",
      "source": [
        "# method without self keyword\n",
        "\n",
        "class Sample:\n",
        "  def test():\n",
        "    print('Hi')\n",
        "\n",
        "o1 = Sample()\n",
        "o1.test()  ## self keyword is mandatory"
      ],
      "metadata": {
        "colab": {
          "base_uri": "https://localhost:8080/",
          "height": 176
        },
        "id": "WrdWm6ycqe_E",
        "outputId": "be935c05-f230-4766-af5e-a1e675421f70"
      },
      "execution_count": null,
      "outputs": [
        {
          "output_type": "error",
          "ename": "TypeError",
          "evalue": "Sample.test() takes 0 positional arguments but 1 was given",
          "traceback": [
            "\u001b[0;31m---------------------------------------------------------------------------\u001b[0m",
            "\u001b[0;31mTypeError\u001b[0m                                 Traceback (most recent call last)",
            "\u001b[0;32m<ipython-input-25-9d557fdde4ee>\u001b[0m in \u001b[0;36m<cell line: 0>\u001b[0;34m()\u001b[0m\n\u001b[1;32m      6\u001b[0m \u001b[0;34m\u001b[0m\u001b[0m\n\u001b[1;32m      7\u001b[0m \u001b[0mo1\u001b[0m \u001b[0;34m=\u001b[0m \u001b[0mSample\u001b[0m\u001b[0;34m(\u001b[0m\u001b[0;34m)\u001b[0m\u001b[0;34m\u001b[0m\u001b[0;34m\u001b[0m\u001b[0m\n\u001b[0;32m----> 8\u001b[0;31m \u001b[0mo1\u001b[0m\u001b[0;34m.\u001b[0m\u001b[0mtest\u001b[0m\u001b[0;34m(\u001b[0m\u001b[0;34m)\u001b[0m\u001b[0;34m\u001b[0m\u001b[0;34m\u001b[0m\u001b[0m\n\u001b[0m",
            "\u001b[0;31mTypeError\u001b[0m: Sample.test() takes 0 positional arguments but 1 was given"
          ]
        }
      ]
    },
    {
      "cell_type": "code",
      "source": [
        "# Non - parameteized constructor\n",
        "\n",
        "class Student:\n",
        "\n",
        "  def __init__(self):\n",
        "    self.name = ''\n",
        "    self.age = 0\n",
        "    self.m1 = 0\n",
        "    self.m2 = 0\n",
        "    self.m3 = 0\n",
        "    self.avg = 0\n",
        "\n",
        "\n",
        "  def get_data(self):\n",
        "    self.name = input(\"Enter student name: \")\n",
        "    self.age = int(input(\"Enter sudent's age: \"))\n",
        "    self.m1 = int(input(\"Enter m1: \"))\n",
        "    self.m2 = int(input(\"Enter m2: \"))\n",
        "    self.m3 = int(input(\"Enter m3: \"))\n",
        "\n",
        "  def calc_avg(self):\n",
        "    self.avg = (self.m1+self.m2+self.m3)/3\n",
        "\n",
        "  def student_data(self):\n",
        "    print(\"Name: \",self.name)\n",
        "    print('Age: ',self.age)\n",
        "    print('Marks: ',self.m1,self.m2,self.m3)\n",
        "    print('Avg: ',self.avg)\n",
        "\n",
        "s1 = Student()\n",
        "s1.get_data()\n",
        "s1.calc_avg()\n",
        "s1.student_data()\n"
      ],
      "metadata": {
        "colab": {
          "base_uri": "https://localhost:8080/"
        },
        "id": "TKClcUYDv_2f",
        "outputId": "75519fd7-407c-463b-ba0a-656c04bbad34"
      },
      "execution_count": null,
      "outputs": [
        {
          "output_type": "stream",
          "name": "stdout",
          "text": [
            "Enter student name: Ria\n",
            "Enter sudent's age: 10\n",
            "Enter m1: 98\n",
            "Enter m2: 89\n",
            "Enter m3: 89\n",
            "Name:  Ria\n",
            "Age:  10\n",
            "Marks:  98 89 89\n",
            "Avg:  92.0\n",
            "<class 'float'>\n"
          ]
        }
      ]
    },
    {
      "cell_type": "code",
      "source": [
        "# Parameterized constructor\n",
        "\n",
        "class Test:\n",
        "\n",
        "  def __init__(self,a,b):\n",
        "    self.a = a\n",
        "    self.b = b\n",
        "\n",
        "  def output_data(self):\n",
        "    print(self.a,self.b)\n",
        "\n",
        "t1 = Test(10,20)\n",
        "t2 = Test(1.1,2.4)\n",
        "\n",
        "t1.output_data()\n",
        "t2.output_data()\n"
      ],
      "metadata": {
        "colab": {
          "base_uri": "https://localhost:8080/"
        },
        "id": "rnu7fwZ5yO4G",
        "outputId": "9d80727f-e6a3-44ad-e10b-cf80d77fe3b4"
      },
      "execution_count": null,
      "outputs": [
        {
          "output_type": "stream",
          "name": "stdout",
          "text": [
            "10 20\n",
            "1.1 2.4\n"
          ]
        }
      ]
    },
    {
      "cell_type": "code",
      "source": [
        "# Parameteized constructor\n",
        "\n",
        "class Student:\n",
        "\n",
        "  def __init__(self,name,age,m1,m2,m3):\n",
        "    self.name = name\n",
        "    self.age = age\n",
        "    self.m1 = m1\n",
        "    self.m2 = m2\n",
        "    self.m3 = m3\n",
        "    self.avg = 0\n",
        "\n",
        "\n",
        "  def calc_avg(self):\n",
        "    self.avg = (self.m1+self.m2+self.m3)/3\n",
        "\n",
        "  def student_data(self):\n",
        "    print(\"Name: \",self.name)\n",
        "    print('Age: ',self.age)\n",
        "    print('Marks: ',self.m1,self.m2,self.m3)\n",
        "    print('Avg: ',self.avg)\n",
        "\n",
        "s1 = Student('Ria',10,98,89,92)\n",
        "s1.calc_avg()\n",
        "s1.student_data()\n"
      ],
      "metadata": {
        "colab": {
          "base_uri": "https://localhost:8080/"
        },
        "id": "Nppi2iBq16rC",
        "outputId": "5f6e1953-5a21-4e09-d127-cade42af0742"
      },
      "execution_count": null,
      "outputs": [
        {
          "output_type": "stream",
          "name": "stdout",
          "text": [
            "Name:  Ria\n",
            "Age:  10\n",
            "Marks:  98 89 92\n",
            "Avg:  93.0\n"
          ]
        }
      ]
    },
    {
      "cell_type": "code",
      "source": [
        "# Parameterized constructor\n",
        "\n",
        "class Employee:\n",
        "\n",
        "  def __init__(self,name,id,dept,bsal):\n",
        "    self.emp_name = name\n",
        "    self.emp_id = id\n",
        "    self.emp_dept = dept\n",
        "    self.bsal = bsal\n",
        "    self.bonus = 20\n",
        "    self.fsal = 0\n",
        "\n",
        "  def cal_sal(self):\n",
        "    self.fsal = self.bsal + (self.bsal*self.bonus/100)\n",
        "\n",
        "  def output_data(self):\n",
        "    print('Name: ',self.emp_name)\n",
        "    print('Id: ',self.emp_id)\n",
        "    print('Dept: ',self.emp_dept)\n",
        "    print('Total Salary: ',self.fsal)\n",
        "\n",
        "e1 = Employee('Ria',101,'Tech',10000)\n",
        "e1.cal_sal()\n",
        "e1.output_data()\n"
      ],
      "metadata": {
        "colab": {
          "base_uri": "https://localhost:8080/"
        },
        "id": "tw-9YSsu2V7W",
        "outputId": "14742ecb-114d-4716-e6a4-bc8955fc8875"
      },
      "execution_count": null,
      "outputs": [
        {
          "output_type": "stream",
          "name": "stdout",
          "text": [
            "Name:  Ria\n",
            "Id:  101\n",
            "Dept:  Tech\n",
            "Total Salary:  12000.0\n"
          ]
        }
      ]
    },
    {
      "cell_type": "code",
      "source": [
        "# Default constructor - when we dont need to initialize any class attributes then we can skip __init__. default constructor will automatically be called\n",
        "\n",
        "class Default:\n",
        "  def test(self):\n",
        "    print('Default constructor class')\n",
        "\n",
        "o = Default()\n",
        "o.test()"
      ],
      "metadata": {
        "colab": {
          "base_uri": "https://localhost:8080/"
        },
        "id": "7uIdgezZ4HXR",
        "outputId": "885ba5a5-aed1-4d95-c066-9a058ac3fcef"
      },
      "execution_count": null,
      "outputs": [
        {
          "output_type": "stream",
          "name": "stdout",
          "text": [
            "Default constructor class\n"
          ]
        }
      ]
    },
    {
      "cell_type": "markdown",
      "source": [
        "## Class Variable"
      ],
      "metadata": {
        "id": "Az5YrrHXB1Vj"
      }
    },
    {
      "cell_type": "code",
      "source": [
        "# class variable\n",
        "# Interview question: How to keep count of objects created for a class\n",
        "\n",
        "class Student:\n",
        "\n",
        "  student_count = 0 ## class variable\n",
        "  college_name = 'IIT'\n",
        "\n",
        "  def __init__(self,name,age):\n",
        "    self.name = name      ## instance variable\n",
        "    self.age = age\n",
        "    Student.student_count += 1\n",
        "    print(Student.student_count)\n",
        "\n",
        "  def display(self):\n",
        "    print(self.name,self.age, Student.college_name)\n",
        "\n",
        "s1 = Student('A',20)\n",
        "s1.display()\n",
        "s2 = Student('B',19)\n",
        "s2.display()\n",
        "s3 = Student('C',19)\n",
        "s3.display()\n",
        "\n",
        "# Other ways to access class variable\n",
        "print(Student.college_name)\n",
        "print(s1.college_name)\n",
        "print(s2.student_count)\n",
        "\n",
        "\n",
        "\n"
      ],
      "metadata": {
        "id": "TRD7aC_m6kfR",
        "outputId": "a25ab069-c173-4f73-f42d-219ab590ad03",
        "colab": {
          "base_uri": "https://localhost:8080/"
        }
      },
      "execution_count": null,
      "outputs": [
        {
          "output_type": "stream",
          "name": "stdout",
          "text": [
            "1\n",
            "A 20 IIT\n",
            "2\n",
            "B 19 IIT\n",
            "3\n",
            "C 19 IIT\n",
            "IIT\n",
            "IIT\n",
            "3\n"
          ]
        }
      ]
    },
    {
      "cell_type": "code",
      "source": [
        "# class variable\n",
        "# Interview question: How to keep count of objects created for a class\n",
        "\n",
        "class Student:\n",
        "\n",
        "  student_count = 0 ## class variable\n",
        "  college_name = 'IIT'\n",
        "\n",
        "  def __init__(self,name,age,college_name = 'IIT'):\n",
        "    self.name = name      ## instance variable\n",
        "    self.age = age\n",
        "    Student.student_count += 1\n",
        "    self.college_name = college_name\n",
        "    print(Student.student_count)\n",
        "\n",
        "  def display(self):\n",
        "    print(self.name,self.age, Student.college_name,self.college_name)\n",
        "\n",
        "s1 = Student('A',20)\n",
        "s1.display()\n",
        "s2 = Student('B',19,'UVCE')\n",
        "s2.display()\n",
        "s3 = Student('C',19)\n",
        "s3.display()\n",
        "\n",
        "\n",
        "# Other ways to access class variable\n",
        "print(Student.college_name)\n",
        "print(s2.college_name)\n",
        "print(s1.student_count)\n",
        "\n",
        "\n"
      ],
      "metadata": {
        "id": "80DLPzamC-dW",
        "outputId": "0e70d956-68e0-48d5-e129-ace8cdf97002",
        "colab": {
          "base_uri": "https://localhost:8080/"
        }
      },
      "execution_count": null,
      "outputs": [
        {
          "output_type": "stream",
          "name": "stdout",
          "text": [
            "1\n",
            "A 20 IIT IIT\n",
            "2\n",
            "B 19 IIT UVCE\n",
            "3\n",
            "C 19 IIT IIT\n",
            "IIT\n",
            "UVCE\n",
            "3\n"
          ]
        }
      ]
    },
    {
      "cell_type": "markdown",
      "source": [
        "## Class Method"
      ],
      "metadata": {
        "id": "vVSAzeGNGeUJ"
      }
    },
    {
      "cell_type": "code",
      "source": [
        "## Class Method\n",
        "\n",
        "class Student:\n",
        "\n",
        "  student_count = 0 ## class variable\n",
        "  college_name = 'IIT'\n",
        "\n",
        "  def __init__(self,name,age):\n",
        "    self.name = name      ## instance variable\n",
        "    self.age = age\n",
        "    Student.student_count += 1\n",
        "    print(Student.student_count)\n",
        "\n",
        "  @classmethod            ## Class Method\n",
        "  def get_college(cls):\n",
        "    print(cls.college_name)\n",
        "\n",
        "  def display(self):\n",
        "    print(self.name,self.age, Student.college_name)\n",
        "\n",
        "s1 = Student('A',20)\n",
        "s1.display()\n",
        "s2 = Student('B',19)\n",
        "s2.display()\n",
        "s3 = Student('C',19)\n",
        "s3.display()\n",
        "\n",
        "\n",
        "# call class method\n",
        "Student.get_college()"
      ],
      "metadata": {
        "id": "36a9ZmWCEapI",
        "outputId": "80e803ef-bcbc-423f-e846-74b14dab6318",
        "colab": {
          "base_uri": "https://localhost:8080/"
        }
      },
      "execution_count": null,
      "outputs": [
        {
          "output_type": "stream",
          "name": "stdout",
          "text": [
            "1\n",
            "A 20 IIT\n",
            "2\n",
            "B 19 IIT\n",
            "3\n",
            "C 19 IIT\n",
            "IIT\n"
          ]
        }
      ]
    },
    {
      "cell_type": "markdown",
      "source": [
        "# Inheritance"
      ],
      "metadata": {
        "id": "r1IKWArpJVth"
      }
    },
    {
      "cell_type": "code",
      "source": [
        "# Inheritance\n",
        "## Without Inheritance\n",
        "\n",
        "class Employee:\n",
        "  bonus = 2000\n",
        "  def display(self):\n",
        "    print('This is employee class method')\n",
        "\n",
        "\n",
        "class Manager:\n",
        "  bonus1 = 5000\n",
        "  def show(self):\n",
        "    print('This is manager class method')\n",
        "\n",
        "e1 = Employee()\n",
        "e1.display()\n",
        "\n",
        "m1 = Manager()\n",
        "m1.show()\n",
        "\n",
        "m1.bonus # Since not inherited, employee class variable cannot be accessed via manager"
      ],
      "metadata": {
        "id": "1Av7v6U6G6Rc",
        "outputId": "7d591423-d475-48fa-d85e-2bb62284cdfa",
        "colab": {
          "base_uri": "https://localhost:8080/",
          "height": 211
        }
      },
      "execution_count": null,
      "outputs": [
        {
          "output_type": "stream",
          "name": "stdout",
          "text": [
            "This is employee class method\n",
            "This is manager class method\n"
          ]
        },
        {
          "output_type": "error",
          "ename": "AttributeError",
          "evalue": "'Manager' object has no attribute 'bonus'",
          "traceback": [
            "\u001b[0;31m---------------------------------------------------------------------------\u001b[0m",
            "\u001b[0;31mAttributeError\u001b[0m                            Traceback (most recent call last)",
            "\u001b[0;32m<ipython-input-23-774b76b8f27f>\u001b[0m in \u001b[0;36m<cell line: 0>\u001b[0;34m()\u001b[0m\n\u001b[1;32m     21\u001b[0m \u001b[0mm1\u001b[0m\u001b[0;34m.\u001b[0m\u001b[0mshow\u001b[0m\u001b[0;34m(\u001b[0m\u001b[0;34m)\u001b[0m\u001b[0;34m\u001b[0m\u001b[0;34m\u001b[0m\u001b[0m\n\u001b[1;32m     22\u001b[0m \u001b[0;34m\u001b[0m\u001b[0m\n\u001b[0;32m---> 23\u001b[0;31m \u001b[0mm1\u001b[0m\u001b[0;34m.\u001b[0m\u001b[0mbonus\u001b[0m\u001b[0;34m\u001b[0m\u001b[0;34m\u001b[0m\u001b[0m\n\u001b[0m",
            "\u001b[0;31mAttributeError\u001b[0m: 'Manager' object has no attribute 'bonus'"
          ]
        }
      ]
    },
    {
      "cell_type": "code",
      "source": [
        "## With Inheritance\n",
        "\n",
        "class Employee:\n",
        "  bonus = 2000\n",
        "  def display(self):\n",
        "    print('this is employee method')\n",
        "\n",
        "class Manager(Employee):\n",
        "  bonus1 = 5000\n",
        "  def show(self):\n",
        "    print('This is manager method')\n",
        "\n",
        "e1 = Employee()\n",
        "e1.display()\n",
        "\n",
        "m1 = Manager()\n",
        "m1.show()\n",
        "\n",
        "m1.bonus"
      ],
      "metadata": {
        "id": "Oc_R8F_JJ_yX",
        "outputId": "407776da-db82-4da0-c3d3-b0f8ab876fed",
        "colab": {
          "base_uri": "https://localhost:8080/"
        }
      },
      "execution_count": null,
      "outputs": [
        {
          "output_type": "stream",
          "name": "stdout",
          "text": [
            "this is employee method\n",
            "This is manager method\n"
          ]
        },
        {
          "output_type": "execute_result",
          "data": {
            "text/plain": [
              "2000"
            ]
          },
          "metadata": {},
          "execution_count": 24
        }
      ]
    },
    {
      "cell_type": "code",
      "source": [
        "## Constructors in inheritance\n",
        "\n",
        "class Father:\n",
        "  def __init__(self):\n",
        "    print('Father constructor called')\n",
        "    self.vehicle = 'Scooter'\n",
        "\n",
        "class Son(Father):\n",
        "  # def __init__(self):\n",
        "  #   print('Son constructor called')\n",
        "  pass\n",
        "\n",
        "s = Son()\n",
        "print(s.__dict__)\n",
        "\n",
        "\n",
        "\n"
      ],
      "metadata": {
        "id": "Fx4QwV6UKwP1",
        "outputId": "c01ddf01-0ea6-402c-9547-26403fb89a40",
        "colab": {
          "base_uri": "https://localhost:8080/"
        }
      },
      "execution_count": null,
      "outputs": [
        {
          "output_type": "stream",
          "name": "stdout",
          "text": [
            "Father constructor called\n",
            "{'vehicle': 'Scooter'}\n"
          ]
        }
      ]
    },
    {
      "cell_type": "code",
      "source": [
        "## Constructors in inheritance\n",
        "\n",
        "class Father:\n",
        "  def __init__(self):\n",
        "    print('Father constructor called')\n",
        "    self.vehicle = 'Scooter'\n",
        "\n",
        "class Son(Father):\n",
        "  def __init__(self):\n",
        "    print('Son constructor called')\n",
        "\n",
        "s = Son()\n",
        "print(s.__dict__)\n"
      ],
      "metadata": {
        "id": "rUOhpbzGL0hI",
        "outputId": "bd2f8704-20f0-441e-abba-2ecf73dbd6ea",
        "colab": {
          "base_uri": "https://localhost:8080/"
        }
      },
      "execution_count": null,
      "outputs": [
        {
          "output_type": "stream",
          "name": "stdout",
          "text": [
            "Son constructor called\n",
            "{}\n"
          ]
        }
      ]
    },
    {
      "cell_type": "code",
      "source": [
        "## Constructors in inheritance - super method\n",
        "\n",
        "class Father:\n",
        "  def __init__(self):\n",
        "    print('Father constructor called')\n",
        "    self.vehicle = 'Scooter'\n",
        "\n",
        "class Son(Father):\n",
        "  def __init__(self):\n",
        "    print('Son constructor called')\n",
        "    super().__init__()\n",
        "\n",
        "s = Son()\n",
        "print(s.__dict__)\n"
      ],
      "metadata": {
        "id": "4YH7UDcFL8Dl",
        "outputId": "db3700ee-6357-41aa-955f-33a1b964548f",
        "colab": {
          "base_uri": "https://localhost:8080/"
        }
      },
      "execution_count": null,
      "outputs": [
        {
          "output_type": "stream",
          "name": "stdout",
          "text": [
            "Son constructor called\n",
            "Father constructor called\n",
            "{'vehicle': 'Scooter'}\n"
          ]
        }
      ]
    },
    {
      "cell_type": "code",
      "source": [
        "# Super method\n",
        "\n",
        "class Computer:\n",
        "  def __init__(self):\n",
        "    print('Computer class constructor')\n",
        "    self.ram = '8GB'\n",
        "    self.processor = 'i5'\n",
        "\n",
        "class Mobile(Computer):\n",
        "  def __init__(self):\n",
        "    super().__init__()\n",
        "    print('Mobile class constructor')\n",
        "    self.model = 'android'\n",
        "\n",
        "m1 = Mobile()\n",
        "print(m1.__dict__)\n",
        "\n"
      ],
      "metadata": {
        "id": "8bhN8p9BNJjG",
        "outputId": "af02c660-2ea9-4d96-89de-6abdc7f4766f",
        "colab": {
          "base_uri": "https://localhost:8080/"
        }
      },
      "execution_count": null,
      "outputs": [
        {
          "output_type": "stream",
          "name": "stdout",
          "text": [
            "Computer class constructor\n",
            "Mobile class constructor\n",
            "{'ram': '8GB', 'processor': 'i5', 'model': 'android'}\n"
          ]
        }
      ]
    },
    {
      "cell_type": "code",
      "source": [
        "# Parameterized super method\n",
        "\n",
        "class Computer:\n",
        "  def __init__(self, ram, processor):\n",
        "    print('Computer class constructor')\n",
        "    self.ram = ram\n",
        "    self.processor = processor\n",
        "\n",
        "class Mobile(Computer):\n",
        "  def __init__(self,model,processor,ram):\n",
        "    print('Mobile class constructor')\n",
        "    super().__init__(ram,processor)\n",
        "    self.model = model\n",
        "\n",
        "m1 = Mobile('android','i5','8GB')\n",
        "print(m1.__dict__)"
      ],
      "metadata": {
        "id": "SF_46ZxhNMmu",
        "outputId": "e4ae4ff7-aa04-4ed1-89c3-d4770a3ccb11",
        "colab": {
          "base_uri": "https://localhost:8080/"
        }
      },
      "execution_count": null,
      "outputs": [
        {
          "output_type": "stream",
          "name": "stdout",
          "text": [
            "Mobile class constructor\n",
            "Computer class constructor\n",
            "{'ram': '8GB', 'processor': 'i5', 'model': 'android'}\n"
          ]
        }
      ]
    },
    {
      "cell_type": "code",
      "source": [
        "# Class variable inheritance\n",
        "\n",
        "class Parent:\n",
        "  parent_class_var = 'parent'\n",
        "\n",
        "  def __init__(self,name):\n",
        "    self.name = name\n",
        "\n",
        "class Child(Parent):\n",
        "  child_class_var = 'child'\n",
        "\n",
        "  def __init__(self,age,name):\n",
        "    self.age = age\n",
        "    super().__init__(name)\n",
        "\n",
        "  def print_variable(self):\n",
        "    print('Name: ',self.name)\n",
        "    print('Age: ',self.age)\n",
        "    print('Parent class var: ',self.parent_class_var)\n",
        "    print('Child class ar: ',self.child_class_var)\n",
        "\n",
        "c1 = Child(3,'Jake')\n",
        "\n",
        "print(Parent.parent_class_var)\n",
        "print(Child.child_class_var)\n",
        "\n",
        "c1.print_variable()"
      ],
      "metadata": {
        "id": "E5d9rbYaQbyP",
        "outputId": "7ccc734d-f2e2-4a06-c86d-f99a61aa4bd9",
        "colab": {
          "base_uri": "https://localhost:8080/"
        }
      },
      "execution_count": null,
      "outputs": [
        {
          "output_type": "stream",
          "name": "stdout",
          "text": [
            "parent\n",
            "child\n",
            "Name:  Jake\n",
            "Age:  3\n",
            "Parent class var:  parent\n",
            "Child class ar:  child\n"
          ]
        }
      ]
    },
    {
      "cell_type": "code",
      "source": [
        "# Multi-level Inheritance\n",
        "\n",
        "class Grandfather:\n",
        "  gf_attribute = 'GFs trait'\n",
        "\n",
        "  def display_gf(self):\n",
        "    print(self.gf_attribute)\n",
        "\n",
        "class Father(Grandfather):\n",
        "  f_attribute = 'Fathers trait'\n",
        "\n",
        "  def display_father(self):\n",
        "    print(self.f_attribute)\n",
        "\n",
        "class Child(Father):\n",
        "  child_attribute = 'Childs trait'\n",
        "\n",
        "  def display_child(self):\n",
        "    print(self.child_attribute)\n",
        "\n",
        "c1 = Child()\n",
        "\n",
        "c1.display_child()\n",
        "c1.display_father()\n",
        "c1.display_gf()\n",
        "\n",
        "print(c1.__dict__)\n",
        "\n",
        "print(c1.child_attribute)\n",
        "print(c1.f_attribute)\n",
        "print(c1.gf_attribute)\n",
        "\n",
        "print(Child.child_attribute)\n",
        "print(Child.f_attribute)\n",
        "print(Child.gf_attribute)"
      ],
      "metadata": {
        "id": "vuMCZlH3uHbR",
        "outputId": "d4d919b7-c81c-435a-b0d8-cdc16bdf0a8e",
        "colab": {
          "base_uri": "https://localhost:8080/"
        }
      },
      "execution_count": null,
      "outputs": [
        {
          "output_type": "stream",
          "name": "stdout",
          "text": [
            "Childs trait\n",
            "Fathers trait\n",
            "GFs trait\n",
            "{}\n",
            "Childs trait\n",
            "Fathers trait\n",
            "GFs trait\n",
            "Childs trait\n",
            "Fathers trait\n",
            "GFs trait\n"
          ]
        }
      ]
    },
    {
      "cell_type": "code",
      "source": [
        "# Constructor in multi-level inheritance\n",
        "\n",
        "class Human():\n",
        "  def __init__(self):\n",
        "    print('Human class cosntructor')\n",
        "    self.name = 'Radha'\n",
        "\n",
        "class Employee(Human):\n",
        "  def __init__(self):\n",
        "    print('Employee class constructor')\n",
        "    self.salary = 20000\n",
        "\n",
        "class Manager(Employee):\n",
        "  def __init__(self):\n",
        "    print('Manager class constructor')\n",
        "    self.bonus = 20\n",
        "\n",
        "m1 = Manager()\n",
        "print(m1.__dict__)\n"
      ],
      "metadata": {
        "id": "yXW1W9w1vM4b",
        "outputId": "b0b1af06-1a46-4ada-d543-df3af08e3c4b",
        "colab": {
          "base_uri": "https://localhost:8080/"
        }
      },
      "execution_count": null,
      "outputs": [
        {
          "output_type": "stream",
          "name": "stdout",
          "text": [
            "Manager class constructor\n",
            "{'bonus': 20}\n"
          ]
        }
      ]
    },
    {
      "cell_type": "code",
      "source": [
        "# Constructor in multi-level inheritance\n",
        "\n",
        "class Human():\n",
        "  def __init__(self):\n",
        "    print('Human class cosntructor')\n",
        "    self.name = 'Radha'\n",
        "\n",
        "class Employee(Human):\n",
        "  def __init__(self):\n",
        "    print('Employee class constructor')\n",
        "    self.salary = 20000\n",
        "\n",
        "class Manager(Employee):\n",
        "  # def __init__(self):\n",
        "  #   print('Manager class constructor')\n",
        "  #   self.bonus = 20\n",
        "  pass\n",
        "\n",
        "m1 = Manager()\n",
        "print(m1.__dict__)"
      ],
      "metadata": {
        "id": "02t_XzWVwd-0",
        "outputId": "69044fd5-a4ae-4b1b-a2a9-7b9dfc57a60b",
        "colab": {
          "base_uri": "https://localhost:8080/"
        }
      },
      "execution_count": null,
      "outputs": [
        {
          "output_type": "stream",
          "name": "stdout",
          "text": [
            "Employee class constructor\n",
            "{'salary': 20000}\n"
          ]
        }
      ]
    },
    {
      "cell_type": "code",
      "source": [
        "# Constructor in multi-level inheritance\n",
        "\n",
        "class Human():\n",
        "  def __init__(self):\n",
        "    print('Human class cosntructor')\n",
        "    self.name = 'Radha'\n",
        "\n",
        "class Employee(Human):\n",
        "  # def __init__(self):\n",
        "  #   print('Employee class constructor')\n",
        "  #   self.salary = 20000\n",
        "  pass\n",
        "\n",
        "class Manager(Employee):\n",
        "  # def __init__(self):\n",
        "  #   print('Manager class constructor')\n",
        "  #   self.bonus = 20\n",
        "  pass\n",
        "\n",
        "m1 = Manager()\n",
        "print(m1.__dict__)"
      ],
      "metadata": {
        "id": "W95a5e4mwlSP",
        "outputId": "ae2cb25c-887e-4169-e466-18d93b991bd9",
        "colab": {
          "base_uri": "https://localhost:8080/"
        }
      },
      "execution_count": null,
      "outputs": [
        {
          "output_type": "stream",
          "name": "stdout",
          "text": [
            "Human class cosntructor\n",
            "{'name': 'Radha'}\n"
          ]
        }
      ]
    },
    {
      "cell_type": "code",
      "source": [
        "# Constructor in multi-level inheritance\n",
        "\n",
        "class Human():\n",
        "  # def __init__(self):\n",
        "  #   print('Human class cosntructor')\n",
        "  #   self.name = 'Radha'\n",
        "  pass\n",
        "\n",
        "class Employee(Human):\n",
        "  # def __init__(self):\n",
        "  #   print('Employee class constructor')\n",
        "  #   self.salary = 20000\n",
        "  pass\n",
        "\n",
        "class Manager(Employee):\n",
        "  # def __init__(self):\n",
        "  #   print('Manager class constructor')\n",
        "  #   self.bonus = 20\n",
        "  pass\n",
        "\n",
        "m1 = Manager()\n",
        "print(m1.__dict__)"
      ],
      "metadata": {
        "id": "VL449SOPwpAS",
        "outputId": "dfc0cb14-cde6-45e8-ed67-3f72397bf700",
        "colab": {
          "base_uri": "https://localhost:8080/"
        }
      },
      "execution_count": null,
      "outputs": [
        {
          "output_type": "stream",
          "name": "stdout",
          "text": [
            "{}\n"
          ]
        }
      ]
    },
    {
      "cell_type": "code",
      "source": [
        "# Constructor in multi-level inheritance\n",
        "\n",
        "class Human():\n",
        "  def __init__(self):\n",
        "    print('Human class cosntructor')\n",
        "    self.name = 'Radha'\n",
        "\n",
        "class Employee(Human):\n",
        "  def __init__(self):\n",
        "    print('Employee class constructor')\n",
        "    self.salary = 20000\n",
        "\n",
        "class Manager(Employee):\n",
        "  def __init__(self):\n",
        "    super().__init__()\n",
        "    print('Manager class constructor')\n",
        "    self.bonus = 20\n",
        "\n",
        "m1 = Manager()\n",
        "print(m1.__dict__)\n"
      ],
      "metadata": {
        "id": "DVQvzrTYwtlv",
        "outputId": "908f0aec-dfb9-4587-c8f5-e478ceb0e3a4",
        "colab": {
          "base_uri": "https://localhost:8080/"
        }
      },
      "execution_count": null,
      "outputs": [
        {
          "output_type": "stream",
          "name": "stdout",
          "text": [
            "Employee class constructor\n",
            "Manager class constructor\n",
            "{'salary': 20000, 'bonus': 20}\n"
          ]
        }
      ]
    },
    {
      "cell_type": "code",
      "source": [
        "# Constructor in multi-level inheritance\n",
        "\n",
        "class Human():\n",
        "  def __init__(self):\n",
        "    print('Human class cosntructor')\n",
        "    self.name = 'Radha'\n",
        "\n",
        "class Employee(Human):\n",
        "  def __init__(self):\n",
        "    super().__init__()\n",
        "    print('Employee class constructor')\n",
        "    self.salary = 20000\n",
        "\n",
        "class Manager(Employee):\n",
        "  def __init__(self):\n",
        "    super().__init__()\n",
        "    print('Manager class constructor')\n",
        "    self.bonus = 20\n",
        "\n",
        "m1 = Manager()\n",
        "print(m1.__dict__)\n"
      ],
      "metadata": {
        "id": "IxBUM6aCyB1w",
        "outputId": "6e09cb1b-5663-477a-dd4b-62031b289723",
        "colab": {
          "base_uri": "https://localhost:8080/"
        }
      },
      "execution_count": null,
      "outputs": [
        {
          "output_type": "stream",
          "name": "stdout",
          "text": [
            "Human class cosntructor\n",
            "Employee class constructor\n",
            "Manager class constructor\n",
            "{'name': 'Radha', 'salary': 20000, 'bonus': 20}\n"
          ]
        }
      ]
    },
    {
      "cell_type": "code",
      "source": [
        "# Constructor in multi-level inheritance\n",
        "\n",
        "class Human():\n",
        "  def __init__(self):\n",
        "    print('Human class cosntructor')\n",
        "    self.name = 'Radha'\n",
        "\n",
        "class Employee(Human):\n",
        "  def __init__(self):\n",
        "    super().__init__()\n",
        "    print('Employee class constructor')\n",
        "    self.name = 'Ram'\n",
        "\n",
        "class Manager(Employee):\n",
        "  def __init__(self):\n",
        "    super().__init__()\n",
        "    print('Manager class constructor')\n",
        "    self.name = 'John'\n",
        "\n",
        "m1 = Manager()\n",
        "print(m1.__dict__)"
      ],
      "metadata": {
        "id": "vqcQozQzyLHL",
        "outputId": "96ae8602-b657-4d19-b510-f8a0b291b1a4",
        "colab": {
          "base_uri": "https://localhost:8080/"
        }
      },
      "execution_count": null,
      "outputs": [
        {
          "output_type": "stream",
          "name": "stdout",
          "text": [
            "Human class cosntructor\n",
            "Employee class constructor\n",
            "Manager class constructor\n",
            "{'name': 'John'}\n"
          ]
        }
      ]
    },
    {
      "cell_type": "code",
      "source": [
        "# Constructor in multi-level inheritance\n",
        "\n",
        "class Human():\n",
        "  def __init__(self):\n",
        "    print('Human class cosntructor')\n",
        "    self.name = 'Radha'\n",
        "\n",
        "class Employee(Human):\n",
        "  def __init__(self):\n",
        "    super().__init__()\n",
        "    print('Employee class constructor')\n",
        "    self.name = 'Ram'\n",
        "\n",
        "class Manager(Employee):\n",
        "  def __init__(self):\n",
        "    print('Manager class constructor')\n",
        "    self.name = 'John'\n",
        "    super().__init__()\n",
        "\n",
        "m1 = Manager()\n",
        "print(m1.__dict__)"
      ],
      "metadata": {
        "id": "au2fkWJvymhe",
        "outputId": "607af5d5-dde4-41c9-9e73-a85a80603bee",
        "colab": {
          "base_uri": "https://localhost:8080/"
        }
      },
      "execution_count": null,
      "outputs": [
        {
          "output_type": "stream",
          "name": "stdout",
          "text": [
            "Manager class constructor\n",
            "Human class cosntructor\n",
            "Employee class constructor\n",
            "{'name': 'Ram'}\n"
          ]
        }
      ]
    },
    {
      "cell_type": "code",
      "source": [
        "## Best practice\n",
        "\n",
        "# call super().__init__() at the beginning in the child __init__()\n",
        "# first pass parent class parameters, then child class parameters\n",
        "\n"
      ],
      "metadata": {
        "id": "XP_hEEUKyq4p"
      },
      "execution_count": null,
      "outputs": []
    },
    {
      "cell_type": "code",
      "source": [
        "# Constructor in multi-level inheritance\n",
        "\n",
        "class Human():\n",
        "  def __init__(self,name):\n",
        "    print('Human class cosntructor')\n",
        "    self.name = name\n",
        "\n",
        "class Employee(Human):\n",
        "  def __init__(self,name,salary):\n",
        "    super().__init__(name)\n",
        "    print('Employee class constructor')\n",
        "    self.salary = salary\n",
        "\n",
        "class Manager(Employee):\n",
        "  def __init__(self,name,salary,bonus):\n",
        "    super().__init__(name,salary)\n",
        "    print('Manager class constructor')\n",
        "    self.bonus = bonus\n",
        "\n",
        "\n",
        "m1 = Manager('Radha',20000,20)\n",
        "print(m1.__dict__)"
      ],
      "metadata": {
        "id": "zzpFN9FQz6OU",
        "outputId": "98c2bcd7-9e10-4f8c-f806-5bb2bec0da1c",
        "colab": {
          "base_uri": "https://localhost:8080/"
        }
      },
      "execution_count": null,
      "outputs": [
        {
          "output_type": "stream",
          "name": "stdout",
          "text": [
            "Human class cosntructor\n",
            "Employee class constructor\n",
            "Manager class constructor\n",
            "{'name': 'Radha', 'salary': 20000, 'bonus': 20}\n"
          ]
        }
      ]
    },
    {
      "cell_type": "code",
      "source": [
        "# Hierarchical Inheritance\n",
        "\n",
        "class Vehicle:\n",
        "  mfg_country = 'India'\n",
        "  def __init__(self,wheels,fuel):\n",
        "    self.wheels = wheels\n",
        "    self.fuel = fuel\n",
        "\n",
        "class Car(Vehicle):\n",
        "  def __init__(self,wheels,fuel,brand):\n",
        "    super().__init__(wheels,fuel)\n",
        "    self.brand = brand\n",
        "\n",
        "class Bike(Vehicle):\n",
        "  def __init__(self,wheels,fuel,cc):\n",
        "    super().__init__(wheels,fuel)\n",
        "    self.cc = cc\n",
        "\n",
        "\n",
        "b1 = Bike(2,'petrol',150)\n",
        "print(b1.__dict__)\n",
        "c1 = Car(4,'electric','tata')\n",
        "print(c1.__dict__)\n",
        "\n",
        "print(b1.mfg_country)\n",
        "print(c1.mfg_country)\n",
        "\n",
        "print(Bike.mfg_country)\n",
        "print(Car.mfg_country)"
      ],
      "metadata": {
        "id": "hVXTHRTy0R6q",
        "outputId": "7e52666a-52c9-47de-ba25-a8bd0d5bf8be",
        "colab": {
          "base_uri": "https://localhost:8080/"
        }
      },
      "execution_count": null,
      "outputs": [
        {
          "output_type": "stream",
          "name": "stdout",
          "text": [
            "{'wheels': 2, 'fuel': 'petrol', 'cc': 150}\n",
            "{'wheels': 4, 'fuel': 'electric', 'brand': 'tata'}\n",
            "India\n",
            "India\n",
            "India\n",
            "India\n"
          ]
        }
      ]
    },
    {
      "cell_type": "code",
      "source": [
        "# Multiple Ineritance\n",
        "\n",
        "class Country:\n",
        "  office = 'Delhi'\n",
        "\n",
        "class State:\n",
        "  office = 'Chennai'\n",
        "\n",
        "class District1(Country,State):\n",
        "  pass\n",
        "\n",
        "class District2(State,Country):\n",
        "  pass\n",
        "\n",
        "d1 = District1()\n",
        "print(d1.__dict__)\n",
        "print(d1.office)\n",
        "\n",
        "d2 = District2()\n",
        "print(d2.__dict__)\n",
        "print(d2.office)\n"
      ],
      "metadata": {
        "id": "vUQQ_ZTE2Qqt",
        "outputId": "a605e386-c92f-4527-c788-f3f70ade2789",
        "colab": {
          "base_uri": "https://localhost:8080/"
        }
      },
      "execution_count": null,
      "outputs": [
        {
          "output_type": "stream",
          "name": "stdout",
          "text": [
            "{}\n",
            "Delhi\n",
            "{}\n",
            "Chennai\n"
          ]
        }
      ]
    },
    {
      "cell_type": "code",
      "source": [
        "# Multiple Ineritance\n",
        "\n",
        "class Country:\n",
        "  def __init__(self):\n",
        "    self.office = 'Delhi'\n",
        "    self.country = 'India'\n",
        "\n",
        "class State:\n",
        "  def __init__(self):\n",
        "    self.office = 'Chennai'\n",
        "    self.state = 'TN'\n",
        "\n",
        "class District1(Country,State):\n",
        "  pass\n",
        "\n",
        "class District2(State,Country):\n",
        "  pass\n",
        "\n",
        "d1 = District1()\n",
        "print(d1.__dict__)\n",
        "\n",
        "\n",
        "d2 = District2()\n",
        "print(d2.__dict__)\n",
        "\n"
      ],
      "metadata": {
        "id": "ZkHiq9o-5ShK",
        "outputId": "ff047167-3db5-4b59-f0f5-46b2fefd8e92",
        "colab": {
          "base_uri": "https://localhost:8080/"
        }
      },
      "execution_count": null,
      "outputs": [
        {
          "output_type": "stream",
          "name": "stdout",
          "text": [
            "{'office': 'Delhi', 'country': 'India'}\n",
            "{'office': 'Chennai', 'state': 'TN'}\n"
          ]
        }
      ]
    },
    {
      "cell_type": "code",
      "source": [
        "# Multiple Ineritance\n",
        "\n",
        "class Country:\n",
        "  pass\n",
        "\n",
        "class State:\n",
        "  def __init__(self):\n",
        "    self.office = 'Chennai'\n",
        "    self.state = 'TN'\n",
        "\n",
        "class District1(Country,State):\n",
        "  pass\n",
        "\n",
        "class District2(State,Country):\n",
        "  pass\n",
        "\n",
        "d1 = District1()\n",
        "print(d1.__dict__)\n",
        "\n",
        "\n",
        "d2 = District2()\n",
        "print(d2.__dict__)\n",
        "\n"
      ],
      "metadata": {
        "id": "gNPLtLpg52A1",
        "outputId": "dfc1eb98-4075-4bd3-c92f-8bfc491ea726",
        "colab": {
          "base_uri": "https://localhost:8080/"
        }
      },
      "execution_count": null,
      "outputs": [
        {
          "output_type": "stream",
          "name": "stdout",
          "text": [
            "{'office': 'Chennai', 'state': 'TN'}\n",
            "{'office': 'Chennai', 'state': 'TN'}\n"
          ]
        }
      ]
    },
    {
      "cell_type": "code",
      "source": [
        "# Multiple Ineritance with super method\n",
        "\n",
        "class Country:\n",
        "  def __init__(self):\n",
        "    print('Country class constructor')\n",
        "    self.office = 'Delhi'\n",
        "    self.country = 'India'\n",
        "\n",
        "  def get_country(self):\n",
        "    print('Country method')\n",
        "\n",
        "class State:\n",
        "  def __init__(self):\n",
        "    print('State class constructor')\n",
        "    self.office = 'Chennai'\n",
        "    self.state = 'TN'\n",
        "\n",
        "  def display(self):\n",
        "    print('State display')\n",
        "\n",
        "class District1(Country,State):\n",
        "  def __init__(self):\n",
        "    print('District 1 class constructor')\n",
        "    super().__init__()\n",
        "\n",
        "class District2(State,Country):\n",
        "  def __init__(self):\n",
        "    print('District 2 class constructor')\n",
        "    super().__init__()\n",
        "\n",
        "d1 = District1()\n",
        "print(d1.__dict__)\n",
        "d1.display()\n",
        "\n",
        "\n",
        "d2 = District2()\n",
        "print(d2.__dict__)\n",
        "d2.get_country()\n",
        "\n"
      ],
      "metadata": {
        "id": "cn6no42n6UPY",
        "outputId": "b610aa3f-5662-48ed-fabe-feda0bbf3818",
        "colab": {
          "base_uri": "https://localhost:8080/"
        }
      },
      "execution_count": null,
      "outputs": [
        {
          "output_type": "stream",
          "name": "stdout",
          "text": [
            "District 1 class constructor\n",
            "Country class constructor\n",
            "{'office': 'Delhi', 'country': 'India'}\n",
            "State display\n",
            "District 2 class constructor\n",
            "State class constructor\n",
            "{'office': 'Chennai', 'state': 'TN'}\n",
            "Country method\n"
          ]
        }
      ]
    },
    {
      "cell_type": "code",
      "source": [
        "# Multiple Ineritance with super method\n",
        "\n",
        "class Country:\n",
        "  def __init__(self):\n",
        "    super().__init__()\n",
        "    print('Country class constructor')\n",
        "    self.office = 'Delhi'\n",
        "    self.country = 'India'\n",
        "\n",
        "class State:\n",
        "  def __init__(self):\n",
        "    print('State class constructor')\n",
        "    self.office = 'Chennai'\n",
        "    self.state = 'TN'\n",
        "\n",
        "class District(Country,State):\n",
        "  def __init__(self):\n",
        "    super().__init__()\n",
        "    print('District class constructor')\n",
        "\n",
        "d1 = District()\n",
        "print(d1.__dict__)\n",
        "\n"
      ],
      "metadata": {
        "id": "7hipahRN6mCU",
        "outputId": "fd25a823-c5b4-4f8d-ea43-d56e37238709",
        "colab": {
          "base_uri": "https://localhost:8080/"
        }
      },
      "execution_count": null,
      "outputs": [
        {
          "output_type": "stream",
          "name": "stdout",
          "text": [
            "State class constructor\n",
            "Country class constructor\n",
            "District class constructor\n",
            "{'office': 'Delhi', 'state': 'TN', 'country': 'India'}\n"
          ]
        }
      ]
    },
    {
      "cell_type": "code",
      "source": [
        "# Multiple Ineritance with super method\n",
        "\n",
        "class Dummy:\n",
        "  def __init__(self):\n",
        "    print('Dummy constructor')\n",
        "\n",
        "class Country:\n",
        "  def __init__(self):\n",
        "    super().__init__()\n",
        "    print('Country class constructor')\n",
        "    self.office = 'Delhi'\n",
        "    self.country = 'India'\n",
        "\n",
        "class State:\n",
        "  def __init__(self):\n",
        "    super().__init__()\n",
        "    print('State class constructor')\n",
        "    self.office = 'Chennai'\n",
        "    self.state = 'TN'\n",
        "\n",
        "class District(Country,State,Dummy):\n",
        "  def __init__(self):\n",
        "    super().__init__()\n",
        "    print('District class constructor')\n",
        "\n",
        "d1 = District()\n",
        "print(d1.__dict__)"
      ],
      "metadata": {
        "id": "XEp4d0fJ9FCB",
        "outputId": "5b5b0abc-80c5-488e-e0c3-eedb18f3c165",
        "colab": {
          "base_uri": "https://localhost:8080/"
        }
      },
      "execution_count": null,
      "outputs": [
        {
          "output_type": "stream",
          "name": "stdout",
          "text": [
            "Dummy constructor\n",
            "State class constructor\n",
            "Country class constructor\n",
            "District class constructor\n",
            "{'office': 'Delhi', 'state': 'TN', 'country': 'India'}\n"
          ]
        }
      ]
    },
    {
      "cell_type": "code",
      "source": [
        "# Multiple Ineritance with super method\n",
        "\n",
        "class Dummy:\n",
        "  def __init__(self):\n",
        "    print('Dummy constructor')\n",
        "\n",
        "  def display(self):\n",
        "    print('Dummy display')\n",
        "\n",
        "class Country:\n",
        "  def __init__(self):\n",
        "    super().__init__()\n",
        "    print('Country class constructor')\n",
        "    self.office = 'Delhi'\n",
        "    self.country = 'India'\n",
        "\n",
        "  def display(self):\n",
        "    print('Country display')\n",
        "\n",
        "class State:\n",
        "  def __init__(self):\n",
        "    super().__init__()\n",
        "    print('State class constructor')\n",
        "    self.office = 'Chennai'\n",
        "    self.state = 'TN'\n",
        "\n",
        "  def display(self):\n",
        "    print('State display')\n",
        "\n",
        "class District(Country,State,Dummy):\n",
        "  def __init__(self):\n",
        "    super().__init__()\n",
        "    print('District class constructor')\n",
        "\n",
        "  def display(self):\n",
        "    super().display()\n",
        "    Country.display(self)\n",
        "    State.display(self)\n",
        "    Dummy.display(self)\n",
        "\n",
        "d1 = District()\n",
        "print(d1.__dict__)\n",
        "print('*******')\n",
        "d1.display()"
      ],
      "metadata": {
        "id": "meQTpl08-sXv",
        "outputId": "387e4764-a5a2-4999-8989-7a4e25c0459f",
        "colab": {
          "base_uri": "https://localhost:8080/"
        }
      },
      "execution_count": null,
      "outputs": [
        {
          "output_type": "stream",
          "name": "stdout",
          "text": [
            "Dummy constructor\n",
            "State class constructor\n",
            "Country class constructor\n",
            "District class constructor\n",
            "{'office': 'Delhi', 'state': 'TN', 'country': 'India'}\n",
            "*******\n",
            "Country display\n",
            "Country display\n",
            "State display\n",
            "Dummy display\n"
          ]
        }
      ]
    },
    {
      "cell_type": "code",
      "source": [
        "# Hybrid Inhertiance\n",
        "## Method Resolution Operator (MRO)\n",
        "# TO derive the order of Inheritance\n",
        "\n",
        "class A:\n",
        "  pass\n",
        "\n",
        "class B:\n",
        "  pass\n",
        "\n",
        "class C:\n",
        "  pass\n",
        "\n",
        "class X(A,B,C):\n",
        "  pass\n",
        "\n",
        "class Y(B,C):\n",
        "  pass\n",
        "\n",
        "class P(X,Y):\n",
        "  pass\n",
        "\n",
        "print(P.mro())\n",
        "\n"
      ],
      "metadata": {
        "id": "i1rgyTG0AoqQ",
        "colab": {
          "base_uri": "https://localhost:8080/"
        },
        "outputId": "43342395-e452-4af2-f8b7-7cd767a20b44"
      },
      "execution_count": 2,
      "outputs": [
        {
          "output_type": "stream",
          "name": "stdout",
          "text": [
            "[<class '__main__.P'>, <class '__main__.X'>, <class '__main__.A'>, <class '__main__.Y'>, <class '__main__.B'>, <class '__main__.C'>, <class 'object'>]\n"
          ]
        }
      ]
    },
    {
      "cell_type": "code",
      "source": [
        "# Hybrid Inhertiance\n",
        "## Method Resolution Order (MRO)\n",
        "# TO derive the order of Inheritance\n",
        "\n",
        "class A:\n",
        "  pass\n",
        "\n",
        "class B:\n",
        "  pass\n",
        "\n",
        "class C(A):\n",
        "  pass\n",
        "\n",
        "class X(A):\n",
        "  pass\n",
        "\n",
        "class Y(B,C):\n",
        "  pass\n",
        "\n",
        "class P(X,Y):\n",
        "  pass\n",
        "\n",
        "print(P.mro())\n",
        "\n"
      ],
      "metadata": {
        "colab": {
          "base_uri": "https://localhost:8080/"
        },
        "id": "CiUnj669JUe1",
        "outputId": "11c82907-eeba-48d3-d634-2af1076439c0"
      },
      "execution_count": 6,
      "outputs": [
        {
          "output_type": "stream",
          "name": "stdout",
          "text": [
            "[<class '__main__.P'>, <class '__main__.X'>, <class '__main__.Y'>, <class '__main__.B'>, <class '__main__.C'>, <class '__main__.A'>, <class 'object'>]\n"
          ]
        }
      ]
    },
    {
      "cell_type": "code",
      "source": [
        "# Encapsulation\n",
        "# Access specifier - Public, protected, private\n",
        "# Python doesnt enforce this strictly. It just mangles the name. the mangled name can be accessed and modified outside the class. However, it is to indicate to the other developers that this is private and should not be touched outside the class\n",
        "\n",
        "## Accessing variables outside the class without specifying access specifier\n",
        "\n",
        "### Default - Public - x\n",
        "# Private: cannot be inherited or accessed outside - _x\n",
        "# Protected: can be inherited to one level but not accessed outside the class - __x\n",
        "class A:\n",
        "  v1 = 10\n",
        "\n",
        "  def __init__(self):\n",
        "    self.v2 = 20\n",
        "\n",
        "a1 = A()\n",
        "\n",
        "print(A.v1)\n",
        "print(a1.v2)\n",
        "print(a1.__dict__)\n",
        "\n",
        "print('******')\n",
        "\n",
        "class B:\n",
        "  def __init__(self):\n",
        "    self.v3 = 30\n",
        "    a1.v2 = 40\n",
        "    A.v1  = 3.3\n",
        "    print(a1.v1,a1.v2)\n",
        "\n",
        "b1 = B()\n",
        "print(b1.v3)\n",
        "print(b1.__dict__)"
      ],
      "metadata": {
        "colab": {
          "base_uri": "https://localhost:8080/"
        },
        "id": "xEahN2c5JceZ",
        "outputId": "bcb9bde7-d5c0-4dc0-fb45-9c9e97cdc881"
      },
      "execution_count": 13,
      "outputs": [
        {
          "output_type": "stream",
          "name": "stdout",
          "text": [
            "10\n",
            "20\n",
            "{'v2': 20}\n",
            "******\n",
            "3.3 40\n",
            "30\n",
            "{'v3': 30}\n"
          ]
        }
      ]
    },
    {
      "cell_type": "code",
      "source": [
        "class Finance:\n",
        "  def __init__(self):\n",
        "    self.rev = 10000 # public variable\n",
        "    self.sales = 100\n",
        "\n",
        "f1 = Finance()\n",
        "print(f1.__dict__)\n",
        "\n",
        "class HR:\n",
        "  def __init__(self):\n",
        "    self.emp = 200\n",
        "    print(f1.rev)\n",
        "\n",
        "h1 = HR()\n",
        "print(h1.__dict__)"
      ],
      "metadata": {
        "colab": {
          "base_uri": "https://localhost:8080/"
        },
        "id": "c-1ML3drLpUz",
        "outputId": "b533272c-74da-49c2-8592-c1e19e269c28"
      },
      "execution_count": 17,
      "outputs": [
        {
          "output_type": "stream",
          "name": "stdout",
          "text": [
            "{'rev': 10000, 'sales': 100}\n",
            "10000\n",
            "{'emp': 200}\n"
          ]
        }
      ]
    },
    {
      "cell_type": "code",
      "source": [
        "class Finance:\n",
        "  def __init__(self):\n",
        "    self.__rev = 10000 # private variable\n",
        "    self.sales = 100\n",
        "\n",
        "  def getdata(self):\n",
        "    print('Private variable ',self.__rev)\n",
        "\n",
        "f1 = Finance()\n",
        "print(f1.__dict__)\n",
        "f1.getdata()\n",
        "\n",
        "\n",
        "class HR:\n",
        "  def __init__(self):\n",
        "    self.emp = 200\n",
        "    print(f1.__rev) # not able to access as python mangles the name\n",
        "\n",
        "h1 = HR()\n",
        "print(h1.__dict__)\n"
      ],
      "metadata": {
        "colab": {
          "base_uri": "https://localhost:8080/",
          "height": 350
        },
        "id": "gQa8wFH9OYsd",
        "outputId": "4c5489cd-1e11-4f56-a575-ada6e93fc48c"
      },
      "execution_count": 27,
      "outputs": [
        {
          "output_type": "stream",
          "name": "stdout",
          "text": [
            "{'_Finance__rev': 10000, 'sales': 100}\n",
            "Private variable  10000\n"
          ]
        },
        {
          "output_type": "error",
          "ename": "AttributeError",
          "evalue": "'Finance' object has no attribute '_HR__rev'",
          "traceback": [
            "\u001b[0;31m---------------------------------------------------------------------------\u001b[0m",
            "\u001b[0;31mAttributeError\u001b[0m                            Traceback (most recent call last)",
            "\u001b[0;32m<ipython-input-27-4095ee7801bb>\u001b[0m in \u001b[0;36m<cell line: 0>\u001b[0;34m()\u001b[0m\n\u001b[1;32m     17\u001b[0m     \u001b[0mprint\u001b[0m\u001b[0;34m(\u001b[0m\u001b[0mf1\u001b[0m\u001b[0;34m.\u001b[0m\u001b[0m__rev\u001b[0m\u001b[0;34m)\u001b[0m \u001b[0;31m# not able to access as python mangles the name\u001b[0m\u001b[0;34m\u001b[0m\u001b[0;34m\u001b[0m\u001b[0m\n\u001b[1;32m     18\u001b[0m \u001b[0;34m\u001b[0m\u001b[0m\n\u001b[0;32m---> 19\u001b[0;31m \u001b[0mh1\u001b[0m \u001b[0;34m=\u001b[0m \u001b[0mHR\u001b[0m\u001b[0;34m(\u001b[0m\u001b[0;34m)\u001b[0m\u001b[0;34m\u001b[0m\u001b[0;34m\u001b[0m\u001b[0m\n\u001b[0m\u001b[1;32m     20\u001b[0m \u001b[0mprint\u001b[0m\u001b[0;34m(\u001b[0m\u001b[0mh1\u001b[0m\u001b[0;34m.\u001b[0m\u001b[0m__dict__\u001b[0m\u001b[0;34m)\u001b[0m\u001b[0;34m\u001b[0m\u001b[0;34m\u001b[0m\u001b[0m\n",
            "\u001b[0;32m<ipython-input-27-4095ee7801bb>\u001b[0m in \u001b[0;36m__init__\u001b[0;34m(self)\u001b[0m\n\u001b[1;32m     15\u001b[0m   \u001b[0;32mdef\u001b[0m \u001b[0m__init__\u001b[0m\u001b[0;34m(\u001b[0m\u001b[0mself\u001b[0m\u001b[0;34m)\u001b[0m\u001b[0;34m:\u001b[0m\u001b[0;34m\u001b[0m\u001b[0;34m\u001b[0m\u001b[0m\n\u001b[1;32m     16\u001b[0m     \u001b[0mself\u001b[0m\u001b[0;34m.\u001b[0m\u001b[0memp\u001b[0m \u001b[0;34m=\u001b[0m \u001b[0;36m200\u001b[0m\u001b[0;34m\u001b[0m\u001b[0;34m\u001b[0m\u001b[0m\n\u001b[0;32m---> 17\u001b[0;31m     \u001b[0mprint\u001b[0m\u001b[0;34m(\u001b[0m\u001b[0mf1\u001b[0m\u001b[0;34m.\u001b[0m\u001b[0m__rev\u001b[0m\u001b[0;34m)\u001b[0m \u001b[0;31m# not able to access as python mangles the name\u001b[0m\u001b[0;34m\u001b[0m\u001b[0;34m\u001b[0m\u001b[0m\n\u001b[0m\u001b[1;32m     18\u001b[0m \u001b[0;34m\u001b[0m\u001b[0m\n\u001b[1;32m     19\u001b[0m \u001b[0mh1\u001b[0m \u001b[0;34m=\u001b[0m \u001b[0mHR\u001b[0m\u001b[0;34m(\u001b[0m\u001b[0;34m)\u001b[0m\u001b[0;34m\u001b[0m\u001b[0;34m\u001b[0m\u001b[0m\n",
            "\u001b[0;31mAttributeError\u001b[0m: 'Finance' object has no attribute '_HR__rev'"
          ]
        }
      ]
    },
    {
      "cell_type": "code",
      "source": [
        "class Finance:\n",
        "  def __init__(self):\n",
        "    self.__rev = 10000 # private variable\n",
        "    self.sales = 100\n",
        "\n",
        "  def getdata(self):\n",
        "    print('Private variable ',self.__rev)\n",
        "\n",
        "f1 = Finance()\n",
        "print(f1.__dict__)\n",
        "f1.getdata()\n",
        "\n",
        "\n",
        "class HR:\n",
        "  def __init__(self):\n",
        "    self.emp = 200\n",
        "    #print(f1.__rev) # not able to access as python mangles the name\n",
        "\n",
        "h1 = HR()\n",
        "print(h1.__dict__)\n",
        "\n",
        "print('Accessing private variable outside class:', f1._Finance__rev)\n",
        "f1._Finance__rev = 3.3\n",
        "print('Accessing private variable outside class:', f1._Finance__rev)"
      ],
      "metadata": {
        "colab": {
          "base_uri": "https://localhost:8080/"
        },
        "id": "uaQ7_pGIOzNr",
        "outputId": "23501d18-148f-4b39-a286-3611bc879df6"
      },
      "execution_count": 28,
      "outputs": [
        {
          "output_type": "stream",
          "name": "stdout",
          "text": [
            "{'_Finance__rev': 10000, 'sales': 100}\n",
            "Private variable  10000\n",
            "{'emp': 200}\n",
            "Accessing private variable outside class: 10000\n",
            "Accessing private variable outside class: 3.3\n"
          ]
        }
      ]
    },
    {
      "cell_type": "code",
      "source": [
        "class Finance:\n",
        "  def __init__(self):\n",
        "    self.__rev = 10000 # private variable\n",
        "    self.sales = 100\n",
        "\n",
        "  def __getdata(self):  ##private method\n",
        "    print('Private variable ',self.__rev)\n",
        "\n",
        "f1 = Finance()\n",
        "print(f1.__dict__)\n",
        "f1.__getdata()\n"
      ],
      "metadata": {
        "colab": {
          "base_uri": "https://localhost:8080/",
          "height": 193
        },
        "id": "TVp8ocBMPCy9",
        "outputId": "bf9065cb-f3b4-4d19-f1e3-9bc333b95541"
      },
      "execution_count": 29,
      "outputs": [
        {
          "output_type": "stream",
          "name": "stdout",
          "text": [
            "{'_Finance__rev': 10000, 'sales': 100}\n"
          ]
        },
        {
          "output_type": "error",
          "ename": "AttributeError",
          "evalue": "'Finance' object has no attribute '__getdata'",
          "traceback": [
            "\u001b[0;31m---------------------------------------------------------------------------\u001b[0m",
            "\u001b[0;31mAttributeError\u001b[0m                            Traceback (most recent call last)",
            "\u001b[0;32m<ipython-input-29-d0701ac53aca>\u001b[0m in \u001b[0;36m<cell line: 0>\u001b[0;34m()\u001b[0m\n\u001b[1;32m      9\u001b[0m \u001b[0mf1\u001b[0m \u001b[0;34m=\u001b[0m \u001b[0mFinance\u001b[0m\u001b[0;34m(\u001b[0m\u001b[0;34m)\u001b[0m\u001b[0;34m\u001b[0m\u001b[0;34m\u001b[0m\u001b[0m\n\u001b[1;32m     10\u001b[0m \u001b[0mprint\u001b[0m\u001b[0;34m(\u001b[0m\u001b[0mf1\u001b[0m\u001b[0;34m.\u001b[0m\u001b[0m__dict__\u001b[0m\u001b[0;34m)\u001b[0m\u001b[0;34m\u001b[0m\u001b[0;34m\u001b[0m\u001b[0m\n\u001b[0;32m---> 11\u001b[0;31m \u001b[0mf1\u001b[0m\u001b[0;34m.\u001b[0m\u001b[0m__getdata\u001b[0m\u001b[0;34m(\u001b[0m\u001b[0;34m)\u001b[0m\u001b[0;34m\u001b[0m\u001b[0;34m\u001b[0m\u001b[0m\n\u001b[0m",
            "\u001b[0;31mAttributeError\u001b[0m: 'Finance' object has no attribute '__getdata'"
          ]
        }
      ]
    },
    {
      "cell_type": "code",
      "source": [
        "f1._Finance__getdata()"
      ],
      "metadata": {
        "colab": {
          "base_uri": "https://localhost:8080/"
        },
        "id": "fuUp57vYSBnv",
        "outputId": "ebaf8099-f1b3-441a-9780-2e98e4481dfa"
      },
      "execution_count": 30,
      "outputs": [
        {
          "output_type": "stream",
          "name": "stdout",
          "text": [
            "Private variable  10000\n"
          ]
        }
      ]
    },
    {
      "cell_type": "code",
      "source": [
        "# Polumorphism\n",
        "\n",
        "class Vehicle:\n",
        "  def __init__(self, name, color, price):\n",
        "    self.name = name\n",
        "    self.color = color\n",
        "    self.price = price\n",
        "\n",
        "  def get_details(self):\n",
        "    print(self.name)\n",
        "    print(self.color)\n",
        "    print(self.price)\n",
        "\n",
        "  def max_speed(self):\n",
        "    print('max speed is 100')\n",
        "\n",
        "  def max_speed(self,s):\n",
        "    print('Max speed is {}'.format(str(s)))\n",
        "\n",
        "  def gear(self):\n",
        "    print('6 gears')\n",
        "\n",
        "\n",
        "class Car(Vehicle):\n",
        "  def max_speed(self):\n",
        "    print('max speed is 150')\n",
        "\n",
        "  def gear(self):\n",
        "    print('7 gears')\n",
        "\n",
        "\n",
        "\n",
        "\n",
        "v1 = Vehicle('Truck','Red',200000)\n",
        "c1 = Car('Car','Blue',100000)\n",
        "v1.get_details()\n",
        "c1.get_details()\n",
        "v1.max_speed(120)\n",
        "c1.max_speed()"
      ],
      "metadata": {
        "colab": {
          "base_uri": "https://localhost:8080/"
        },
        "id": "hn64MjphSGvH",
        "outputId": "c24303e5-500e-4d0e-9a8d-a331a2cb45e2"
      },
      "execution_count": 35,
      "outputs": [
        {
          "output_type": "stream",
          "name": "stdout",
          "text": [
            "Truck\n",
            "Red\n",
            "200000\n",
            "Car\n",
            "Blue\n",
            "100000\n",
            "Max speed is 120\n",
            "max speed is 150\n"
          ]
        }
      ]
    },
    {
      "cell_type": "code",
      "source": [],
      "metadata": {
        "id": "warHSneMT3lb"
      },
      "execution_count": null,
      "outputs": []
    }
  ]
}