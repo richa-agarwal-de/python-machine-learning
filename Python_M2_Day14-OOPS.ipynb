{
  "nbformat": 4,
  "nbformat_minor": 0,
  "metadata": {
    "colab": {
      "provenance": [],
      "include_colab_link": true
    },
    "kernelspec": {
      "name": "python3",
      "display_name": "Python 3"
    },
    "language_info": {
      "name": "python"
    }
  },
  "cells": [
    {
      "cell_type": "markdown",
      "metadata": {
        "id": "view-in-github",
        "colab_type": "text"
      },
      "source": [
        "<a href=\"https://colab.research.google.com/github/richa-agarwal-de/python-machine-learning/blob/main/Python_M2_Day14-OOPS.ipynb\" target=\"_parent\"><img src=\"https://colab.research.google.com/assets/colab-badge.svg\" alt=\"Open In Colab\"/></a>"
      ]
    },
    {
      "cell_type": "markdown",
      "source": [
        "# OOPS:\n",
        "## Class\n",
        "- is like a template or blueprint or design\n",
        "- No memory is created for class\n",
        "- Memory is created for the object of the class\n",
        "- Object is the instance of the class\n",
        "\n",
        "*   Attributes - data or variables\n",
        "*   Method - Behaviour or operations on the data/variable\n",
        "\n",
        "\n"
      ],
      "metadata": {
        "id": "k-NZhWCKmZMS"
      }
    },
    {
      "cell_type": "code",
      "execution_count": 2,
      "metadata": {
        "id": "HpmbKqI7jltH"
      },
      "outputs": [],
      "source": [
        "# Class definition- class Class_name:\n",
        "class Calculator:\n",
        "\n",
        "  # attributes\n",
        "  n1=0\n",
        "  n2=0\n",
        "  res=0\n",
        "\n",
        "  # methods/behaviour\n",
        "\n",
        "  def __init__(self,n1,n2):   ## Constructor called implicitly during object creation\n",
        "    self.n1=n1\n",
        "    self.n2=n2\n",
        "    self.res=0\n",
        "\n",
        "  def add(self,n1,n2):\n",
        "    pass\n",
        "\n",
        "  def sub(self,n1,n2):\n",
        "    pass\n",
        "\n",
        "  def mul(self,n1,n2):\n",
        "    pass\n",
        "\n",
        "  def div(self,n1,n2):\n",
        "    pass\n",
        "\n",
        "obj1 = Calculator(10,20)  # object creation\n",
        "obj2 = Calculator(100,200)  # object creation"
      ]
    },
    {
      "cell_type": "code",
      "source": [
        "# Class example\n",
        "\n",
        "class Sample:\n",
        "\n",
        "  def __init__(self):\n",
        "    self.data = 10\n",
        "\n",
        "  def input_data(self):\n",
        "    self.data = input(\"Enter some data: \")\n",
        "\n",
        "  def process_data(self):\n",
        "    self.data = self.data.upper()\n",
        "\n",
        "  def output_data(self):\n",
        "    print(self.data)\n",
        "\n",
        "# object creation\n",
        "obj1 = Sample()\n",
        "obj2 = Sample()\n",
        "obj3 = Sample()\n",
        "\n",
        "#\n",
        "obj1.output_data()\n",
        "print(obj1.data)\n",
        "obj1.input_data()\n",
        "obj1.process_data()\n",
        "obj1.output_data()\n",
        "\n",
        "obj2.output_data()\n",
        "obj2.input_data()\n",
        "obj2.process_data()\n",
        "obj2.output_data()\n",
        "\n",
        "obj3.output_data()\n",
        "obj3.input_data()\n",
        "obj3.process_data()\n",
        "obj3.output_data()"
      ],
      "metadata": {
        "colab": {
          "base_uri": "https://localhost:8080/"
        },
        "id": "gKXgw0T9iXPF",
        "outputId": "4d6c873b-225b-4d6f-e4ba-80108bc8c83e"
      },
      "execution_count": 9,
      "outputs": [
        {
          "output_type": "stream",
          "name": "stdout",
          "text": [
            "10\n",
            "10\n",
            "Enter some data: ab\n",
            "AB\n",
            "10\n",
            "Enter some data: abc\n",
            "ABC\n",
            "10\n",
            "Enter some data: acask\n",
            "ACASK\n"
          ]
        }
      ]
    },
    {
      "cell_type": "code",
      "source": [
        "# Class definition- class Class_name:\n",
        "class Calculator:\n",
        "\n",
        "  # methods/behaviour\n",
        "\n",
        "  def __init__(self):\n",
        "    self.n1=0\n",
        "    self.n2=0\n",
        "    self.res=0\n",
        "\n",
        "  def get_data(self):\n",
        "    self.n1 = int(input('Enter 1st number: '))\n",
        "    self.n2 = int(input('Enter 2nd number: '))\n",
        "\n",
        "  def add(self):\n",
        "    self.res = self.n1+self.n2\n",
        "    print(self.res)\n",
        "\n",
        "  def sub(self):\n",
        "    self.res = self.n1 - self.n2\n",
        "    print(self.res)\n",
        "\n",
        "  def mul(self):\n",
        "    self.res = self.n1 * self.n2\n",
        "    print(self.res)\n",
        "\n",
        "  def div(self):\n",
        "    self.res = self.n1 / self.n2\n",
        "    print(self.res)\n",
        "\n",
        "  def compare(self, other):\n",
        "    if self.n1 == other.n1 and self.n2 == other.n2:\n",
        "      print(\"Same\")\n",
        "    else:\n",
        "      print(\"Different\")\n",
        "\n",
        "obj1 = Calculator()  # object creation\n",
        "obj1.get_data()\n",
        "obj1.add()\n",
        "obj1.sub()\n",
        "obj1.mul()\n",
        "obj1.div()\n",
        "\n",
        "obj2 = Calculator()  # object creation\n",
        "obj2.get_data()\n",
        "obj2.add()\n",
        "obj2.sub()\n",
        "obj2.mul()\n",
        "obj2.div()\n",
        "\n",
        "obj1.compare(obj2)"
      ],
      "metadata": {
        "colab": {
          "base_uri": "https://localhost:8080/"
        },
        "id": "aR0pTAvNmDxs",
        "outputId": "7b760e9f-9cec-4761-a028-6eb7965be2cd"
      },
      "execution_count": 20,
      "outputs": [
        {
          "output_type": "stream",
          "name": "stdout",
          "text": [
            "Enter 1st number: 10\n",
            "Enter 2nd number: 5\n",
            "15\n",
            "5\n",
            "50\n",
            "2.0\n",
            "Enter 1st number: 8\n",
            "Enter 2nd number: 3\n",
            "11\n",
            "5\n",
            "24\n",
            "2.6666666666666665\n",
            "Different\n"
          ]
        }
      ]
    },
    {
      "cell_type": "code",
      "source": [
        "# method without self keyword\n",
        "\n",
        "class Sample:\n",
        "  def test():\n",
        "    print('Hi')\n",
        "\n",
        "o1 = Sample()\n",
        "o1.test()  ## self keyword is mandatory"
      ],
      "metadata": {
        "colab": {
          "base_uri": "https://localhost:8080/",
          "height": 176
        },
        "id": "WrdWm6ycqe_E",
        "outputId": "be935c05-f230-4766-af5e-a1e675421f70"
      },
      "execution_count": 25,
      "outputs": [
        {
          "output_type": "error",
          "ename": "TypeError",
          "evalue": "Sample.test() takes 0 positional arguments but 1 was given",
          "traceback": [
            "\u001b[0;31m---------------------------------------------------------------------------\u001b[0m",
            "\u001b[0;31mTypeError\u001b[0m                                 Traceback (most recent call last)",
            "\u001b[0;32m<ipython-input-25-9d557fdde4ee>\u001b[0m in \u001b[0;36m<cell line: 0>\u001b[0;34m()\u001b[0m\n\u001b[1;32m      6\u001b[0m \u001b[0;34m\u001b[0m\u001b[0m\n\u001b[1;32m      7\u001b[0m \u001b[0mo1\u001b[0m \u001b[0;34m=\u001b[0m \u001b[0mSample\u001b[0m\u001b[0;34m(\u001b[0m\u001b[0;34m)\u001b[0m\u001b[0;34m\u001b[0m\u001b[0;34m\u001b[0m\u001b[0m\n\u001b[0;32m----> 8\u001b[0;31m \u001b[0mo1\u001b[0m\u001b[0;34m.\u001b[0m\u001b[0mtest\u001b[0m\u001b[0;34m(\u001b[0m\u001b[0;34m)\u001b[0m\u001b[0;34m\u001b[0m\u001b[0;34m\u001b[0m\u001b[0m\n\u001b[0m",
            "\u001b[0;31mTypeError\u001b[0m: Sample.test() takes 0 positional arguments but 1 was given"
          ]
        }
      ]
    },
    {
      "cell_type": "code",
      "source": [
        "# Non - parameteized constructor\n",
        "\n",
        "class Student:\n",
        "\n",
        "  def __init__(self):\n",
        "    self.name = ''\n",
        "    self.age = 0\n",
        "    self.m1 = 0\n",
        "    self.m2 = 0\n",
        "    self.m3 = 0\n",
        "    self.avg = 0\n",
        "\n",
        "\n",
        "  def get_data(self):\n",
        "    self.name = input(\"Enter student name: \")\n",
        "    self.age = int(input(\"Enter sudent's age: \"))\n",
        "    self.m1 = int(input(\"Enter m1: \"))\n",
        "    self.m2 = int(input(\"Enter m2: \"))\n",
        "    self.m3 = int(input(\"Enter m3: \"))\n",
        "\n",
        "  def calc_avg(self):\n",
        "    self.avg = (self.m1+self.m2+self.m3)/3\n",
        "\n",
        "  def student_data(self):\n",
        "    print(\"Name: \",self.name)\n",
        "    print('Age: ',self.age)\n",
        "    print('Marks: ',self.m1,self.m2,self.m3)\n",
        "    print('Avg: ',self.avg)\n",
        "\n",
        "s1 = Student()\n",
        "s1.get_data()\n",
        "s1.calc_avg()\n",
        "s1.student_data()\n"
      ],
      "metadata": {
        "colab": {
          "base_uri": "https://localhost:8080/"
        },
        "id": "TKClcUYDv_2f",
        "outputId": "75519fd7-407c-463b-ba0a-656c04bbad34"
      },
      "execution_count": 32,
      "outputs": [
        {
          "output_type": "stream",
          "name": "stdout",
          "text": [
            "Enter student name: Ria\n",
            "Enter sudent's age: 10\n",
            "Enter m1: 98\n",
            "Enter m2: 89\n",
            "Enter m3: 89\n",
            "Name:  Ria\n",
            "Age:  10\n",
            "Marks:  98 89 89\n",
            "Avg:  92.0\n",
            "<class 'float'>\n"
          ]
        }
      ]
    },
    {
      "cell_type": "code",
      "source": [
        "# Parameterized constructor\n",
        "\n",
        "class Test:\n",
        "\n",
        "  def __init__(self,a,b):\n",
        "    self.a = a\n",
        "    self.b = b\n",
        "\n",
        "  def output_data(self):\n",
        "    print(self.a,self.b)\n",
        "\n",
        "t1 = Test(10,20)\n",
        "t2 = Test(1.1,2.4)\n",
        "\n",
        "t1.output_data()\n",
        "t2.output_data()\n"
      ],
      "metadata": {
        "colab": {
          "base_uri": "https://localhost:8080/"
        },
        "id": "rnu7fwZ5yO4G",
        "outputId": "9d80727f-e6a3-44ad-e10b-cf80d77fe3b4"
      },
      "execution_count": 34,
      "outputs": [
        {
          "output_type": "stream",
          "name": "stdout",
          "text": [
            "10 20\n",
            "1.1 2.4\n"
          ]
        }
      ]
    },
    {
      "cell_type": "code",
      "source": [
        "# Parameteized constructor\n",
        "\n",
        "class Student:\n",
        "\n",
        "  def __init__(self,name,age,m1,m2,m3):\n",
        "    self.name = name\n",
        "    self.age = age\n",
        "    self.m1 = m1\n",
        "    self.m2 = m2\n",
        "    self.m3 = m3\n",
        "    self.avg = 0\n",
        "\n",
        "\n",
        "  def calc_avg(self):\n",
        "    self.avg = (self.m1+self.m2+self.m3)/3\n",
        "\n",
        "  def student_data(self):\n",
        "    print(\"Name: \",self.name)\n",
        "    print('Age: ',self.age)\n",
        "    print('Marks: ',self.m1,self.m2,self.m3)\n",
        "    print('Avg: ',self.avg)\n",
        "\n",
        "s1 = Student('Ria',10,98,89,92)\n",
        "s1.calc_avg()\n",
        "s1.student_data()\n"
      ],
      "metadata": {
        "colab": {
          "base_uri": "https://localhost:8080/"
        },
        "id": "Nppi2iBq16rC",
        "outputId": "5f6e1953-5a21-4e09-d127-cade42af0742"
      },
      "execution_count": 36,
      "outputs": [
        {
          "output_type": "stream",
          "name": "stdout",
          "text": [
            "Name:  Ria\n",
            "Age:  10\n",
            "Marks:  98 89 92\n",
            "Avg:  93.0\n"
          ]
        }
      ]
    },
    {
      "cell_type": "code",
      "source": [
        "# Parameterized constructor\n",
        "\n",
        "class Employee:\n",
        "\n",
        "  def __init__(self,name,id,dept,bsal):\n",
        "    self.emp_name = name\n",
        "    self.emp_id = id\n",
        "    self.emp_dept = dept\n",
        "    self.bsal = bsal\n",
        "    self.bonus = 20\n",
        "    self.fsal = 0\n",
        "\n",
        "  def cal_sal(self):\n",
        "    self.fsal = self.bsal + (self.bsal*self.bonus/100)\n",
        "\n",
        "  def output_data(self):\n",
        "    print('Name: ',self.emp_name)\n",
        "    print('Id: ',self.emp_id)\n",
        "    print('Dept: ',self.emp_dept)\n",
        "    print('Total Salary: ',self.fsal)\n",
        "\n",
        "e1 = Employee('Ria',101,'Tech',10000)\n",
        "e1.cal_sal()\n",
        "e1.output_data()\n"
      ],
      "metadata": {
        "colab": {
          "base_uri": "https://localhost:8080/"
        },
        "id": "tw-9YSsu2V7W",
        "outputId": "14742ecb-114d-4716-e6a4-bc8955fc8875"
      },
      "execution_count": 37,
      "outputs": [
        {
          "output_type": "stream",
          "name": "stdout",
          "text": [
            "Name:  Ria\n",
            "Id:  101\n",
            "Dept:  Tech\n",
            "Total Salary:  12000.0\n"
          ]
        }
      ]
    },
    {
      "cell_type": "code",
      "source": [
        "# Default constructor - when we dont need to initialize any class attributes then we can skip __init__. default constructor will automatically be called\n",
        "\n",
        "class Default:\n",
        "  def test(self):\n",
        "    print('Default constructor class')\n",
        "\n",
        "o = Default()\n",
        "o.test()"
      ],
      "metadata": {
        "colab": {
          "base_uri": "https://localhost:8080/"
        },
        "id": "7uIdgezZ4HXR",
        "outputId": "885ba5a5-aed1-4d95-c066-9a058ac3fcef"
      },
      "execution_count": 39,
      "outputs": [
        {
          "output_type": "stream",
          "name": "stdout",
          "text": [
            "Default constructor class\n"
          ]
        }
      ]
    },
    {
      "cell_type": "code",
      "source": [],
      "metadata": {
        "id": "TRD7aC_m6kfR"
      },
      "execution_count": null,
      "outputs": []
    }
  ]
}