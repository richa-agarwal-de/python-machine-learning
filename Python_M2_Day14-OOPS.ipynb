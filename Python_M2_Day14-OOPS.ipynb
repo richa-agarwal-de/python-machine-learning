{
  "nbformat": 4,
  "nbformat_minor": 0,
  "metadata": {
    "colab": {
      "provenance": []
    },
    "kernelspec": {
      "name": "python3",
      "display_name": "Python 3"
    },
    "language_info": {
      "name": "python"
    }
  },
  "cells": [
    {
      "cell_type": "markdown",
      "source": [
        "# OOPS:\n",
        "## Class"
      ],
      "metadata": {
        "id": "k-NZhWCKmZMS"
      }
    },
    {
      "cell_type": "code",
      "execution_count": 1,
      "metadata": {
        "id": "HpmbKqI7jltH"
      },
      "outputs": [],
      "source": [
        "# Class definition- class Class_name:\n",
        "class Calculator:\n",
        "\n",
        "  # attributes\n",
        "  n1=0\n",
        "  n2=0\n",
        "  res=0\n",
        "\n",
        "  # methods/behaviour\n",
        "\n",
        "  def __init__(self,n1,n2):\n",
        "    self.n1=n1\n",
        "    self.n2=n2\n",
        "    self.res=0\n",
        "\n",
        "  def add(self,n1,n2):\n",
        "    pass\n",
        "\n",
        "  def sub(self,n1,n2):\n",
        "    pass\n",
        "\n",
        "  def mul(self,n1,n2):\n",
        "    pass\n",
        "\n",
        "  def div(self,n1,n2):\n",
        "    pass\n",
        "\n",
        "obj1 = Calculator(10,20)\n",
        "obj2 = Calculator(100,200)"
      ]
    }
  ]
}