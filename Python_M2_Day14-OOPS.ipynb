{
  "nbformat": 4,
  "nbformat_minor": 0,
  "metadata": {
    "colab": {
      "provenance": [],
      "include_colab_link": true
    },
    "kernelspec": {
      "name": "python3",
      "display_name": "Python 3"
    },
    "language_info": {
      "name": "python"
    }
  },
  "cells": [
    {
      "cell_type": "markdown",
      "metadata": {
        "id": "view-in-github",
        "colab_type": "text"
      },
      "source": [
        "<a href=\"https://colab.research.google.com/github/richa-agarwal-de/python-machine-learning/blob/main/Python_M2_Day14-OOPS.ipynb\" target=\"_parent\"><img src=\"https://colab.research.google.com/assets/colab-badge.svg\" alt=\"Open In Colab\"/></a>"
      ]
    },
    {
      "cell_type": "markdown",
      "source": [
        "\n",
        "# OOPS:\n",
        "## Class\n",
        "- is like a template or blueprint or design\n",
        "- No memory is created for class\n",
        "- Memory is created for the object of the class\n",
        "- Object is the instance of the class\n",
        "\n",
        "*   Attributes - data or variables\n",
        "*   Method - Behaviour or operations on the data/variable\n",
        "\n",
        "- Class variables (defined outside the __init__ function) - one variable for all objects of the class\n",
        "- Instance variables (defined within the __init__ function) - specific to object\n",
        "\n",
        "- Instance method\n",
        "- Class method - used to modify class variable - declared using @classmethod  decorator\n",
        "\n"
      ],
      "metadata": {
        "id": "k-NZhWCKmZMS"
      }
    },
    {
      "cell_type": "code",
      "execution_count": null,
      "metadata": {
        "id": "HpmbKqI7jltH"
      },
      "outputs": [],
      "source": [
        "# Class definition- class Class_name:\n",
        "class Calculator:\n",
        "\n",
        "  # attributes\n",
        "  n1=0\n",
        "  n2=0\n",
        "  res=0\n",
        "\n",
        "  # methods/behaviour\n",
        "\n",
        "  def __init__(self,n1,n2):   ## Constructor called implicitly during object creation\n",
        "    self.n1=n1\n",
        "    self.n2=n2\n",
        "    self.res=0\n",
        "\n",
        "  def add(self,n1,n2):\n",
        "    pass\n",
        "\n",
        "  def sub(self,n1,n2):\n",
        "    pass\n",
        "\n",
        "  def mul(self,n1,n2):\n",
        "    pass\n",
        "\n",
        "  def div(self,n1,n2):\n",
        "    pass\n",
        "\n",
        "obj1 = Calculator(10,20)  # object creation\n",
        "obj2 = Calculator(100,200)  # object creation"
      ]
    },
    {
      "cell_type": "code",
      "source": [
        "# Class example\n",
        "\n",
        "class Sample:\n",
        "\n",
        "  def __init__(self):\n",
        "    self.data = 10\n",
        "\n",
        "  def input_data(self):\n",
        "    self.data = input(\"Enter some data: \")\n",
        "\n",
        "  def process_data(self):\n",
        "    self.data = self.data.upper()\n",
        "\n",
        "  def output_data(self):\n",
        "    print(self.data)\n",
        "\n",
        "# object creation\n",
        "obj1 = Sample()\n",
        "obj2 = Sample()\n",
        "obj3 = Sample()\n",
        "\n",
        "#\n",
        "obj1.output_data()\n",
        "print(obj1.data)\n",
        "obj1.input_data()\n",
        "obj1.process_data()\n",
        "obj1.output_data()\n",
        "\n",
        "obj2.output_data()\n",
        "obj2.input_data()\n",
        "obj2.process_data()\n",
        "obj2.output_data()\n",
        "\n",
        "obj3.output_data()\n",
        "obj3.input_data()\n",
        "obj3.process_data()\n",
        "obj3.output_data()"
      ],
      "metadata": {
        "colab": {
          "base_uri": "https://localhost:8080/"
        },
        "id": "gKXgw0T9iXPF",
        "outputId": "4d6c873b-225b-4d6f-e4ba-80108bc8c83e"
      },
      "execution_count": null,
      "outputs": [
        {
          "output_type": "stream",
          "name": "stdout",
          "text": [
            "10\n",
            "10\n",
            "Enter some data: ab\n",
            "AB\n",
            "10\n",
            "Enter some data: abc\n",
            "ABC\n",
            "10\n",
            "Enter some data: acask\n",
            "ACASK\n"
          ]
        }
      ]
    },
    {
      "cell_type": "code",
      "source": [
        "# Class definition- class Class_name:\n",
        "class Calculator:\n",
        "\n",
        "  # methods/behaviour\n",
        "\n",
        "  def __init__(self):\n",
        "    self.n1=0\n",
        "    self.n2=0\n",
        "    self.res=0\n",
        "\n",
        "  def get_data(self):\n",
        "    self.n1 = int(input('Enter 1st number: '))\n",
        "    self.n2 = int(input('Enter 2nd number: '))\n",
        "\n",
        "  def add(self):\n",
        "    self.res = self.n1+self.n2\n",
        "    print(self.res)\n",
        "\n",
        "  def sub(self):\n",
        "    self.res = self.n1 - self.n2\n",
        "    print(self.res)\n",
        "\n",
        "  def mul(self):\n",
        "    self.res = self.n1 * self.n2\n",
        "    print(self.res)\n",
        "\n",
        "  def div(self):\n",
        "    self.res = self.n1 / self.n2\n",
        "    print(self.res)\n",
        "\n",
        "  def compare(self, other):\n",
        "    if self.n1 == other.n1 and self.n2 == other.n2:\n",
        "      print(\"Same\")\n",
        "    else:\n",
        "      print(\"Different\")\n",
        "\n",
        "obj1 = Calculator()  # object creation\n",
        "obj1.get_data()\n",
        "obj1.add()\n",
        "obj1.sub()\n",
        "obj1.mul()\n",
        "obj1.div()\n",
        "\n",
        "obj2 = Calculator()  # object creation\n",
        "obj2.get_data()\n",
        "obj2.add()\n",
        "obj2.sub()\n",
        "obj2.mul()\n",
        "obj2.div()\n",
        "\n",
        "obj1.compare(obj2)"
      ],
      "metadata": {
        "colab": {
          "base_uri": "https://localhost:8080/"
        },
        "id": "aR0pTAvNmDxs",
        "outputId": "7b760e9f-9cec-4761-a028-6eb7965be2cd"
      },
      "execution_count": null,
      "outputs": [
        {
          "output_type": "stream",
          "name": "stdout",
          "text": [
            "Enter 1st number: 10\n",
            "Enter 2nd number: 5\n",
            "15\n",
            "5\n",
            "50\n",
            "2.0\n",
            "Enter 1st number: 8\n",
            "Enter 2nd number: 3\n",
            "11\n",
            "5\n",
            "24\n",
            "2.6666666666666665\n",
            "Different\n"
          ]
        }
      ]
    },
    {
      "cell_type": "code",
      "source": [
        "# method without self keyword\n",
        "\n",
        "class Sample:\n",
        "  def test():\n",
        "    print('Hi')\n",
        "\n",
        "o1 = Sample()\n",
        "o1.test()  ## self keyword is mandatory"
      ],
      "metadata": {
        "colab": {
          "base_uri": "https://localhost:8080/",
          "height": 176
        },
        "id": "WrdWm6ycqe_E",
        "outputId": "be935c05-f230-4766-af5e-a1e675421f70"
      },
      "execution_count": null,
      "outputs": [
        {
          "output_type": "error",
          "ename": "TypeError",
          "evalue": "Sample.test() takes 0 positional arguments but 1 was given",
          "traceback": [
            "\u001b[0;31m---------------------------------------------------------------------------\u001b[0m",
            "\u001b[0;31mTypeError\u001b[0m                                 Traceback (most recent call last)",
            "\u001b[0;32m<ipython-input-25-9d557fdde4ee>\u001b[0m in \u001b[0;36m<cell line: 0>\u001b[0;34m()\u001b[0m\n\u001b[1;32m      6\u001b[0m \u001b[0;34m\u001b[0m\u001b[0m\n\u001b[1;32m      7\u001b[0m \u001b[0mo1\u001b[0m \u001b[0;34m=\u001b[0m \u001b[0mSample\u001b[0m\u001b[0;34m(\u001b[0m\u001b[0;34m)\u001b[0m\u001b[0;34m\u001b[0m\u001b[0;34m\u001b[0m\u001b[0m\n\u001b[0;32m----> 8\u001b[0;31m \u001b[0mo1\u001b[0m\u001b[0;34m.\u001b[0m\u001b[0mtest\u001b[0m\u001b[0;34m(\u001b[0m\u001b[0;34m)\u001b[0m\u001b[0;34m\u001b[0m\u001b[0;34m\u001b[0m\u001b[0m\n\u001b[0m",
            "\u001b[0;31mTypeError\u001b[0m: Sample.test() takes 0 positional arguments but 1 was given"
          ]
        }
      ]
    },
    {
      "cell_type": "code",
      "source": [
        "# Non - parameteized constructor\n",
        "\n",
        "class Student:\n",
        "\n",
        "  def __init__(self):\n",
        "    self.name = ''\n",
        "    self.age = 0\n",
        "    self.m1 = 0\n",
        "    self.m2 = 0\n",
        "    self.m3 = 0\n",
        "    self.avg = 0\n",
        "\n",
        "\n",
        "  def get_data(self):\n",
        "    self.name = input(\"Enter student name: \")\n",
        "    self.age = int(input(\"Enter sudent's age: \"))\n",
        "    self.m1 = int(input(\"Enter m1: \"))\n",
        "    self.m2 = int(input(\"Enter m2: \"))\n",
        "    self.m3 = int(input(\"Enter m3: \"))\n",
        "\n",
        "  def calc_avg(self):\n",
        "    self.avg = (self.m1+self.m2+self.m3)/3\n",
        "\n",
        "  def student_data(self):\n",
        "    print(\"Name: \",self.name)\n",
        "    print('Age: ',self.age)\n",
        "    print('Marks: ',self.m1,self.m2,self.m3)\n",
        "    print('Avg: ',self.avg)\n",
        "\n",
        "s1 = Student()\n",
        "s1.get_data()\n",
        "s1.calc_avg()\n",
        "s1.student_data()\n"
      ],
      "metadata": {
        "colab": {
          "base_uri": "https://localhost:8080/"
        },
        "id": "TKClcUYDv_2f",
        "outputId": "75519fd7-407c-463b-ba0a-656c04bbad34"
      },
      "execution_count": null,
      "outputs": [
        {
          "output_type": "stream",
          "name": "stdout",
          "text": [
            "Enter student name: Ria\n",
            "Enter sudent's age: 10\n",
            "Enter m1: 98\n",
            "Enter m2: 89\n",
            "Enter m3: 89\n",
            "Name:  Ria\n",
            "Age:  10\n",
            "Marks:  98 89 89\n",
            "Avg:  92.0\n",
            "<class 'float'>\n"
          ]
        }
      ]
    },
    {
      "cell_type": "code",
      "source": [
        "# Parameterized constructor\n",
        "\n",
        "class Test:\n",
        "\n",
        "  def __init__(self,a,b):\n",
        "    self.a = a\n",
        "    self.b = b\n",
        "\n",
        "  def output_data(self):\n",
        "    print(self.a,self.b)\n",
        "\n",
        "t1 = Test(10,20)\n",
        "t2 = Test(1.1,2.4)\n",
        "\n",
        "t1.output_data()\n",
        "t2.output_data()\n"
      ],
      "metadata": {
        "colab": {
          "base_uri": "https://localhost:8080/"
        },
        "id": "rnu7fwZ5yO4G",
        "outputId": "9d80727f-e6a3-44ad-e10b-cf80d77fe3b4"
      },
      "execution_count": null,
      "outputs": [
        {
          "output_type": "stream",
          "name": "stdout",
          "text": [
            "10 20\n",
            "1.1 2.4\n"
          ]
        }
      ]
    },
    {
      "cell_type": "code",
      "source": [
        "# Parameteized constructor\n",
        "\n",
        "class Student:\n",
        "\n",
        "  def __init__(self,name,age,m1,m2,m3):\n",
        "    self.name = name\n",
        "    self.age = age\n",
        "    self.m1 = m1\n",
        "    self.m2 = m2\n",
        "    self.m3 = m3\n",
        "    self.avg = 0\n",
        "\n",
        "\n",
        "  def calc_avg(self):\n",
        "    self.avg = (self.m1+self.m2+self.m3)/3\n",
        "\n",
        "  def student_data(self):\n",
        "    print(\"Name: \",self.name)\n",
        "    print('Age: ',self.age)\n",
        "    print('Marks: ',self.m1,self.m2,self.m3)\n",
        "    print('Avg: ',self.avg)\n",
        "\n",
        "s1 = Student('Ria',10,98,89,92)\n",
        "s1.calc_avg()\n",
        "s1.student_data()\n"
      ],
      "metadata": {
        "colab": {
          "base_uri": "https://localhost:8080/"
        },
        "id": "Nppi2iBq16rC",
        "outputId": "5f6e1953-5a21-4e09-d127-cade42af0742"
      },
      "execution_count": null,
      "outputs": [
        {
          "output_type": "stream",
          "name": "stdout",
          "text": [
            "Name:  Ria\n",
            "Age:  10\n",
            "Marks:  98 89 92\n",
            "Avg:  93.0\n"
          ]
        }
      ]
    },
    {
      "cell_type": "code",
      "source": [
        "# Parameterized constructor\n",
        "\n",
        "class Employee:\n",
        "\n",
        "  def __init__(self,name,id,dept,bsal):\n",
        "    self.emp_name = name\n",
        "    self.emp_id = id\n",
        "    self.emp_dept = dept\n",
        "    self.bsal = bsal\n",
        "    self.bonus = 20\n",
        "    self.fsal = 0\n",
        "\n",
        "  def cal_sal(self):\n",
        "    self.fsal = self.bsal + (self.bsal*self.bonus/100)\n",
        "\n",
        "  def output_data(self):\n",
        "    print('Name: ',self.emp_name)\n",
        "    print('Id: ',self.emp_id)\n",
        "    print('Dept: ',self.emp_dept)\n",
        "    print('Total Salary: ',self.fsal)\n",
        "\n",
        "e1 = Employee('Ria',101,'Tech',10000)\n",
        "e1.cal_sal()\n",
        "e1.output_data()\n"
      ],
      "metadata": {
        "colab": {
          "base_uri": "https://localhost:8080/"
        },
        "id": "tw-9YSsu2V7W",
        "outputId": "14742ecb-114d-4716-e6a4-bc8955fc8875"
      },
      "execution_count": null,
      "outputs": [
        {
          "output_type": "stream",
          "name": "stdout",
          "text": [
            "Name:  Ria\n",
            "Id:  101\n",
            "Dept:  Tech\n",
            "Total Salary:  12000.0\n"
          ]
        }
      ]
    },
    {
      "cell_type": "code",
      "source": [
        "# Default constructor - when we dont need to initialize any class attributes then we can skip __init__. default constructor will automatically be called\n",
        "\n",
        "class Default:\n",
        "  def test(self):\n",
        "    print('Default constructor class')\n",
        "\n",
        "o = Default()\n",
        "o.test()"
      ],
      "metadata": {
        "colab": {
          "base_uri": "https://localhost:8080/"
        },
        "id": "7uIdgezZ4HXR",
        "outputId": "885ba5a5-aed1-4d95-c066-9a058ac3fcef"
      },
      "execution_count": null,
      "outputs": [
        {
          "output_type": "stream",
          "name": "stdout",
          "text": [
            "Default constructor class\n"
          ]
        }
      ]
    },
    {
      "cell_type": "markdown",
      "source": [
        "## Class Variable"
      ],
      "metadata": {
        "id": "Az5YrrHXB1Vj"
      }
    },
    {
      "cell_type": "code",
      "source": [
        "# class variable\n",
        "# Interview question: How to keep count of objects created for a class\n",
        "\n",
        "class Student:\n",
        "\n",
        "  student_count = 0 ## class variable\n",
        "  college_name = 'IIT'\n",
        "\n",
        "  def __init__(self,name,age):\n",
        "    self.name = name      ## instance variable\n",
        "    self.age = age\n",
        "    Student.student_count += 1\n",
        "    print(Student.student_count)\n",
        "\n",
        "  def display(self):\n",
        "    print(self.name,self.age, Student.college_name)\n",
        "\n",
        "s1 = Student('A',20)\n",
        "s1.display()\n",
        "s2 = Student('B',19)\n",
        "s2.display()\n",
        "s3 = Student('C',19)\n",
        "s3.display()\n",
        "\n",
        "# Other ways to access class variable\n",
        "print(Student.college_name)\n",
        "print(s1.college_name)\n",
        "print(s2.student_count)\n",
        "\n",
        "\n",
        "\n"
      ],
      "metadata": {
        "id": "TRD7aC_m6kfR",
        "outputId": "a25ab069-c173-4f73-f42d-219ab590ad03",
        "colab": {
          "base_uri": "https://localhost:8080/"
        }
      },
      "execution_count": 13,
      "outputs": [
        {
          "output_type": "stream",
          "name": "stdout",
          "text": [
            "1\n",
            "A 20 IIT\n",
            "2\n",
            "B 19 IIT\n",
            "3\n",
            "C 19 IIT\n",
            "IIT\n",
            "IIT\n",
            "3\n"
          ]
        }
      ]
    },
    {
      "cell_type": "code",
      "source": [
        "# class variable\n",
        "# Interview question: How to keep count of objects created for a class\n",
        "\n",
        "class Student:\n",
        "\n",
        "  student_count = 0 ## class variable\n",
        "  college_name = 'IIT'\n",
        "\n",
        "  def __init__(self,name,age,college_name = 'IIT'):\n",
        "    self.name = name      ## instance variable\n",
        "    self.age = age\n",
        "    Student.student_count += 1\n",
        "    self.college_name = college_name\n",
        "    print(Student.student_count)\n",
        "\n",
        "  def display(self):\n",
        "    print(self.name,self.age, Student.college_name,self.college_name)\n",
        "\n",
        "s1 = Student('A',20)\n",
        "s1.display()\n",
        "s2 = Student('B',19,'UVCE')\n",
        "s2.display()\n",
        "s3 = Student('C',19)\n",
        "s3.display()\n",
        "\n",
        "\n",
        "# Other ways to access class variable\n",
        "print(Student.college_name)\n",
        "print(s2.college_name)\n",
        "print(s1.student_count)\n",
        "\n",
        "\n"
      ],
      "metadata": {
        "id": "80DLPzamC-dW",
        "outputId": "0e70d956-68e0-48d5-e129-ace8cdf97002",
        "colab": {
          "base_uri": "https://localhost:8080/"
        }
      },
      "execution_count": 15,
      "outputs": [
        {
          "output_type": "stream",
          "name": "stdout",
          "text": [
            "1\n",
            "A 20 IIT IIT\n",
            "2\n",
            "B 19 IIT UVCE\n",
            "3\n",
            "C 19 IIT IIT\n",
            "IIT\n",
            "UVCE\n",
            "3\n"
          ]
        }
      ]
    },
    {
      "cell_type": "markdown",
      "source": [
        "## Class Method"
      ],
      "metadata": {
        "id": "vVSAzeGNGeUJ"
      }
    },
    {
      "cell_type": "code",
      "source": [
        "## Class Method\n",
        "\n",
        "class Student:\n",
        "\n",
        "  student_count = 0 ## class variable\n",
        "  college_name = 'IIT'\n",
        "\n",
        "  def __init__(self,name,age):\n",
        "    self.name = name      ## instance variable\n",
        "    self.age = age\n",
        "    Student.student_count += 1\n",
        "    print(Student.student_count)\n",
        "\n",
        "  @classmethod            ## Class Method\n",
        "  def get_college(cls):\n",
        "    print(cls.college_name)\n",
        "\n",
        "  def display(self):\n",
        "    print(self.name,self.age, Student.college_name)\n",
        "\n",
        "s1 = Student('A',20)\n",
        "s1.display()\n",
        "s2 = Student('B',19)\n",
        "s2.display()\n",
        "s3 = Student('C',19)\n",
        "s3.display()\n",
        "\n",
        "\n",
        "# call class method\n",
        "Student.get_college()"
      ],
      "metadata": {
        "id": "36a9ZmWCEapI",
        "outputId": "80e803ef-bcbc-423f-e846-74b14dab6318",
        "colab": {
          "base_uri": "https://localhost:8080/"
        }
      },
      "execution_count": 17,
      "outputs": [
        {
          "output_type": "stream",
          "name": "stdout",
          "text": [
            "1\n",
            "A 20 IIT\n",
            "2\n",
            "B 19 IIT\n",
            "3\n",
            "C 19 IIT\n",
            "IIT\n"
          ]
        }
      ]
    },
    {
      "cell_type": "markdown",
      "source": [
        "# Inheritance"
      ],
      "metadata": {
        "id": "r1IKWArpJVth"
      }
    },
    {
      "cell_type": "code",
      "source": [
        "# Inheritance\n",
        "## Without Inheritance\n",
        "\n",
        "class Employee:\n",
        "  bonus = 2000\n",
        "  def display(self):\n",
        "    print('This is employee class method')\n",
        "\n",
        "\n",
        "class Manager:\n",
        "  bonus1 = 5000\n",
        "  def show(self):\n",
        "    print('This is manager class method')\n",
        "\n",
        "e1 = Employee()\n",
        "e1.display()\n",
        "\n",
        "m1 = Manager()\n",
        "m1.show()\n",
        "\n",
        "m1.bonus # Since not inherited, employee class variable cannot be accessed via manager"
      ],
      "metadata": {
        "id": "1Av7v6U6G6Rc",
        "outputId": "7d591423-d475-48fa-d85e-2bb62284cdfa",
        "colab": {
          "base_uri": "https://localhost:8080/",
          "height": 211
        }
      },
      "execution_count": 23,
      "outputs": [
        {
          "output_type": "stream",
          "name": "stdout",
          "text": [
            "This is employee class method\n",
            "This is manager class method\n"
          ]
        },
        {
          "output_type": "error",
          "ename": "AttributeError",
          "evalue": "'Manager' object has no attribute 'bonus'",
          "traceback": [
            "\u001b[0;31m---------------------------------------------------------------------------\u001b[0m",
            "\u001b[0;31mAttributeError\u001b[0m                            Traceback (most recent call last)",
            "\u001b[0;32m<ipython-input-23-774b76b8f27f>\u001b[0m in \u001b[0;36m<cell line: 0>\u001b[0;34m()\u001b[0m\n\u001b[1;32m     21\u001b[0m \u001b[0mm1\u001b[0m\u001b[0;34m.\u001b[0m\u001b[0mshow\u001b[0m\u001b[0;34m(\u001b[0m\u001b[0;34m)\u001b[0m\u001b[0;34m\u001b[0m\u001b[0;34m\u001b[0m\u001b[0m\n\u001b[1;32m     22\u001b[0m \u001b[0;34m\u001b[0m\u001b[0m\n\u001b[0;32m---> 23\u001b[0;31m \u001b[0mm1\u001b[0m\u001b[0;34m.\u001b[0m\u001b[0mbonus\u001b[0m\u001b[0;34m\u001b[0m\u001b[0;34m\u001b[0m\u001b[0m\n\u001b[0m",
            "\u001b[0;31mAttributeError\u001b[0m: 'Manager' object has no attribute 'bonus'"
          ]
        }
      ]
    },
    {
      "cell_type": "code",
      "source": [
        "## With Inheritance\n",
        "\n",
        "class Employee:\n",
        "  bonus = 2000\n",
        "  def display(self):\n",
        "    print('this is employee method')\n",
        "\n",
        "class Manager(Employee):\n",
        "  bonus1 = 5000\n",
        "  def show(self):\n",
        "    print('This is manager method')\n",
        "\n",
        "e1 = Employee()\n",
        "e1.display()\n",
        "\n",
        "m1 = Manager()\n",
        "m1.show()\n",
        "\n",
        "m1.bonus"
      ],
      "metadata": {
        "id": "Oc_R8F_JJ_yX",
        "outputId": "407776da-db82-4da0-c3d3-b0f8ab876fed",
        "colab": {
          "base_uri": "https://localhost:8080/"
        }
      },
      "execution_count": 24,
      "outputs": [
        {
          "output_type": "stream",
          "name": "stdout",
          "text": [
            "this is employee method\n",
            "This is manager method\n"
          ]
        },
        {
          "output_type": "execute_result",
          "data": {
            "text/plain": [
              "2000"
            ]
          },
          "metadata": {},
          "execution_count": 24
        }
      ]
    },
    {
      "cell_type": "code",
      "source": [
        "## Constructors in inheritance\n",
        "\n",
        "class Father:\n",
        "  def __init__(self):\n",
        "    print('Father constructor called')\n",
        "    self.vehicle = 'Scooter'\n",
        "\n",
        "class Son(Father):\n",
        "  # def __init__(self):\n",
        "  #   print('Son constructor called')\n",
        "  pass\n",
        "\n",
        "s = Son()\n",
        "print(s.__dict__)\n",
        "\n",
        "\n",
        "\n"
      ],
      "metadata": {
        "id": "Fx4QwV6UKwP1",
        "outputId": "c01ddf01-0ea6-402c-9547-26403fb89a40",
        "colab": {
          "base_uri": "https://localhost:8080/"
        }
      },
      "execution_count": 25,
      "outputs": [
        {
          "output_type": "stream",
          "name": "stdout",
          "text": [
            "Father constructor called\n",
            "{'vehicle': 'Scooter'}\n"
          ]
        }
      ]
    },
    {
      "cell_type": "code",
      "source": [
        "## Constructors in inheritance\n",
        "\n",
        "class Father:\n",
        "  def __init__(self):\n",
        "    print('Father constructor called')\n",
        "    self.vehicle = 'Scooter'\n",
        "\n",
        "class Son(Father):\n",
        "  def __init__(self):\n",
        "    print('Son constructor called')\n",
        "\n",
        "s = Son()\n",
        "print(s.__dict__)\n"
      ],
      "metadata": {
        "id": "rUOhpbzGL0hI",
        "outputId": "bd2f8704-20f0-441e-abba-2ecf73dbd6ea",
        "colab": {
          "base_uri": "https://localhost:8080/"
        }
      },
      "execution_count": 26,
      "outputs": [
        {
          "output_type": "stream",
          "name": "stdout",
          "text": [
            "Son constructor called\n",
            "{}\n"
          ]
        }
      ]
    },
    {
      "cell_type": "code",
      "source": [
        "## Constructors in inheritance - super method\n",
        "\n",
        "class Father:\n",
        "  def __init__(self):\n",
        "    print('Father constructor called')\n",
        "    self.vehicle = 'Scooter'\n",
        "\n",
        "class Son(Father):\n",
        "  def __init__(self):\n",
        "    print('Son constructor called')\n",
        "    super().__init__()\n",
        "\n",
        "s = Son()\n",
        "print(s.__dict__)\n"
      ],
      "metadata": {
        "id": "4YH7UDcFL8Dl",
        "outputId": "db3700ee-6357-41aa-955f-33a1b964548f",
        "colab": {
          "base_uri": "https://localhost:8080/"
        }
      },
      "execution_count": 31,
      "outputs": [
        {
          "output_type": "stream",
          "name": "stdout",
          "text": [
            "Son constructor called\n",
            "Father constructor called\n",
            "{'vehicle': 'Scooter'}\n"
          ]
        }
      ]
    },
    {
      "cell_type": "code",
      "source": [
        "# Super method\n",
        "\n",
        "class Computer:\n",
        "  def __init__(self):\n",
        "    print('Computer class constructor')\n",
        "    self.ram = '8GB'\n",
        "    self.processor = 'i5'\n",
        "\n",
        "class Mobile(Computer):\n",
        "  def __init__(self):\n",
        "    super().__init__()\n",
        "    print('Mobile class constructor')\n",
        "    self.model = 'android'\n",
        "\n",
        "m1 = Mobile()\n",
        "print(m1.__dict__)\n",
        "\n",
        ""
      ],
      "metadata": {
        "id": "8bhN8p9BNJjG",
        "outputId": "af02c660-2ea9-4d96-89de-6abdc7f4766f",
        "colab": {
          "base_uri": "https://localhost:8080/"
        }
      },
      "execution_count": 32,
      "outputs": [
        {
          "output_type": "stream",
          "name": "stdout",
          "text": [
            "Computer class constructor\n",
            "Mobile class constructor\n",
            "{'ram': '8GB', 'processor': 'i5', 'model': 'android'}\n"
          ]
        }
      ]
    },
    {
      "cell_type": "code",
      "source": [
        "# Parameterized super method\n",
        "\n",
        "class Computer:\n",
        "  def __init__(self, ram, processor):\n",
        "    print('Computer class constructor')\n",
        "    self.ram = ram\n",
        "    self.processor = processor\n",
        "\n",
        "class Mobile(Computer):\n",
        "  def __init__(self,model,processor,ram):\n",
        "    print('Mobile class constructor')\n",
        "    super().__init__(ram,processor)\n",
        "    self.model = model\n",
        "\n",
        "m1 = Mobile('android','i5','8GB')\n",
        "print(m1.__dict__)"
      ],
      "metadata": {
        "id": "SF_46ZxhNMmu",
        "outputId": "e4ae4ff7-aa04-4ed1-89c3-d4770a3ccb11",
        "colab": {
          "base_uri": "https://localhost:8080/"
        }
      },
      "execution_count": 36,
      "outputs": [
        {
          "output_type": "stream",
          "name": "stdout",
          "text": [
            "Mobile class constructor\n",
            "Computer class constructor\n",
            "{'ram': '8GB', 'processor': 'i5', 'model': 'android'}\n"
          ]
        }
      ]
    },
    {
      "cell_type": "code",
      "source": [],
      "metadata": {
        "id": "E5d9rbYaQbyP"
      },
      "execution_count": null,
      "outputs": []
    }
  ]
}