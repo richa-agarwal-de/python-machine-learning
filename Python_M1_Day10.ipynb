{
  "nbformat": 4,
  "nbformat_minor": 0,
  "metadata": {
    "colab": {
      "provenance": []
    },
    "kernelspec": {
      "name": "python3",
      "display_name": "Python 3"
    },
    "language_info": {
      "name": "python"
    }
  },
  "cells": [
    {
      "cell_type": "markdown",
      "source": [
        "# Python Project 1 : Student Database\n",
        "\n",
        "- dict of id: name, major\n",
        "- functionalities:\n",
        "  - add student record\n",
        "  - update student major\n",
        "  - delete a student\n",
        "  - search for a student\n",
        "  - display complete database"
      ],
      "metadata": {
        "id": "O7h8T7-dIxov"
      }
    },
    {
      "cell_type": "code",
      "execution_count": 16,
      "metadata": {
        "id": "HpmbKqI7jltH"
      },
      "outputs": [],
      "source": [
        "# create empty database\n",
        "\n",
        "def create_student_database():\n",
        "  # create empty dictionary\n",
        "  database = dict()\n",
        "  return database"
      ]
    },
    {
      "cell_type": "code",
      "source": [
        "def add_student(database):\n",
        "  student_id = input(\"Enter the student USN number: \")\n",
        "  name = input(\"Enter the student name: \")\n",
        "  major = input(\"Enter the student major: \")\n",
        "  if student_id in database.keys():\n",
        "    print(\"Student \",student_id,\" already exists!\")\n",
        "  else:\n",
        "    database[student_id] = {'name': name, 'major': major} #key value pair added to dictionary\n",
        "    print(\"Student \",student_id,\" added successfully!\")\n",
        "\n",
        "def update_student_major(database):\n",
        "  student_id = input(\"Enter the student usn to be updated: \")\n",
        "  major = input(\"Enter the new major: \")\n",
        "  database[student_id] = {'major': major}\n",
        "  print(\"Student \",student_id,\" updated successfully!\")\n",
        "\n",
        "def remove_student(database):\n",
        "  student_id = input(\"Enter the student usn to be deleted: \")\n",
        "  if student_id in database:\n",
        "    del database[student_id]\n",
        "    print(\"Student \",student_id,\" deleted successfully!\")\n",
        "  else:\n",
        "    print(\"Student \",student_id,\" not found...\")\n",
        "\n",
        "def get_student_info(database):\n",
        "  # retrieves information of the student\n",
        "  student_id = input(\"Enter the usn to search: \")\n",
        "  student_info = database.get(student_id)\n",
        "  if student_info:\n",
        "    print(student_info)\n",
        "  else:\n",
        "    print(\"Student \",student_id,\" not found!\")\n",
        "\n",
        "def display_all_students(database):\n",
        "  #prints the contents of database\n",
        "  if database:\n",
        "    print(\"Student Database:\")\n",
        "    print(database.items())\n",
        "  else:\n",
        "    print(\"Empty Database...\")\n"
      ],
      "metadata": {
        "id": "34ZbDQBAxLWX"
      },
      "execution_count": 25,
      "outputs": []
    },
    {
      "cell_type": "code",
      "source": [
        "def __main__():\n",
        "  student = create_student_database()\n",
        "\n",
        "  while True:\n",
        "    print(\"1. Add Student\")\n",
        "    print(\"2. Get Student Info\")\n",
        "    print(\"3. Update Student Major\")\n",
        "    print(\"4. Delete Student\")\n",
        "    print(\"5. Display all Students\")\n",
        "    print(\"6. Exit\")\n",
        "    choice = int(input(\"Enter your choice: \"))\n",
        "    if choice == 1:\n",
        "      add_student(student)\n",
        "    elif choice == 2:\n",
        "      get_student_info(student)\n",
        "    elif choice == 3:\n",
        "      update_student_major(student)\n",
        "    elif choice == 4:\n",
        "      remove_student(student)\n",
        "    elif choice == 5:\n",
        "      display_all_students(student)\n",
        "    elif choice == 6:\n",
        "      print(\"Exiting...\")\n",
        "      break\n",
        "    else:\n",
        "      print(\"Invalid choice! Please enter the correct choice...\")\n"
      ],
      "metadata": {
        "id": "_kB-OSPyRkF4"
      },
      "execution_count": 23,
      "outputs": []
    },
    {
      "cell_type": "code",
      "source": [
        "__main__()"
      ],
      "metadata": {
        "id": "gHoM1ImoWm1e",
        "outputId": "9e111ada-6329-4d9c-e732-b33f1e0baa4f",
        "colab": {
          "base_uri": "https://localhost:8080/"
        }
      },
      "execution_count": 19,
      "outputs": [
        {
          "name": "stdout",
          "output_type": "stream",
          "text": [
            "1. Add Student\n",
            "2. Get Student Info\n",
            "3. Update Student Major\n",
            "4. Delete Student\n",
            "5. Display all Students\n",
            "6. Exit\n",
            "Enter your choice: 5\n",
            "Empty Database...\n",
            "1. Add Student\n",
            "2. Get Student Info\n",
            "3. Update Student Major\n",
            "4. Delete Student\n",
            "5. Display all Students\n",
            "6. Exit\n",
            "Enter your choice: 1\n",
            "Enter the student USN number: s101\n",
            "Enter the student name: Ram\n",
            "Enter the student major: MECH\n",
            "Student added successfully!\n",
            "1. Add Student\n",
            "2. Get Student Info\n",
            "3. Update Student Major\n",
            "4. Delete Student\n",
            "5. Display all Students\n",
            "6. Exit\n",
            "Enter your choice: 5\n",
            "Student Database:\n",
            "dict_items([('s101', {'name': 'Ram', 'major': 'MECH'})])\n",
            "1. Add Student\n",
            "2. Get Student Info\n",
            "3. Update Student Major\n",
            "4. Delete Student\n",
            "5. Display all Students\n",
            "6. Exit\n",
            "Enter your choice: 2\n",
            "Enter the usn to search: s101\n",
            "{'name': 'Ram', 'major': 'MECH'}\n",
            "1. Add Student\n",
            "2. Get Student Info\n",
            "3. Update Student Major\n",
            "4. Delete Student\n",
            "5. Display all Students\n",
            "6. Exit\n",
            "Enter your choice: 1\n",
            "Enter the student USN number: s102\n",
            "Enter the student name: Yashvi\n",
            "Enter the student major: CSE\n",
            "Student added successfully!\n",
            "1. Add Student\n",
            "2. Get Student Info\n",
            "3. Update Student Major\n",
            "4. Delete Student\n",
            "5. Display all Students\n",
            "6. Exit\n",
            "Enter your choice: 3\n",
            "Enter the studen usn to be updated: s101\n",
            "Enter the new major: EE\n",
            "Student updated successfully!\n",
            "1. Add Student\n",
            "2. Get Student Info\n",
            "3. Update Student Major\n",
            "4. Delete Student\n",
            "5. Display all Students\n",
            "6. Exit\n",
            "Enter your choice: 5\n",
            "Student Database:\n",
            "dict_items([('s101', {'major': 'EE'}), ('s102', {'name': 'Yashvi', 'major': 'CSE'})])\n",
            "1. Add Student\n",
            "2. Get Student Info\n",
            "3. Update Student Major\n",
            "4. Delete Student\n",
            "5. Display all Students\n",
            "6. Exit\n",
            "Enter your choice: 1\n",
            "Enter the student USN number: s103\n",
            "Enter the student name: rarna\n",
            "Enter the student major: fej\n",
            "Student added successfully!\n",
            "1. Add Student\n",
            "2. Get Student Info\n",
            "3. Update Student Major\n",
            "4. Delete Student\n",
            "5. Display all Students\n",
            "6. Exit\n",
            "Enter your choice: 5\n",
            "Student Database:\n",
            "dict_items([('s101', {'major': 'EE'}), ('s102', {'name': 'Yashvi', 'major': 'CSE'}), ('s103', {'name': 'rarna', 'major': 'fej'})])\n",
            "1. Add Student\n",
            "2. Get Student Info\n",
            "3. Update Student Major\n",
            "4. Delete Student\n",
            "5. Display all Students\n",
            "6. Exit\n",
            "Enter your choice: 4\n",
            "Enter the student usn to be deleted: s103\n",
            "Student  s103  deleted successfully!\n",
            "1. Add Student\n",
            "2. Get Student Info\n",
            "3. Update Student Major\n",
            "4. Delete Student\n",
            "5. Display all Students\n",
            "6. Exit\n",
            "Enter your choice: 5\n",
            "Student Database:\n",
            "dict_items([('s101', {'major': 'EE'}), ('s102', {'name': 'Yashvi', 'major': 'CSE'})])\n",
            "1. Add Student\n",
            "2. Get Student Info\n",
            "3. Update Student Major\n",
            "4. Delete Student\n",
            "5. Display all Students\n",
            "6. Exit\n",
            "Enter your choice: 6\n"
          ]
        }
      ]
    },
    {
      "cell_type": "code",
      "source": [
        "#Enahncement:\n",
        "- validate if student id exists before adding the new id\n",
        "-"
      ],
      "metadata": {
        "id": "ZUTz1f3sWolz"
      },
      "execution_count": null,
      "outputs": []
    }
  ]
}