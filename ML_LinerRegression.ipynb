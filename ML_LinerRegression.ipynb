{
  "cells": [
    {
      "cell_type": "code",
      "execution_count": null,
      "metadata": {
        "colab": {
          "base_uri": "https://localhost:8080/"
        },
        "id": "eDqtXmbn2N_N",
        "outputId": "9f3fc5ae-509f-4c7e-ee7d-106625576802"
      },
      "outputs": [
        {
          "name": "stdout",
          "output_type": "stream",
          "text": [
            "[10 20 30 40]\n",
            "<class 'numpy.ndarray'>\n"
          ]
        }
      ],
      "source": [
        "import numpy as np # array creation, arry elements are seperated by white space\n",
        "\n",
        "arr = np.array([10,20,30,40,50])\n",
        "print(arr)\n",
        "print(type(arr))"
      ]
    },
    {
      "cell_type": "code",
      "execution_count": 2,
      "metadata": {
        "colab": {
          "base_uri": "https://localhost:8080/"
        },
        "id": "qx_qBwH2227K",
        "outputId": "f7a82f77-f079-4e49-90e9-34f4f2857bfe"
      },
      "outputs": [
        {
          "name": "stdout",
          "output_type": "stream",
          "text": [
            "[10, 20, 30]\n",
            "<class 'list'>\n"
          ]
        }
      ],
      "source": [
        "l = [10,20,30]\n",
        "print(l)\n",
        "print(type(l)) # elemsta are sepearted by ,"
      ]
    },
    {
      "cell_type": "code",
      "execution_count": 4,
      "metadata": {
        "colab": {
          "base_uri": "https://localhost:8080/"
        },
        "id": "UxweMlyv3mGx",
        "outputId": "41139370-b055-4cac-ce2e-0003a5e05556"
      },
      "outputs": [
        {
          "name": "stdout",
          "output_type": "stream",
          "text": [
            "['10' '1.1' '20' '30' 'BLR']\n"
          ]
        }
      ],
      "source": [
        "arr = np.array([10, 1.1,20,30, \"BLR\"]) # if we try to create a array with dufferent datatype , it coverts the entire array to a higher data type array\n",
        "print(arr)"
      ]
    },
    {
      "cell_type": "code",
      "execution_count": 7,
      "metadata": {
        "colab": {
          "base_uri": "https://localhost:8080/"
        },
        "id": "5GFgIA_n40bt",
        "outputId": "2210e9b3-5d49-4cd4-88df-7211e9376c1f"
      },
      "outputs": [
        {
          "name": "stdout",
          "output_type": "stream",
          "text": [
            "[10 20 30]\n",
            "[12 22 32]\n"
          ]
        }
      ],
      "source": [
        "#Operations on Array\n",
        "\n",
        "a1 = np.array([10,20,30])\n",
        "print(a1)\n",
        "\n",
        "a2 = a1+2\n",
        "\n",
        "\n",
        "print(a2)"
      ]
    },
    {
      "cell_type": "code",
      "execution_count": 9,
      "metadata": {
        "colab": {
          "base_uri": "https://localhost:8080/"
        },
        "id": "NzYR2l1V5S3Y",
        "outputId": "a36d4aab-ab62-457e-fd28-c57871eba99e"
      },
      "outputs": [
        {
          "name": "stdout",
          "output_type": "stream",
          "text": [
            "[10, 20, 30]\n",
            "[10, 20, 30, 10, 20, 30, 10, 20, 30]\n"
          ]
        }
      ],
      "source": [
        "#Operations on List\n",
        "\n",
        "a1 =[10,20,30]\n",
        "print(a1)\n",
        "a2 = a1*3\n",
        "print(a2)"
      ]
    },
    {
      "cell_type": "code",
      "execution_count": 12,
      "metadata": {
        "colab": {
          "base_uri": "https://localhost:8080/"
        },
        "id": "g5OEyvcY6u4B",
        "outputId": "0aacad76-29fd-4872-c2b0-4a6e347df220"
      },
      "outputs": [
        {
          "name": "stdout",
          "output_type": "stream",
          "text": [
            "88\n",
            "8\n",
            "24\n"
          ]
        }
      ],
      "source": [
        "# memory consumption\n",
        "\n",
        "import sys\n",
        "\n",
        "l = [10,20,30]\n",
        "print(sys.getsizeof(l))\n",
        "\n",
        "a = np.array([10,20,30])\n",
        "print(a.itemsize)\n",
        "print(a.nbytes)"
      ]
    },
    {
      "cell_type": "code",
      "execution_count": 13,
      "metadata": {
        "colab": {
          "base_uri": "https://localhost:8080/"
        },
        "id": "1OWCfG6_7vfp",
        "outputId": "573a41b4-9faf-4632-cf40-d09005f3b5f0"
      },
      "outputs": [
        {
          "name": "stdout",
          "output_type": "stream",
          "text": [
            "[10 20 30 40]\n",
            "<class 'numpy.ndarray'>\n",
            "1\n"
          ]
        }
      ],
      "source": [
        "# creating ndarray\n",
        "\n",
        "a = np.array([10,20,30,40])\n",
        "\n",
        "print(a)\n",
        "print(type(a))\n",
        "print(a.ndim)"
      ]
    },
    {
      "cell_type": "code",
      "execution_count": 14,
      "metadata": {
        "colab": {
          "base_uri": "https://localhost:8080/"
        },
        "id": "JLTBS51v8EaT",
        "outputId": "5549b3f3-ac7d-4de6-d2e9-ec165b6a5347"
      },
      "outputs": [
        {
          "name": "stdout",
          "output_type": "stream",
          "text": [
            "44\n",
            "<class 'numpy.ndarray'>\n",
            "0\n"
          ]
        }
      ],
      "source": [
        "#o dim array\n",
        "a= np.array(44)\n",
        "print(a)\n",
        "print(type(a))\n",
        "print(a.ndim)"
      ]
    },
    {
      "cell_type": "code",
      "execution_count": 15,
      "metadata": {
        "colab": {
          "base_uri": "https://localhost:8080/"
        },
        "id": "rRmOt1Xf8SCq",
        "outputId": "30e2a491-3765-4bc6-ccb1-66e18b322c26"
      },
      "outputs": [
        {
          "name": "stdout",
          "output_type": "stream",
          "text": [
            "[[10 20 30]]\n",
            "<class 'numpy.ndarray'>\n",
            "2\n"
          ]
        }
      ],
      "source": [
        "#2 dim array\n",
        "a= np.array([[10,20,30]])\n",
        "print(a)\n",
        "print(type(a))\n",
        "print(a.ndim)"
      ]
    },
    {
      "cell_type": "code",
      "execution_count": 16,
      "metadata": {
        "colab": {
          "base_uri": "https://localhost:8080/"
        },
        "id": "W0hpqOS38gIX",
        "outputId": "d3a47b8d-ec6c-4fc4-c6e1-ad541524165a"
      },
      "outputs": [
        {
          "name": "stdout",
          "output_type": "stream",
          "text": [
            "[[[10 20 30]]]\n",
            "<class 'numpy.ndarray'>\n",
            "3\n"
          ]
        }
      ],
      "source": [
        "#2 dim array\n",
        "a= np.array([[[10,20,30]]])\n",
        "print(a)\n",
        "print(type(a))\n",
        "print(a.ndim)"
      ]
    },
    {
      "cell_type": "code",
      "execution_count": 18,
      "metadata": {
        "colab": {
          "base_uri": "https://localhost:8080/"
        },
        "id": "VQTbziPw8qPt",
        "outputId": "6fb2f3fc-63f6-4c64-ca44-9a0a4d15855c"
      },
      "outputs": [
        {
          "name": "stdout",
          "output_type": "stream",
          "text": [
            "enter the dim7\n",
            "[[[[[[[10 20 30]]]]]]]\n",
            "7\n"
          ]
        }
      ],
      "source": [
        "#n dimm array\n",
        "\n",
        "n = int(input(\"enter the dim\"))\n",
        "\n",
        "a= np.array([10,20,30], ndmin=n)\n",
        "print(a)\n",
        "print(a.ndim)"
      ]
    },
    {
      "cell_type": "code",
      "execution_count": 19,
      "metadata": {
        "colab": {
          "base_uri": "https://localhost:8080/"
        },
        "id": "ZthhD06f9Qap",
        "outputId": "79ad4acd-3d6d-40fb-dd99-cd6b3fe3e510"
      },
      "outputs": [
        {
          "name": "stdout",
          "output_type": "stream",
          "text": [
            "[[10 20 30]\n",
            " [40 50 60]]\n",
            "2\n"
          ]
        }
      ],
      "source": [
        "a = np.array([[10,20,30],[40,50,60]])\n",
        "print(a)\n",
        "print(a.ndim)"
      ]
    },
    {
      "cell_type": "code",
      "execution_count": 27,
      "metadata": {
        "colab": {
          "base_uri": "https://localhost:8080/"
        },
        "id": "TIl6gA2d9mBJ",
        "outputId": "6cdb0f6b-2687-48c2-8eb6-da79d54645f9"
      },
      "outputs": [
        {
          "name": "stdout",
          "output_type": "stream",
          "text": [
            "[[10 20 30]\n",
            " [40 50 60]]\n",
            "(2, 3)\n",
            "6\n",
            "int64\n",
            "8\n",
            "48\n",
            "10\n",
            "60\n",
            "210\n",
            "[50 70 90]\n",
            "[ 60 150]\n",
            "35.0\n",
            "17.07825127659933\n",
            "291.6666666666667\n"
          ]
        }
      ],
      "source": [
        "a = np.array([[10,20,30],[40,50,60]])\n",
        "\n",
        "print(a)\n",
        "\n",
        "print(a.shape)\n",
        "print(a.size)\n",
        "print(a.dtype)\n",
        "print(a.itemsize)\n",
        "print(a.nbytes)\n",
        "print(a.min())\n",
        "print(a.max())\n",
        "print(a.sum())\n",
        "\n",
        "print(a.sum(axis=0))\n",
        "print(a.sum(axis=1))\n",
        "\n",
        "print(a.mean())\n",
        "print(a.std())\n",
        "print(a.var())"
      ]
    },
    {
      "cell_type": "code",
      "execution_count": 28,
      "metadata": {
        "colab": {
          "base_uri": "https://localhost:8080/"
        },
        "id": "DWxQ5Vdh_eb7",
        "outputId": "3adcafca-f507-406c-f8a2-c9aee77b8b72"
      },
      "outputs": [
        {
          "name": "stdout",
          "output_type": "stream",
          "text": [
            "[0. 0. 0. 0.]\n",
            "float64\n",
            "1\n",
            "(4,)\n"
          ]
        }
      ],
      "source": [
        "# create a nd array with all zeros\n",
        "\n",
        "a = np.zeros(4)\n",
        "print(a)\n",
        "print(a.dtype)\n",
        "print(a.ndim)\n",
        "print(a.shape)"
      ]
    },
    {
      "cell_type": "code",
      "execution_count": 31,
      "metadata": {
        "colab": {
          "base_uri": "https://localhost:8080/"
        },
        "id": "fxOOLMit_6Qb",
        "outputId": "03eb2c28-bd38-46ef-ab2a-d3b5fc1bb43f"
      },
      "outputs": [
        {
          "name": "stdout",
          "output_type": "stream",
          "text": [
            "[[0 0 0]\n",
            " [0 0 0]\n",
            " [0 0 0]\n",
            " [0 0 0]]\n",
            "int64\n",
            "2\n",
            "(4, 3)\n"
          ]
        }
      ],
      "source": [
        "# create a nd array with all zeros\n",
        "\n",
        "a = np.zeros((4,3), dtype='int')\n",
        "print(a)\n",
        "print(a.dtype)\n",
        "print(a.ndim)\n",
        "print(a.shape)"
      ]
    },
    {
      "cell_type": "code",
      "execution_count": 32,
      "metadata": {
        "colab": {
          "base_uri": "https://localhost:8080/"
        },
        "id": "U0mz68tfAPBF",
        "outputId": "ee78d8bc-02ee-4779-be1b-86f2d5ccf7f4"
      },
      "outputs": [
        {
          "name": "stdout",
          "output_type": "stream",
          "text": [
            "[[1 1 1]\n",
            " [1 1 1]\n",
            " [1 1 1]\n",
            " [1 1 1]]\n",
            "int64\n",
            "2\n",
            "(4, 3)\n"
          ]
        }
      ],
      "source": [
        "# create a nd array with all zeros\n",
        "\n",
        "a = np.ones((4,3), dtype='int')\n",
        "print(a)\n",
        "print(a.dtype)\n",
        "print(a.ndim)\n",
        "print(a.shape)"
      ]
    },
    {
      "cell_type": "code",
      "execution_count": 34,
      "metadata": {
        "colab": {
          "base_uri": "https://localhost:8080/"
        },
        "id": "tQM8dd58AaJt",
        "outputId": "a848e695-f8e4-45ea-c1fd-7c4cd7d83323"
      },
      "outputs": [
        {
          "name": "stdout",
          "output_type": "stream",
          "text": [
            "[[7. 7. 7.]\n",
            " [7. 7. 7.]\n",
            " [7. 7. 7.]\n",
            " [7. 7. 7.]]\n",
            "float64\n",
            "2\n",
            "(4, 3)\n"
          ]
        }
      ],
      "source": [
        "# create a nd array with all zeros\n",
        "\n",
        "a = np.ones((4,3), dtype='float') * 7\n",
        "print(a)\n",
        "print(a.dtype)\n",
        "print(a.ndim)\n",
        "print(a.shape)"
      ]
    },
    {
      "cell_type": "code",
      "execution_count": 35,
      "metadata": {
        "colab": {
          "base_uri": "https://localhost:8080/"
        },
        "id": "iI9RpsZEBCa-",
        "outputId": "ca9fc672-d3a9-41f8-f471-01ae6a22b1c6"
      },
      "outputs": [
        {
          "name": "stdout",
          "output_type": "stream",
          "text": [
            "[0 1 2 3 4 5 6 7 8 9]\n",
            "1\n",
            "(10,)\n"
          ]
        }
      ],
      "source": [
        "#arange function\n",
        "a = np.arange(10)\n",
        "print(a)\n",
        "print(a.ndim)\n",
        "print(a.shape)"
      ]
    },
    {
      "cell_type": "code",
      "execution_count": 38,
      "metadata": {
        "colab": {
          "base_uri": "https://localhost:8080/"
        },
        "id": "5C3lW6yUBUcO",
        "outputId": "47aa4dcb-d083-4f9e-f454-fbb29ad105e7"
      },
      "outputs": [
        {
          "name": "stdout",
          "output_type": "stream",
          "text": [
            "[2. 4. 6. 8.]\n",
            "1\n",
            "(4,)\n"
          ]
        }
      ],
      "source": [
        "#arange function\n",
        "a = np.arange(2,10,2,dtype = 'float')\n",
        "print(a)\n",
        "print(a.ndim)\n",
        "print(a.shape)"
      ]
    },
    {
      "cell_type": "code",
      "execution_count": 40,
      "metadata": {
        "colab": {
          "base_uri": "https://localhost:8080/"
        },
        "id": "tjGq6hEbB6_V",
        "outputId": "72609e5d-9ad3-4fb5-bdbc-549c73411f9e"
      },
      "outputs": [
        {
          "name": "stdout",
          "output_type": "stream",
          "text": [
            "[1.   1.25 1.5  1.75 2.  ]\n"
          ]
        }
      ],
      "source": [
        "\n",
        "#linspace- generate numbers in linear space\n",
        "\n",
        "a = np.linspace(1,2,5)\n",
        "print(a)"
      ]
    },
    {
      "cell_type": "code",
      "execution_count": 41,
      "metadata": {
        "colab": {
          "base_uri": "https://localhost:8080/"
        },
        "id": "98d71c7d",
        "outputId": "c079f5f7-eb24-47d6-c757-2d0298820d0e"
      },
      "outputs": [
        {
          "name": "stdout",
          "output_type": "stream",
          "text": [
            "[[ 1.          1.81818182  2.63636364  3.45454545]\n",
            " [ 4.27272727  5.09090909  5.90909091  6.72727273]\n",
            " [ 7.54545455  8.36363636  9.18181818 10.        ]]\n"
          ]
        }
      ],
      "source": [
        "# Create a 1D array using linspace\n",
        "linear_space = np.linspace(1, 10, 12)  # Generates 12 numbers between 1 and 10\n",
        "\n",
        "# Reshape the 1D array into a 2D array (e.g., 3 rows and 4 columns)\n",
        "two_d_array = linear_space.reshape(3, 4)\n",
        "\n",
        "print(two_d_array)"
      ]
    },
    {
      "cell_type": "code",
      "execution_count": 42,
      "metadata": {
        "colab": {
          "base_uri": "https://localhost:8080/"
        },
        "id": "ntzaYDnSDqCB",
        "outputId": "6d3b4076-5f6f-4b76-99f9-a6d3d82b3968"
      },
      "outputs": [
        {
          "name": "stdout",
          "output_type": "stream",
          "text": [
            "[[1 2 3]\n",
            " [4 5 6]]\n",
            "<class 'numpy.matrix'>\n"
          ]
        }
      ],
      "source": [
        "#Matrix\n",
        "\n",
        "mat = np.matrix([[1,2,3],[4,5,6]])\n",
        "print(mat)\n",
        "print(type(mat))"
      ]
    },
    {
      "cell_type": "code",
      "execution_count": 43,
      "metadata": {
        "colab": {
          "base_uri": "https://localhost:8080/"
        },
        "id": "Pb1e01ULEGvs",
        "outputId": "0b391620-66b5-459a-dc3f-f1434b29a74d"
      },
      "outputs": [
        {
          "name": "stdout",
          "output_type": "stream",
          "text": [
            "[[1 2 3]\n",
            " [4 5 6]]\n",
            "[[1 2 3]\n",
            " [4 5 6]]\n",
            "[[1 4]\n",
            " [2 5]\n",
            " [3 6]]\n"
          ]
        }
      ],
      "source": [
        "# transpose of a mtrix\n",
        "mat = np.matrix([[1,2,3],[4,5,6]])\n",
        "print(mat)\n",
        "\n",
        "trans = mat.T\n",
        "print(mat)\n",
        "print(trans)"
      ]
    },
    {
      "cell_type": "code",
      "execution_count": 45,
      "metadata": {
        "colab": {
          "base_uri": "https://localhost:8080/"
        },
        "id": "oZ6V_b7tEd9X",
        "outputId": "f33a5301-12d3-4359-d52b-515e8c71c0d9"
      },
      "outputs": [
        {
          "name": "stdout",
          "output_type": "stream",
          "text": [
            "[[1. 0. 0.]\n",
            " [0. 1. 0.]\n",
            " [0. 0. 1.]]\n"
          ]
        }
      ],
      "source": [
        "# identity matrix\n",
        "\n",
        "mat = np.identity(3)\n",
        "print(mat)"
      ]
    },
    {
      "cell_type": "code",
      "execution_count": 46,
      "metadata": {
        "colab": {
          "base_uri": "https://localhost:8080/"
        },
        "id": "TTreBzQhEt6x",
        "outputId": "4b7b5cb2-c393-4e24-93cf-014e4d8acf2d"
      },
      "outputs": [
        {
          "name": "stdout",
          "output_type": "stream",
          "text": [
            "[[10  0  0]\n",
            " [ 0 20  0]\n",
            " [ 0  0 30]]\n"
          ]
        }
      ],
      "source": [
        "a = np.diag([10,20,30])\n",
        "print(a)"
      ]
    },
    {
      "cell_type": "code",
      "execution_count": 47,
      "metadata": {
        "colab": {
          "base_uri": "https://localhost:8080/"
        },
        "id": "f-hqx-xHE3kT",
        "outputId": "4da339fa-fbd7-4f22-c0bd-76a1ae628781"
      },
      "outputs": [
        {
          "name": "stdout",
          "output_type": "stream",
          "text": [
            "[0.10981565 0.61255507 0.69165976 0.58706504 0.29290614 0.12693574\n",
            " 0.07623645 0.83101348 0.98919298 0.29651471]\n"
          ]
        }
      ],
      "source": [
        "# random numbers\n",
        "\n",
        "a = np.random.random(10)\n",
        "print(a)"
      ]
    },
    {
      "cell_type": "code",
      "execution_count": 48,
      "metadata": {
        "colab": {
          "base_uri": "https://localhost:8080/"
        },
        "id": "EIObmyKgFg3P",
        "outputId": "e767d126-97e7-4e2d-f9a2-7c2c4eccf284"
      },
      "outputs": [
        {
          "name": "stdout",
          "output_type": "stream",
          "text": [
            "[[0.68005548 0.43992827 0.15062832]\n",
            " [0.02683189 0.73178775 0.1087211 ]\n",
            " [0.91036725 0.30111957 0.16945403]]\n"
          ]
        }
      ],
      "source": [
        "a = np.random.random((3,3,))\n",
        "print(a)"
      ]
    },
    {
      "cell_type": "code",
      "execution_count": 60,
      "metadata": {
        "colab": {
          "base_uri": "https://localhost:8080/"
        },
        "id": "MBAGRP8rFw64",
        "outputId": "dba1c944-12c9-4297-c4f4-4d889bf6de13"
      },
      "outputs": [
        {
          "name": "stdout",
          "output_type": "stream",
          "text": [
            "[142 118 143 104  83]\n"
          ]
        }
      ],
      "source": [
        "r = np.random.randint(11,150, size =5)\n",
        "print(r)"
      ]
    },
    {
      "cell_type": "code",
      "execution_count": 62,
      "metadata": {
        "colab": {
          "base_uri": "https://localhost:8080/"
        },
        "id": "0bAtqXiQGIbm",
        "outputId": "a8094aa6-2a03-4e0f-e5ae-914fc06c0a47"
      },
      "outputs": [
        {
          "name": "stdout",
          "output_type": "stream",
          "text": [
            "[89.2085604  57.91191596 99.78890461 81.07388874 67.17999009 93.85729551\n",
            " 39.85608367 76.11054083 87.29562846 17.73468697]\n"
          ]
        }
      ],
      "source": [
        "r = np.random.uniform(1,100, size=10)\n",
        "print(r)"
      ]
    }
  ],
  "metadata": {
    "colab": {
      "provenance": []
    },
    "kernelspec": {
      "display_name": "Python 3",
      "name": "python3"
    },
    "language_info": {
      "name": "python"
    }
  },
  "nbformat": 4,
  "nbformat_minor": 0
}
