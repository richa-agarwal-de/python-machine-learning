{
  "nbformat": 4,
  "nbformat_minor": 0,
  "metadata": {
    "colab": {
      "provenance": []
    },
    "kernelspec": {
      "name": "python3",
      "display_name": "Python 3"
    },
    "language_info": {
      "name": "python"
    }
  },
  "cells": [
    {
      "cell_type": "markdown",
      "source": [
        "# Numpy Array\n",
        "\n",
        "## List vs Numpy Array\n",
        "### numpy elements separated by space ' '. List elements separated by comma ','\n",
        "### List can have elements of different data types. Numpy array elements should be of same datatype"
      ],
      "metadata": {
        "id": "TtfCemasgBbH"
      }
    },
    {
      "cell_type": "code",
      "execution_count": 1,
      "metadata": {
        "id": "HpmbKqI7jltH"
      },
      "outputs": [],
      "source": [
        "import numpy as np"
      ]
    },
    {
      "cell_type": "code",
      "source": [
        "## Create numpy array\n",
        "\n",
        "arr = np.array([10,20,30,40])\n",
        "print(arr)\n",
        "print(type(arr))"
      ],
      "metadata": {
        "id": "34ZbDQBAxLWX",
        "colab": {
          "base_uri": "https://localhost:8080/"
        },
        "outputId": "8a5cccaa-6ff0-4860-934b-ce0fe6f235a3"
      },
      "execution_count": 4,
      "outputs": [
        {
          "output_type": "stream",
          "name": "stdout",
          "text": [
            "[10 20 30 40]\n",
            "<class 'numpy.ndarray'>\n"
          ]
        }
      ]
    },
    {
      "cell_type": "code",
      "source": [
        "## List\n",
        "\n",
        "l = [10,20,30,40]\n",
        "print(l)\n",
        "print(type(l))"
      ],
      "metadata": {
        "colab": {
          "base_uri": "https://localhost:8080/"
        },
        "id": "H2XyXSB4f0lT",
        "outputId": "744c7228-2321-46f7-c486-1fdce2ca45f6"
      },
      "execution_count": 5,
      "outputs": [
        {
          "output_type": "stream",
          "name": "stdout",
          "text": [
            "[10, 20, 30, 40]\n",
            "<class 'list'>\n"
          ]
        }
      ]
    },
    {
      "cell_type": "code",
      "source": [
        "arr1 = np.array([10,20,30.8])\n",
        "print(arr1)\n",
        "print(type(arr1))"
      ],
      "metadata": {
        "colab": {
          "base_uri": "https://localhost:8080/"
        },
        "id": "JD8XT8Ruf6oc",
        "outputId": "7a1e8dca-7eb9-49f9-d2e1-ba01d468d11b"
      },
      "execution_count": 6,
      "outputs": [
        {
          "output_type": "stream",
          "name": "stdout",
          "text": [
            "[10.  20.  30.8]\n",
            "<class 'numpy.ndarray'>\n"
          ]
        }
      ]
    },
    {
      "cell_type": "code",
      "source": [
        "arr2 = np.array([10,'Blr',13.0,20]) ## Python internally converts the datatype of the elements to the higher datatype when array is defined with different data types\n",
        "print(arr2)\n",
        "print(type(arr2))"
      ],
      "metadata": {
        "colab": {
          "base_uri": "https://localhost:8080/"
        },
        "id": "xp9OE4wPgrQ2",
        "outputId": "6d7df453-8cce-4a0a-add8-1fd27800ffef"
      },
      "execution_count": 7,
      "outputs": [
        {
          "output_type": "stream",
          "name": "stdout",
          "text": [
            "['10' 'Blr' '13.0' '20']\n",
            "<class 'numpy.ndarray'>\n"
          ]
        }
      ]
    },
    {
      "cell_type": "code",
      "source": [
        "#n dimm array\n",
        "\n",
        "n = int(input(\"enter the dim\"))\n",
        "\n",
        "a= np.array([10,20,30], ndmin=n)\n",
        "print(a)\n",
        "print(a.ndim)"
      ],
      "metadata": {
        "colab": {
          "base_uri": "https://localhost:8080/"
        },
        "id": "Jb_m7wCOg1Fj",
        "outputId": "b8bc7093-dc65-4902-d9f6-3fd8b8e8bde1"
      },
      "execution_count": 8,
      "outputs": [
        {
          "output_type": "stream",
          "name": "stdout",
          "text": [
            "enter the dim7\n",
            "[[[[[[[10 20 30]]]]]]]\n",
            "7\n"
          ]
        }
      ]
    }
  ]
}