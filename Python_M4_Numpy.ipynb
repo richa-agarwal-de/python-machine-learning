{
  "nbformat": 4,
  "nbformat_minor": 0,
  "metadata": {
    "colab": {
      "provenance": [],
      "include_colab_link": true
    },
    "kernelspec": {
      "name": "python3",
      "display_name": "Python 3"
    },
    "language_info": {
      "name": "python"
    }
  },
  "cells": [
    {
      "cell_type": "markdown",
      "metadata": {
        "id": "view-in-github",
        "colab_type": "text"
      },
      "source": [
        "<a href=\"https://colab.research.google.com/github/richa-agarwal-de/python-machine-learning/blob/main/Python_M4_Numpy.ipynb\" target=\"_parent\"><img src=\"https://colab.research.google.com/assets/colab-badge.svg\" alt=\"Open In Colab\"/></a>"
      ]
    },
    {
      "cell_type": "markdown",
      "source": [
        "# Numpy Array\n",
        "\n",
        "## List vs Numpy Array\n",
        "### numpy elements separated by space ' '. List elements separated by comma ','\n",
        "### List can have elements of different data types. Numpy array elements should be of same datatype"
      ],
      "metadata": {
        "id": "TtfCemasgBbH"
      }
    },
    {
      "cell_type": "code",
      "execution_count": 2,
      "metadata": {
        "id": "HpmbKqI7jltH"
      },
      "outputs": [],
      "source": [
        "import numpy as np"
      ]
    },
    {
      "cell_type": "code",
      "source": [
        "## Create numpy array\n",
        "\n",
        "arr = np.array([10,20,30,40])\n",
        "print(arr)\n",
        "print(type(arr))"
      ],
      "metadata": {
        "id": "34ZbDQBAxLWX",
        "colab": {
          "base_uri": "https://localhost:8080/"
        },
        "outputId": "8a5cccaa-6ff0-4860-934b-ce0fe6f235a3"
      },
      "execution_count": null,
      "outputs": [
        {
          "output_type": "stream",
          "name": "stdout",
          "text": [
            "[10 20 30 40]\n",
            "<class 'numpy.ndarray'>\n"
          ]
        }
      ]
    },
    {
      "cell_type": "code",
      "source": [
        "## List\n",
        "\n",
        "l = [10,20,30,40]\n",
        "print(l)\n",
        "print(type(l))"
      ],
      "metadata": {
        "colab": {
          "base_uri": "https://localhost:8080/"
        },
        "id": "H2XyXSB4f0lT",
        "outputId": "744c7228-2321-46f7-c486-1fdce2ca45f6"
      },
      "execution_count": null,
      "outputs": [
        {
          "output_type": "stream",
          "name": "stdout",
          "text": [
            "[10, 20, 30, 40]\n",
            "<class 'list'>\n"
          ]
        }
      ]
    },
    {
      "cell_type": "code",
      "source": [
        "arr1 = np.array([10,20,30.8])\n",
        "print(arr1)\n",
        "print(type(arr1))"
      ],
      "metadata": {
        "colab": {
          "base_uri": "https://localhost:8080/"
        },
        "id": "JD8XT8Ruf6oc",
        "outputId": "7a1e8dca-7eb9-49f9-d2e1-ba01d468d11b"
      },
      "execution_count": null,
      "outputs": [
        {
          "output_type": "stream",
          "name": "stdout",
          "text": [
            "[10.  20.  30.8]\n",
            "<class 'numpy.ndarray'>\n"
          ]
        }
      ]
    },
    {
      "cell_type": "code",
      "source": [
        "arr2 = np.array([10,'Blr',13.0,20]) ## Python internally converts the datatype of the elements to the higher datatype when array is defined with different data types\n",
        "print(arr2)\n",
        "print(type(arr2))"
      ],
      "metadata": {
        "colab": {
          "base_uri": "https://localhost:8080/"
        },
        "id": "xp9OE4wPgrQ2",
        "outputId": "6d7df453-8cce-4a0a-add8-1fd27800ffef"
      },
      "execution_count": null,
      "outputs": [
        {
          "output_type": "stream",
          "name": "stdout",
          "text": [
            "['10' 'Blr' '13.0' '20']\n",
            "<class 'numpy.ndarray'>\n"
          ]
        }
      ]
    },
    {
      "cell_type": "code",
      "source": [
        "#n dimm array\n",
        "\n",
        "n = int(input(\"enter the dim\"))\n",
        "\n",
        "a= np.array([10,20,30], ndmin=n)\n",
        "print(a)\n",
        "print(a.ndim)"
      ],
      "metadata": {
        "colab": {
          "base_uri": "https://localhost:8080/"
        },
        "id": "Jb_m7wCOg1Fj",
        "outputId": "f03de262-88f2-4824-b6cd-2561de543c80"
      },
      "execution_count": 3,
      "outputs": [
        {
          "output_type": "stream",
          "name": "stdout",
          "text": [
            "enter the dim5\n",
            "[[[[[10 20 30]]]]]\n",
            "5\n"
          ]
        }
      ]
    },
    {
      "cell_type": "markdown",
      "source": [
        "# Day 2 below. Yet to complete day 1 code above"
      ],
      "metadata": {
        "id": "QYxVDT8upxge"
      }
    },
    {
      "cell_type": "code",
      "source": [
        "## choice - pick random numbers from the given list\n",
        "\n",
        "k = np.random.choice([10,20,30,40,50],size = 3) # this can output duplicate valuesin the array as well\n",
        "print(k)"
      ],
      "metadata": {
        "id": "FzmGAMl9pveF",
        "outputId": "4c9b605f-65ee-437b-b51b-a6a143e40983",
        "colab": {
          "base_uri": "https://localhost:8080/"
        }
      },
      "execution_count": 4,
      "outputs": [
        {
          "output_type": "stream",
          "name": "stdout",
          "text": [
            "[50 20 50]\n"
          ]
        }
      ]
    },
    {
      "cell_type": "code",
      "source": [
        "## choice - pick random numbers from the given list without duplicates\n",
        "\n",
        "k = np.random.choice([10,20,30,40,50],size = 3, replace= False) #replace default is True thats why it generates duplicates. to remove duplicates use replace = False.\n",
        "print(k)"
      ],
      "metadata": {
        "id": "GaVP8HKFqMvI",
        "outputId": "cc15b518-6739-41fa-8742-e206f709a6ef",
        "colab": {
          "base_uri": "https://localhost:8080/"
        }
      },
      "execution_count": 6,
      "outputs": [
        {
          "output_type": "stream",
          "name": "stdout",
          "text": [
            "[10 50 30]\n"
          ]
        }
      ]
    },
    {
      "cell_type": "code",
      "source": [
        "## choice with probability\n",
        "\n",
        "a = np.array([22,33,44])\n",
        "probability = np.array([.5,.1,.4]) # sum of all probability should be 1\n",
        "\n",
        "k = np.random.choice(a, p=probability,size=10)\n",
        "print(k)"
      ],
      "metadata": {
        "id": "4qyq42yFqmyS",
        "outputId": "1fa2b727-6796-4744-e2ab-7afd3e6849b5",
        "colab": {
          "base_uri": "https://localhost:8080/"
        }
      },
      "execution_count": 14,
      "outputs": [
        {
          "output_type": "stream",
          "name": "stdout",
          "text": [
            "[44 44 22 44 44 33 44 44 33 22]\n"
          ]
        }
      ]
    },
    {
      "cell_type": "code",
      "source": [
        "## Choosing random rows\n",
        "\n",
        "arr_2d = np.arange(0,20).reshape(4,5)\n",
        "print(arr_2d)\n",
        "\n",
        "rowno = arr_2d.shape[0]\n",
        "colno = arr_2d.shape[1]\n",
        "print(rowno)\n",
        "print(colno)\n",
        "\n",
        "random_rowindex = np.random.choice(rowno,size=2, replace=False)\n",
        "print(random_rowindex)\n",
        "\n",
        "random_colindex = np.random.choice(colno,size=2,replace=False)\n",
        "print(random_colindex)\n",
        "\n",
        "final_output_rows = arr_2d[random_rowindex]\n",
        "print(final_output_rows)\n",
        "\n",
        "final_output_cols = arr_2d[:,random_colindex]\n",
        "print(final_output_cols)\n",
        "\n",
        "\n",
        "final_output = arr_2d[random_rowindex][:,random_colindex]\n",
        "print(final_output)"
      ],
      "metadata": {
        "id": "1HuuQ7OfrYkz",
        "outputId": "67acae69-29da-45b3-d83d-40943efa0e48",
        "colab": {
          "base_uri": "https://localhost:8080/"
        }
      },
      "execution_count": 46,
      "outputs": [
        {
          "output_type": "stream",
          "name": "stdout",
          "text": [
            "[[ 0  1  2  3  4]\n",
            " [ 5  6  7  8  9]\n",
            " [10 11 12 13 14]\n",
            " [15 16 17 18 19]]\n",
            "4\n",
            "5\n",
            "[3 0]\n",
            "[2 1]\n",
            "[[15 16 17 18 19]\n",
            " [ 0  1  2  3  4]]\n",
            "[[ 2  1]\n",
            " [ 7  6]\n",
            " [12 11]\n",
            " [17 16]]\n",
            "[[17 16]\n",
            " [ 2  1]]\n"
          ]
        }
      ]
    },
    {
      "cell_type": "code",
      "source": [
        "## shuffling the array\n",
        "\n",
        "a = np.arange(0,12).reshape(3,4)\n",
        "print(a)\n",
        "\n",
        "np.random.shuffle(a)\n",
        "print(a)"
      ],
      "metadata": {
        "id": "vwIRlzYEs-TN",
        "outputId": "3a39c7bb-8592-47d1-bd6a-5a4f3753e969",
        "colab": {
          "base_uri": "https://localhost:8080/"
        }
      },
      "execution_count": 50,
      "outputs": [
        {
          "output_type": "stream",
          "name": "stdout",
          "text": [
            "[[ 0  1  2  3]\n",
            " [ 4  5  6  7]\n",
            " [ 8  9 10 11]]\n",
            "[[ 8  9 10 11]\n",
            " [ 4  5  6  7]\n",
            " [ 0  1  2  3]]\n"
          ]
        }
      ]
    },
    {
      "cell_type": "markdown",
      "source": [
        "#### shuffle vs permutation:\n",
        "- shuffle changes array in place\n",
        "- permutation generates new array. original array remains same"
      ],
      "metadata": {
        "id": "JPyahr2UyjEj"
      }
    },
    {
      "cell_type": "code",
      "source": [
        "# permutation - generate shuffled array\n",
        "\n",
        "a = np.random.permutation(12)\n",
        "print(a)\n"
      ],
      "metadata": {
        "id": "bJ_KTTllw5gf",
        "outputId": "5a754a6a-c79e-4017-f234-204f77855a5a",
        "colab": {
          "base_uri": "https://localhost:8080/"
        }
      },
      "execution_count": 54,
      "outputs": [
        {
          "output_type": "stream",
          "name": "stdout",
          "text": [
            "[ 7  1  6  2  4 10  8  9 11  3  5  0]\n"
          ]
        }
      ]
    },
    {
      "cell_type": "code",
      "source": [
        "# permutation - 2d array\n",
        "\n",
        "a = np.random.permutation(12).reshape(3,4)\n",
        "print(a)"
      ],
      "metadata": {
        "id": "0QrbLJZqxNqH",
        "outputId": "6cce7f81-946e-4bde-a0c6-af9eed0c24c9",
        "colab": {
          "base_uri": "https://localhost:8080/"
        }
      },
      "execution_count": 55,
      "outputs": [
        {
          "output_type": "stream",
          "name": "stdout",
          "text": [
            "[[ 2  6  1  7]\n",
            " [11  4  8  5]\n",
            " [ 3 10  0  9]]\n"
          ]
        }
      ]
    },
    {
      "cell_type": "code",
      "source": [
        "# permnutaion 2d array\n",
        "\n",
        "arr_2d = np.arange(12).reshape(3,4)\n",
        "print(arr_2d)\n",
        "\n",
        "perm_arr = np.random.permutation(arr_2d)\n",
        "print(perm_arr)"
      ],
      "metadata": {
        "id": "0Ak_QhQCy0-h",
        "outputId": "e02a1b72-6572-4b4f-dcfb-e9e09f22517f",
        "colab": {
          "base_uri": "https://localhost:8080/"
        }
      },
      "execution_count": 56,
      "outputs": [
        {
          "output_type": "stream",
          "name": "stdout",
          "text": [
            "[[ 0  1  2  3]\n",
            " [ 4  5  6  7]\n",
            " [ 8  9 10 11]]\n",
            "[[ 4  5  6  7]\n",
            " [ 8  9 10 11]\n",
            " [ 0  1  2  3]]\n"
          ]
        }
      ]
    },
    {
      "cell_type": "code",
      "source": [
        "\n",
        "\n",
        "arr_2d = np.arange(0,20).reshape(4,5)\n",
        "print(arr_2d)\n",
        "\n",
        "num_rows = arr_2d.shape[0]\n",
        "print(num_rows)\n",
        "\n",
        "shuffled_index = np.random.permutation(num_rows)\n",
        "print(shuffled_index)\n",
        "\n",
        "shuffled_array = arr_2d[shuffled_index]\n",
        "\n",
        "print(shuffled_array)\n",
        "\n",
        "num_cols = arr_2d.shape[1]\n",
        "print(num_cols)\n",
        "\n",
        "shuffled_index_col = np.random.permutation(num_cols)\n",
        "\n",
        "shuffled_array_col = arr_2d[:,shuffled_index_col]\n",
        "print(shuffled_array_col)"
      ],
      "metadata": {
        "id": "9ffHmkTQzCDc",
        "outputId": "674f10ec-b683-47d1-c791-35b806efb3a9",
        "colab": {
          "base_uri": "https://localhost:8080/"
        }
      },
      "execution_count": 61,
      "outputs": [
        {
          "output_type": "stream",
          "name": "stdout",
          "text": [
            "[[ 0  1  2  3  4]\n",
            " [ 5  6  7  8  9]\n",
            " [10 11 12 13 14]\n",
            " [15 16 17 18 19]]\n",
            "4\n",
            "[2 3 0 1]\n",
            "[[10 11 12 13 14]\n",
            " [15 16 17 18 19]\n",
            " [ 0  1  2  3  4]\n",
            " [ 5  6  7  8  9]]\n",
            "5\n",
            "[[ 1  4  3  2  0]\n",
            " [ 6  9  8  7  5]\n",
            " [11 14 13 12 10]\n",
            " [16 19 18 17 15]]\n"
          ]
        }
      ]
    },
    {
      "cell_type": "markdown",
      "source": [
        "### grouping and splitting"
      ],
      "metadata": {
        "id": "5QS3_rzT08hR"
      }
    },
    {
      "cell_type": "code",
      "source": [
        "arr_1d = np.arange(10)\n",
        "print(arr_1d)\n",
        "\n",
        "arr_2d_0 = np.arange(0,18).reshape(3,6)\n",
        "print(arr_2d_0)\n",
        "\n",
        "arr_2d_1 = np.arange(18,36).reshape(3,6)\n",
        "print(arr_2d_1)\n",
        "\n"
      ],
      "metadata": {
        "id": "7Agp-1MEzger",
        "outputId": "cf662195-46a4-4d90-a2ab-93e1f736e950",
        "colab": {
          "base_uri": "https://localhost:8080/"
        }
      },
      "execution_count": 64,
      "outputs": [
        {
          "output_type": "stream",
          "name": "stdout",
          "text": [
            "[0 1 2 3 4 5 6 7 8 9]\n",
            "[[ 0  1  2  3  4  5]\n",
            " [ 6  7  8  9 10 11]\n",
            " [12 13 14 15 16 17]]\n",
            "[[18 19 20 21 22 23]\n",
            " [24 25 26 27 28 29]\n",
            " [30 31 32 33 34 35]]\n"
          ]
        }
      ]
    },
    {
      "cell_type": "code",
      "source": [
        "## concatenate\n",
        "\n",
        "a = np.concatenate([arr_2d_0,arr_2d_1]) # default concatenation row wise or axis = 0\n",
        "print(a)\n",
        "\n",
        "\n",
        "b = np.concatenate([arr_2d_0,arr_2d_1],axis=1) # to concatenate column wise or axis = 1\n",
        "print(b)"
      ],
      "metadata": {
        "id": "xmB8hVlh0f31",
        "outputId": "dbc4564a-1d82-47ee-88b2-c43dd8b4aa4d",
        "colab": {
          "base_uri": "https://localhost:8080/"
        }
      },
      "execution_count": 67,
      "outputs": [
        {
          "output_type": "stream",
          "name": "stdout",
          "text": [
            "[[ 0  1  2  3  4  5]\n",
            " [ 6  7  8  9 10 11]\n",
            " [12 13 14 15 16 17]\n",
            " [18 19 20 21 22 23]\n",
            " [24 25 26 27 28 29]\n",
            " [30 31 32 33 34 35]]\n",
            "[[ 0  1  2  3  4  5 18 19 20 21 22 23]\n",
            " [ 6  7  8  9 10 11 24 25 26 27 28 29]\n",
            " [12 13 14 15 16 17 30 31 32 33 34 35]]\n"
          ]
        }
      ]
    },
    {
      "cell_type": "code",
      "source": [
        "## np stack or numpy stack\n",
        "\n",
        "a1 = np.array([1,2,3])\n",
        "a2 = np.array([4,5,6])\n",
        "\n",
        "print(np.stack([a1,a2]))\n",
        "\n",
        "print(np.stack([a1,a2],axis=1))"
      ],
      "metadata": {
        "id": "Fi_iDMFJ1GRj",
        "outputId": "202744fa-2acd-4903-f54d-ef1829a6db62",
        "colab": {
          "base_uri": "https://localhost:8080/"
        }
      },
      "execution_count": 69,
      "outputs": [
        {
          "output_type": "stream",
          "name": "stdout",
          "text": [
            "[[1 2 3]\n",
            " [4 5 6]]\n",
            "[[1 4]\n",
            " [2 5]\n",
            " [3 6]]\n"
          ]
        }
      ]
    },
    {
      "cell_type": "code",
      "source": [
        "## stacking 2d array\n",
        "\n",
        "arr_2d_0 = np.arange(0,18).reshape(3,6)\n",
        "print(arr_2d_0)\n",
        "print('\\n****************\\n')\n",
        "arr_2d_1 = np.arange(18,36).reshape(3,6)\n",
        "print(arr_2d_1)\n",
        "print('\\n****************\\n')\n",
        "\n",
        "sarr_0 = np.stack([arr_2d_0,arr_2d_1],axis=0)\n",
        "print(sarr_0)\n",
        "print(sarr_0.shape)\n",
        "print('\\n****************\\n')\n",
        "\n",
        "sarr_1 = np.stack([arr_2d_0,arr_2d_1],axis=1)\n",
        "print(sarr_1)\n",
        "print(sarr_1.shape)\n",
        "print('\\n****************\\n')\n",
        "\n",
        "sarr_2 = np.stack([arr_2d_0,arr_2d_1],axis=2)\n",
        "print(sarr_2)\n",
        "print(sarr_2.shape)\n",
        "print('\\n****************\\n')\n"
      ],
      "metadata": {
        "colab": {
          "base_uri": "https://localhost:8080/"
        },
        "id": "HUSql90p2Iis",
        "outputId": "2e181068-a15e-4802-ae3b-820183d745c5"
      },
      "execution_count": 74,
      "outputs": [
        {
          "output_type": "stream",
          "name": "stdout",
          "text": [
            "[[ 0  1  2  3  4  5]\n",
            " [ 6  7  8  9 10 11]\n",
            " [12 13 14 15 16 17]]\n",
            "\n",
            "****************\n",
            "\n",
            "[[18 19 20 21 22 23]\n",
            " [24 25 26 27 28 29]\n",
            " [30 31 32 33 34 35]]\n",
            "\n",
            "****************\n",
            "\n",
            "[[[ 0  1  2  3  4  5]\n",
            "  [ 6  7  8  9 10 11]\n",
            "  [12 13 14 15 16 17]]\n",
            "\n",
            " [[18 19 20 21 22 23]\n",
            "  [24 25 26 27 28 29]\n",
            "  [30 31 32 33 34 35]]]\n",
            "(2, 3, 6)\n",
            "\n",
            "****************\n",
            "\n",
            "[[[ 0  1  2  3  4  5]\n",
            "  [18 19 20 21 22 23]]\n",
            "\n",
            " [[ 6  7  8  9 10 11]\n",
            "  [24 25 26 27 28 29]]\n",
            "\n",
            " [[12 13 14 15 16 17]\n",
            "  [30 31 32 33 34 35]]]\n",
            "(3, 2, 6)\n",
            "\n",
            "****************\n",
            "\n",
            "[[[ 0 18]\n",
            "  [ 1 19]\n",
            "  [ 2 20]\n",
            "  [ 3 21]\n",
            "  [ 4 22]\n",
            "  [ 5 23]]\n",
            "\n",
            " [[ 6 24]\n",
            "  [ 7 25]\n",
            "  [ 8 26]\n",
            "  [ 9 27]\n",
            "  [10 28]\n",
            "  [11 29]]\n",
            "\n",
            " [[12 30]\n",
            "  [13 31]\n",
            "  [14 32]\n",
            "  [15 33]\n",
            "  [16 34]\n",
            "  [17 35]]]\n",
            "(3, 6, 2)\n",
            "\n",
            "****************\n",
            "\n"
          ]
        }
      ]
    },
    {
      "cell_type": "code",
      "source": [
        "# vertical stacking\n",
        "\n",
        "np.vstack([arr_2d_0,arr_2d_1]) # np.concatenate axis = 0\n"
      ],
      "metadata": {
        "id": "Ylj51azU3Chv",
        "outputId": "2bff34aa-6aaf-4487-f056-79988d31e4c9",
        "colab": {
          "base_uri": "https://localhost:8080/"
        }
      },
      "execution_count": 75,
      "outputs": [
        {
          "output_type": "execute_result",
          "data": {
            "text/plain": [
              "array([[ 0,  1,  2,  3,  4,  5],\n",
              "       [ 6,  7,  8,  9, 10, 11],\n",
              "       [12, 13, 14, 15, 16, 17],\n",
              "       [18, 19, 20, 21, 22, 23],\n",
              "       [24, 25, 26, 27, 28, 29],\n",
              "       [30, 31, 32, 33, 34, 35]])"
            ]
          },
          "metadata": {},
          "execution_count": 75
        }
      ]
    },
    {
      "cell_type": "code",
      "source": [
        "# horizontal stacking\n",
        "\n",
        "np.hstack([arr_2d_0,arr_2d_1]) # np.concatenate axis = 1"
      ],
      "metadata": {
        "id": "v_cImJSK44jT",
        "outputId": "ca60a750-8d7c-47c1-d0de-3c6860dfa946",
        "colab": {
          "base_uri": "https://localhost:8080/"
        }
      },
      "execution_count": 77,
      "outputs": [
        {
          "output_type": "execute_result",
          "data": {
            "text/plain": [
              "array([[ 0,  1,  2,  3,  4,  5, 18, 19, 20, 21, 22, 23],\n",
              "       [ 6,  7,  8,  9, 10, 11, 24, 25, 26, 27, 28, 29],\n",
              "       [12, 13, 14, 15, 16, 17, 30, 31, 32, 33, 34, 35]])"
            ]
          },
          "metadata": {},
          "execution_count": 77
        }
      ]
    },
    {
      "cell_type": "code",
      "source": [
        "# splitting 1d array\n",
        "\n",
        "arr_1d = np.arange(10)\n",
        "print(arr_1d)\n",
        "\n",
        "k = np.split(arr_1d,indices_or_sections=5)\n",
        "\n",
        "print(k)\n",
        "print(k[3])\n",
        "\n",
        "print(type(k))\n",
        "print(type(k[3]))"
      ],
      "metadata": {
        "id": "JrOg_WMr5DbF",
        "outputId": "e5452cef-cef9-4ac4-d9e7-618cccee8c96",
        "colab": {
          "base_uri": "https://localhost:8080/"
        }
      },
      "execution_count": 83,
      "outputs": [
        {
          "output_type": "stream",
          "name": "stdout",
          "text": [
            "[0 1 2 3 4 5 6 7 8 9]\n",
            "[array([0, 1]), array([2, 3]), array([4, 5]), array([6, 7]), array([8, 9])]\n",
            "[6 7]\n",
            "<class 'list'>\n",
            "<class 'numpy.ndarray'>\n"
          ]
        }
      ]
    },
    {
      "cell_type": "code",
      "source": [
        "# split 2d array\n",
        "\n",
        "print(arr_2d_0)\n",
        "\n",
        "k = np.split(arr_2d_0,indices_or_sections=3,axis=0)\n",
        "print(k)"
      ],
      "metadata": {
        "id": "SVMCpMZ25lIg",
        "outputId": "05473ca6-a155-4be3-87ad-6fc3c6f262af",
        "colab": {
          "base_uri": "https://localhost:8080/"
        }
      },
      "execution_count": 84,
      "outputs": [
        {
          "output_type": "stream",
          "name": "stdout",
          "text": [
            "[[ 0  1  2  3  4  5]\n",
            " [ 6  7  8  9 10 11]\n",
            " [12 13 14 15 16 17]]\n",
            "[array([[0, 1, 2, 3, 4, 5]]), array([[ 6,  7,  8,  9, 10, 11]]), array([[12, 13, 14, 15, 16, 17]])]\n"
          ]
        }
      ]
    },
    {
      "cell_type": "code",
      "source": [
        "# split 2d array\n",
        "\n",
        "print(arr_2d_0)\n",
        "\n",
        "k = np.split(arr_2d_0,indices_or_sections=3,axis=1)\n",
        "print(k)"
      ],
      "metadata": {
        "id": "3ly3o_wB6Udf",
        "outputId": "b50b4144-a344-4bee-93b2-20806c7ccf8c",
        "colab": {
          "base_uri": "https://localhost:8080/"
        }
      },
      "execution_count": 85,
      "outputs": [
        {
          "output_type": "stream",
          "name": "stdout",
          "text": [
            "[[ 0  1  2  3  4  5]\n",
            " [ 6  7  8  9 10 11]\n",
            " [12 13 14 15 16 17]]\n",
            "[array([[ 0,  1],\n",
            "       [ 6,  7],\n",
            "       [12, 13]]), array([[ 2,  3],\n",
            "       [ 8,  9],\n",
            "       [14, 15]]), array([[ 4,  5],\n",
            "       [10, 11],\n",
            "       [16, 17]])]\n"
          ]
        }
      ]
    },
    {
      "cell_type": "code",
      "source": [
        "## expanding dimensions -- addiing axis\n",
        "\n",
        "print(arr_2d_0)\n",
        "print(arr_2d_0.ndim)\n",
        "print(arr_2d_0.shape)\n",
        "\n",
        "\n",
        "new_array = np.expand_dims(arr_2d_0, axis=0)\n",
        "print(new_array)\n",
        "print(new_array.ndim)\n",
        "print(new_array.shape)"
      ],
      "metadata": {
        "id": "5wwhO0h06YO2",
        "outputId": "0ee4759c-91c8-459c-dd6a-edc8988d0e96",
        "colab": {
          "base_uri": "https://localhost:8080/"
        }
      },
      "execution_count": 87,
      "outputs": [
        {
          "output_type": "stream",
          "name": "stdout",
          "text": [
            "[[ 0  1  2  3  4  5]\n",
            " [ 6  7  8  9 10 11]\n",
            " [12 13 14 15 16 17]]\n",
            "2\n",
            "(3, 6)\n",
            "[[[ 0  1  2  3  4  5]\n",
            "  [ 6  7  8  9 10 11]\n",
            "  [12 13 14 15 16 17]]]\n",
            "3\n",
            "(1, 3, 6)\n"
          ]
        }
      ]
    },
    {
      "cell_type": "code",
      "source": [
        "## squeeze\n",
        "\n",
        "k = np.squeeze(new_array)\n",
        "print(k)\n",
        "print(k.shape)\n",
        "print(k.ndim)"
      ],
      "metadata": {
        "id": "mkSZdbXl682V",
        "outputId": "980d1b37-bb18-4f74-a3b6-0b0b400f018d",
        "colab": {
          "base_uri": "https://localhost:8080/"
        }
      },
      "execution_count": 88,
      "outputs": [
        {
          "output_type": "stream",
          "name": "stdout",
          "text": [
            "[[ 0  1  2  3  4  5]\n",
            " [ 6  7  8  9 10 11]\n",
            " [12 13 14 15 16 17]]\n",
            "(3, 6)\n",
            "2\n"
          ]
        }
      ]
    },
    {
      "cell_type": "code",
      "source": [
        "# reordering\n",
        "\n",
        "## flip\n",
        "\n",
        "arr_1d = np.arange(10)\n",
        "\n",
        "print(arr_1d)\n",
        "print(np.flip(arr_1d))"
      ],
      "metadata": {
        "id": "qJ_c152I7iiF",
        "outputId": "043a7451-ee40-4c55-bd3a-1312aab81464",
        "colab": {
          "base_uri": "https://localhost:8080/"
        }
      },
      "execution_count": 89,
      "outputs": [
        {
          "output_type": "stream",
          "name": "stdout",
          "text": [
            "[0 1 2 3 4 5 6 7 8 9]\n",
            "[9 8 7 6 5 4 3 2 1 0]\n"
          ]
        }
      ]
    },
    {
      "cell_type": "code",
      "source": [
        "arr_2d = np.arange(10).reshape(2,5)\n",
        "\n",
        "print(arr_2d)\n",
        "print('\\n****************\\n')\n",
        "print(np.flip(arr_2d))\n",
        "print('\\n****************\\n')\n",
        "print(np.flip(arr_2d,axis=0))\n",
        "print('\\n****************\\n')\n",
        "print(np.flip(arr_2d,axis=1))"
      ],
      "metadata": {
        "id": "a0Bs845275HV",
        "outputId": "25c72966-e50c-4204-8604-c45765e55097",
        "colab": {
          "base_uri": "https://localhost:8080/"
        }
      },
      "execution_count": 94,
      "outputs": [
        {
          "output_type": "stream",
          "name": "stdout",
          "text": [
            "[[0 1 2 3 4]\n",
            " [5 6 7 8 9]]\n",
            "\n",
            "****************\n",
            "\n",
            "[[9 8 7 6 5]\n",
            " [4 3 2 1 0]]\n",
            "\n",
            "****************\n",
            "\n",
            "[[5 6 7 8 9]\n",
            " [0 1 2 3 4]]\n",
            "\n",
            "****************\n",
            "\n",
            "[[4 3 2 1 0]\n",
            " [9 8 7 6 5]]\n"
          ]
        }
      ]
    },
    {
      "cell_type": "code",
      "source": [
        "# resize\n",
        "\n",
        "print(arr_2d)\n",
        "print('\\n****************\\n')\n",
        "print(np.resize(arr_2d, new_shape=8))\n",
        "print('\\n****************\\n')\n",
        "print(np.resize(arr_2d,new_shape=(4,2)))\n",
        "\n",
        "print('\\n****************\\n')\n",
        "print(np.resize(arr_2d,new_shape=(4,4))) #if  new arr elements more than provided array elements, it repeats the array\n",
        "\n",
        "print('\\n****************\\n')\n",
        "print(arr_2d.reshape(5,2))\n",
        "\n"
      ],
      "metadata": {
        "id": "6Qb_lHBq8FBu",
        "outputId": "88a2eb30-afdb-45f9-b53e-27cdf5882512",
        "colab": {
          "base_uri": "https://localhost:8080/"
        }
      },
      "execution_count": 102,
      "outputs": [
        {
          "output_type": "stream",
          "name": "stdout",
          "text": [
            "[[0 1 2 3 4]\n",
            " [5 6 7 8 9]]\n",
            "\n",
            "****************\n",
            "\n",
            "[0 1 2 3 4 5 6 7]\n",
            "\n",
            "****************\n",
            "\n",
            "[[0 1]\n",
            " [2 3]\n",
            " [4 5]\n",
            " [6 7]]\n",
            "\n",
            "****************\n",
            "\n",
            "[[0 1 2 3]\n",
            " [4 5 6 7]\n",
            " [8 9 0 1]\n",
            " [2 3 4 5]]\n",
            "\n",
            "****************\n",
            "\n",
            "[[0 1]\n",
            " [2 3]\n",
            " [4 5]\n",
            " [6 7]\n",
            " [8 9]]\n"
          ]
        }
      ]
    },
    {
      "cell_type": "code",
      "source": [],
      "metadata": {
        "id": "-6Qec7g98nu0"
      },
      "execution_count": null,
      "outputs": []
    }
  ]
}