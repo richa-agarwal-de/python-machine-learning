{
  "nbformat": 4,
  "nbformat_minor": 0,
  "metadata": {
    "colab": {
      "provenance": [],
      "include_colab_link": true
    },
    "kernelspec": {
      "name": "python3",
      "display_name": "Python 3"
    },
    "language_info": {
      "name": "python"
    }
  },
  "cells": [
    {
      "cell_type": "markdown",
      "metadata": {
        "id": "view-in-github",
        "colab_type": "text"
      },
      "source": [
        "<a href=\"https://colab.research.google.com/github/richa-agarwal-de/python-machine-learning/blob/main/Python_M2_Day1.ipynb\" target=\"_parent\"><img src=\"https://colab.research.google.com/assets/colab-badge.svg\" alt=\"Open In Colab\"/></a>"
      ]
    },
    {
      "cell_type": "markdown",
      "source": [
        "# Functions"
      ],
      "metadata": {
        "id": "h32KJ7HLU0dr"
      }
    },
    {
      "cell_type": "code",
      "execution_count": null,
      "metadata": {
        "colab": {
          "base_uri": "https://localhost:8080/"
        },
        "id": "HpmbKqI7jltH",
        "outputId": "b286fd30-8409-4381-edf6-cf7835e702b3"
      },
      "outputs": [
        {
          "output_type": "stream",
          "name": "stdout",
          "text": [
            "before function call\n",
            "hello world\n",
            "Welcome\n",
            "after function call\n"
          ]
        }
      ],
      "source": [
        "# simple function\n",
        "\n",
        "def fun():\n",
        "  print(\"hello world\")\n",
        "  print(\"Welcome\")\n",
        "\n",
        "print(\"before function call\")\n",
        "fun()\n",
        "print(\"after function call\")"
      ]
    },
    {
      "cell_type": "code",
      "source": [
        "fun()"
      ],
      "metadata": {
        "id": "34ZbDQBAxLWX",
        "colab": {
          "base_uri": "https://localhost:8080/"
        },
        "outputId": "2c184479-12fd-4e65-8ff7-4b7504c58587"
      },
      "execution_count": null,
      "outputs": [
        {
          "output_type": "stream",
          "name": "stdout",
          "text": [
            "hello world\n"
          ]
        }
      ]
    },
    {
      "cell_type": "code",
      "source": [
        "# function to print square of an integer\n",
        "\n",
        "## without argument, without return value\n",
        "\n",
        "def square():\n",
        "  n = int(input(\"Enter an integer: \"))\n",
        "  print(\"square of \",n,\" = \",n*n)\n",
        "\n",
        "square()\n"
      ],
      "metadata": {
        "colab": {
          "base_uri": "https://localhost:8080/"
        },
        "id": "1PK0Mz09YE_-",
        "outputId": "fffd3310-36f0-48b5-99ad-319ed534dc68"
      },
      "execution_count": null,
      "outputs": [
        {
          "output_type": "stream",
          "name": "stdout",
          "text": [
            "Enter an integer: 5\n",
            "square of  5  =  25\n"
          ]
        }
      ]
    },
    {
      "cell_type": "code",
      "source": [
        "# function to print square of an integer\n",
        "\n",
        "## with arguments , with return value\n",
        "\n",
        "def square(x):\n",
        "  return x**2\n",
        "\n",
        "n = int(input(\"Enter an integer: \"))\n",
        "sq = square(n)\n",
        "print(\"square of \",n,\" = \",sq)\n"
      ],
      "metadata": {
        "colab": {
          "base_uri": "https://localhost:8080/"
        },
        "id": "BWTi3QumZYVR",
        "outputId": "df4ade53-4758-4304-b797-b7d1a67ff0f3"
      },
      "execution_count": null,
      "outputs": [
        {
          "output_type": "stream",
          "name": "stdout",
          "text": [
            "Enter an integer: 5\n",
            "square of  5  =  25\n"
          ]
        }
      ]
    },
    {
      "cell_type": "code",
      "source": [
        "# function to print square of an integer\n",
        "\n",
        "## with arguments , without return value\n",
        "\n",
        "def square(x):\n",
        "  print(\"square of \",x,\" = \",x**2)\n",
        "\n",
        "n = int(input(\"Enter an integer: \"))\n",
        "square(n)"
      ],
      "metadata": {
        "id": "vLsOjeu7dmh0",
        "outputId": "2bafb2d1-97a2-4a22-a2fe-a0e69112da3e",
        "colab": {
          "base_uri": "https://localhost:8080/"
        }
      },
      "execution_count": null,
      "outputs": [
        {
          "output_type": "stream",
          "name": "stdout",
          "text": [
            "Enter an integer: 5\n",
            "square of  5  =  25\n"
          ]
        }
      ]
    },
    {
      "cell_type": "code",
      "source": [
        "# function to print square of an integer\n",
        "\n",
        "## without arguments , with return value\n",
        "\n",
        "def square():\n",
        "  x = int(input(\"Enter an integer: \"))\n",
        "  return (x,x**2)\n",
        "\n",
        "n,sq = square()\n",
        "print(\"square of \",n,\" = \",sq)\n"
      ],
      "metadata": {
        "id": "sK0wtKHLd77c",
        "outputId": "3c647dbc-d6f6-48e6-8d1a-5a348c3ea52a",
        "colab": {
          "base_uri": "https://localhost:8080/"
        }
      },
      "execution_count": null,
      "outputs": [
        {
          "output_type": "stream",
          "name": "stdout",
          "text": [
            "Enter an integer: 5\n",
            "square of  5  =  25\n"
          ]
        }
      ]
    },
    {
      "cell_type": "code",
      "source": [
        "# recursinve function\n",
        "\n",
        "def fact(n):\n",
        "  if n == 0:\n",
        "    return 1\n",
        "  else:\n",
        "    return n*fact(n-1)\n",
        "\n",
        "fact(5)"
      ],
      "metadata": {
        "id": "WKSRo_VYea-R",
        "outputId": "5f4c8471-4a79-4b19-aff1-34e286adbbf2",
        "colab": {
          "base_uri": "https://localhost:8080/"
        }
      },
      "execution_count": null,
      "outputs": [
        {
          "output_type": "execute_result",
          "data": {
            "text/plain": [
              "120"
            ]
          },
          "metadata": {},
          "execution_count": 15
        }
      ]
    },
    {
      "cell_type": "code",
      "source": [
        "# return multiple values\n",
        "\n",
        "def func():\n",
        "  return 10,20,30,40   ### dont need to define it as tuple. python automatically makes it a tuple\n",
        "\n",
        "a,b,c,d = func()\n",
        "print(a,b,c,d)\n",
        "print(func())\n",
        "print(type(func()))"
      ],
      "metadata": {
        "id": "1Cyt8Fg3fzep",
        "outputId": "4a4ce330-7415-4e19-f73e-918066df8f60",
        "colab": {
          "base_uri": "https://localhost:8080/"
        }
      },
      "execution_count": null,
      "outputs": [
        {
          "output_type": "stream",
          "name": "stdout",
          "text": [
            "10 20 30 40\n",
            "(10, 20, 30, 40)\n",
            "<class 'tuple'>\n"
          ]
        }
      ]
    },
    {
      "cell_type": "code",
      "source": [
        "def test1():\n",
        "  list1 = [10,20,30]\n",
        "  tuple1 = (30,40,50)\n",
        "  return list1,tuple1\n",
        "\n",
        "x,y = test1()\n",
        "\n",
        "print(type(x))\n",
        "print(x)\n",
        "print(type(y))\n",
        "print(y)\n",
        "\n",
        "z = test1()\n",
        "print(z)\n",
        "print(type(z))\n",
        "\n",
        "print(test1()[0])\n",
        "print(test1()[0][1])\n",
        "print(test1()[1][1:3])"
      ],
      "metadata": {
        "id": "-FYayJG1g5_k",
        "outputId": "fe724b59-dc88-441a-90f4-3254c896060c",
        "colab": {
          "base_uri": "https://localhost:8080/"
        }
      },
      "execution_count": null,
      "outputs": [
        {
          "output_type": "stream",
          "name": "stdout",
          "text": [
            "<class 'list'>\n",
            "[10, 20, 30]\n",
            "<class 'tuple'>\n",
            "(30, 40, 50)\n",
            "([10, 20, 30], (30, 40, 50))\n",
            "<class 'tuple'>\n",
            "[10, 20, 30]\n",
            "20\n",
            "(40, 50)\n"
          ]
        }
      ]
    },
    {
      "cell_type": "code",
      "source": [
        "## use underscore _ to ignore values which are not required\n",
        "\n",
        "def func():\n",
        "  return 10,20,30,40\n",
        "\n",
        "_,val2,_,val4 = func()\n",
        "print(val2,val4)\n",
        "\n",
        "a,a,a,a = func()\n",
        "print(a)\n",
        "\n"
      ],
      "metadata": {
        "id": "4xiqNMCbhvsy",
        "outputId": "d6f379ac-67ff-4cf8-a85d-7cef4827e625",
        "colab": {
          "base_uri": "https://localhost:8080/"
        }
      },
      "execution_count": null,
      "outputs": [
        {
          "output_type": "stream",
          "name": "stdout",
          "text": [
            "20 40\n",
            "40\n"
          ]
        }
      ]
    },
    {
      "cell_type": "code",
      "source": [
        "# Function calling another function\n",
        "\n",
        "def test1():\n",
        "  print(\"I am inside test1\")\n",
        "  test2()\n",
        "  print(\"I am back to test1\")\n",
        "\n",
        "def test2():\n",
        "  print(\"I am in test2\")\n",
        "  print(\"going back\")\n",
        "  return\n",
        "\n",
        "print(\"Starting program call\")\n",
        "test1()\n",
        "print(\"End of program\")\n"
      ],
      "metadata": {
        "id": "jI5KCKkylGqk",
        "outputId": "99ca9e57-26d7-47ba-d536-486b375753f9",
        "colab": {
          "base_uri": "https://localhost:8080/"
        }
      },
      "execution_count": null,
      "outputs": [
        {
          "output_type": "stream",
          "name": "stdout",
          "text": [
            "Starting program call\n",
            "I am inside test1\n",
            "I am in test2\n",
            "going back\n",
            "I am back to test1\n",
            "End of program\n"
          ]
        }
      ]
    },
    {
      "cell_type": "code",
      "source": [
        "# Local variable - Life\n",
        "\n",
        "def test():\n",
        "  x = 1000000000\n",
        "  print(x)\n",
        "  print(id(x))\n",
        "  x+=1\n",
        "  print(x)\n",
        "  print(id(x))\n",
        "\n",
        "test()\n",
        "test()\n",
        "test()"
      ],
      "metadata": {
        "id": "iAg2MWemA-TM",
        "outputId": "851472f9-4833-4b5a-b599-6f7c56cdf843",
        "colab": {
          "base_uri": "https://localhost:8080/"
        }
      },
      "execution_count": null,
      "outputs": [
        {
          "output_type": "stream",
          "name": "stdout",
          "text": [
            "1000000000\n",
            "135559546863376\n",
            "1000000001\n",
            "135559546861200\n",
            "1000000000\n",
            "135559546863376\n",
            "1000000001\n",
            "135559546861872\n",
            "1000000000\n",
            "135559546863376\n",
            "1000000001\n",
            "135559546861200\n"
          ]
        }
      ]
    },
    {
      "cell_type": "code",
      "source": [
        "# Local variable - scope\n",
        "\n",
        "def test():\n",
        "  x = 1000000000\n",
        "  print(x)\n",
        "  print(id(x))\n",
        "  x+=1\n",
        "  print(x)\n",
        "  print(id(x))\n",
        "\n",
        "test()\n",
        "print(x) ## scope of x is only within function test()\n",
        "test()\n",
        "test()"
      ],
      "metadata": {
        "id": "pE0yUpGSDZ33",
        "outputId": "2a4a4257-ec09-418a-9e81-60750c60bb54",
        "colab": {
          "base_uri": "https://localhost:8080/",
          "height": 280
        }
      },
      "execution_count": null,
      "outputs": [
        {
          "output_type": "stream",
          "name": "stdout",
          "text": [
            "1000000000\n",
            "135559546860432\n",
            "1000000001\n",
            "135559546861360\n"
          ]
        },
        {
          "output_type": "error",
          "ename": "NameError",
          "evalue": "name 'x' is not defined",
          "traceback": [
            "\u001b[0;31m---------------------------------------------------------------------------\u001b[0m",
            "\u001b[0;31mNameError\u001b[0m                                 Traceback (most recent call last)",
            "\u001b[0;32m<ipython-input-9-bd1b7ce0be52>\u001b[0m in \u001b[0;36m<cell line: 0>\u001b[0;34m()\u001b[0m\n\u001b[1;32m     10\u001b[0m \u001b[0;34m\u001b[0m\u001b[0m\n\u001b[1;32m     11\u001b[0m \u001b[0mtest\u001b[0m\u001b[0;34m(\u001b[0m\u001b[0;34m)\u001b[0m\u001b[0;34m\u001b[0m\u001b[0;34m\u001b[0m\u001b[0m\n\u001b[0;32m---> 12\u001b[0;31m \u001b[0mprint\u001b[0m\u001b[0;34m(\u001b[0m\u001b[0mx\u001b[0m\u001b[0;34m)\u001b[0m\u001b[0;34m\u001b[0m\u001b[0;34m\u001b[0m\u001b[0m\n\u001b[0m\u001b[1;32m     13\u001b[0m \u001b[0mtest\u001b[0m\u001b[0;34m(\u001b[0m\u001b[0;34m)\u001b[0m\u001b[0;34m\u001b[0m\u001b[0;34m\u001b[0m\u001b[0m\n\u001b[1;32m     14\u001b[0m \u001b[0mtest\u001b[0m\u001b[0;34m(\u001b[0m\u001b[0;34m)\u001b[0m\u001b[0;34m\u001b[0m\u001b[0;34m\u001b[0m\u001b[0m\n",
            "\u001b[0;31mNameError\u001b[0m: name 'x' is not defined"
          ]
        }
      ]
    },
    {
      "cell_type": "code",
      "source": [
        "# Global variable\n",
        "\n",
        "n = 10\n",
        "\n",
        "def fun():\n",
        "  print(n)\n",
        "\n",
        "print(n)\n",
        "fun()\n",
        "n+=1\n",
        "print(n)\n",
        "fun()"
      ],
      "metadata": {
        "id": "mf1rZoLdD_F0",
        "outputId": "9a86779e-294b-499b-ac86-8b99d9dc0011",
        "colab": {
          "base_uri": "https://localhost:8080/"
        }
      },
      "execution_count": null,
      "outputs": [
        {
          "output_type": "stream",
          "name": "stdout",
          "text": [
            "10\n",
            "10\n",
            "11\n",
            "11\n"
          ]
        }
      ]
    },
    {
      "cell_type": "code",
      "source": [
        "# global vs local variable\n",
        "\n",
        "n = 10\n",
        "\n",
        "def test():\n",
        "##  print(n)  if variable is getting modified in anyways or assigned then it needs to be local variable or use global keyword\n",
        "  n = 5\n",
        "  print(n)\n",
        "\n",
        "print(n)\n",
        "print(\"calling test\")\n",
        "test()\n",
        "print(\"returned from test\")\n",
        "print(n)"
      ],
      "metadata": {
        "id": "Uq5CBECOEYsz",
        "outputId": "009d5a72-c7fe-420d-a2fe-a1b58f599ba2",
        "colab": {
          "base_uri": "https://localhost:8080/",
          "height": 367
        }
      },
      "execution_count": null,
      "outputs": [
        {
          "output_type": "stream",
          "name": "stdout",
          "text": [
            "10\n",
            "calling test\n"
          ]
        },
        {
          "output_type": "error",
          "ename": "UnboundLocalError",
          "evalue": "cannot access local variable 'n' where it is not associated with a value",
          "traceback": [
            "\u001b[0;31m---------------------------------------------------------------------------\u001b[0m",
            "\u001b[0;31mUnboundLocalError\u001b[0m                         Traceback (most recent call last)",
            "\u001b[0;32m<ipython-input-23-ba3d08a66279>\u001b[0m in \u001b[0;36m<cell line: 0>\u001b[0;34m()\u001b[0m\n\u001b[1;32m     10\u001b[0m \u001b[0mprint\u001b[0m\u001b[0;34m(\u001b[0m\u001b[0mn\u001b[0m\u001b[0;34m)\u001b[0m\u001b[0;34m\u001b[0m\u001b[0;34m\u001b[0m\u001b[0m\n\u001b[1;32m     11\u001b[0m \u001b[0mprint\u001b[0m\u001b[0;34m(\u001b[0m\u001b[0;34m\"calling test\"\u001b[0m\u001b[0;34m)\u001b[0m\u001b[0;34m\u001b[0m\u001b[0;34m\u001b[0m\u001b[0m\n\u001b[0;32m---> 12\u001b[0;31m \u001b[0mtest\u001b[0m\u001b[0;34m(\u001b[0m\u001b[0;34m)\u001b[0m\u001b[0;34m\u001b[0m\u001b[0;34m\u001b[0m\u001b[0m\n\u001b[0m\u001b[1;32m     13\u001b[0m \u001b[0mprint\u001b[0m\u001b[0;34m(\u001b[0m\u001b[0;34m\"returned from test\"\u001b[0m\u001b[0;34m)\u001b[0m\u001b[0;34m\u001b[0m\u001b[0;34m\u001b[0m\u001b[0m\n\u001b[1;32m     14\u001b[0m \u001b[0mprint\u001b[0m\u001b[0;34m(\u001b[0m\u001b[0mn\u001b[0m\u001b[0;34m)\u001b[0m\u001b[0;34m\u001b[0m\u001b[0;34m\u001b[0m\u001b[0m\n",
            "\u001b[0;32m<ipython-input-23-ba3d08a66279>\u001b[0m in \u001b[0;36mtest\u001b[0;34m()\u001b[0m\n\u001b[1;32m      4\u001b[0m \u001b[0;34m\u001b[0m\u001b[0m\n\u001b[1;32m      5\u001b[0m \u001b[0;32mdef\u001b[0m \u001b[0mtest\u001b[0m\u001b[0;34m(\u001b[0m\u001b[0;34m)\u001b[0m\u001b[0;34m:\u001b[0m\u001b[0;34m\u001b[0m\u001b[0;34m\u001b[0m\u001b[0m\n\u001b[0;32m----> 6\u001b[0;31m   \u001b[0mprint\u001b[0m\u001b[0;34m(\u001b[0m\u001b[0mn\u001b[0m\u001b[0;34m)\u001b[0m\u001b[0;34m\u001b[0m\u001b[0;34m\u001b[0m\u001b[0m\n\u001b[0m\u001b[1;32m      7\u001b[0m   \u001b[0mn\u001b[0m \u001b[0;34m=\u001b[0m \u001b[0;36m5\u001b[0m\u001b[0;34m\u001b[0m\u001b[0;34m\u001b[0m\u001b[0m\n\u001b[1;32m      8\u001b[0m   \u001b[0mprint\u001b[0m\u001b[0;34m(\u001b[0m\u001b[0mn\u001b[0m\u001b[0;34m)\u001b[0m\u001b[0;34m\u001b[0m\u001b[0;34m\u001b[0m\u001b[0m\n",
            "\u001b[0;31mUnboundLocalError\u001b[0m: cannot access local variable 'n' where it is not associated with a value"
          ]
        }
      ]
    },
    {
      "cell_type": "code",
      "source": [
        "# global keyword\n",
        "\n",
        "n = 10\n",
        "\n",
        "def test1():\n",
        "  global n\n",
        "  print(n)\n",
        "  n+=1\n",
        "  print(n)\n",
        "\n",
        "def test2():\n",
        "  global n\n",
        "  n = 5\n",
        "  print(n)\n",
        "\n",
        "test1()\n",
        "print(n)\n",
        "test2()\n",
        "print(n)"
      ],
      "metadata": {
        "id": "R5B2XC_DFW1-",
        "outputId": "0d152fea-7eb2-4496-976f-23dbe83e7f09",
        "colab": {
          "base_uri": "https://localhost:8080/"
        }
      },
      "execution_count": null,
      "outputs": [
        {
          "output_type": "stream",
          "name": "stdout",
          "text": [
            "10\n",
            "11\n",
            "11\n",
            "5\n",
            "5\n"
          ]
        }
      ]
    },
    {
      "cell_type": "code",
      "source": [
        "# function is also an object in python\n",
        "\n",
        "def fun():\n",
        "  print(\"In function\")\n",
        "\n",
        "print(type(fun))\n",
        "\n"
      ],
      "metadata": {
        "id": "5yp1-rMHGiXJ",
        "outputId": "0830fc53-8fe3-451e-8f32-b94b57564c3e",
        "colab": {
          "base_uri": "https://localhost:8080/"
        }
      },
      "execution_count": null,
      "outputs": [
        {
          "output_type": "stream",
          "name": "stdout",
          "text": [
            "<class 'function'>\n"
          ]
        }
      ]
    },
    {
      "cell_type": "code",
      "source": [
        "# nested function, function returned as object\n",
        "\n",
        "def multiplier_factory(factor):\n",
        "  # Nested function\n",
        "  def multiplier(number):\n",
        "    return number*factor\n",
        "  return multiplier # returning inner function\n",
        "\n",
        "multiply_by_5 = multiplier_factory(5)\n",
        "multiply_by_10 = multiplier_factory(10)\n",
        "\n",
        "print(multiply_by_5(8))\n",
        "print(multiply_by_10(8))"
      ],
      "metadata": {
        "id": "lR923KXzH1bA",
        "outputId": "a6d5c3ff-fdeb-4d3e-ebb2-6dc8b00abaf0",
        "colab": {
          "base_uri": "https://localhost:8080/"
        }
      },
      "execution_count": null,
      "outputs": [
        {
          "output_type": "stream",
          "name": "stdout",
          "text": [
            "40\n",
            "80\n"
          ]
        }
      ]
    },
    {
      "cell_type": "code",
      "source": [
        "# alias name for a function\n",
        "\n",
        "def test():\n",
        "  print(\"Hello world\")\n",
        "\n",
        "a = test\n",
        "\n",
        "a()"
      ],
      "metadata": {
        "id": "9oElG8-gJnAz",
        "outputId": "08b865db-85a4-4d11-9bf7-598a1a1d0498",
        "colab": {
          "base_uri": "https://localhost:8080/"
        }
      },
      "execution_count": null,
      "outputs": [
        {
          "output_type": "stream",
          "name": "stdout",
          "text": [
            "Hello world\n"
          ]
        }
      ]
    },
    {
      "cell_type": "code",
      "source": [
        "def test():\n",
        "  print(\"Hello world\")\n",
        "  print(\"updated function\")\n",
        "\n",
        "a()"
      ],
      "metadata": {
        "id": "2oVXuabwKtLm",
        "outputId": "f0d098ec-1fbe-4d24-b7c8-eae7b3fb137f",
        "colab": {
          "base_uri": "https://localhost:8080/"
        }
      },
      "execution_count": null,
      "outputs": [
        {
          "output_type": "stream",
          "name": "stdout",
          "text": [
            "Hello world\n"
          ]
        }
      ]
    },
    {
      "cell_type": "code",
      "source": [
        "# Positional arguments or required arguments\n",
        "\n",
        "def test(name, age, city):\n",
        "  print(\"Name: \",name,\"\\nage: \",age,\"\\nCity: \",city)\n",
        "\n",
        "test(\"Ram\",23,\"Delhi\")\n",
        "test(23,\"Delhi\",\"Raman\")\n",
        "\n",
        "test(\"ram\",23)"
      ],
      "metadata": {
        "id": "SNdb0aPLK43y",
        "outputId": "90ed5236-b5b3-4edb-bf85-30f9af410cb2",
        "colab": {
          "base_uri": "https://localhost:8080/",
          "height": 280
        }
      },
      "execution_count": null,
      "outputs": [
        {
          "output_type": "stream",
          "name": "stdout",
          "text": [
            "Name:  Ram \n",
            "age:  23 \n",
            "City:  Delhi\n",
            "Name:  23 \n",
            "age:  Delhi \n",
            "City:  Raman\n"
          ]
        },
        {
          "output_type": "error",
          "ename": "TypeError",
          "evalue": "test() missing 1 required positional argument: 'city'",
          "traceback": [
            "\u001b[0;31m---------------------------------------------------------------------------\u001b[0m",
            "\u001b[0;31mTypeError\u001b[0m                                 Traceback (most recent call last)",
            "\u001b[0;32m<ipython-input-40-3c28995dfbfa>\u001b[0m in \u001b[0;36m<cell line: 0>\u001b[0;34m()\u001b[0m\n\u001b[1;32m      7\u001b[0m \u001b[0mtest\u001b[0m\u001b[0;34m(\u001b[0m\u001b[0;36m23\u001b[0m\u001b[0;34m,\u001b[0m\u001b[0;34m\"Delhi\"\u001b[0m\u001b[0;34m,\u001b[0m\u001b[0;34m\"Raman\"\u001b[0m\u001b[0;34m)\u001b[0m\u001b[0;34m\u001b[0m\u001b[0;34m\u001b[0m\u001b[0m\n\u001b[1;32m      8\u001b[0m \u001b[0;34m\u001b[0m\u001b[0m\n\u001b[0;32m----> 9\u001b[0;31m \u001b[0mtest\u001b[0m\u001b[0;34m(\u001b[0m\u001b[0;34m\"ram\"\u001b[0m\u001b[0;34m,\u001b[0m\u001b[0;36m23\u001b[0m\u001b[0;34m)\u001b[0m\u001b[0;34m\u001b[0m\u001b[0;34m\u001b[0m\u001b[0m\n\u001b[0m",
            "\u001b[0;31mTypeError\u001b[0m: test() missing 1 required positional argument: 'city'"
          ]
        }
      ]
    },
    {
      "cell_type": "code",
      "source": [
        "# Keyword arguments\n",
        "\n",
        "def test(name, age, city):\n",
        "  print(\"Name: \",name,\"\\nAge: \",age,\"\\nCity: \",city)\n",
        "\n",
        "test(\"Ram\",25,\"Delhi\") # Positional arguments\n",
        "\n",
        "test(age=23,city='Delhi',name=\"Raman\") # Keyword arguments\n",
        "\n",
        "test(\"Rama\",26,city='Mum')  # Positional arguments first, followed by Keyword arguments\n",
        "\n",
        "test(name=\"Ramesh\",24,\"Mum\") # Positional argument cannot come after Keyword arguments\n"
      ],
      "metadata": {
        "id": "CmNlgK-aMRzG",
        "outputId": "298bd347-a188-4ba3-f24b-773636a8b3ab",
        "colab": {
          "base_uri": "https://localhost:8080/",
          "height": 106
        }
      },
      "execution_count": null,
      "outputs": [
        {
          "output_type": "error",
          "ename": "SyntaxError",
          "evalue": "positional argument follows keyword argument (<ipython-input-46-98d2520dccdf>, line 12)",
          "traceback": [
            "\u001b[0;36m  File \u001b[0;32m\"<ipython-input-46-98d2520dccdf>\"\u001b[0;36m, line \u001b[0;32m12\u001b[0m\n\u001b[0;31m    test(name=\"Ramesh\",24,\"Mum\")\u001b[0m\n\u001b[0m                               ^\u001b[0m\n\u001b[0;31mSyntaxError\u001b[0m\u001b[0;31m:\u001b[0m positional argument follows keyword argument\n"
          ]
        }
      ]
    },
    {
      "cell_type": "code",
      "source": [
        "# Keyword arguments and Positional arguments combined\n",
        "\n",
        "def test(name, age, city, curr_city):\n",
        "  print(\"Name: \",name,\"\\nAge: \",age,\"\\nCity: \",city,\"\\nCurrent City: \",curr_city)\n",
        "\n",
        "\n",
        "\n",
        "test(\"Raman\",23,curr_city=\"Mum\",city='Delhi') # Keyword arguments"
      ],
      "metadata": {
        "id": "MuxbR9eFM11o",
        "outputId": "8fe2d8eb-52c1-427a-8153-158a222f1f2e",
        "colab": {
          "base_uri": "https://localhost:8080/"
        }
      },
      "execution_count": null,
      "outputs": [
        {
          "output_type": "stream",
          "name": "stdout",
          "text": [
            "Name:  Raman \n",
            "Age:  23 \n",
            "City:  Delhi \n",
            "Current City:  Mum\n"
          ]
        }
      ]
    },
    {
      "cell_type": "code",
      "source": [
        "# Default arguments\n",
        "\n",
        "def student(name, age, college=\"UVCE\"):\n",
        "  print(name,age,college)\n",
        "\n",
        "student(\"A\",12,\"RVCE\")\n",
        "student(\"B\",13)"
      ],
      "metadata": {
        "id": "eSUhu8srOTCO",
        "outputId": "9b7d2cc4-00ef-44b5-8d41-42a0452b8275",
        "colab": {
          "base_uri": "https://localhost:8080/"
        }
      },
      "execution_count": null,
      "outputs": [
        {
          "output_type": "stream",
          "name": "stdout",
          "text": [
            "A 12 RVCE\n",
            "B 13 UVCE\n"
          ]
        }
      ]
    },
    {
      "cell_type": "code",
      "source": [
        "## Order of arguments\n",
        "\n",
        "# Postional arguments ---> Keyword arguments ---> Default arguments\n",
        "\n",
        "student(\"C\",college = \"RVCE\",age = 23)\n",
        "student(\"D\",,age=23)"
      ],
      "metadata": {
        "id": "5ds3CXhwQcGc",
        "outputId": "e94d0cf6-d1fd-4a35-b89d-594db521dd8f",
        "colab": {
          "base_uri": "https://localhost:8080/",
          "height": 106
        }
      },
      "execution_count": null,
      "outputs": [
        {
          "output_type": "error",
          "ename": "SyntaxError",
          "evalue": "invalid syntax (<ipython-input-51-72a9094feb2f>, line 6)",
          "traceback": [
            "\u001b[0;36m  File \u001b[0;32m\"<ipython-input-51-72a9094feb2f>\"\u001b[0;36m, line \u001b[0;32m6\u001b[0m\n\u001b[0;31m    student(\"D\",,age=23)\u001b[0m\n\u001b[0m                ^\u001b[0m\n\u001b[0;31mSyntaxError\u001b[0m\u001b[0;31m:\u001b[0m invalid syntax\n"
          ]
        }
      ]
    },
    {
      "cell_type": "code",
      "source": [
        "# Variable length arguments with positional arguments --- use *\n",
        "\n",
        "def add(*x):\n",
        "  sum = 0\n",
        "  print(x)\n",
        "  print(type(x))\n",
        "  for i in x:\n",
        "    sum+=i\n",
        "  return sum\n",
        "\n",
        "print(add(1,2))\n",
        "print(add(1,2,3))\n",
        "print(add(1))\n",
        "#print(add(x=1)) ## throws error as passing keyword arguments.\n",
        "\n",
        "#print(add([1,2,3])) ## throws error as passing list and list is not handled in the function\n",
        "#print(add((1,2,3))) ## throws error as passing tuple is not handled in the function. the arguments should be passed as integers which will be automatically converted into tuple\n"
      ],
      "metadata": {
        "id": "1wG5YxCZRbDt",
        "outputId": "c1b08ff2-1b15-42d9-cedd-8c39f7f0c65e",
        "colab": {
          "base_uri": "https://localhost:8080/",
          "height": 488
        }
      },
      "execution_count": 9,
      "outputs": [
        {
          "output_type": "stream",
          "name": "stdout",
          "text": [
            "(1, 2)\n",
            "<class 'tuple'>\n",
            "3\n",
            "(1, 2, 3)\n",
            "<class 'tuple'>\n",
            "6\n",
            "(1,)\n",
            "<class 'tuple'>\n",
            "1\n",
            "((1, 2, 3),)\n",
            "<class 'tuple'>\n"
          ]
        },
        {
          "output_type": "error",
          "ename": "TypeError",
          "evalue": "unsupported operand type(s) for +=: 'int' and 'tuple'",
          "traceback": [
            "\u001b[0;31m---------------------------------------------------------------------------\u001b[0m",
            "\u001b[0;31mTypeError\u001b[0m                                 Traceback (most recent call last)",
            "\u001b[0;32m<ipython-input-9-5b83018e016f>\u001b[0m in \u001b[0;36m<cell line: 0>\u001b[0;34m()\u001b[0m\n\u001b[1;32m     15\u001b[0m \u001b[0;34m\u001b[0m\u001b[0m\n\u001b[1;32m     16\u001b[0m \u001b[0;31m#print(add([1,2,3])) ## throws error as passing list and list is not handled in the function\u001b[0m\u001b[0;34m\u001b[0m\u001b[0;34m\u001b[0m\u001b[0m\n\u001b[0;32m---> 17\u001b[0;31m \u001b[0mprint\u001b[0m\u001b[0;34m(\u001b[0m\u001b[0madd\u001b[0m\u001b[0;34m(\u001b[0m\u001b[0;34m(\u001b[0m\u001b[0;36m1\u001b[0m\u001b[0;34m,\u001b[0m\u001b[0;36m2\u001b[0m\u001b[0;34m,\u001b[0m\u001b[0;36m3\u001b[0m\u001b[0;34m)\u001b[0m\u001b[0;34m)\u001b[0m\u001b[0;34m)\u001b[0m\u001b[0;34m\u001b[0m\u001b[0;34m\u001b[0m\u001b[0m\n\u001b[0m",
            "\u001b[0;32m<ipython-input-9-5b83018e016f>\u001b[0m in \u001b[0;36madd\u001b[0;34m(*x)\u001b[0m\n\u001b[1;32m      6\u001b[0m   \u001b[0mprint\u001b[0m\u001b[0;34m(\u001b[0m\u001b[0mtype\u001b[0m\u001b[0;34m(\u001b[0m\u001b[0mx\u001b[0m\u001b[0;34m)\u001b[0m\u001b[0;34m)\u001b[0m\u001b[0;34m\u001b[0m\u001b[0;34m\u001b[0m\u001b[0m\n\u001b[1;32m      7\u001b[0m   \u001b[0;32mfor\u001b[0m \u001b[0mi\u001b[0m \u001b[0;32min\u001b[0m \u001b[0mx\u001b[0m\u001b[0;34m:\u001b[0m\u001b[0;34m\u001b[0m\u001b[0;34m\u001b[0m\u001b[0m\n\u001b[0;32m----> 8\u001b[0;31m     \u001b[0msum\u001b[0m\u001b[0;34m+=\u001b[0m\u001b[0mi\u001b[0m\u001b[0;34m\u001b[0m\u001b[0;34m\u001b[0m\u001b[0m\n\u001b[0m\u001b[1;32m      9\u001b[0m   \u001b[0;32mreturn\u001b[0m \u001b[0msum\u001b[0m\u001b[0;34m\u001b[0m\u001b[0;34m\u001b[0m\u001b[0m\n\u001b[1;32m     10\u001b[0m \u001b[0;34m\u001b[0m\u001b[0m\n",
            "\u001b[0;31mTypeError\u001b[0m: unsupported operand type(s) for +=: 'int' and 'tuple'"
          ]
        }
      ]
    },
    {
      "cell_type": "code",
      "source": [
        "# variable length keyword arguments --- use **\n",
        "\n",
        "def addn(**a):\n",
        "  print(a)\n",
        "  print(type(a))\n",
        "  s = 0\n",
        "  for i in a.values():\n",
        "    s+=i\n",
        "  print(s)\n",
        "\n",
        "addn(a=10,b=20)\n",
        "addn(a=19,b=25,c=2)\n",
        "addn(1,2,3)"
      ],
      "metadata": {
        "id": "l6QvSJraTQRO",
        "outputId": "ec3a32dd-a9f8-456b-8424-09ecb9bbb920",
        "colab": {
          "base_uri": "https://localhost:8080/",
          "height": 280
        }
      },
      "execution_count": null,
      "outputs": [
        {
          "output_type": "stream",
          "name": "stdout",
          "text": [
            "{'a': 10, 'b': 20}\n",
            "<class 'dict'>\n",
            "30\n",
            "{'a': 19, 'b': 25, 'c': 2}\n",
            "<class 'dict'>\n",
            "46\n"
          ]
        },
        {
          "output_type": "error",
          "ename": "TypeError",
          "evalue": "addn() takes 0 positional arguments but 3 were given",
          "traceback": [
            "\u001b[0;31m---------------------------------------------------------------------------\u001b[0m",
            "\u001b[0;31mTypeError\u001b[0m                                 Traceback (most recent call last)",
            "\u001b[0;32m<ipython-input-60-5f1e765ddb44>\u001b[0m in \u001b[0;36m<cell line: 0>\u001b[0;34m()\u001b[0m\n\u001b[1;32m     11\u001b[0m \u001b[0maddn\u001b[0m\u001b[0;34m(\u001b[0m\u001b[0ma\u001b[0m\u001b[0;34m=\u001b[0m\u001b[0;36m10\u001b[0m\u001b[0;34m,\u001b[0m\u001b[0mb\u001b[0m\u001b[0;34m=\u001b[0m\u001b[0;36m20\u001b[0m\u001b[0;34m)\u001b[0m\u001b[0;34m\u001b[0m\u001b[0;34m\u001b[0m\u001b[0m\n\u001b[1;32m     12\u001b[0m \u001b[0maddn\u001b[0m\u001b[0;34m(\u001b[0m\u001b[0ma\u001b[0m\u001b[0;34m=\u001b[0m\u001b[0;36m19\u001b[0m\u001b[0;34m,\u001b[0m\u001b[0mb\u001b[0m\u001b[0;34m=\u001b[0m\u001b[0;36m25\u001b[0m\u001b[0;34m,\u001b[0m\u001b[0mc\u001b[0m\u001b[0;34m=\u001b[0m\u001b[0;36m2\u001b[0m\u001b[0;34m)\u001b[0m\u001b[0;34m\u001b[0m\u001b[0;34m\u001b[0m\u001b[0m\n\u001b[0;32m---> 13\u001b[0;31m \u001b[0maddn\u001b[0m\u001b[0;34m(\u001b[0m\u001b[0;36m1\u001b[0m\u001b[0;34m,\u001b[0m\u001b[0;36m2\u001b[0m\u001b[0;34m,\u001b[0m\u001b[0;36m3\u001b[0m\u001b[0;34m)\u001b[0m\u001b[0;34m\u001b[0m\u001b[0;34m\u001b[0m\u001b[0m\n\u001b[0m",
            "\u001b[0;31mTypeError\u001b[0m: addn() takes 0 positional arguments but 3 were given"
          ]
        }
      ]
    },
    {
      "cell_type": "code",
      "source": [
        "# variable length : positional and keyword arguments together\n",
        "## first positional arguments ---> keyword arguments\n",
        "\n",
        "def add(*num,**nums):\n",
        "  print('Sum of num: ',sum(num))\n",
        "  print('Sum of nums: ',sum(nums.values()))\n",
        "\n",
        "add(1,2,a=10,b=20)\n",
        "add(1,2,3,4)\n",
        "add(a=10,b=30,c=40)\n",
        "#add(a=10,1) # thrws error as positional arguments come after keyword arguments\n"
      ],
      "metadata": {
        "id": "Rze0DfQXVean",
        "outputId": "197fd0cc-e9e6-4df6-a2ee-23bc7d65e31a",
        "colab": {
          "base_uri": "https://localhost:8080/"
        }
      },
      "execution_count": 6,
      "outputs": [
        {
          "output_type": "stream",
          "name": "stdout",
          "text": [
            "Sum of num:  3\n",
            "Sum of nums:  30\n",
            "Sum of num:  10\n",
            "Sum of nums:  0\n",
            "Sum of num:  0\n",
            "Sum of nums:  80\n"
          ]
        }
      ]
    },
    {
      "cell_type": "code",
      "source": [
        "def add(**nums,*num):   ## incorrect syntax: throws error as keyword arguments before positional. * first followed by ** is the order\n",
        "  print(sum(nums.values())\n",
        "  print(sum(num))\n",
        "\n",
        "add(1,2,3)"
      ],
      "metadata": {
        "id": "Eu1m2dcBT0aH",
        "outputId": "2275fdbd-2a5b-487e-d10d-94f48efaaa95",
        "colab": {
          "base_uri": "https://localhost:8080/",
          "height": 106
        }
      },
      "execution_count": 7,
      "outputs": [
        {
          "output_type": "error",
          "ename": "SyntaxError",
          "evalue": "arguments cannot follow var-keyword argument (<ipython-input-7-4e7bbe401a37>, line 1)",
          "traceback": [
            "\u001b[0;36m  File \u001b[0;32m\"<ipython-input-7-4e7bbe401a37>\"\u001b[0;36m, line \u001b[0;32m1\u001b[0m\n\u001b[0;31m    def add(**nums,*num):\u001b[0m\n\u001b[0m                   ^\u001b[0m\n\u001b[0;31mSyntaxError\u001b[0m\u001b[0;31m:\u001b[0m arguments cannot follow var-keyword argument\n"
          ]
        }
      ]
    },
    {
      "cell_type": "code",
      "source": [
        "# Function combining all the types of arguments\n",
        "'''\n",
        "1. Positional arguments\n",
        "2. Positional arguments with default values\n",
        "3. variable length positional arguments\n",
        "4. Keyword arguments\n",
        "5. Keyword arguments with default values (this has to specify keyword)\n",
        "6. Variable length keyword arguments\n",
        "'''\n",
        "\n",
        "def student(name,clas=5,*parents_name,age,school='ABC',**marks):\n",
        "  print('Name: ',name)\n",
        "  print('class: ',clas)\n",
        "  print('Parents: ', parents_name)\n",
        "  print('Age: ',age)\n",
        "  print('Marks: ',marks)\n",
        "  print('School: ',school)\n",
        "\n",
        "student('Ravi','B',age=12,eng=90,maths=87,science=91)\n",
        "student('Riva',4,'A','B',age=11,eng=91,maths=87,science=91)"
      ],
      "metadata": {
        "id": "XfchI8SfUQ6G",
        "outputId": "29a8b727-4a96-46f9-d80f-c2cc7767e639",
        "colab": {
          "base_uri": "https://localhost:8080/"
        }
      },
      "execution_count": 19,
      "outputs": [
        {
          "output_type": "stream",
          "name": "stdout",
          "text": [
            "Name:  Ravi\n",
            "class:  B\n",
            "Parents:  ()\n",
            "Age:  12\n",
            "Marks:  {'eng': 90, 'maths': 87, 'science': 91}\n",
            "School:  ABC\n",
            "Name:  Riva\n",
            "class:  4\n",
            "Parents:  ('A', 'B')\n",
            "Age:  11\n",
            "Marks:  {'eng': 91, 'maths': 87, 'science': 91}\n",
            "School:  ABC\n"
          ]
        }
      ]
    },
    {
      "cell_type": "markdown",
      "source": [
        "### Lambda Function\n",
        " Anonymous function\n",
        "\n",
        "*   List item\n",
        "*   List item\n",
        "\n",
        "\n",
        " one line only\n",
        " no function name\n",
        " no return statement\n",
        " no function call\n",
        " returns one value in form of expression\n",
        " cannot contain multiple expression\n",
        "\n",
        " variable = lambda <list of variables>:<expression>"
      ],
      "metadata": {
        "id": "TTEd6m3VbVkH"
      }
    },
    {
      "cell_type": "code",
      "source": [
        "## Lambda function\n",
        "\n",
        "sum = lambda x,y,z: x+y+z\n",
        "print(sum(10,23,20))"
      ],
      "metadata": {
        "id": "343UaQuKXPZC",
        "outputId": "33940f57-b370-4a74-acd4-250e7635b931",
        "colab": {
          "base_uri": "https://localhost:8080/"
        }
      },
      "execution_count": 20,
      "outputs": [
        {
          "output_type": "stream",
          "name": "stdout",
          "text": [
            "53\n"
          ]
        }
      ]
    },
    {
      "cell_type": "code",
      "source": [
        "sum2 = lambda x: sum1(x)\n",
        "print(sum2((1,2,3)))"
      ],
      "metadata": {
        "id": "sa_CIaSEcSwS",
        "outputId": "a3793516-497f-488d-929e-b9d45a57cd4b",
        "colab": {
          "base_uri": "https://localhost:8080/",
          "height": 287
        }
      },
      "execution_count": 9,
      "outputs": [
        {
          "output_type": "error",
          "ename": "RecursionError",
          "evalue": "maximum recursion depth exceeded",
          "traceback": [
            "\u001b[0;31m---------------------------------------------------------------------------\u001b[0m",
            "\u001b[0;31mRecursionError\u001b[0m                            Traceback (most recent call last)",
            "\u001b[0;32m<ipython-input-9-2877ee5e2169>\u001b[0m in \u001b[0;36m<cell line: 0>\u001b[0;34m()\u001b[0m\n\u001b[1;32m      1\u001b[0m \u001b[0msum2\u001b[0m \u001b[0;34m=\u001b[0m \u001b[0;32mlambda\u001b[0m \u001b[0mx\u001b[0m\u001b[0;34m:\u001b[0m \u001b[0msum1\u001b[0m\u001b[0;34m(\u001b[0m\u001b[0mx\u001b[0m\u001b[0;34m)\u001b[0m\u001b[0;34m\u001b[0m\u001b[0;34m\u001b[0m\u001b[0m\n\u001b[0;32m----> 2\u001b[0;31m \u001b[0mprint\u001b[0m\u001b[0;34m(\u001b[0m\u001b[0msum2\u001b[0m\u001b[0;34m(\u001b[0m\u001b[0;34m(\u001b[0m\u001b[0;36m1\u001b[0m\u001b[0;34m,\u001b[0m\u001b[0;36m2\u001b[0m\u001b[0;34m,\u001b[0m\u001b[0;36m3\u001b[0m\u001b[0;34m)\u001b[0m\u001b[0;34m)\u001b[0m\u001b[0;34m)\u001b[0m\u001b[0;34m\u001b[0m\u001b[0;34m\u001b[0m\u001b[0m\n\u001b[0m",
            "\u001b[0;32m<ipython-input-9-2877ee5e2169>\u001b[0m in \u001b[0;36m<lambda>\u001b[0;34m(x)\u001b[0m\n\u001b[0;32m----> 1\u001b[0;31m \u001b[0msum2\u001b[0m \u001b[0;34m=\u001b[0m \u001b[0;32mlambda\u001b[0m \u001b[0mx\u001b[0m\u001b[0;34m:\u001b[0m \u001b[0msum1\u001b[0m\u001b[0;34m(\u001b[0m\u001b[0mx\u001b[0m\u001b[0;34m)\u001b[0m\u001b[0;34m\u001b[0m\u001b[0;34m\u001b[0m\u001b[0m\n\u001b[0m\u001b[1;32m      2\u001b[0m \u001b[0mprint\u001b[0m\u001b[0;34m(\u001b[0m\u001b[0msum2\u001b[0m\u001b[0;34m(\u001b[0m\u001b[0;34m(\u001b[0m\u001b[0;36m1\u001b[0m\u001b[0;34m,\u001b[0m\u001b[0;36m2\u001b[0m\u001b[0;34m,\u001b[0m\u001b[0;36m3\u001b[0m\u001b[0;34m)\u001b[0m\u001b[0;34m)\u001b[0m\u001b[0;34m)\u001b[0m\u001b[0;34m\u001b[0m\u001b[0;34m\u001b[0m\u001b[0m\n",
            "\u001b[0;32m<ipython-input-8-e26419fcf55f>\u001b[0m in \u001b[0;36m<lambda>\u001b[0;34m(x)\u001b[0m\n\u001b[0;32m----> 1\u001b[0;31m \u001b[0msum1\u001b[0m \u001b[0;34m=\u001b[0m \u001b[0;32mlambda\u001b[0m \u001b[0mx\u001b[0m\u001b[0;34m:\u001b[0m \u001b[0msum\u001b[0m\u001b[0;34m(\u001b[0m\u001b[0mx\u001b[0m\u001b[0;34m)\u001b[0m\u001b[0;34m\u001b[0m\u001b[0;34m\u001b[0m\u001b[0m\n\u001b[0m\u001b[1;32m      2\u001b[0m \u001b[0mprint\u001b[0m\u001b[0;34m(\u001b[0m\u001b[0msum1\u001b[0m\u001b[0;34m(\u001b[0m\u001b[0;34m(\u001b[0m\u001b[0;36m1\u001b[0m\u001b[0;34m,\u001b[0m\u001b[0;36m2\u001b[0m\u001b[0;34m,\u001b[0m\u001b[0;36m3\u001b[0m\u001b[0;34m)\u001b[0m\u001b[0;34m)\u001b[0m\u001b[0;34m)\u001b[0m\u001b[0;34m\u001b[0m\u001b[0;34m\u001b[0m\u001b[0m\n",
            "\u001b[0;32m<ipython-input-6-0f3cf50ff16f>\u001b[0m in \u001b[0;36m<lambda>\u001b[0;34m(x)\u001b[0m\n\u001b[0;32m----> 1\u001b[0;31m \u001b[0msum\u001b[0m \u001b[0;34m=\u001b[0m \u001b[0;32mlambda\u001b[0m \u001b[0mx\u001b[0m\u001b[0;34m:\u001b[0m \u001b[0msum\u001b[0m\u001b[0;34m(\u001b[0m\u001b[0mx\u001b[0m\u001b[0;34m)\u001b[0m\u001b[0;34m\u001b[0m\u001b[0;34m\u001b[0m\u001b[0m\n\u001b[0m\u001b[1;32m      2\u001b[0m \u001b[0mprint\u001b[0m\u001b[0;34m(\u001b[0m\u001b[0msum\u001b[0m\u001b[0;34m(\u001b[0m\u001b[0;34m(\u001b[0m\u001b[0;36m1\u001b[0m\u001b[0;34m,\u001b[0m\u001b[0;36m2\u001b[0m\u001b[0;34m,\u001b[0m\u001b[0;36m3\u001b[0m\u001b[0;34m)\u001b[0m\u001b[0;34m)\u001b[0m\u001b[0;34m)\u001b[0m\u001b[0;34m\u001b[0m\u001b[0;34m\u001b[0m\u001b[0m\n",
            "... last 1 frames repeated, from the frame below ...\n",
            "\u001b[0;32m<ipython-input-6-0f3cf50ff16f>\u001b[0m in \u001b[0;36m<lambda>\u001b[0;34m(x)\u001b[0m\n\u001b[0;32m----> 1\u001b[0;31m \u001b[0msum\u001b[0m \u001b[0;34m=\u001b[0m \u001b[0;32mlambda\u001b[0m \u001b[0mx\u001b[0m\u001b[0;34m:\u001b[0m \u001b[0msum\u001b[0m\u001b[0;34m(\u001b[0m\u001b[0mx\u001b[0m\u001b[0;34m)\u001b[0m\u001b[0;34m\u001b[0m\u001b[0;34m\u001b[0m\u001b[0m\n\u001b[0m\u001b[1;32m      2\u001b[0m \u001b[0mprint\u001b[0m\u001b[0;34m(\u001b[0m\u001b[0msum\u001b[0m\u001b[0;34m(\u001b[0m\u001b[0;34m(\u001b[0m\u001b[0;36m1\u001b[0m\u001b[0;34m,\u001b[0m\u001b[0;36m2\u001b[0m\u001b[0;34m,\u001b[0m\u001b[0;36m3\u001b[0m\u001b[0;34m)\u001b[0m\u001b[0;34m)\u001b[0m\u001b[0;34m)\u001b[0m\u001b[0;34m\u001b[0m\u001b[0;34m\u001b[0m\u001b[0m\n",
            "\u001b[0;31mRecursionError\u001b[0m: maximum recursion depth exceeded"
          ]
        }
      ]
    },
    {
      "cell_type": "code",
      "source": [
        "add = lambda x,y: x+y, x-y ## throws error as lambda cannot return more than one value.\n",
        "print(add(7,5))"
      ],
      "metadata": {
        "id": "x7YlaMKucdlO",
        "outputId": "7c7c44ac-b0f9-4a36-cb4b-4524d8f9e40e",
        "colab": {
          "base_uri": "https://localhost:8080/",
          "height": 159
        }
      },
      "execution_count": 1,
      "outputs": [
        {
          "output_type": "error",
          "ename": "NameError",
          "evalue": "name 'x' is not defined",
          "traceback": [
            "\u001b[0;31m---------------------------------------------------------------------------\u001b[0m",
            "\u001b[0;31mNameError\u001b[0m                                 Traceback (most recent call last)",
            "\u001b[0;32m<ipython-input-1-2163215a3e86>\u001b[0m in \u001b[0;36m<cell line: 0>\u001b[0;34m()\u001b[0m\n\u001b[0;32m----> 1\u001b[0;31m \u001b[0madd\u001b[0m \u001b[0;34m=\u001b[0m \u001b[0;32mlambda\u001b[0m \u001b[0mx\u001b[0m\u001b[0;34m,\u001b[0m\u001b[0my\u001b[0m\u001b[0;34m:\u001b[0m \u001b[0mx\u001b[0m\u001b[0;34m+\u001b[0m\u001b[0my\u001b[0m\u001b[0;34m,\u001b[0m \u001b[0mx\u001b[0m\u001b[0;34m-\u001b[0m\u001b[0my\u001b[0m\u001b[0;34m\u001b[0m\u001b[0;34m\u001b[0m\u001b[0m\n\u001b[0m\u001b[1;32m      2\u001b[0m \u001b[0mprint\u001b[0m\u001b[0;34m(\u001b[0m\u001b[0madd\u001b[0m\u001b[0;34m(\u001b[0m\u001b[0;36m7\u001b[0m\u001b[0;34m,\u001b[0m\u001b[0;36m5\u001b[0m\u001b[0;34m)\u001b[0m\u001b[0;34m)\u001b[0m\u001b[0;34m\u001b[0m\u001b[0;34m\u001b[0m\u001b[0m\n",
            "\u001b[0;31mNameError\u001b[0m: name 'x' is not defined"
          ]
        }
      ]
    },
    {
      "cell_type": "code",
      "source": [
        "add = lambda x,y: (x+y, x-y)\n",
        "print(add(7,5))"
      ],
      "metadata": {
        "id": "C0eTI1Sfc4JU",
        "outputId": "be3e4139-81ea-48cc-aed0-fe307a31d145",
        "colab": {
          "base_uri": "https://localhost:8080/"
        }
      },
      "execution_count": 3,
      "outputs": [
        {
          "output_type": "stream",
          "name": "stdout",
          "text": [
            "(12, 2)\n"
          ]
        }
      ]
    },
    {
      "cell_type": "code",
      "source": [
        "add = lambda x,y: [x+y, x-y]\n",
        "print(add(7,5))"
      ],
      "metadata": {
        "id": "S8wfKhdQdFp0",
        "outputId": "d1735561-db88-442f-cc9f-e95644b9d08d",
        "colab": {
          "base_uri": "https://localhost:8080/"
        }
      },
      "execution_count": 5,
      "outputs": [
        {
          "output_type": "stream",
          "name": "stdout",
          "text": [
            "[12, 2]\n"
          ]
        }
      ]
    },
    {
      "cell_type": "code",
      "source": [
        "a = lambda : print('hello')\n",
        "print(a())\n",
        "\n",
        "# print hello as function being called by a().\n",
        "# print None as lambda function returns none which is the output"
      ],
      "metadata": {
        "id": "UHVul3eadIOt",
        "outputId": "f0b9084e-97d2-4141-fa17-c68a961fdf18",
        "colab": {
          "base_uri": "https://localhost:8080/"
        }
      },
      "execution_count": 10,
      "outputs": [
        {
          "output_type": "stream",
          "name": "stdout",
          "text": [
            "hello\n",
            "None\n"
          ]
        }
      ]
    },
    {
      "cell_type": "code",
      "source": [
        "plus_one = lambda x,y=1: x+y\n",
        "print(plus_one(5))\n",
        "print(plus_one(5,3))\n",
        "print(plus_one(x=6,y=4))\n"
      ],
      "metadata": {
        "id": "gMUgXmC2dvKL",
        "outputId": "baa635e5-d0cc-4cbe-fa37-4a8edf45e265",
        "colab": {
          "base_uri": "https://localhost:8080/"
        }
      },
      "execution_count": 14,
      "outputs": [
        {
          "output_type": "stream",
          "name": "stdout",
          "text": [
            "6\n",
            "8\n",
            "10\n"
          ]
        }
      ]
    },
    {
      "cell_type": "code",
      "source": [
        "add = lambda *x: sum(x)\n",
        "print(add(1,2,3,4,5,10))"
      ],
      "metadata": {
        "id": "qdO1vqmzeVSU",
        "outputId": "58713522-fc81-47d0-d3c5-dfde547907a0",
        "colab": {
          "base_uri": "https://localhost:8080/"
        }
      },
      "execution_count": 1,
      "outputs": [
        {
          "output_type": "stream",
          "name": "stdout",
          "text": [
            "25\n"
          ]
        }
      ]
    },
    {
      "cell_type": "code",
      "source": [
        "area = lambda r: 3.14*r*r\n",
        "print(area(5))\n",
        "print(area(1))"
      ],
      "metadata": {
        "id": "uVC4Y1MLeYAh",
        "outputId": "9a090555-3406-487c-a221-6a341cccceb0",
        "colab": {
          "base_uri": "https://localhost:8080/"
        }
      },
      "execution_count": 17,
      "outputs": [
        {
          "output_type": "stream",
          "name": "stdout",
          "text": [
            "78.5\n",
            "3.14\n"
          ]
        }
      ]
    }
  ]
}