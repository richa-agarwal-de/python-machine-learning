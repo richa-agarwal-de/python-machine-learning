{
  "nbformat": 4,
  "nbformat_minor": 0,
  "metadata": {
    "colab": {
      "provenance": [],
      "include_colab_link": true
    },
    "kernelspec": {
      "name": "python3",
      "display_name": "Python 3"
    },
    "language_info": {
      "name": "python"
    }
  },
  "cells": [
    {
      "cell_type": "markdown",
      "metadata": {
        "id": "view-in-github",
        "colab_type": "text"
      },
      "source": [
        "<a href=\"https://colab.research.google.com/github/richa-agarwal-de/python-machine-learning/blob/main/Python_M2_Day1.ipynb\" target=\"_parent\"><img src=\"https://colab.research.google.com/assets/colab-badge.svg\" alt=\"Open In Colab\"/></a>"
      ]
    },
    {
      "cell_type": "markdown",
      "source": [
        "# Functions"
      ],
      "metadata": {
        "id": "h32KJ7HLU0dr"
      }
    },
    {
      "cell_type": "code",
      "execution_count": 3,
      "metadata": {
        "colab": {
          "base_uri": "https://localhost:8080/"
        },
        "id": "HpmbKqI7jltH",
        "outputId": "b286fd30-8409-4381-edf6-cf7835e702b3"
      },
      "outputs": [
        {
          "output_type": "stream",
          "name": "stdout",
          "text": [
            "before function call\n",
            "hello world\n",
            "Welcome\n",
            "after function call\n"
          ]
        }
      ],
      "source": [
        "# simple function\n",
        "\n",
        "def fun():\n",
        "  print(\"hello world\")\n",
        "  print(\"Welcome\")\n",
        "\n",
        "print(\"before function call\")\n",
        "fun()\n",
        "print(\"after function call\")"
      ]
    },
    {
      "cell_type": "code",
      "source": [
        "fun()"
      ],
      "metadata": {
        "id": "34ZbDQBAxLWX",
        "colab": {
          "base_uri": "https://localhost:8080/"
        },
        "outputId": "2c184479-12fd-4e65-8ff7-4b7504c58587"
      },
      "execution_count": 2,
      "outputs": [
        {
          "output_type": "stream",
          "name": "stdout",
          "text": [
            "hello world\n"
          ]
        }
      ]
    },
    {
      "cell_type": "code",
      "source": [
        "# function to print square of an integer\n",
        "\n",
        "## without argument, without return value\n",
        "\n",
        "def square():\n",
        "  n = int(input(\"Enter an integer: \"))\n",
        "  print(\"square of \",n,\" = \",n*n)\n",
        "\n",
        "square()\n"
      ],
      "metadata": {
        "colab": {
          "base_uri": "https://localhost:8080/"
        },
        "id": "1PK0Mz09YE_-",
        "outputId": "fffd3310-36f0-48b5-99ad-319ed534dc68"
      },
      "execution_count": 7,
      "outputs": [
        {
          "output_type": "stream",
          "name": "stdout",
          "text": [
            "Enter an integer: 5\n",
            "square of  5  =  25\n"
          ]
        }
      ]
    },
    {
      "cell_type": "code",
      "source": [
        "# function to print square of an integer\n",
        "\n",
        "## with arguments , with return value\n",
        "\n",
        "def square(x):\n",
        "  return x**2\n",
        "\n",
        "n = int(input(\"Enter an integer: \"))\n",
        "sq = square(n)\n",
        "print(\"square of \",n,\" = \",sq)\n"
      ],
      "metadata": {
        "colab": {
          "base_uri": "https://localhost:8080/"
        },
        "id": "BWTi3QumZYVR",
        "outputId": "df4ade53-4758-4304-b797-b7d1a67ff0f3"
      },
      "execution_count": 9,
      "outputs": [
        {
          "output_type": "stream",
          "name": "stdout",
          "text": [
            "Enter an integer: 5\n",
            "square of  5  =  25\n"
          ]
        }
      ]
    },
    {
      "cell_type": "code",
      "source": [
        "# function to print square of an integer\n",
        "\n",
        "## with arguments , without return value\n",
        "\n",
        "def square(x):\n",
        "  print(\"square of \",x,\" = \",x**2)\n",
        "\n",
        "n = int(input(\"Enter an integer: \"))\n",
        "square(n)"
      ],
      "metadata": {
        "id": "vLsOjeu7dmh0",
        "outputId": "2bafb2d1-97a2-4a22-a2fe-a0e69112da3e",
        "colab": {
          "base_uri": "https://localhost:8080/"
        }
      },
      "execution_count": 11,
      "outputs": [
        {
          "output_type": "stream",
          "name": "stdout",
          "text": [
            "Enter an integer: 5\n",
            "square of  5  =  25\n"
          ]
        }
      ]
    },
    {
      "cell_type": "code",
      "source": [
        "# function to print square of an integer\n",
        "\n",
        "## without arguments , with return value\n",
        "\n",
        "def square():\n",
        "  x = int(input(\"Enter an integer: \"))\n",
        "  return (x,x**2)\n",
        "\n",
        "n,sq = square()\n",
        "print(\"square of \",n,\" = \",sq)\n"
      ],
      "metadata": {
        "id": "sK0wtKHLd77c",
        "outputId": "3c647dbc-d6f6-48e6-8d1a-5a348c3ea52a",
        "colab": {
          "base_uri": "https://localhost:8080/"
        }
      },
      "execution_count": 14,
      "outputs": [
        {
          "output_type": "stream",
          "name": "stdout",
          "text": [
            "Enter an integer: 5\n",
            "square of  5  =  25\n"
          ]
        }
      ]
    },
    {
      "cell_type": "code",
      "source": [
        "# recursinve function\n",
        "\n",
        "def fact(n):\n",
        "  if n == 0:\n",
        "    return 1\n",
        "  else:\n",
        "    return n*fact(n-1)\n",
        "\n",
        "fact(5)"
      ],
      "metadata": {
        "id": "WKSRo_VYea-R",
        "outputId": "5f4c8471-4a79-4b19-aff1-34e286adbbf2",
        "colab": {
          "base_uri": "https://localhost:8080/"
        }
      },
      "execution_count": 15,
      "outputs": [
        {
          "output_type": "execute_result",
          "data": {
            "text/plain": [
              "120"
            ]
          },
          "metadata": {},
          "execution_count": 15
        }
      ]
    },
    {
      "cell_type": "code",
      "source": [
        "# return multiple values\n",
        "\n",
        "def func():\n",
        "  return 10,20,30,40   ### dont need to define it as tuple. python automatically makes it a tuple\n",
        "\n",
        "a,b,c,d = func()\n",
        "print(a,b,c,d)\n",
        "print(func())\n",
        "print(type(func()))"
      ],
      "metadata": {
        "id": "1Cyt8Fg3fzep",
        "outputId": "4a4ce330-7415-4e19-f73e-918066df8f60",
        "colab": {
          "base_uri": "https://localhost:8080/"
        }
      },
      "execution_count": 18,
      "outputs": [
        {
          "output_type": "stream",
          "name": "stdout",
          "text": [
            "10 20 30 40\n",
            "(10, 20, 30, 40)\n",
            "<class 'tuple'>\n"
          ]
        }
      ]
    },
    {
      "cell_type": "code",
      "source": [
        "def test1():\n",
        "  list1 = [10,20,30]\n",
        "  tuple1 = (30,40,50)\n",
        "  return list1,tuple1\n",
        "\n",
        "x,y = test1()\n",
        "\n",
        "print(type(x))\n",
        "print(x)\n",
        "print(type(y))\n",
        "print(y)\n",
        "\n",
        "z = test1()\n",
        "print(z)\n",
        "print(type(z))\n",
        "\n",
        "print(test1()[0])\n",
        "print(test1()[0][1])\n",
        "print(test1()[1][1:3])"
      ],
      "metadata": {
        "id": "-FYayJG1g5_k",
        "outputId": "fe724b59-dc88-441a-90f4-3254c896060c",
        "colab": {
          "base_uri": "https://localhost:8080/"
        }
      },
      "execution_count": 24,
      "outputs": [
        {
          "output_type": "stream",
          "name": "stdout",
          "text": [
            "<class 'list'>\n",
            "[10, 20, 30]\n",
            "<class 'tuple'>\n",
            "(30, 40, 50)\n",
            "([10, 20, 30], (30, 40, 50))\n",
            "<class 'tuple'>\n",
            "[10, 20, 30]\n",
            "20\n",
            "(40, 50)\n"
          ]
        }
      ]
    },
    {
      "cell_type": "code",
      "source": [
        "## use underscore _ to ignore values which are not required\n",
        "\n",
        "def func():\n",
        "  return 10,20,30,40\n",
        "\n",
        "_,val2,_,val4 = func()\n",
        "print(val2,val4)\n",
        "\n",
        "a,a,a,a = func()\n",
        "print(a)\n",
        "\n"
      ],
      "metadata": {
        "id": "4xiqNMCbhvsy",
        "outputId": "d6f379ac-67ff-4cf8-a85d-7cef4827e625",
        "colab": {
          "base_uri": "https://localhost:8080/"
        }
      },
      "execution_count": 32,
      "outputs": [
        {
          "output_type": "stream",
          "name": "stdout",
          "text": [
            "20 40\n",
            "40\n"
          ]
        }
      ]
    },
    {
      "cell_type": "code",
      "source": [],
      "metadata": {
        "id": "jI5KCKkylGqk"
      },
      "execution_count": null,
      "outputs": []
    }
  ]
}