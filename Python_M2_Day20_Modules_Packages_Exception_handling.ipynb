{
  "nbformat": 4,
  "nbformat_minor": 0,
  "metadata": {
    "colab": {
      "provenance": [],
      "include_colab_link": true
    },
    "kernelspec": {
      "name": "python3",
      "display_name": "Python 3"
    },
    "language_info": {
      "name": "python"
    }
  },
  "cells": [
    {
      "cell_type": "markdown",
      "metadata": {
        "id": "view-in-github",
        "colab_type": "text"
      },
      "source": [
        "<a href=\"https://colab.research.google.com/github/richa-agarwal-de/python-machine-learning/blob/main/Python_M2_Day20_Modules_Packages_Exception_handling.ipynb\" target=\"_parent\"><img src=\"https://colab.research.google.com/assets/colab-badge.svg\" alt=\"Open In Colab\"/></a>"
      ]
    },
    {
      "cell_type": "markdown",
      "source": [
        "# Exception Handling"
      ],
      "metadata": {
        "id": "QG0Aefn6jYZ3"
      }
    },
    {
      "cell_type": "code",
      "source": [
        "n1 = int(input('Enter 1st number: '))\n",
        "n2 = int(input('Enter 2nd number: '))\n",
        "\n",
        "div = n1/n2\n",
        "print(div)\n",
        "\n",
        "print('Rest of code')"
      ],
      "metadata": {
        "id": "I4ZwXXzhjtVa",
        "outputId": "a182fbb1-bd20-425c-f7aa-626b0d363d55",
        "colab": {
          "base_uri": "https://localhost:8080/",
          "height": 245
        }
      },
      "execution_count": null,
      "outputs": [
        {
          "name": "stdout",
          "output_type": "stream",
          "text": [
            "Enter 1st number: 10\n",
            "Enter 2nd number: 0\n"
          ]
        },
        {
          "output_type": "error",
          "ename": "ZeroDivisionError",
          "evalue": "division by zero",
          "traceback": [
            "\u001b[0;31m---------------------------------------------------------------------------\u001b[0m",
            "\u001b[0;31mZeroDivisionError\u001b[0m                         Traceback (most recent call last)",
            "\u001b[0;32m<ipython-input-11-308cf36984da>\u001b[0m in \u001b[0;36m<cell line: 0>\u001b[0;34m()\u001b[0m\n\u001b[1;32m      2\u001b[0m \u001b[0mn2\u001b[0m \u001b[0;34m=\u001b[0m \u001b[0mint\u001b[0m\u001b[0;34m(\u001b[0m\u001b[0minput\u001b[0m\u001b[0;34m(\u001b[0m\u001b[0;34m'Enter 2nd number: '\u001b[0m\u001b[0;34m)\u001b[0m\u001b[0;34m)\u001b[0m\u001b[0;34m\u001b[0m\u001b[0;34m\u001b[0m\u001b[0m\n\u001b[1;32m      3\u001b[0m \u001b[0;34m\u001b[0m\u001b[0m\n\u001b[0;32m----> 4\u001b[0;31m \u001b[0mdiv\u001b[0m \u001b[0;34m=\u001b[0m \u001b[0mn1\u001b[0m\u001b[0;34m/\u001b[0m\u001b[0mn2\u001b[0m\u001b[0;34m\u001b[0m\u001b[0;34m\u001b[0m\u001b[0m\n\u001b[0m\u001b[1;32m      5\u001b[0m \u001b[0mprint\u001b[0m\u001b[0;34m(\u001b[0m\u001b[0mdiv\u001b[0m\u001b[0;34m)\u001b[0m\u001b[0;34m\u001b[0m\u001b[0;34m\u001b[0m\u001b[0m\n\u001b[1;32m      6\u001b[0m \u001b[0;34m\u001b[0m\u001b[0m\n",
            "\u001b[0;31mZeroDivisionError\u001b[0m: division by zero"
          ]
        }
      ]
    },
    {
      "cell_type": "code",
      "execution_count": null,
      "metadata": {
        "colab": {
          "base_uri": "https://localhost:8080/"
        },
        "id": "HpmbKqI7jltH",
        "outputId": "bc7f044d-bc76-41a8-9555-74fc7bd0f660"
      },
      "outputs": [
        {
          "output_type": "stream",
          "name": "stdout",
          "text": [
            "Enter 1st number: 10\n",
            "Enter 2nd number: 0\n",
            "Division by 0 not possible\n",
            "Rest of code\n"
          ]
        }
      ],
      "source": [
        "n1 = int(input('Enter 1st number: '))\n",
        "n2 = int(input('Enter 2nd number: '))\n",
        "\n",
        "try:\n",
        "  div = n1/n2\n",
        "  print(div)\n",
        "except:\n",
        "  print('Division by 0 not possible')\n",
        "\n",
        "print('Rest of code')"
      ]
    },
    {
      "cell_type": "code",
      "source": [
        "n1 = int(input('Enter 1st number: '))\n",
        "n2 = int(input('Enter 2nd number: '))\n",
        "\n",
        "try:\n",
        "  div = n1/n2\n",
        "  print(div)\n",
        "except ZeroDivisionError as e:\n",
        "  print('Division by 0 not possible')\n",
        "  print(e)\n",
        "\n",
        "print('Rest of code')"
      ],
      "metadata": {
        "id": "34ZbDQBAxLWX",
        "outputId": "d41ad43a-9796-4119-b774-36ee00de2c66",
        "colab": {
          "base_uri": "https://localhost:8080/"
        }
      },
      "execution_count": null,
      "outputs": [
        {
          "output_type": "stream",
          "name": "stdout",
          "text": [
            "Enter 1st number: 10\n",
            "Enter 2nd number: 0\n",
            "Division by 0 not possible\n",
            "division by zero\n",
            "Rest of code\n"
          ]
        }
      ]
    },
    {
      "cell_type": "code",
      "source": [
        "n1 = int(input('Enter 1st number: '))\n",
        "n2 = int(input('Enter 2nd number: '))\n",
        "\n",
        "try:\n",
        "  div = n1/n2\n",
        "  print(div)\n",
        "except:\n",
        "  print('Division by 0 not possible')"
      ],
      "metadata": {
        "id": "nT3_byJMj-Ca",
        "outputId": "b6066d12-3f6a-4815-bf69-8d925b8f1f3a",
        "colab": {
          "base_uri": "https://localhost:8080/"
        }
      },
      "execution_count": null,
      "outputs": [
        {
          "output_type": "stream",
          "name": "stdout",
          "text": [
            "Enter 1st number: 10\n",
            "Enter 2nd number: 0\n",
            "Division by 0 not possible\n"
          ]
        }
      ]
    },
    {
      "cell_type": "code",
      "source": [
        "n1 = 10\n",
        "n2 = 0\n",
        "\n",
        "try:\n",
        "  div = n1/n2\n",
        "  print(div)\n",
        "except Exception as e:\n",
        "  print('Division by 0 not possible')"
      ],
      "metadata": {
        "id": "s4Nnub3RkBDz",
        "outputId": "3648f4f6-c497-442c-a893-88c64ea00f77",
        "colab": {
          "base_uri": "https://localhost:8080/"
        }
      },
      "execution_count": null,
      "outputs": [
        {
          "output_type": "stream",
          "name": "stdout",
          "text": [
            "Division by 0 not possible\n"
          ]
        }
      ]
    },
    {
      "cell_type": "code",
      "source": [
        "n1 = 10\n",
        "n2 = 0\n",
        "\n",
        "try:\n",
        "  div = n1/d2  ##NameError not handled\n",
        "  print(div)\n",
        "except ZeroDivisionError as e:\n",
        "  print('Division by 0 not possible')"
      ],
      "metadata": {
        "id": "t_ZTY5KjknlE",
        "outputId": "9334ee14-1aa5-446f-b45b-986266d4f349",
        "colab": {
          "base_uri": "https://localhost:8080/",
          "height": 211
        }
      },
      "execution_count": null,
      "outputs": [
        {
          "output_type": "error",
          "ename": "NameError",
          "evalue": "name 'd2' is not defined",
          "traceback": [
            "\u001b[0;31m---------------------------------------------------------------------------\u001b[0m",
            "\u001b[0;31mNameError\u001b[0m                                 Traceback (most recent call last)",
            "\u001b[0;32m<ipython-input-17-15f7d5d12dd9>\u001b[0m in \u001b[0;36m<cell line: 0>\u001b[0;34m()\u001b[0m\n\u001b[1;32m      3\u001b[0m \u001b[0;34m\u001b[0m\u001b[0m\n\u001b[1;32m      4\u001b[0m \u001b[0;32mtry\u001b[0m\u001b[0;34m:\u001b[0m\u001b[0;34m\u001b[0m\u001b[0;34m\u001b[0m\u001b[0m\n\u001b[0;32m----> 5\u001b[0;31m   \u001b[0mdiv\u001b[0m \u001b[0;34m=\u001b[0m \u001b[0mn1\u001b[0m\u001b[0;34m/\u001b[0m\u001b[0md2\u001b[0m\u001b[0;34m\u001b[0m\u001b[0;34m\u001b[0m\u001b[0m\n\u001b[0m\u001b[1;32m      6\u001b[0m   \u001b[0mprint\u001b[0m\u001b[0;34m(\u001b[0m\u001b[0mdiv\u001b[0m\u001b[0;34m)\u001b[0m\u001b[0;34m\u001b[0m\u001b[0;34m\u001b[0m\u001b[0m\n\u001b[1;32m      7\u001b[0m \u001b[0;32mexcept\u001b[0m \u001b[0mZeroDivisionError\u001b[0m \u001b[0;32mas\u001b[0m \u001b[0me\u001b[0m\u001b[0;34m:\u001b[0m\u001b[0;34m\u001b[0m\u001b[0;34m\u001b[0m\u001b[0m\n",
            "\u001b[0;31mNameError\u001b[0m: name 'd2' is not defined"
          ]
        }
      ]
    },
    {
      "cell_type": "code",
      "source": [
        "n1 = 10\n",
        "n2 = 0\n",
        "\n",
        "try:\n",
        "  div = n1/d2\n",
        "  print(div)\n",
        "except ZeroDivisionError as e:\n",
        "  print('Division by 0 not possible')\n",
        "except NameError as e:\n",
        "  print('Name  not defined')"
      ],
      "metadata": {
        "id": "-E9eoQrjlMTn",
        "outputId": "2bd4bba3-3b4d-48d8-e348-4b5fb76baea0",
        "colab": {
          "base_uri": "https://localhost:8080/"
        }
      },
      "execution_count": null,
      "outputs": [
        {
          "output_type": "stream",
          "name": "stdout",
          "text": [
            "Name  not defined\n"
          ]
        }
      ]
    },
    {
      "cell_type": "code",
      "source": [
        "# Multiple exceptioni n the same except block\n",
        "\n",
        "n1 = 10\n",
        "n2 = 0\n",
        "\n",
        "try:\n",
        "  div = n1/d2\n",
        "  print(div)\n",
        "except (ZeroDivisionError,NameError) as obj:\n",
        "  print(obj)\n",
        "\n",
        "print('Rest of code')\n"
      ],
      "metadata": {
        "id": "GmrzuvEClXB3",
        "outputId": "14c95877-d1df-49f1-97f9-ced64051b610",
        "colab": {
          "base_uri": "https://localhost:8080/"
        }
      },
      "execution_count": null,
      "outputs": [
        {
          "output_type": "stream",
          "name": "stdout",
          "text": [
            "name 'd2' is not defined\n",
            "Rest of code\n"
          ]
        }
      ]
    },
    {
      "cell_type": "code",
      "source": [
        "# Multiple exception in the same except block\n",
        "\n",
        "n1 = 10\n",
        "n2 = 0\n",
        "\n",
        "try:\n",
        "  div = n1/n2\n",
        "  print(div)\n",
        "except (ZeroDivisionError,NameError) as obj:  ## ZeroDivisionError, NameError are seaparate classes. when it is called an object is created.\n",
        "  print(obj)\n",
        "\n",
        "print('Rest of code')"
      ],
      "metadata": {
        "id": "x863kJ-MmKxK",
        "outputId": "5d986fba-15ad-45a3-f4b4-cce2fd807d61",
        "colab": {
          "base_uri": "https://localhost:8080/"
        }
      },
      "execution_count": null,
      "outputs": [
        {
          "output_type": "stream",
          "name": "stdout",
          "text": [
            "division by zero\n",
            "Rest of code\n"
          ]
        }
      ]
    },
    {
      "cell_type": "code",
      "source": [
        "# Generic exception block\n",
        "\n",
        "n1 = 10\n",
        "n2 = 0\n",
        "\n",
        "try:\n",
        "  div = n1/n2\n",
        "  print(div)\n",
        "except :\n",
        "  print('some exception thrown')\n",
        "\n",
        "print('Rest of code')"
      ],
      "metadata": {
        "id": "LCw4eREJmQKJ",
        "outputId": "c3654bec-fa42-4da8-d2e9-d31b10077115",
        "colab": {
          "base_uri": "https://localhost:8080/"
        }
      },
      "execution_count": null,
      "outputs": [
        {
          "output_type": "stream",
          "name": "stdout",
          "text": [
            "some exception thrown\n",
            "Rest of code\n"
          ]
        }
      ]
    },
    {
      "cell_type": "code",
      "source": [
        "# else and finally block\n",
        "\n",
        "n1 = 10\n",
        "n2 = 5\n",
        "\n",
        "try:\n",
        "  div = n1/n2\n",
        "  print(div)\n",
        "except :\n",
        "  print('some exception thrown')\n",
        "\n",
        "else:\n",
        "  print('No exception thrown')\n",
        "\n",
        "finally:\n",
        "  print('finally')\n",
        "\n",
        "\n",
        "print('Rest of code')"
      ],
      "metadata": {
        "id": "B9nBGXLFonxg",
        "outputId": "693fef24-a096-4b69-947b-f0c96234c07f",
        "colab": {
          "base_uri": "https://localhost:8080/"
        }
      },
      "execution_count": null,
      "outputs": [
        {
          "output_type": "stream",
          "name": "stdout",
          "text": [
            "2.0\n",
            "No exception thrown\n",
            "finally\n",
            "Rest of code\n"
          ]
        }
      ]
    },
    {
      "cell_type": "code",
      "source": [
        "# else and finally block\n",
        "\n",
        "n1 = 10\n",
        "n2 = 0\n",
        "\n",
        "try:\n",
        "  div = n1/n2\n",
        "  print(div)\n",
        "except :\n",
        "  print('some exception thrown')\n",
        "\n",
        "else:\n",
        "  print('No exception thrown')\n",
        "\n",
        "finally:\n",
        "  print('finally')\n",
        "\n",
        "\n",
        "print('Rest of code')"
      ],
      "metadata": {
        "id": "fZcM5Sqpo4mN",
        "outputId": "96be8ae3-bc33-4854-9066-a0639aa7103f",
        "colab": {
          "base_uri": "https://localhost:8080/"
        }
      },
      "execution_count": null,
      "outputs": [
        {
          "output_type": "stream",
          "name": "stdout",
          "text": [
            "some exception thrown\n",
            "finally\n",
            "Rest of code\n"
          ]
        }
      ]
    },
    {
      "cell_type": "code",
      "source": [
        "# else and finally block\n",
        "\n",
        "n1 = 10\n",
        "n2 = 5\n",
        "\n",
        "try:\n",
        "  div = n1/n2\n",
        "  print(div)\n",
        "except Exception as obj:\n",
        "  print('exception thrown: ',obj)\n",
        "\n",
        "else:\n",
        "  print('No exception thrown')\n",
        "\n",
        "finally:\n",
        "  print('finally')\n",
        "\n",
        "\n",
        "print('Rest of code')"
      ],
      "metadata": {
        "id": "6FmtN7wXo7wA",
        "outputId": "59a05ea4-f1ae-4984-8fc8-bbeec0d105f4",
        "colab": {
          "base_uri": "https://localhost:8080/"
        }
      },
      "execution_count": null,
      "outputs": [
        {
          "output_type": "stream",
          "name": "stdout",
          "text": [
            "2.0\n",
            "No exception thrown\n",
            "finally\n",
            "Rest of code\n"
          ]
        }
      ]
    },
    {
      "cell_type": "code",
      "source": [
        "# else and finally block + Generic except block\n",
        "\n",
        "n1 = 10\n",
        "n2 = 0\n",
        "\n",
        "try:\n",
        "  div = n1/n2\n",
        "  print(div)\n",
        "except Exception as obj:\n",
        "  print('exception thrown:',obj)\n",
        "\n",
        "else:\n",
        "  print('No exception thrown')\n",
        "\n",
        "finally:\n",
        "  print('finally')\n",
        "\n",
        "\n",
        "print('Rest of code')"
      ],
      "metadata": {
        "id": "DgQiA8o4pA3s",
        "outputId": "fc602fce-af54-462d-a8a7-447283a6fce5",
        "colab": {
          "base_uri": "https://localhost:8080/"
        }
      },
      "execution_count": null,
      "outputs": [
        {
          "output_type": "stream",
          "name": "stdout",
          "text": [
            "exception thrown: division by zero\n",
            "finally\n",
            "Rest of code\n"
          ]
        }
      ]
    },
    {
      "cell_type": "code",
      "source": [
        "# else and finally block + Generic except block\n",
        "\n",
        "n1 = 10\n",
        "n2 = 0\n",
        "\n",
        "try:\n",
        "  div = n1/n2\n",
        "  print(div)\n",
        "except Exception as obj:\n",
        "  print('exception thrown:',obj)\n",
        "  print(obj.__class__)\n",
        "\n",
        "else:\n",
        "  print('No exception thrown')\n",
        "\n",
        "finally:\n",
        "  print('finally')\n",
        "\n",
        "\n",
        "print('Rest of code')"
      ],
      "metadata": {
        "id": "5PZBm-grpCqC",
        "outputId": "15ca3352-bf44-4eeb-aee6-bcfb83e6ff7c",
        "colab": {
          "base_uri": "https://localhost:8080/"
        }
      },
      "execution_count": null,
      "outputs": [
        {
          "output_type": "stream",
          "name": "stdout",
          "text": [
            "exception thrown: division by zero\n",
            "<class 'ZeroDivisionError'>\n",
            "finally\n",
            "Rest of code\n"
          ]
        }
      ]
    },
    {
      "cell_type": "code",
      "source": [
        "# else and finally block + Generic except block\n",
        "\n",
        "n1 = 10\n",
        "n2 = 5\n",
        "\n",
        "try:\n",
        "  div = n1/n2\n",
        "  print(divv)\n",
        "except Exception as obj:\n",
        "  print('exception thrown:',obj)\n",
        "  print(obj.__class__)\n",
        "\n",
        "else:\n",
        "  print('No exception thrown')\n",
        "\n",
        "finally:\n",
        "  print('finally')\n",
        "\n",
        "\n",
        "print('Rest of code')"
      ],
      "metadata": {
        "id": "WLme2tZ0qwPW",
        "outputId": "330678d7-c271-4059-c650-d63dac87461b",
        "colab": {
          "base_uri": "https://localhost:8080/"
        }
      },
      "execution_count": null,
      "outputs": [
        {
          "output_type": "stream",
          "name": "stdout",
          "text": [
            "exception thrown: name 'divv' is not defined\n",
            "<class 'NameError'>\n",
            "finally\n",
            "Rest of code\n"
          ]
        }
      ]
    },
    {
      "cell_type": "code",
      "source": [
        "# Using sys module\n",
        "\n",
        "import sys\n",
        "\n",
        "n1 = 10\n",
        "n2 = 0\n",
        "\n",
        "try:\n",
        "  div = n1/n2\n",
        "  print(div)\n",
        "\n",
        "except:\n",
        "  print(sys.exc_info()[0])\n",
        "  print(sys.exc_info()[1])\n",
        "\n",
        "else:\n",
        "  print('No exception thrown')\n",
        "\n",
        "finally:\n",
        "  print('finally')\n",
        "\n",
        "\n",
        "print('Rest of code')"
      ],
      "metadata": {
        "id": "d9SE-mxjrUwd",
        "outputId": "266051e8-6fbd-48e4-ae41-d1d3905048b5",
        "colab": {
          "base_uri": "https://localhost:8080/"
        }
      },
      "execution_count": null,
      "outputs": [
        {
          "output_type": "stream",
          "name": "stdout",
          "text": [
            "<class 'ZeroDivisionError'>\n",
            "division by zero\n",
            "finally\n",
            "Rest of code\n"
          ]
        }
      ]
    },
    {
      "cell_type": "code",
      "source": [
        "# Using sys module\n",
        "\n",
        "import sys\n",
        "\n",
        "n1 = 10\n",
        "n2 = 5\n",
        "\n",
        "try:\n",
        "  div = n1/n2\n",
        "  print(divv)\n",
        "\n",
        "except:\n",
        "  print(sys.exc_info()[0])\n",
        "  print(sys.exc_info()[1])\n",
        "\n",
        "else:\n",
        "  print('No exception thrown')\n",
        "\n",
        "finally:\n",
        "  print('finally')\n",
        "\n",
        "\n",
        "print('Rest of code')"
      ],
      "metadata": {
        "id": "RC1CWc11r4Uw",
        "outputId": "a145c0c2-349c-416d-e60c-72e9e5d92b11",
        "colab": {
          "base_uri": "https://localhost:8080/"
        }
      },
      "execution_count": null,
      "outputs": [
        {
          "output_type": "stream",
          "name": "stdout",
          "text": [
            "<class 'NameError'>\n",
            "name 'divv' is not defined\n",
            "finally\n",
            "Rest of code\n"
          ]
        }
      ]
    },
    {
      "cell_type": "code",
      "source": [
        "try:\n",
        "  n1 = int(input('Enter 1st number: '))\n",
        "  n2 = int(input('Enter 2nd number: '))\n",
        "  div = n1/n2\n",
        "  print(divv)\n",
        "\n",
        "except:\n",
        "  print(sys.exc_info()[0])\n",
        "  print(sys.exc_info()[1])\n",
        "\n",
        "else:\n",
        "  print('No exception thrown')\n",
        "\n",
        "finally:\n",
        "  print('finally')\n",
        "\n",
        "\n",
        "print('Rest of code')"
      ],
      "metadata": {
        "id": "o6i1xgCCsciH",
        "outputId": "87db4434-68c9-4267-a751-4ad866c4f0dd",
        "colab": {
          "base_uri": "https://localhost:8080/"
        }
      },
      "execution_count": null,
      "outputs": [
        {
          "output_type": "stream",
          "name": "stdout",
          "text": [
            "Enter 1st number: 10\n",
            "Enter 2nd number: 5.0\n",
            "<class 'ValueError'>\n",
            "invalid literal for int() with base 10: '5.0'\n",
            "finally\n",
            "Rest of code\n"
          ]
        }
      ]
    },
    {
      "cell_type": "code",
      "source": [
        "## raise keyword\n",
        "\n",
        "try:\n",
        "  age = int(input('Enter your age: '))\n",
        "  if age <= 0:\n",
        "    raise ValueError\n",
        "  print('Your age is {}'.foramt(age))\n",
        "\n",
        "except ValueError:\n",
        "  print('Invalid age')\n",
        "\n",
        "print(age) ## variable still in memory\n",
        "print('Rest of the code')"
      ],
      "metadata": {
        "id": "r6eAsgwntaoi",
        "outputId": "6f103819-be9b-409e-f360-e37d7bb3a7f4",
        "colab": {
          "base_uri": "https://localhost:8080/"
        }
      },
      "execution_count": null,
      "outputs": [
        {
          "output_type": "stream",
          "name": "stdout",
          "text": [
            "Enter your age: -10\n",
            "Invalid age\n",
            "-10\n",
            "Rest of the code\n"
          ]
        }
      ]
    },
    {
      "cell_type": "code",
      "source": [
        "## raise keyword\n",
        "\n",
        "try:\n",
        "  age = int(input('Enter your age: '))\n",
        "  if age <= 0:\n",
        "    raise ValueError('Invalid age')\n",
        "  print('Your age is {}'.foramt(age))\n",
        "\n",
        "except ValueError as e:\n",
        "  print(e)\n",
        "\n",
        "\n",
        "print('Rest of the code')"
      ],
      "metadata": {
        "id": "GfUnFNotuVBh",
        "outputId": "7f00f707-9592-4c07-aeda-c7907d2323e7",
        "colab": {
          "base_uri": "https://localhost:8080/"
        }
      },
      "execution_count": null,
      "outputs": [
        {
          "output_type": "stream",
          "name": "stdout",
          "text": [
            "Enter your age: -10\n",
            "Invalid age\n",
            "Rest of the code\n"
          ]
        }
      ]
    },
    {
      "cell_type": "code",
      "source": [
        "# User Defined Exception - when not a system identified exception but we want to specify exception cases forcefully\n",
        "\n",
        "class InvalidAge(Exception):\n",
        "  pass\n",
        "\n",
        "try:\n",
        "  age = int(input('Enter your age: '))\n",
        "  if age <= 0:\n",
        "    raise InvalidAge('Age cannot be less than or equal to 0')\n",
        "  print('Your age is ',age)\n",
        "\n",
        "except Exception as obj:\n",
        "  print(obj)\n",
        "\n",
        "print('Rest of code')"
      ],
      "metadata": {
        "id": "Fvqc_6Rgu62Y",
        "outputId": "d5ab63e6-b2e4-4b89-e9e5-d1ad9498085b",
        "colab": {
          "base_uri": "https://localhost:8080/"
        }
      },
      "execution_count": null,
      "outputs": [
        {
          "output_type": "stream",
          "name": "stdout",
          "text": [
            "Enter your age: -3\n",
            "Age cannot be less than or equal to 0\n",
            "Rest of code\n"
          ]
        }
      ]
    },
    {
      "cell_type": "code",
      "source": [
        "class FiveDivisionError(Exception):\n",
        "  pass\n",
        "\n",
        "try:\n",
        "  n1 = int(input('Enter 1st number: '))\n",
        "  n2 = int(input('Enter 2nd umber: '))\n",
        "\n",
        "  if n2 == 5:\n",
        "    raise FiveDivisionError('**Cannot divide by 5**')\n",
        "  print(n1/n2)\n",
        "\n",
        "except FiveDivisionError as obj:\n",
        "  print(obj)\n",
        "\n",
        "print('Rest of the code')"
      ],
      "metadata": {
        "id": "fEsKSl76wJgg",
        "outputId": "16e04a8d-a3fc-40f7-cc7a-ac27ff9cbdc9",
        "colab": {
          "base_uri": "https://localhost:8080/"
        }
      },
      "execution_count": null,
      "outputs": [
        {
          "output_type": "stream",
          "name": "stdout",
          "text": [
            "Enter 1st number: 100\n",
            "Enter 2nd umber: 5\n",
            "**Cannot divide by 5**\n",
            "Rest of the code\n"
          ]
        }
      ]
    },
    {
      "cell_type": "code",
      "source": [
        "class FiveDivisionError(Exception):\n",
        "  pass\n",
        "\n",
        "try:\n",
        "  n1 = int(input('Enter 1st number: '))\n",
        "  n2 = int(input('Enter 2nd number: '))\n",
        "\n",
        "  if n2 == 5:\n",
        "    raise FiveDivisionError  ## Not passing message will print out a blank line\n",
        "  print(n1/n2)\n",
        "\n",
        "except FiveDivisionError as obj:\n",
        "  print(obj)\n",
        "\n",
        "print('Rest of the code')"
      ],
      "metadata": {
        "id": "3HWHRnc7whM1",
        "outputId": "b6bba415-2484-4928-f5ae-727d36065616",
        "colab": {
          "base_uri": "https://localhost:8080/"
        }
      },
      "execution_count": null,
      "outputs": [
        {
          "output_type": "stream",
          "name": "stdout",
          "text": [
            "Enter 1st number: 10\n",
            "Enter 2nd number: 5\n",
            "\n",
            "Rest of the code\n"
          ]
        }
      ]
    },
    {
      "cell_type": "code",
      "source": [
        "# ATM project:\n",
        "\n",
        "## balance should not be less than 1000\n",
        "## user account blocked for an hour if  wrong pin enetered 3 times\n",
        "\n",
        "class LowBalanceError(Exception):\n",
        "  def __init__(self,msg):\n",
        "    self.msg = msg\n",
        "\n",
        "class AccountLockedError(Exception):\n",
        "  pass\n",
        "\n",
        "attempt = 0\n",
        "\n",
        "def withdraw():\n",
        "  global attempt\n",
        "  saved_pin = '1234'\n",
        "  balance = 10000\n",
        "\n",
        "  entered_pin = input('Enter your pin: ')\n",
        "\n",
        "  if entered_pin == saved_pin:\n",
        "    try:\n",
        "      amount = int(input('Enter the amount to withdraw: '))\n",
        "      temp_bal = balance - amount\n",
        "      if temp_bal <= 1000:\n",
        "        raise LowBalanceError('Balance cannot be less than 1000')\n",
        "      else:\n",
        "        balance -= amount\n",
        "        print('{} withdrawn successfully'.format(amount))\n",
        "        print('Remaining Balance: {}'.format(balance))\n",
        "    except LowBalanceError as obj:\n",
        "      print(obj)\n",
        "      ans = input('Do you want to try again (y/n)? ')\n",
        "      if ans.lower() == 'y':\n",
        "        withdraw()\n",
        "    finally:\n",
        "        print('Goodbye!')\n",
        "\n",
        "  else:\n",
        "    print('invalid pin')\n",
        "    attempt += 1\n",
        "    ans = input('Do you want to try again (y/n)? ')\n",
        "    if ans.lower() == 'y':\n",
        "      try:\n",
        "        if attempt >= 3 :\n",
        "          raise AccountLockedError('Too many incorrect attempts. Account Locked, please try again after 1 hour!')\n",
        "      except AccountLockedError as obj:\n",
        "        print(obj)\n",
        "      else:\n",
        "        withdraw()\n",
        "    else:\n",
        "      print('Goodbye!')\n",
        "\n",
        "withdraw()"
      ],
      "metadata": {
        "id": "MZGdzV-fxPHJ",
        "outputId": "3d85460b-e7b0-4dc0-cab2-d94e902dea0e",
        "colab": {
          "base_uri": "https://localhost:8080/"
        }
      },
      "execution_count": null,
      "outputs": [
        {
          "output_type": "stream",
          "name": "stdout",
          "text": [
            "Enter your pin: 123\n",
            "invalid pin\n",
            "Do you want to try again (y/n)? y\n",
            "Enter your pin: 123\n",
            "invalid pin\n",
            "Do you want to try again (y/n)? y\n",
            "Enter your pin: 123\n",
            "invalid pin\n",
            "Do you want to try again (y/n)? y\n",
            "Too many incorrect attempts. Account Locked, please try again after 1 hour!\n"
          ]
        }
      ]
    },
    {
      "cell_type": "code",
      "source": [
        "# packages\n",
        "\n",
        "%cd my_project"
      ],
      "metadata": {
        "id": "orMpRFUK2f3D",
        "colab": {
          "base_uri": "https://localhost:8080/"
        },
        "outputId": "7cea093f-7a6b-4fc0-d715-389a476dacea"
      },
      "execution_count": 5,
      "outputs": [
        {
          "output_type": "stream",
          "name": "stdout",
          "text": [
            "[Errno 2] No such file or directory: 'my_project'\n",
            "/content/my_project\n"
          ]
        }
      ]
    },
    {
      "cell_type": "code",
      "source": [
        "%run main.py"
      ],
      "metadata": {
        "colab": {
          "base_uri": "https://localhost:8080/"
        },
        "id": "nQw4k8EfwqdX",
        "outputId": "dfe0cb21-6c5b-4c56-915e-a5d34d14e769"
      },
      "execution_count": 14,
      "outputs": [
        {
          "output_type": "stream",
          "name": "stdout",
          "text": [
            "7\n",
            "5\n"
          ]
        }
      ]
    },
    {
      "cell_type": "code",
      "source": [
        "%ls"
      ],
      "metadata": {
        "colab": {
          "base_uri": "https://localhost:8080/"
        },
        "id": "6EM4EBCexG0y",
        "outputId": "e034e5a6-7ecd-4a06-cc70-3bf96ff0f5f8"
      },
      "execution_count": 15,
      "outputs": [
        {
          "output_type": "stream",
          "name": "stdout",
          "text": [
            "main.py  \u001b[0m\u001b[01;34mmy_package\u001b[0m/\n"
          ]
        }
      ]
    },
    {
      "cell_type": "code",
      "source": [
        "%pwd"
      ],
      "metadata": {
        "colab": {
          "base_uri": "https://localhost:8080/",
          "height": 36
        },
        "id": "PVSzAE4pyz_V",
        "outputId": "a46af1b5-599d-4ba9-c8ee-2e3d3a867428"
      },
      "execution_count": 16,
      "outputs": [
        {
          "output_type": "execute_result",
          "data": {
            "text/plain": [
              "'/content/my_project'"
            ],
            "application/vnd.google.colaboratory.intrinsic+json": {
              "type": "string"
            }
          },
          "metadata": {},
          "execution_count": 16
        }
      ]
    },
    {
      "cell_type": "code",
      "source": [
        "%run main.py"
      ],
      "metadata": {
        "colab": {
          "base_uri": "https://localhost:8080/"
        },
        "id": "bDoCObh7y2js",
        "outputId": "271f3266-dd61-4ff5-ed57-2daac4b306a6"
      },
      "execution_count": 17,
      "outputs": [
        {
          "output_type": "stream",
          "name": "stdout",
          "text": [
            "7\n",
            "5\n"
          ]
        }
      ]
    },
    {
      "cell_type": "code",
      "source": [
        "%run main.py"
      ],
      "metadata": {
        "colab": {
          "base_uri": "https://localhost:8080/"
        },
        "id": "3xca4JD80Dh1",
        "outputId": "fbe73a45-7cbe-452e-9d2f-846b69cabd54"
      },
      "execution_count": 26,
      "outputs": [
        {
          "output_type": "stream",
          "name": "stdout",
          "text": [
            "7\n",
            "5\n",
            "10\n"
          ]
        }
      ]
    },
    {
      "cell_type": "markdown",
      "source": [
        "# Bank Project"
      ],
      "metadata": {
        "id": "01QO99O-1_PE"
      }
    },
    {
      "cell_type": "code",
      "source": [
        "# Bank Porject\n",
        "\n",
        "class Bank:\n",
        "  bank_name = 'Indian bank'\n",
        "  branch = 'Ballandur, Blr'\n",
        "\n",
        "  # create account\n",
        "  def __init__(self, username, pan, address):\n",
        "    self.username = username\n",
        "    self.pan = pan\n",
        "    self.address = address\n",
        "    self.balance = 0.0\n",
        "    print('Account created successfully')\n",
        "\n",
        "  def withdraw(self,amount):\n",
        "    if self.balance < amount:\n",
        "      print('Insufficient Balance')\n",
        "    else:\n",
        "      self.balance -= amount\n",
        "      print('Withdrawal successful')\n",
        "      print('Remaining Balance: {}'.format(self.balance))\n",
        "\n",
        "  def deposit(self,amount):\n",
        "    self.balance += amount\n",
        "    print('Amount deposited successfully')\n",
        "    print('Updated Balance: {}'.format(self.balance))\n",
        "\n",
        "  def balance_check(self):\n",
        "    print('Your balance is: ',self.balance)\n",
        "\n",
        "\n",
        "# collect user data for account creation\n",
        "username = input('Enter your name: ')\n",
        "pan = input('Enter your pan: ')\n",
        "address = input('Enter your address: ')\n",
        "\n",
        "cust1 = Bank(username,pan,address)\n",
        "\n",
        "# Infinite loop unless user exits\n",
        "while True:\n",
        "  print('1. Deposit\\n2. Withdraw\\n3. Check Balance\\n4. Quit')\n",
        "  option = int(input('ENter your choice: '))\n",
        "\n",
        "  if option == 1:\n",
        "    amount = float(input('Enter the amount to deposit: '))\n",
        "    cust1.deposit(amount)\n",
        "\n",
        "  elif option == 2:\n",
        "    amount = float(input('Enter the amount to withdraw: '))\n",
        "    cust1.withdraw(amount)\n",
        "\n",
        "  elif option == 3:\n",
        "    cust1.balance_check()\n",
        "\n",
        "  elif option == 4:\n",
        "    break\n",
        "\n",
        "  else:\n",
        "    print('Invalid Option. Please choose the option between 1-4')\n",
        "\n",
        "print('Goodbye!')\n"
      ],
      "metadata": {
        "colab": {
          "base_uri": "https://localhost:8080/"
        },
        "id": "BO932toQ0IMT",
        "outputId": "d30f145f-0d00-435c-bdf3-1aa4e1af9487"
      },
      "execution_count": 22,
      "outputs": [
        {
          "output_type": "stream",
          "name": "stdout",
          "text": [
            "Enter your name: a\n",
            "Enter your pan: abcd1234\n",
            "Enter your address: 23 street blr\n",
            "Account created successfully\n",
            "1. Deposit\n",
            "2. Withdraw\n",
            "3. Check Balance\n",
            "4. Quit\n",
            "ENter your choice: 3\n",
            "Your balance is:  0.0\n",
            "1. Deposit\n",
            "2. Withdraw\n",
            "3. Check Balance\n",
            "4. Quit\n",
            "ENter your choice: 1\n",
            "Enter the amount to deposit: 10000\n",
            "Amount deposited successfully\n",
            "Updated Balance: 10000.0\n",
            "1. Deposit\n",
            "2. Withdraw\n",
            "3. Check Balance\n",
            "4. Quit\n",
            "ENter your choice: 3\n",
            "Your balance is:  10000.0\n",
            "1. Deposit\n",
            "2. Withdraw\n",
            "3. Check Balance\n",
            "4. Quit\n",
            "ENter your choice: 2\n",
            "Enter the amount to withdraw: 200000\n",
            "Insufficient Balance\n",
            "1. Deposit\n",
            "2. Withdraw\n",
            "3. Check Balance\n",
            "4. Quit\n",
            "ENter your choice: 2\n",
            "Enter the amount to withdraw: 200\n",
            "Withdrawal successful\n",
            "Remaining Balance: 9800.0\n",
            "1. Deposit\n",
            "2. Withdraw\n",
            "3. Check Balance\n",
            "4. Quit\n",
            "ENter your choice: 3\n",
            "Your balance is:  9800.0\n",
            "1. Deposit\n",
            "2. Withdraw\n",
            "3. Check Balance\n",
            "4. Quit\n",
            "ENter your choice: 5\n",
            "Invalid Option. Please choose the option between 1-4\n",
            "1. Deposit\n",
            "2. Withdraw\n",
            "3. Check Balance\n",
            "4. Quit\n",
            "ENter your choice: 6\n",
            "Invalid Option. Please choose the option between 1-4\n",
            "1. Deposit\n",
            "2. Withdraw\n",
            "3. Check Balance\n",
            "4. Quit\n",
            "ENter your choice: 4\n",
            "Goodbye!\n"
          ]
        }
      ]
    },
    {
      "cell_type": "code",
      "source": [],
      "metadata": {
        "id": "gMABgJu64JFM"
      },
      "execution_count": null,
      "outputs": []
    }
  ]
}