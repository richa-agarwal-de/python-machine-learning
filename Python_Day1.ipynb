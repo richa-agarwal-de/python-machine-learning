{
  "nbformat": 4,
  "nbformat_minor": 0,
  "metadata": {
    "colab": {
      "provenance": [],
      "authorship_tag": "ABX9TyMCX06SIf1P5P6ty14vOc01",
      "include_colab_link": true
    },
    "kernelspec": {
      "name": "python3",
      "display_name": "Python 3"
    },
    "language_info": {
      "name": "python"
    }
  },
  "cells": [
    {
      "cell_type": "markdown",
      "metadata": {
        "id": "view-in-github",
        "colab_type": "text"
      },
      "source": [
        "<a href=\"https://colab.research.google.com/github/richa-agarwal-de/python-machine-learning/blob/main/Python_Day1.ipynb\" target=\"_parent\"><img src=\"https://colab.research.google.com/assets/colab-badge.svg\" alt=\"Open In Colab\"/></a>"
      ]
    },
    {
      "cell_type": "code",
      "execution_count": 1,
      "metadata": {
        "id": "S0i2wItKuBgx",
        "colab": {
          "base_uri": "https://localhost:8080/"
        },
        "outputId": "3fb1db45-c256-46f4-9d2b-15c3b2577732"
      },
      "outputs": [
        {
          "output_type": "stream",
          "name": "stdout",
          "text": [
            "hello World\n"
          ]
        }
      ],
      "source": [
        "print(\"hello World\")"
      ]
    },
    {
      "cell_type": "markdown",
      "source": [
        "# Variable test - memory assigned to value not variable"
      ],
      "metadata": {
        "id": "tT1TfmxpFWR7"
      }
    },
    {
      "cell_type": "code",
      "source": [
        "a = 100\n",
        "\n",
        "print(id(a))"
      ],
      "metadata": {
        "colab": {
          "base_uri": "https://localhost:8080/"
        },
        "id": "pdJSp3CmDuJY",
        "outputId": "8d8235b6-6f9e-4d58-acb7-5f305575774b"
      },
      "execution_count": 2,
      "outputs": [
        {
          "output_type": "stream",
          "name": "stdout",
          "text": [
            "10754024\n"
          ]
        }
      ]
    },
    {
      "cell_type": "code",
      "source": [
        " b = 100\n",
        "\n",
        " print(id(b))"
      ],
      "metadata": {
        "colab": {
          "base_uri": "https://localhost:8080/"
        },
        "id": "TEUSzSomD8Eg",
        "outputId": "2999396f-3f92-479b-db21-6e3c5b014cff"
      },
      "execution_count": 3,
      "outputs": [
        {
          "output_type": "stream",
          "name": "stdout",
          "text": [
            "10754024\n"
          ]
        }
      ]
    },
    {
      "cell_type": "code",
      "source": [
        "c = a\n",
        "print(id(c))"
      ],
      "metadata": {
        "colab": {
          "base_uri": "https://localhost:8080/"
        },
        "id": "4ThETjBgD_3T",
        "outputId": "0a729901-f3e4-45cf-8e6b-e66cdbe323b0"
      },
      "execution_count": 4,
      "outputs": [
        {
          "output_type": "stream",
          "name": "stdout",
          "text": [
            "10754024\n"
          ]
        }
      ]
    },
    {
      "cell_type": "markdown",
      "source": [
        "### a, b , c all had same memory address. changing value of a changes address of a"
      ],
      "metadata": {
        "id": "QftN451XFg6C"
      }
    },
    {
      "cell_type": "code",
      "source": [
        "a = 50\n",
        "print(id(a))"
      ],
      "metadata": {
        "colab": {
          "base_uri": "https://localhost:8080/"
        },
        "id": "jQfhryJ1EChp",
        "outputId": "a08d95dc-e9a5-4e3a-cb2b-aa62bb317bd9"
      },
      "execution_count": 5,
      "outputs": [
        {
          "output_type": "stream",
          "name": "stdout",
          "text": [
            "10752424\n"
          ]
        }
      ]
    },
    {
      "cell_type": "code",
      "source": [
        "print(b)\n",
        "print(id(b))"
      ],
      "metadata": {
        "colab": {
          "base_uri": "https://localhost:8080/"
        },
        "id": "ODoGJeT_EF0O",
        "outputId": "0d46bea9-c535-4f70-a427-85b43d9df95f"
      },
      "execution_count": 7,
      "outputs": [
        {
          "output_type": "stream",
          "name": "stdout",
          "text": [
            "100\n",
            "10754024\n"
          ]
        }
      ]
    },
    {
      "cell_type": "code",
      "source": [
        "print({hex(10754024)})"
      ],
      "metadata": {
        "id": "XuN_gLBiUBXI",
        "outputId": "107738e5-87d7-427b-a941-c3bf167d3b75",
        "colab": {
          "base_uri": "https://localhost:8080/"
        }
      },
      "execution_count": 21,
      "outputs": [
        {
          "output_type": "stream",
          "name": "stdout",
          "text": [
            "{'0xa417e8'}\n"
          ]
        }
      ]
    },
    {
      "cell_type": "markdown",
      "source": [
        "# variable assignement"
      ],
      "metadata": {
        "id": "lTexUadrHJ-X"
      }
    },
    {
      "cell_type": "code",
      "source": [
        "a = 10\n",
        "b = 20\n",
        "c = 30\n",
        "print(a,b,c)"
      ],
      "metadata": {
        "id": "nvERitk0G2Jy",
        "outputId": "f5ecb43e-0cdf-471e-95e6-4b0ab039d5f6",
        "colab": {
          "base_uri": "https://localhost:8080/"
        }
      },
      "execution_count": 10,
      "outputs": [
        {
          "output_type": "stream",
          "name": "stdout",
          "text": [
            "10 20 30\n"
          ]
        }
      ]
    },
    {
      "cell_type": "code",
      "source": [
        "a,b,c=40,50,60\n",
        "print(a,b,c)"
      ],
      "metadata": {
        "id": "jWkVuzqbHSsa",
        "outputId": "6eee35f7-3a61-4d8b-aea8-988ffb78802c",
        "colab": {
          "base_uri": "https://localhost:8080/"
        }
      },
      "execution_count": 15,
      "outputs": [
        {
          "output_type": "stream",
          "name": "stdout",
          "text": [
            "40 50 60\n"
          ]
        }
      ]
    },
    {
      "cell_type": "code",
      "source": [
        "a = 10\n",
        "b = 10\n",
        "c = 10\n",
        "print(a,b,c)"
      ],
      "metadata": {
        "id": "Wx6yBV9XHZAq",
        "outputId": "8e1902d3-2657-4b3c-a13b-ac27da6de605",
        "colab": {
          "base_uri": "https://localhost:8080/"
        }
      },
      "execution_count": 12,
      "outputs": [
        {
          "output_type": "stream",
          "name": "stdout",
          "text": [
            "10 10 10\n"
          ]
        }
      ]
    },
    {
      "cell_type": "code",
      "source": [
        "a=b=c=20\n",
        "print(a,b,c)"
      ],
      "metadata": {
        "id": "oVgYayyHHc-6",
        "outputId": "82d6490a-2224-4548-d995-6985e987468b",
        "colab": {
          "base_uri": "https://localhost:8080/"
        }
      },
      "execution_count": 16,
      "outputs": [
        {
          "output_type": "stream",
          "name": "stdout",
          "text": [
            "20 20 20\n"
          ]
        }
      ]
    },
    {
      "cell_type": "markdown",
      "source": [
        "# check list of keywords"
      ],
      "metadata": {
        "id": "u0ZY4AmJH6hu"
      }
    },
    {
      "cell_type": "markdown",
      "source": [
        "### keywords are special words, reserved words,cannot be used as variables"
      ],
      "metadata": {
        "id": "hX-P3bvdIFT0"
      }
    },
    {
      "cell_type": "code",
      "source": [
        "import keyword as kw\n",
        "\n",
        "print(kw.kwlist)\n"
      ],
      "metadata": {
        "id": "2xyTqQZhHgeI",
        "outputId": "a6b5ac2d-1a21-4a2a-bd78-e115959bb0ac",
        "colab": {
          "base_uri": "https://localhost:8080/"
        }
      },
      "execution_count": 17,
      "outputs": [
        {
          "output_type": "stream",
          "name": "stdout",
          "text": [
            "['False', 'None', 'True', 'and', 'as', 'assert', 'async', 'await', 'break', 'class', 'continue', 'def', 'del', 'elif', 'else', 'except', 'finally', 'for', 'from', 'global', 'if', 'import', 'in', 'is', 'lambda', 'nonlocal', 'not', 'or', 'pass', 'raise', 'return', 'try', 'while', 'with', 'yield']\n"
          ]
        }
      ]
    },
    {
      "cell_type": "code",
      "source": [
        "False = 10      # keywords cannot be used as variable\n",
        "print(false)"
      ],
      "metadata": {
        "id": "JIsu2x3eIDu7",
        "outputId": "c355987d-4b8f-4c7a-c850-3da3d4aa7a15",
        "colab": {
          "base_uri": "https://localhost:8080/",
          "height": 106
        }
      },
      "execution_count": 26,
      "outputs": [
        {
          "output_type": "error",
          "ename": "SyntaxError",
          "evalue": "cannot assign to False (<ipython-input-26-5fd04c61f208>, line 1)",
          "traceback": [
            "\u001b[0;36m  File \u001b[0;32m\"<ipython-input-26-5fd04c61f208>\"\u001b[0;36m, line \u001b[0;32m1\u001b[0m\n\u001b[0;31m    False = 10      # keywords cannot be used as variable\u001b[0m\n\u001b[0m    ^\u001b[0m\n\u001b[0;31mSyntaxError\u001b[0m\u001b[0;31m:\u001b[0m cannot assign to False\n"
          ]
        }
      ]
    },
    {
      "cell_type": "code",
      "source": [
        "false = 10    # keywords are case sensitive\n",
        "print(false)"
      ],
      "metadata": {
        "id": "O48qjUGBVEWB",
        "outputId": "71384417-e680-4b0f-d940-12a5a23a467a",
        "colab": {
          "base_uri": "https://localhost:8080/"
        }
      },
      "execution_count": 24,
      "outputs": [
        {
          "output_type": "stream",
          "name": "stdout",
          "text": [
            "10\n"
          ]
        }
      ]
    },
    {
      "cell_type": "code",
      "source": [
        "'''\n",
        "This is\n",
        "a\n",
        "multiline\n",
        "comment\n",
        "'''"
      ],
      "metadata": {
        "id": "F7YF9vv-MEaA",
        "outputId": "43bec0ed-85ee-4641-c672-daa5e9353b92",
        "colab": {
          "base_uri": "https://localhost:8080/",
          "height": 36
        }
      },
      "execution_count": 20,
      "outputs": [
        {
          "output_type": "execute_result",
          "data": {
            "text/plain": [
              "' \\nThis is\\na\\nmultiline\\ncomment\\n'"
            ],
            "application/vnd.google.colaboratory.intrinsic+json": {
              "type": "string"
            }
          },
          "metadata": {},
          "execution_count": 20
        }
      ]
    },
    {
      "cell_type": "code",
      "source": [],
      "metadata": {
        "id": "zrN3WhMAMg7x"
      },
      "execution_count": null,
      "outputs": []
    }
  ]
}