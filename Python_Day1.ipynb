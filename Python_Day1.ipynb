{
  "nbformat": 4,
  "nbformat_minor": 0,
  "metadata": {
    "colab": {
      "provenance": [],
      "authorship_tag": "ABX9TyN8eIcFX2aQ3jI3dBlIC/HM",
      "include_colab_link": true
    },
    "kernelspec": {
      "name": "python3",
      "display_name": "Python 3"
    },
    "language_info": {
      "name": "python"
    }
  },
  "cells": [
    {
      "cell_type": "markdown",
      "metadata": {
        "id": "view-in-github",
        "colab_type": "text"
      },
      "source": [
        "<a href=\"https://colab.research.google.com/github/richa-agarwal-de/python-machine-learning/blob/main/Python_Day1.ipynb\" target=\"_parent\"><img src=\"https://colab.research.google.com/assets/colab-badge.svg\" alt=\"Open In Colab\"/></a>"
      ]
    },
    {
      "cell_type": "code",
      "execution_count": null,
      "metadata": {
        "id": "S0i2wItKuBgx",
        "colab": {
          "base_uri": "https://localhost:8080/"
        },
        "outputId": "3fb1db45-c256-46f4-9d2b-15c3b2577732"
      },
      "outputs": [
        {
          "output_type": "stream",
          "name": "stdout",
          "text": [
            "hello World\n"
          ]
        }
      ],
      "source": [
        "print(\"hello World\")"
      ]
    },
    {
      "cell_type": "markdown",
      "source": [
        "# Variable test - memory assigned to value not variable"
      ],
      "metadata": {
        "id": "tT1TfmxpFWR7"
      }
    },
    {
      "cell_type": "code",
      "source": [
        "a = 100\n",
        "\n",
        "print(id(a))"
      ],
      "metadata": {
        "colab": {
          "base_uri": "https://localhost:8080/"
        },
        "id": "pdJSp3CmDuJY",
        "outputId": "8d8235b6-6f9e-4d58-acb7-5f305575774b"
      },
      "execution_count": null,
      "outputs": [
        {
          "output_type": "stream",
          "name": "stdout",
          "text": [
            "10754024\n"
          ]
        }
      ]
    },
    {
      "cell_type": "code",
      "source": [
        " b = 100\n",
        "\n",
        " print(id(b))"
      ],
      "metadata": {
        "colab": {
          "base_uri": "https://localhost:8080/"
        },
        "id": "TEUSzSomD8Eg",
        "outputId": "2999396f-3f92-479b-db21-6e3c5b014cff"
      },
      "execution_count": null,
      "outputs": [
        {
          "output_type": "stream",
          "name": "stdout",
          "text": [
            "10754024\n"
          ]
        }
      ]
    },
    {
      "cell_type": "code",
      "source": [
        "c = a\n",
        "print(id(c))"
      ],
      "metadata": {
        "colab": {
          "base_uri": "https://localhost:8080/"
        },
        "id": "4ThETjBgD_3T",
        "outputId": "0a729901-f3e4-45cf-8e6b-e66cdbe323b0"
      },
      "execution_count": null,
      "outputs": [
        {
          "output_type": "stream",
          "name": "stdout",
          "text": [
            "10754024\n"
          ]
        }
      ]
    },
    {
      "cell_type": "markdown",
      "source": [
        "### a, b , c all had same memory address. changing value of a changes address of a"
      ],
      "metadata": {
        "id": "QftN451XFg6C"
      }
    },
    {
      "cell_type": "code",
      "source": [
        "a = 50\n",
        "print(id(a))"
      ],
      "metadata": {
        "colab": {
          "base_uri": "https://localhost:8080/"
        },
        "id": "jQfhryJ1EChp",
        "outputId": "a08d95dc-e9a5-4e3a-cb2b-aa62bb317bd9"
      },
      "execution_count": null,
      "outputs": [
        {
          "output_type": "stream",
          "name": "stdout",
          "text": [
            "10752424\n"
          ]
        }
      ]
    },
    {
      "cell_type": "code",
      "source": [
        "print(b)\n",
        "print(id(b))"
      ],
      "metadata": {
        "colab": {
          "base_uri": "https://localhost:8080/"
        },
        "id": "ODoGJeT_EF0O",
        "outputId": "0d46bea9-c535-4f70-a427-85b43d9df95f"
      },
      "execution_count": null,
      "outputs": [
        {
          "output_type": "stream",
          "name": "stdout",
          "text": [
            "100\n",
            "10754024\n"
          ]
        }
      ]
    },
    {
      "cell_type": "code",
      "source": [
        "print({hex(10754024)})"
      ],
      "metadata": {
        "colab": {
          "base_uri": "https://localhost:8080/"
        },
        "id": "XuN_gLBiUBXI",
        "outputId": "107738e5-87d7-427b-a941-c3bf167d3b75"
      },
      "execution_count": null,
      "outputs": [
        {
          "output_type": "stream",
          "name": "stdout",
          "text": [
            "{'0xa417e8'}\n"
          ]
        }
      ]
    },
    {
      "cell_type": "markdown",
      "source": [
        "# variable assignement"
      ],
      "metadata": {
        "id": "lTexUadrHJ-X"
      }
    },
    {
      "cell_type": "code",
      "source": [
        "a = 10\n",
        "b = 20\n",
        "c = 30\n",
        "print(a,b,c)"
      ],
      "metadata": {
        "colab": {
          "base_uri": "https://localhost:8080/"
        },
        "id": "nvERitk0G2Jy",
        "outputId": "f5ecb43e-0cdf-471e-95e6-4b0ab039d5f6"
      },
      "execution_count": null,
      "outputs": [
        {
          "output_type": "stream",
          "name": "stdout",
          "text": [
            "10 20 30\n"
          ]
        }
      ]
    },
    {
      "cell_type": "code",
      "source": [
        "a,b,c=40,50,60\n",
        "print(a,b,c)"
      ],
      "metadata": {
        "colab": {
          "base_uri": "https://localhost:8080/"
        },
        "id": "jWkVuzqbHSsa",
        "outputId": "6eee35f7-3a61-4d8b-aea8-988ffb78802c"
      },
      "execution_count": null,
      "outputs": [
        {
          "output_type": "stream",
          "name": "stdout",
          "text": [
            "40 50 60\n"
          ]
        }
      ]
    },
    {
      "cell_type": "code",
      "source": [
        "a = 10\n",
        "b = 10\n",
        "c = 10\n",
        "print(a,b,c)"
      ],
      "metadata": {
        "colab": {
          "base_uri": "https://localhost:8080/"
        },
        "id": "Wx6yBV9XHZAq",
        "outputId": "8e1902d3-2657-4b3c-a13b-ac27da6de605"
      },
      "execution_count": null,
      "outputs": [
        {
          "output_type": "stream",
          "name": "stdout",
          "text": [
            "10 10 10\n"
          ]
        }
      ]
    },
    {
      "cell_type": "code",
      "source": [
        "a=b=c=20\n",
        "print(a,b,c)"
      ],
      "metadata": {
        "colab": {
          "base_uri": "https://localhost:8080/"
        },
        "id": "oVgYayyHHc-6",
        "outputId": "82d6490a-2224-4548-d995-6985e987468b"
      },
      "execution_count": null,
      "outputs": [
        {
          "output_type": "stream",
          "name": "stdout",
          "text": [
            "20 20 20\n"
          ]
        }
      ]
    },
    {
      "cell_type": "markdown",
      "source": [
        "# check list of keywords"
      ],
      "metadata": {
        "id": "u0ZY4AmJH6hu"
      }
    },
    {
      "cell_type": "markdown",
      "source": [
        "### keywords are special words, reserved words,cannot be used as variables"
      ],
      "metadata": {
        "id": "hX-P3bvdIFT0"
      }
    },
    {
      "cell_type": "code",
      "source": [
        "import keyword as kw\n",
        "\n",
        "print(kw.kwlist)\n"
      ],
      "metadata": {
        "colab": {
          "base_uri": "https://localhost:8080/"
        },
        "id": "2xyTqQZhHgeI",
        "outputId": "a6b5ac2d-1a21-4a2a-bd78-e115959bb0ac"
      },
      "execution_count": null,
      "outputs": [
        {
          "output_type": "stream",
          "name": "stdout",
          "text": [
            "['False', 'None', 'True', 'and', 'as', 'assert', 'async', 'await', 'break', 'class', 'continue', 'def', 'del', 'elif', 'else', 'except', 'finally', 'for', 'from', 'global', 'if', 'import', 'in', 'is', 'lambda', 'nonlocal', 'not', 'or', 'pass', 'raise', 'return', 'try', 'while', 'with', 'yield']\n"
          ]
        }
      ]
    },
    {
      "cell_type": "code",
      "source": [
        "False = 10      # keywords cannot be used as variable\n",
        "print(false)"
      ],
      "metadata": {
        "colab": {
          "base_uri": "https://localhost:8080/",
          "height": 106
        },
        "id": "JIsu2x3eIDu7",
        "outputId": "c355987d-4b8f-4c7a-c850-3da3d4aa7a15"
      },
      "execution_count": null,
      "outputs": [
        {
          "output_type": "error",
          "ename": "SyntaxError",
          "evalue": "cannot assign to False (<ipython-input-26-5fd04c61f208>, line 1)",
          "traceback": [
            "\u001b[0;36m  File \u001b[0;32m\"<ipython-input-26-5fd04c61f208>\"\u001b[0;36m, line \u001b[0;32m1\u001b[0m\n\u001b[0;31m    False = 10      # keywords cannot be used as variable\u001b[0m\n\u001b[0m    ^\u001b[0m\n\u001b[0;31mSyntaxError\u001b[0m\u001b[0;31m:\u001b[0m cannot assign to False\n"
          ]
        }
      ]
    },
    {
      "cell_type": "code",
      "source": [
        "false = 10    # keywords are case sensitive\n",
        "print(false)"
      ],
      "metadata": {
        "colab": {
          "base_uri": "https://localhost:8080/"
        },
        "id": "O48qjUGBVEWB",
        "outputId": "71384417-e680-4b0f-d940-12a5a23a467a"
      },
      "execution_count": null,
      "outputs": [
        {
          "output_type": "stream",
          "name": "stdout",
          "text": [
            "10\n"
          ]
        }
      ]
    },
    {
      "cell_type": "code",
      "source": [
        "'''\n",
        "This is\n",
        "a\n",
        "multiline\n",
        "comment\n",
        "'''"
      ],
      "metadata": {
        "colab": {
          "base_uri": "https://localhost:8080/",
          "height": 36
        },
        "id": "F7YF9vv-MEaA",
        "outputId": "43bec0ed-85ee-4641-c672-daa5e9353b92"
      },
      "execution_count": null,
      "outputs": [
        {
          "output_type": "execute_result",
          "data": {
            "text/plain": [
              "' \\nThis is\\na\\nmultiline\\ncomment\\n'"
            ],
            "application/vnd.google.colaboratory.intrinsic+json": {
              "type": "string"
            }
          },
          "metadata": {},
          "execution_count": 20
        }
      ]
    },
    {
      "cell_type": "markdown",
      "source": [
        "# Day 3 - Data types (LIst, Tuples, Dictionary, Set)"
      ],
      "metadata": {
        "id": "phidqRzBWWBL"
      }
    },
    {
      "cell_type": "markdown",
      "source": [
        "## List"
      ],
      "metadata": {
        "id": "MaVAU5IeWe-z"
      }
    },
    {
      "cell_type": "code",
      "source": [
        "# Define list - collection / sequence of values of different data types\n",
        "lst = [10, 23.5, 'aba', 3+4j, [23,32,487]]\n",
        "\n",
        "print(type(lst)) ### type() to print the data type\n",
        "\n",
        "print(lst)"
      ],
      "metadata": {
        "id": "nDd0zKzVWf6V",
        "outputId": "c883dc07-e7bb-4852-d775-4194c19679f0",
        "colab": {
          "base_uri": "https://localhost:8080/"
        }
      },
      "execution_count": null,
      "outputs": [
        {
          "output_type": "stream",
          "name": "stdout",
          "text": [
            "<class 'list'>\n",
            "[10, 23.5, 'aba', (3+4j), [23, 32, 487]]\n"
          ]
        }
      ]
    },
    {
      "cell_type": "markdown",
      "source": [
        "## Variable Annotation"
      ],
      "metadata": {
        "id": "mj_tuu6UXhAe"
      }
    },
    {
      "cell_type": "markdown",
      "source": [
        "### use annotations at start of code to help other developers understand the data type of variables"
      ],
      "metadata": {
        "id": "YF5Ta4VaYXRs"
      }
    },
    {
      "cell_type": "code",
      "source": [
        "var1 : int = 10\n",
        "print(var1)\n",
        "print(type(var1))\n",
        "print(__annotations__['var1'])"
      ],
      "metadata": {
        "id": "d2L8cBKWXeJ7",
        "outputId": "389bab94-a7a4-47f6-b754-abd5492b4af5",
        "colab": {
          "base_uri": "https://localhost:8080/"
        }
      },
      "execution_count": null,
      "outputs": [
        {
          "output_type": "stream",
          "name": "stdout",
          "text": [
            "10\n",
            "<class 'int'>\n",
            "<class 'int'>\n"
          ]
        }
      ]
    },
    {
      "cell_type": "code",
      "source": [
        "var2 : int = 'NTT'\n",
        "print(var2)\n",
        "print(type(var2))\n",
        "print(__annotations__['var2'])"
      ],
      "metadata": {
        "id": "4tJO47NaXzqX",
        "outputId": "2532f5b9-f68b-4139-e4ec-880f93732e24",
        "colab": {
          "base_uri": "https://localhost:8080/"
        }
      },
      "execution_count": null,
      "outputs": [
        {
          "output_type": "stream",
          "name": "stdout",
          "text": [
            "NTT\n",
            "<class 'str'>\n",
            "<class 'int'>\n"
          ]
        }
      ]
    },
    {
      "cell_type": "code",
      "source": [
        "# isinstance()\n",
        "\n",
        "if isinstance(var1,int)==True:\n",
        "  print('var is int')"
      ],
      "metadata": {
        "id": "ZduyxuKnX6Xw",
        "outputId": "d4570ce0-ed89-406f-88be-5fa022456367",
        "colab": {
          "base_uri": "https://localhost:8080/"
        }
      },
      "execution_count": null,
      "outputs": [
        {
          "output_type": "stream",
          "name": "stdout",
          "text": [
            "var is int\n"
          ]
        }
      ]
    },
    {
      "cell_type": "code",
      "source": [
        "# isinstance()\n",
        "\n",
        "if isinstance(var2,int)==True:\n",
        "  print('var is int')\n",
        "else:\n",
        "  print('var is not int')"
      ],
      "metadata": {
        "id": "27vstDXiYoaj",
        "outputId": "56ff3800-c9ad-4a1e-a2d8-a613067ce295",
        "colab": {
          "base_uri": "https://localhost:8080/"
        }
      },
      "execution_count": null,
      "outputs": [
        {
          "output_type": "stream",
          "name": "stdout",
          "text": [
            "var is not int\n"
          ]
        }
      ]
    },
    {
      "cell_type": "code",
      "source": [
        "str1 = 'Bangalore'\n",
        "print(str1[1:1:1])"
      ],
      "metadata": {
        "id": "LKL1JmA2bWF7",
        "outputId": "8da5e6e8-1167-413b-da96-1e2003d2db2c",
        "colab": {
          "base_uri": "https://localhost:8080/"
        }
      },
      "execution_count": 1,
      "outputs": [
        {
          "output_type": "stream",
          "name": "stdout",
          "text": [
            "\n"
          ]
        }
      ]
    },
    {
      "cell_type": "code",
      "source": [
        "str1 = 'Bangalore'\n",
        "print(str1[1:2:1])"
      ],
      "metadata": {
        "id": "JIVAiL661_H9",
        "outputId": "352b2cbf-9b14-440d-f821-58431324455e",
        "colab": {
          "base_uri": "https://localhost:8080/"
        }
      },
      "execution_count": 2,
      "outputs": [
        {
          "output_type": "stream",
          "name": "stdout",
          "text": [
            "a\n"
          ]
        }
      ]
    },
    {
      "cell_type": "code",
      "source": [
        "str1 = 'Bangalore'\n",
        "print(str1[1:2:-1])"
      ],
      "metadata": {
        "id": "yD5x4w0P2GcH",
        "outputId": "7e148356-17c9-4db6-a07e-e9d1940d50bd",
        "colab": {
          "base_uri": "https://localhost:8080/"
        }
      },
      "execution_count": 3,
      "outputs": [
        {
          "output_type": "stream",
          "name": "stdout",
          "text": [
            "\n"
          ]
        }
      ]
    },
    {
      "cell_type": "code",
      "source": [
        "str1 = 'Bangalore'\n",
        "print(str1[-1::])"
      ],
      "metadata": {
        "id": "rp7846JU2JlI",
        "outputId": "5ad8b5cb-4eb2-41da-895a-f3791412a616",
        "colab": {
          "base_uri": "https://localhost:8080/"
        }
      },
      "execution_count": 4,
      "outputs": [
        {
          "output_type": "stream",
          "name": "stdout",
          "text": [
            "e\n"
          ]
        }
      ]
    },
    {
      "cell_type": "code",
      "source": [
        "str1 = 'Bangalore'\n",
        "print(str1[-1:-2:1])"
      ],
      "metadata": {
        "id": "8UxRNABn2j5I",
        "outputId": "46def6dc-c464-415a-9c7a-0b75e360d038",
        "colab": {
          "base_uri": "https://localhost:8080/"
        }
      },
      "execution_count": 5,
      "outputs": [
        {
          "output_type": "stream",
          "name": "stdout",
          "text": [
            "\n"
          ]
        }
      ]
    },
    {
      "cell_type": "code",
      "source": [
        "str1 = 'Bangalore'\n",
        "print(str1[-1:-5:-1])"
      ],
      "metadata": {
        "id": "QuxMNEsK2ocm",
        "outputId": "970d05ae-c485-4460-887d-1ff219f326d0",
        "colab": {
          "base_uri": "https://localhost:8080/"
        }
      },
      "execution_count": 6,
      "outputs": [
        {
          "output_type": "stream",
          "name": "stdout",
          "text": [
            "erol\n"
          ]
        }
      ]
    },
    {
      "cell_type": "code",
      "source": [
        "str1 = 'Bangalore'\n",
        "print(str1[-10:-5:-1])"
      ],
      "metadata": {
        "id": "CFqk2U9z2vT3",
        "outputId": "1e6c727a-8edc-4cfd-8217-81c683a0f883",
        "colab": {
          "base_uri": "https://localhost:8080/"
        }
      },
      "execution_count": 7,
      "outputs": [
        {
          "output_type": "stream",
          "name": "stdout",
          "text": [
            "\n"
          ]
        }
      ]
    },
    {
      "cell_type": "code",
      "source": [
        "str1 = 'Bangalore'\n",
        "print(str1[1:1:1])"
      ],
      "metadata": {
        "id": "PCGuo6Iu3xI8",
        "outputId": "db01e220-8305-4711-db03-a95dff518df8",
        "colab": {
          "base_uri": "https://localhost:8080/"
        }
      },
      "execution_count": 8,
      "outputs": [
        {
          "output_type": "stream",
          "name": "stdout",
          "text": [
            "\n"
          ]
        }
      ]
    },
    {
      "cell_type": "code",
      "source": [
        "str1 = 'Bangalore'\n",
        "print(str1[3:0:-1])"
      ],
      "metadata": {
        "id": "mgpOuMX533IK",
        "outputId": "c5a4fcaf-2cf5-40e1-ee5a-68a355085aa0",
        "colab": {
          "base_uri": "https://localhost:8080/"
        }
      },
      "execution_count": 9,
      "outputs": [
        {
          "output_type": "stream",
          "name": "stdout",
          "text": [
            "gna\n"
          ]
        }
      ]
    },
    {
      "cell_type": "code",
      "source": [
        "str1 = 'Bangalore'\n",
        "print(str1[-1:-12:-1])"
      ],
      "metadata": {
        "id": "hJIWfVq74FZ-",
        "outputId": "deba6e87-c0f6-49d2-c6d8-cc831383d8fd",
        "colab": {
          "base_uri": "https://localhost:8080/"
        }
      },
      "execution_count": 10,
      "outputs": [
        {
          "output_type": "stream",
          "name": "stdout",
          "text": [
            "erolagnaB\n"
          ]
        }
      ]
    },
    {
      "cell_type": "code",
      "source": [
        "str1 = 'Bangalore'\n",
        "print(str1[1:2:1])"
      ],
      "metadata": {
        "id": "VByT6YAY4XZ_",
        "outputId": "85d681ba-b094-4dd2-81bc-8fc6e786fe17",
        "colab": {
          "base_uri": "https://localhost:8080/"
        }
      },
      "execution_count": 12,
      "outputs": [
        {
          "output_type": "stream",
          "name": "stdout",
          "text": [
            "a\n"
          ]
        }
      ]
    },
    {
      "cell_type": "code",
      "source": [
        "str1 = 'Bangalore'\n",
        "print(str1[-9:-1])"
      ],
      "metadata": {
        "id": "-RPdlqcE4np4",
        "outputId": "dbf6bcc1-1dfe-4494-ee27-c5c10053c52b",
        "colab": {
          "base_uri": "https://localhost:8080/"
        }
      },
      "execution_count": 14,
      "outputs": [
        {
          "output_type": "stream",
          "name": "stdout",
          "text": [
            "Bangalor\n"
          ]
        }
      ]
    },
    {
      "cell_type": "code",
      "source": [
        "s = 'Hello, world!'\n",
        "print(s[-5:2:-2])"
      ],
      "metadata": {
        "id": "igqrm3Uv6f8v",
        "outputId": "67fc5661-3c83-4190-898b-1bad8096c5f1",
        "colab": {
          "base_uri": "https://localhost:8080/"
        }
      },
      "execution_count": 15,
      "outputs": [
        {
          "output_type": "stream",
          "name": "stdout",
          "text": [
            "o o\n"
          ]
        }
      ]
    },
    {
      "cell_type": "code",
      "source": [
        "s = 'Python is fun!'"
      ],
      "metadata": {
        "id": "B01sR4oT88n9"
      },
      "execution_count": 16,
      "outputs": []
    },
    {
      "cell_type": "code",
      "source": [
        "print(s[::2][::-1])"
      ],
      "metadata": {
        "id": "3ZaFcl3H9vzL",
        "outputId": "9ff3c16b-3ebb-4c8a-da77-595a52a3a413",
        "colab": {
          "base_uri": "https://localhost:8080/"
        }
      },
      "execution_count": 17,
      "outputs": [
        {
          "output_type": "stream",
          "name": "stdout",
          "text": [
            "nfs otP\n"
          ]
        }
      ]
    },
    {
      "cell_type": "code",
      "source": [
        "s = 'Programming'\n",
        "print(s[3:len(s)-4])"
      ],
      "metadata": {
        "id": "ZQEfnyhR9zbb",
        "outputId": "d269b2ac-6748-40f4-b9d2-0c8f481b2e65",
        "colab": {
          "base_uri": "https://localhost:8080/"
        }
      },
      "execution_count": 18,
      "outputs": [
        {
          "output_type": "stream",
          "name": "stdout",
          "text": [
            "gram\n"
          ]
        }
      ]
    },
    {
      "cell_type": "code",
      "source": [
        "# if else condition\n",
        "if 10>5:\n",
        "  print(\"in if\")\n",
        "\n",
        "print('out of if')"
      ],
      "metadata": {
        "id": "8IhMO3g0-YI-",
        "outputId": "ac98d787-cf93-4146-a70b-d5e37590d8f2",
        "colab": {
          "base_uri": "https://localhost:8080/"
        }
      },
      "execution_count": 19,
      "outputs": [
        {
          "output_type": "stream",
          "name": "stdout",
          "text": [
            "in if\n",
            "out of if\n"
          ]
        }
      ]
    },
    {
      "cell_type": "code",
      "source": [
        "if 10>15:\n",
        "  print(\"in if\")\n",
        "\n",
        "print('out of if')"
      ],
      "metadata": {
        "id": "9fISbedVAola",
        "outputId": "80ce3dca-51e6-47cb-c39f-cfc949e5058b",
        "colab": {
          "base_uri": "https://localhost:8080/"
        }
      },
      "execution_count": 20,
      "outputs": [
        {
          "output_type": "stream",
          "name": "stdout",
          "text": [
            "out of if\n"
          ]
        }
      ]
    },
    {
      "cell_type": "code",
      "source": [
        "if 10>15:\n",
        "  print(\"in if\")\n",
        "elif 10>12:\n",
        "  print('in elif')\n",
        "\n",
        "print('out of if')"
      ],
      "metadata": {
        "id": "kiP87e8HAqCn",
        "outputId": "f0e9dd7d-a10c-4682-f23b-0664d4df3623",
        "colab": {
          "base_uri": "https://localhost:8080/"
        }
      },
      "execution_count": 21,
      "outputs": [
        {
          "output_type": "stream",
          "name": "stdout",
          "text": [
            "out of if\n"
          ]
        }
      ]
    },
    {
      "cell_type": "code",
      "source": [
        "if 10>15:\n",
        "  print(\"in if\")\n",
        "elif 10>12:\n",
        "  print('in elif')\n",
        "else:\n",
        "  print('in else')\n",
        "\n",
        "print('out of if')"
      ],
      "metadata": {
        "id": "xWezZsLgAwyT",
        "outputId": "697b62d8-7bac-46d8-885f-cb6aafcaa2ea",
        "colab": {
          "base_uri": "https://localhost:8080/"
        }
      },
      "execution_count": 23,
      "outputs": [
        {
          "output_type": "stream",
          "name": "stdout",
          "text": [
            "in else\n",
            "out of if\n"
          ]
        }
      ]
    },
    {
      "cell_type": "code",
      "source": [
        "# input function\n",
        "\n",
        "a = input('Enter a value')\n",
        "print(a)\n",
        "print(type(a))"
      ],
      "metadata": {
        "id": "m581sGbJA0t1",
        "outputId": "5d19990a-9257-4657-b0fa-0daf2a23409d",
        "colab": {
          "base_uri": "https://localhost:8080/"
        }
      },
      "execution_count": 27,
      "outputs": [
        {
          "output_type": "stream",
          "name": "stdout",
          "text": [
            "Enter a valuestr\n",
            "str\n",
            "<class 'str'>\n"
          ]
        }
      ]
    },
    {
      "cell_type": "code",
      "source": [
        "a = int(input('Enter a value'))\n",
        "print(a)\n",
        "print(type(a))"
      ],
      "metadata": {
        "id": "zAVyHA_gEFdS",
        "outputId": "6663a9ab-c608-4861-f049-5f6412758b6b",
        "colab": {
          "base_uri": "https://localhost:8080/"
        }
      },
      "execution_count": 30,
      "outputs": [
        {
          "output_type": "stream",
          "name": "stdout",
          "text": [
            "Enter a value5\n",
            "5\n",
            "<class 'int'>\n"
          ]
        }
      ]
    },
    {
      "cell_type": "code",
      "source": [
        "a = float(input('Enter a value'))\n",
        "print(a)\n",
        "print(type(a))"
      ],
      "metadata": {
        "id": "kQ6WiHuYEKcm",
        "outputId": "e9794f49-a168-4725-ae36-4e05dff60f6d",
        "colab": {
          "base_uri": "https://localhost:8080/"
        }
      },
      "execution_count": 32,
      "outputs": [
        {
          "output_type": "stream",
          "name": "stdout",
          "text": [
            "Enter a value11.1\n",
            "11.1\n",
            "<class 'float'>\n"
          ]
        }
      ]
    },
    {
      "cell_type": "code",
      "source": [
        "# palindrome string check\n",
        "\n",
        "s = input('Enter a string').lower()\n",
        "\n",
        "if s==s[::-1]:\n",
        "  print('palindrome')\n",
        "else:\n",
        "  print('not palindrome')"
      ],
      "metadata": {
        "id": "3JIPrDf_DlrD",
        "outputId": "4ddb0a84-b47a-4247-e58d-ccf3a276119c",
        "colab": {
          "base_uri": "https://localhost:8080/"
        }
      },
      "execution_count": 34,
      "outputs": [
        {
          "output_type": "stream",
          "name": "stdout",
          "text": [
            "Enter a stringMalayalam\n",
            "palindrome\n"
          ]
        }
      ]
    },
    {
      "cell_type": "code",
      "source": [],
      "metadata": {
        "id": "urYqpKVFIUgn"
      },
      "execution_count": null,
      "outputs": []
    },
    {
      "cell_type": "code",
      "source": [
        "# multiplication table using While loop\n",
        "\n",
        "num = int(input('Enter a integer:'))\n",
        "i=1\n",
        "while i<=10:\n",
        "  print(num,'*',i,'=',num*i)\n",
        "  i+=1"
      ],
      "metadata": {
        "id": "gAe-ATqZDt_V",
        "outputId": "a7273572-ed42-4e2c-fe19-03f4b4a3e3bb",
        "colab": {
          "base_uri": "https://localhost:8080/"
        }
      },
      "execution_count": 39,
      "outputs": [
        {
          "output_type": "stream",
          "name": "stdout",
          "text": [
            "Enter a integer:5\n",
            "5 * 1 = 5\n",
            "5 * 2 = 10\n",
            "5 * 3 = 15\n",
            "5 * 4 = 20\n",
            "5 * 5 = 25\n",
            "5 * 6 = 30\n",
            "5 * 7 = 35\n",
            "5 * 8 = 40\n",
            "5 * 9 = 45\n",
            "5 * 10 = 50\n"
          ]
        }
      ]
    },
    {
      "cell_type": "code",
      "source": [
        "# multiplication table using for loop\n",
        "# multiplication table using for loop\n",
        "\n",
        "num = int(input('Enter a integer: '))\n",
        "for i in range(1,11):\n",
        "  print(num,'*',i,'= ',num*i)"
      ],
      "metadata": {
        "id": "1kmp51JTI1pp",
        "outputId": "965d92c2-1383-4318-9641-27788c3f77c9",
        "colab": {
          "base_uri": "https://localhost:8080/"
        }
      },
      "execution_count": 45,
      "outputs": [
        {
          "output_type": "stream",
          "name": "stdout",
          "text": [
            "Enter a integer: 5\n",
            "5 * 1 =  5\n",
            "5 * 2 =  10\n",
            "5 * 3 =  15\n",
            "5 * 4 =  20\n",
            "5 * 5 =  25\n",
            "5 * 6 =  30\n",
            "5 * 7 =  35\n",
            "5 * 8 =  40\n",
            "5 * 9 =  45\n",
            "5 * 10 =  50\n"
          ]
        }
      ]
    },
    {
      "cell_type": "code",
      "source": [
        "# for loop\n",
        "\n",
        "for i in ((10,20),('a','b'),(10.1,22.3)):\n",
        "  print(i)\n",
        "  print(type(i))\n"
      ],
      "metadata": {
        "id": "3VF8F1JTKCbD",
        "outputId": "d5d8b0be-3d30-4fa9-cd0b-ed3ccd3c83a5",
        "colab": {
          "base_uri": "https://localhost:8080/"
        }
      },
      "execution_count": 46,
      "outputs": [
        {
          "output_type": "stream",
          "name": "stdout",
          "text": [
            "(10, 20)\n",
            "<class 'tuple'>\n",
            "('a', 'b')\n",
            "<class 'tuple'>\n",
            "(10.1, 22.3)\n",
            "<class 'tuple'>\n"
          ]
        }
      ]
    },
    {
      "cell_type": "code",
      "source": [],
      "metadata": {
        "id": "CDmS3bueL_SV"
      },
      "execution_count": null,
      "outputs": []
    }
  ]
}