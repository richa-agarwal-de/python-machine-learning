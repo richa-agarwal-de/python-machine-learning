{
  "nbformat": 4,
  "nbformat_minor": 0,
  "metadata": {
    "colab": {
      "provenance": [],
      "authorship_tag": "ABX9TyOPM7tw/FtXt5BBTfE8Ew7c",
      "include_colab_link": true
    },
    "kernelspec": {
      "name": "python3",
      "display_name": "Python 3"
    },
    "language_info": {
      "name": "python"
    }
  },
  "cells": [
    {
      "cell_type": "markdown",
      "metadata": {
        "id": "view-in-github",
        "colab_type": "text"
      },
      "source": [
        "<a href=\"https://colab.research.google.com/github/richa-agarwal-de/python-machine-learning/blob/main/Python_Day1.ipynb\" target=\"_parent\"><img src=\"https://colab.research.google.com/assets/colab-badge.svg\" alt=\"Open In Colab\"/></a>"
      ]
    },
    {
      "cell_type": "code",
      "execution_count": 1,
      "metadata": {
        "id": "S0i2wItKuBgx",
        "outputId": "3fb1db45-c256-46f4-9d2b-15c3b2577732",
        "colab": {
          "base_uri": "https://localhost:8080/"
        }
      },
      "outputs": [
        {
          "output_type": "stream",
          "name": "stdout",
          "text": [
            "hello World\n"
          ]
        }
      ],
      "source": [
        "print(\"hello World\")"
      ]
    },
    {
      "cell_type": "markdown",
      "source": [
        "# Variable test - memory assigned to value not variable"
      ],
      "metadata": {
        "id": "tT1TfmxpFWR7"
      }
    },
    {
      "cell_type": "code",
      "source": [
        "a = 100\n",
        "\n",
        "print(id(a))"
      ],
      "metadata": {
        "id": "pdJSp3CmDuJY",
        "outputId": "8d8235b6-6f9e-4d58-acb7-5f305575774b",
        "colab": {
          "base_uri": "https://localhost:8080/"
        }
      },
      "execution_count": 2,
      "outputs": [
        {
          "output_type": "stream",
          "name": "stdout",
          "text": [
            "10754024\n"
          ]
        }
      ]
    },
    {
      "cell_type": "code",
      "source": [
        " b = 100\n",
        "\n",
        " print(id(b))"
      ],
      "metadata": {
        "id": "TEUSzSomD8Eg",
        "outputId": "2999396f-3f92-479b-db21-6e3c5b014cff",
        "colab": {
          "base_uri": "https://localhost:8080/"
        }
      },
      "execution_count": 3,
      "outputs": [
        {
          "output_type": "stream",
          "name": "stdout",
          "text": [
            "10754024\n"
          ]
        }
      ]
    },
    {
      "cell_type": "code",
      "source": [
        "c = a\n",
        "print(id(c))"
      ],
      "metadata": {
        "id": "4ThETjBgD_3T",
        "outputId": "0a729901-f3e4-45cf-8e6b-e66cdbe323b0",
        "colab": {
          "base_uri": "https://localhost:8080/"
        }
      },
      "execution_count": 4,
      "outputs": [
        {
          "output_type": "stream",
          "name": "stdout",
          "text": [
            "10754024\n"
          ]
        }
      ]
    },
    {
      "cell_type": "markdown",
      "source": [
        "### a, b , c all had same memory address. changing value of a changes address of a"
      ],
      "metadata": {
        "id": "QftN451XFg6C"
      }
    },
    {
      "cell_type": "code",
      "source": [
        "a = 50\n",
        "print(id(a))"
      ],
      "metadata": {
        "id": "jQfhryJ1EChp",
        "outputId": "a08d95dc-e9a5-4e3a-cb2b-aa62bb317bd9",
        "colab": {
          "base_uri": "https://localhost:8080/"
        }
      },
      "execution_count": 5,
      "outputs": [
        {
          "output_type": "stream",
          "name": "stdout",
          "text": [
            "10752424\n"
          ]
        }
      ]
    },
    {
      "cell_type": "code",
      "source": [
        "print(b)\n",
        "print(id(b))"
      ],
      "metadata": {
        "id": "ODoGJeT_EF0O",
        "outputId": "0d46bea9-c535-4f70-a427-85b43d9df95f",
        "colab": {
          "base_uri": "https://localhost:8080/"
        }
      },
      "execution_count": 7,
      "outputs": [
        {
          "output_type": "stream",
          "name": "stdout",
          "text": [
            "100\n",
            "10754024\n"
          ]
        }
      ]
    },
    {
      "cell_type": "code",
      "source": [],
      "metadata": {
        "id": "crHAac2XEIgi"
      },
      "execution_count": null,
      "outputs": []
    }
  ]
}