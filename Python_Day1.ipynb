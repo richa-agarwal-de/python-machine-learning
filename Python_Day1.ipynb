{
  "nbformat": 4,
  "nbformat_minor": 0,
  "metadata": {
    "colab": {
      "provenance": [],
      "authorship_tag": "ABX9TyMQNtS2V8vwrGZlvdUmONyg",
      "include_colab_link": true
    },
    "kernelspec": {
      "name": "python3",
      "display_name": "Python 3"
    },
    "language_info": {
      "name": "python"
    }
  },
  "cells": [
    {
      "cell_type": "markdown",
      "metadata": {
        "id": "view-in-github",
        "colab_type": "text"
      },
      "source": [
        "<a href=\"https://colab.research.google.com/github/richa-agarwal-de/python-machine-learning/blob/main/Python_Day1.ipynb\" target=\"_parent\"><img src=\"https://colab.research.google.com/assets/colab-badge.svg\" alt=\"Open In Colab\"/></a>"
      ]
    },
    {
      "cell_type": "code",
      "execution_count": null,
      "metadata": {
        "id": "S0i2wItKuBgx",
        "colab": {
          "base_uri": "https://localhost:8080/"
        },
        "outputId": "3fb1db45-c256-46f4-9d2b-15c3b2577732"
      },
      "outputs": [
        {
          "output_type": "stream",
          "name": "stdout",
          "text": [
            "hello World\n"
          ]
        }
      ],
      "source": [
        "print(\"hello World\")"
      ]
    },
    {
      "cell_type": "markdown",
      "source": [
        "# Variable test - memory assigned to value not variable"
      ],
      "metadata": {
        "id": "tT1TfmxpFWR7"
      }
    },
    {
      "cell_type": "code",
      "source": [
        "a = 100\n",
        "\n",
        "print(id(a))"
      ],
      "metadata": {
        "colab": {
          "base_uri": "https://localhost:8080/"
        },
        "id": "pdJSp3CmDuJY",
        "outputId": "8d8235b6-6f9e-4d58-acb7-5f305575774b"
      },
      "execution_count": null,
      "outputs": [
        {
          "output_type": "stream",
          "name": "stdout",
          "text": [
            "10754024\n"
          ]
        }
      ]
    },
    {
      "cell_type": "code",
      "source": [
        " b = 100\n",
        "\n",
        " print(id(b))"
      ],
      "metadata": {
        "colab": {
          "base_uri": "https://localhost:8080/"
        },
        "id": "TEUSzSomD8Eg",
        "outputId": "2999396f-3f92-479b-db21-6e3c5b014cff"
      },
      "execution_count": null,
      "outputs": [
        {
          "output_type": "stream",
          "name": "stdout",
          "text": [
            "10754024\n"
          ]
        }
      ]
    },
    {
      "cell_type": "code",
      "source": [
        "c = a\n",
        "print(id(c))"
      ],
      "metadata": {
        "colab": {
          "base_uri": "https://localhost:8080/"
        },
        "id": "4ThETjBgD_3T",
        "outputId": "0a729901-f3e4-45cf-8e6b-e66cdbe323b0"
      },
      "execution_count": null,
      "outputs": [
        {
          "output_type": "stream",
          "name": "stdout",
          "text": [
            "10754024\n"
          ]
        }
      ]
    },
    {
      "cell_type": "markdown",
      "source": [
        "### a, b , c all had same memory address. changing value of a changes address of a"
      ],
      "metadata": {
        "id": "QftN451XFg6C"
      }
    },
    {
      "cell_type": "code",
      "source": [
        "a = 50\n",
        "print(id(a))"
      ],
      "metadata": {
        "colab": {
          "base_uri": "https://localhost:8080/"
        },
        "id": "jQfhryJ1EChp",
        "outputId": "a08d95dc-e9a5-4e3a-cb2b-aa62bb317bd9"
      },
      "execution_count": null,
      "outputs": [
        {
          "output_type": "stream",
          "name": "stdout",
          "text": [
            "10752424\n"
          ]
        }
      ]
    },
    {
      "cell_type": "code",
      "source": [
        "print(b)\n",
        "print(id(b))"
      ],
      "metadata": {
        "colab": {
          "base_uri": "https://localhost:8080/"
        },
        "id": "ODoGJeT_EF0O",
        "outputId": "0d46bea9-c535-4f70-a427-85b43d9df95f"
      },
      "execution_count": null,
      "outputs": [
        {
          "output_type": "stream",
          "name": "stdout",
          "text": [
            "100\n",
            "10754024\n"
          ]
        }
      ]
    },
    {
      "cell_type": "code",
      "source": [
        "print({hex(10754024)})"
      ],
      "metadata": {
        "colab": {
          "base_uri": "https://localhost:8080/"
        },
        "id": "XuN_gLBiUBXI",
        "outputId": "107738e5-87d7-427b-a941-c3bf167d3b75"
      },
      "execution_count": null,
      "outputs": [
        {
          "output_type": "stream",
          "name": "stdout",
          "text": [
            "{'0xa417e8'}\n"
          ]
        }
      ]
    },
    {
      "cell_type": "markdown",
      "source": [
        "# variable assignement"
      ],
      "metadata": {
        "id": "lTexUadrHJ-X"
      }
    },
    {
      "cell_type": "code",
      "source": [
        "a = 10\n",
        "b = 20\n",
        "c = 30\n",
        "print(a,b,c)"
      ],
      "metadata": {
        "colab": {
          "base_uri": "https://localhost:8080/"
        },
        "id": "nvERitk0G2Jy",
        "outputId": "f5ecb43e-0cdf-471e-95e6-4b0ab039d5f6"
      },
      "execution_count": null,
      "outputs": [
        {
          "output_type": "stream",
          "name": "stdout",
          "text": [
            "10 20 30\n"
          ]
        }
      ]
    },
    {
      "cell_type": "code",
      "source": [
        "a,b,c=40,50,60\n",
        "print(a,b,c)"
      ],
      "metadata": {
        "colab": {
          "base_uri": "https://localhost:8080/"
        },
        "id": "jWkVuzqbHSsa",
        "outputId": "6eee35f7-3a61-4d8b-aea8-988ffb78802c"
      },
      "execution_count": null,
      "outputs": [
        {
          "output_type": "stream",
          "name": "stdout",
          "text": [
            "40 50 60\n"
          ]
        }
      ]
    },
    {
      "cell_type": "code",
      "source": [
        "a = 10\n",
        "b = 10\n",
        "c = 10\n",
        "print(a,b,c)"
      ],
      "metadata": {
        "colab": {
          "base_uri": "https://localhost:8080/"
        },
        "id": "Wx6yBV9XHZAq",
        "outputId": "8e1902d3-2657-4b3c-a13b-ac27da6de605"
      },
      "execution_count": null,
      "outputs": [
        {
          "output_type": "stream",
          "name": "stdout",
          "text": [
            "10 10 10\n"
          ]
        }
      ]
    },
    {
      "cell_type": "code",
      "source": [
        "a=b=c=20\n",
        "print(a,b,c)"
      ],
      "metadata": {
        "colab": {
          "base_uri": "https://localhost:8080/"
        },
        "id": "oVgYayyHHc-6",
        "outputId": "82d6490a-2224-4548-d995-6985e987468b"
      },
      "execution_count": null,
      "outputs": [
        {
          "output_type": "stream",
          "name": "stdout",
          "text": [
            "20 20 20\n"
          ]
        }
      ]
    },
    {
      "cell_type": "markdown",
      "source": [
        "# check list of keywords"
      ],
      "metadata": {
        "id": "u0ZY4AmJH6hu"
      }
    },
    {
      "cell_type": "markdown",
      "source": [
        "### keywords are special words, reserved words,cannot be used as variables"
      ],
      "metadata": {
        "id": "hX-P3bvdIFT0"
      }
    },
    {
      "cell_type": "code",
      "source": [
        "import keyword as kw\n",
        "\n",
        "print(kw.kwlist)\n"
      ],
      "metadata": {
        "colab": {
          "base_uri": "https://localhost:8080/"
        },
        "id": "2xyTqQZhHgeI",
        "outputId": "a6b5ac2d-1a21-4a2a-bd78-e115959bb0ac"
      },
      "execution_count": null,
      "outputs": [
        {
          "output_type": "stream",
          "name": "stdout",
          "text": [
            "['False', 'None', 'True', 'and', 'as', 'assert', 'async', 'await', 'break', 'class', 'continue', 'def', 'del', 'elif', 'else', 'except', 'finally', 'for', 'from', 'global', 'if', 'import', 'in', 'is', 'lambda', 'nonlocal', 'not', 'or', 'pass', 'raise', 'return', 'try', 'while', 'with', 'yield']\n"
          ]
        }
      ]
    },
    {
      "cell_type": "code",
      "source": [
        "False = 10      # keywords cannot be used as variable\n",
        "print(false)"
      ],
      "metadata": {
        "colab": {
          "base_uri": "https://localhost:8080/",
          "height": 106
        },
        "id": "JIsu2x3eIDu7",
        "outputId": "c355987d-4b8f-4c7a-c850-3da3d4aa7a15"
      },
      "execution_count": null,
      "outputs": [
        {
          "output_type": "error",
          "ename": "SyntaxError",
          "evalue": "cannot assign to False (<ipython-input-26-5fd04c61f208>, line 1)",
          "traceback": [
            "\u001b[0;36m  File \u001b[0;32m\"<ipython-input-26-5fd04c61f208>\"\u001b[0;36m, line \u001b[0;32m1\u001b[0m\n\u001b[0;31m    False = 10      # keywords cannot be used as variable\u001b[0m\n\u001b[0m    ^\u001b[0m\n\u001b[0;31mSyntaxError\u001b[0m\u001b[0;31m:\u001b[0m cannot assign to False\n"
          ]
        }
      ]
    },
    {
      "cell_type": "code",
      "source": [
        "false = 10    # keywords are case sensitive\n",
        "print(false)"
      ],
      "metadata": {
        "colab": {
          "base_uri": "https://localhost:8080/"
        },
        "id": "O48qjUGBVEWB",
        "outputId": "71384417-e680-4b0f-d940-12a5a23a467a"
      },
      "execution_count": null,
      "outputs": [
        {
          "output_type": "stream",
          "name": "stdout",
          "text": [
            "10\n"
          ]
        }
      ]
    },
    {
      "cell_type": "code",
      "source": [
        "'''\n",
        "This is\n",
        "a\n",
        "multiline\n",
        "comment\n",
        "'''"
      ],
      "metadata": {
        "colab": {
          "base_uri": "https://localhost:8080/",
          "height": 36
        },
        "id": "F7YF9vv-MEaA",
        "outputId": "43bec0ed-85ee-4641-c672-daa5e9353b92"
      },
      "execution_count": null,
      "outputs": [
        {
          "output_type": "execute_result",
          "data": {
            "text/plain": [
              "' \\nThis is\\na\\nmultiline\\ncomment\\n'"
            ],
            "application/vnd.google.colaboratory.intrinsic+json": {
              "type": "string"
            }
          },
          "metadata": {},
          "execution_count": 20
        }
      ]
    },
    {
      "cell_type": "markdown",
      "source": [
        "# Day 3 - Data types (LIst, Tuples, Dictionary, Set)"
      ],
      "metadata": {
        "id": "phidqRzBWWBL"
      }
    },
    {
      "cell_type": "markdown",
      "source": [
        "## List"
      ],
      "metadata": {
        "id": "MaVAU5IeWe-z"
      }
    },
    {
      "cell_type": "code",
      "source": [
        "# Define list - collection / sequence of values of different data types\n",
        "lst = [10, 23.5, 'aba', 3+4j, [23,32,487]]\n",
        "\n",
        "print(type(lst)) ### type() to print the data type\n",
        "\n",
        "print(lst)"
      ],
      "metadata": {
        "id": "nDd0zKzVWf6V",
        "outputId": "c883dc07-e7bb-4852-d775-4194c19679f0",
        "colab": {
          "base_uri": "https://localhost:8080/"
        }
      },
      "execution_count": 15,
      "outputs": [
        {
          "output_type": "stream",
          "name": "stdout",
          "text": [
            "<class 'list'>\n",
            "[10, 23.5, 'aba', (3+4j), [23, 32, 487]]\n"
          ]
        }
      ]
    },
    {
      "cell_type": "markdown",
      "source": [
        "## Variable Annotation"
      ],
      "metadata": {
        "id": "mj_tuu6UXhAe"
      }
    },
    {
      "cell_type": "markdown",
      "source": [
        "### use annotations at start of code to help other developers understand the data type of variables"
      ],
      "metadata": {
        "id": "YF5Ta4VaYXRs"
      }
    },
    {
      "cell_type": "code",
      "source": [
        "var1 : int = 10\n",
        "print(var1)\n",
        "print(type(var1))\n",
        "print(__annotations__['var1'])"
      ],
      "metadata": {
        "id": "d2L8cBKWXeJ7",
        "outputId": "389bab94-a7a4-47f6-b754-abd5492b4af5",
        "colab": {
          "base_uri": "https://localhost:8080/"
        }
      },
      "execution_count": 7,
      "outputs": [
        {
          "output_type": "stream",
          "name": "stdout",
          "text": [
            "10\n",
            "<class 'int'>\n",
            "<class 'int'>\n"
          ]
        }
      ]
    },
    {
      "cell_type": "code",
      "source": [
        "var2 : int = 'NTT'\n",
        "print(var2)\n",
        "print(type(var2))\n",
        "print(__annotations__['var2'])"
      ],
      "metadata": {
        "id": "4tJO47NaXzqX",
        "outputId": "2532f5b9-f68b-4139-e4ec-880f93732e24",
        "colab": {
          "base_uri": "https://localhost:8080/"
        }
      },
      "execution_count": 8,
      "outputs": [
        {
          "output_type": "stream",
          "name": "stdout",
          "text": [
            "NTT\n",
            "<class 'str'>\n",
            "<class 'int'>\n"
          ]
        }
      ]
    },
    {
      "cell_type": "code",
      "source": [
        "# isinstance()\n",
        "\n",
        "if isinstance(var1,int)==True:\n",
        "  print('var is int')"
      ],
      "metadata": {
        "id": "ZduyxuKnX6Xw",
        "outputId": "d4570ce0-ed89-406f-88be-5fa022456367",
        "colab": {
          "base_uri": "https://localhost:8080/"
        }
      },
      "execution_count": 12,
      "outputs": [
        {
          "output_type": "stream",
          "name": "stdout",
          "text": [
            "var is int\n"
          ]
        }
      ]
    },
    {
      "cell_type": "code",
      "source": [
        "# isinstance()\n",
        "\n",
        "if isinstance(var2,int)==True:\n",
        "  print('var is int')\n",
        "else:\n",
        "  print('var is not int')"
      ],
      "metadata": {
        "id": "27vstDXiYoaj",
        "outputId": "56ff3800-c9ad-4a1e-a2d8-a613067ce295",
        "colab": {
          "base_uri": "https://localhost:8080/"
        }
      },
      "execution_count": 14,
      "outputs": [
        {
          "output_type": "stream",
          "name": "stdout",
          "text": [
            "var is not int\n"
          ]
        }
      ]
    },
    {
      "cell_type": "code",
      "source": [],
      "metadata": {
        "id": "LKL1JmA2bWF7"
      },
      "execution_count": null,
      "outputs": []
    }
  ]
}