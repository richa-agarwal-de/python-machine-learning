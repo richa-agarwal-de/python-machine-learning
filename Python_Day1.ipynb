{
  "nbformat": 4,
  "nbformat_minor": 0,
  "metadata": {
    "colab": {
      "provenance": [],
      "authorship_tag": "ABX9TyPe8O1Oftua27bv+hPpz8l5",
      "include_colab_link": true
    },
    "kernelspec": {
      "name": "python3",
      "display_name": "Python 3"
    },
    "language_info": {
      "name": "python"
    }
  },
  "cells": [
    {
      "cell_type": "markdown",
      "metadata": {
        "id": "view-in-github",
        "colab_type": "text"
      },
      "source": [
        "<a href=\"https://colab.research.google.com/github/richa-agarwal-de/python-machine-learning/blob/main/Python_Day1.ipynb\" target=\"_parent\"><img src=\"https://colab.research.google.com/assets/colab-badge.svg\" alt=\"Open In Colab\"/></a>"
      ]
    },
    {
      "cell_type": "code",
      "execution_count": null,
      "metadata": {
        "id": "S0i2wItKuBgx",
        "colab": {
          "base_uri": "https://localhost:8080/"
        },
        "outputId": "3fb1db45-c256-46f4-9d2b-15c3b2577732"
      },
      "outputs": [
        {
          "output_type": "stream",
          "name": "stdout",
          "text": [
            "hello World\n"
          ]
        }
      ],
      "source": [
        "print(\"hello World\")"
      ]
    },
    {
      "cell_type": "markdown",
      "source": [
        "# Variable test - memory assigned to value not variable"
      ],
      "metadata": {
        "id": "tT1TfmxpFWR7"
      }
    },
    {
      "cell_type": "code",
      "source": [
        "a = 100\n",
        "\n",
        "print(id(a))"
      ],
      "metadata": {
        "colab": {
          "base_uri": "https://localhost:8080/"
        },
        "id": "pdJSp3CmDuJY",
        "outputId": "8d8235b6-6f9e-4d58-acb7-5f305575774b"
      },
      "execution_count": null,
      "outputs": [
        {
          "output_type": "stream",
          "name": "stdout",
          "text": [
            "10754024\n"
          ]
        }
      ]
    },
    {
      "cell_type": "code",
      "source": [
        " b = 100\n",
        "\n",
        " print(id(b))"
      ],
      "metadata": {
        "colab": {
          "base_uri": "https://localhost:8080/"
        },
        "id": "TEUSzSomD8Eg",
        "outputId": "2999396f-3f92-479b-db21-6e3c5b014cff"
      },
      "execution_count": null,
      "outputs": [
        {
          "output_type": "stream",
          "name": "stdout",
          "text": [
            "10754024\n"
          ]
        }
      ]
    },
    {
      "cell_type": "code",
      "source": [
        "c = a\n",
        "print(id(c))"
      ],
      "metadata": {
        "colab": {
          "base_uri": "https://localhost:8080/"
        },
        "id": "4ThETjBgD_3T",
        "outputId": "0a729901-f3e4-45cf-8e6b-e66cdbe323b0"
      },
      "execution_count": null,
      "outputs": [
        {
          "output_type": "stream",
          "name": "stdout",
          "text": [
            "10754024\n"
          ]
        }
      ]
    },
    {
      "cell_type": "markdown",
      "source": [
        "### a, b , c all had same memory address. changing value of a changes address of a"
      ],
      "metadata": {
        "id": "QftN451XFg6C"
      }
    },
    {
      "cell_type": "code",
      "source": [
        "a = 50\n",
        "print(id(a))"
      ],
      "metadata": {
        "colab": {
          "base_uri": "https://localhost:8080/"
        },
        "id": "jQfhryJ1EChp",
        "outputId": "a08d95dc-e9a5-4e3a-cb2b-aa62bb317bd9"
      },
      "execution_count": null,
      "outputs": [
        {
          "output_type": "stream",
          "name": "stdout",
          "text": [
            "10752424\n"
          ]
        }
      ]
    },
    {
      "cell_type": "code",
      "source": [
        "print(b)\n",
        "print(id(b))"
      ],
      "metadata": {
        "colab": {
          "base_uri": "https://localhost:8080/"
        },
        "id": "ODoGJeT_EF0O",
        "outputId": "0d46bea9-c535-4f70-a427-85b43d9df95f"
      },
      "execution_count": null,
      "outputs": [
        {
          "output_type": "stream",
          "name": "stdout",
          "text": [
            "100\n",
            "10754024\n"
          ]
        }
      ]
    },
    {
      "cell_type": "code",
      "source": [
        "print({hex(10754024)})"
      ],
      "metadata": {
        "colab": {
          "base_uri": "https://localhost:8080/"
        },
        "id": "XuN_gLBiUBXI",
        "outputId": "107738e5-87d7-427b-a941-c3bf167d3b75"
      },
      "execution_count": null,
      "outputs": [
        {
          "output_type": "stream",
          "name": "stdout",
          "text": [
            "{'0xa417e8'}\n"
          ]
        }
      ]
    },
    {
      "cell_type": "markdown",
      "source": [
        "# variable assignement"
      ],
      "metadata": {
        "id": "lTexUadrHJ-X"
      }
    },
    {
      "cell_type": "code",
      "source": [
        "a = 10\n",
        "b = 20\n",
        "c = 30\n",
        "print(a,b,c)"
      ],
      "metadata": {
        "colab": {
          "base_uri": "https://localhost:8080/"
        },
        "id": "nvERitk0G2Jy",
        "outputId": "f5ecb43e-0cdf-471e-95e6-4b0ab039d5f6"
      },
      "execution_count": null,
      "outputs": [
        {
          "output_type": "stream",
          "name": "stdout",
          "text": [
            "10 20 30\n"
          ]
        }
      ]
    },
    {
      "cell_type": "code",
      "source": [
        "a,b,c=40,50,60\n",
        "print(a,b,c)"
      ],
      "metadata": {
        "colab": {
          "base_uri": "https://localhost:8080/"
        },
        "id": "jWkVuzqbHSsa",
        "outputId": "6eee35f7-3a61-4d8b-aea8-988ffb78802c"
      },
      "execution_count": null,
      "outputs": [
        {
          "output_type": "stream",
          "name": "stdout",
          "text": [
            "40 50 60\n"
          ]
        }
      ]
    },
    {
      "cell_type": "code",
      "source": [
        "a = 10\n",
        "b = 10\n",
        "c = 10\n",
        "print(a,b,c)"
      ],
      "metadata": {
        "colab": {
          "base_uri": "https://localhost:8080/"
        },
        "id": "Wx6yBV9XHZAq",
        "outputId": "8e1902d3-2657-4b3c-a13b-ac27da6de605"
      },
      "execution_count": null,
      "outputs": [
        {
          "output_type": "stream",
          "name": "stdout",
          "text": [
            "10 10 10\n"
          ]
        }
      ]
    },
    {
      "cell_type": "code",
      "source": [
        "a=b=c=20\n",
        "print(a,b,c)"
      ],
      "metadata": {
        "colab": {
          "base_uri": "https://localhost:8080/"
        },
        "id": "oVgYayyHHc-6",
        "outputId": "82d6490a-2224-4548-d995-6985e987468b"
      },
      "execution_count": null,
      "outputs": [
        {
          "output_type": "stream",
          "name": "stdout",
          "text": [
            "20 20 20\n"
          ]
        }
      ]
    },
    {
      "cell_type": "markdown",
      "source": [
        "# check list of keywords"
      ],
      "metadata": {
        "id": "u0ZY4AmJH6hu"
      }
    },
    {
      "cell_type": "markdown",
      "source": [
        "### keywords are special words, reserved words,cannot be used as variables"
      ],
      "metadata": {
        "id": "hX-P3bvdIFT0"
      }
    },
    {
      "cell_type": "code",
      "source": [
        "import keyword as kw\n",
        "\n",
        "print(kw.kwlist)\n"
      ],
      "metadata": {
        "colab": {
          "base_uri": "https://localhost:8080/"
        },
        "id": "2xyTqQZhHgeI",
        "outputId": "a6b5ac2d-1a21-4a2a-bd78-e115959bb0ac"
      },
      "execution_count": null,
      "outputs": [
        {
          "output_type": "stream",
          "name": "stdout",
          "text": [
            "['False', 'None', 'True', 'and', 'as', 'assert', 'async', 'await', 'break', 'class', 'continue', 'def', 'del', 'elif', 'else', 'except', 'finally', 'for', 'from', 'global', 'if', 'import', 'in', 'is', 'lambda', 'nonlocal', 'not', 'or', 'pass', 'raise', 'return', 'try', 'while', 'with', 'yield']\n"
          ]
        }
      ]
    },
    {
      "cell_type": "code",
      "source": [
        "False = 10      # keywords cannot be used as variable\n",
        "print(false)"
      ],
      "metadata": {
        "colab": {
          "base_uri": "https://localhost:8080/",
          "height": 106
        },
        "id": "JIsu2x3eIDu7",
        "outputId": "c355987d-4b8f-4c7a-c850-3da3d4aa7a15"
      },
      "execution_count": null,
      "outputs": [
        {
          "output_type": "error",
          "ename": "SyntaxError",
          "evalue": "cannot assign to False (<ipython-input-26-5fd04c61f208>, line 1)",
          "traceback": [
            "\u001b[0;36m  File \u001b[0;32m\"<ipython-input-26-5fd04c61f208>\"\u001b[0;36m, line \u001b[0;32m1\u001b[0m\n\u001b[0;31m    False = 10      # keywords cannot be used as variable\u001b[0m\n\u001b[0m    ^\u001b[0m\n\u001b[0;31mSyntaxError\u001b[0m\u001b[0;31m:\u001b[0m cannot assign to False\n"
          ]
        }
      ]
    },
    {
      "cell_type": "code",
      "source": [
        "false = 10    # keywords are case sensitive\n",
        "print(false)"
      ],
      "metadata": {
        "colab": {
          "base_uri": "https://localhost:8080/"
        },
        "id": "O48qjUGBVEWB",
        "outputId": "71384417-e680-4b0f-d940-12a5a23a467a"
      },
      "execution_count": null,
      "outputs": [
        {
          "output_type": "stream",
          "name": "stdout",
          "text": [
            "10\n"
          ]
        }
      ]
    },
    {
      "cell_type": "code",
      "source": [
        "'''\n",
        "This is\n",
        "a\n",
        "multiline\n",
        "comment\n",
        "'''"
      ],
      "metadata": {
        "colab": {
          "base_uri": "https://localhost:8080/",
          "height": 36
        },
        "id": "F7YF9vv-MEaA",
        "outputId": "43bec0ed-85ee-4641-c672-daa5e9353b92"
      },
      "execution_count": null,
      "outputs": [
        {
          "output_type": "execute_result",
          "data": {
            "text/plain": [
              "' \\nThis is\\na\\nmultiline\\ncomment\\n'"
            ],
            "application/vnd.google.colaboratory.intrinsic+json": {
              "type": "string"
            }
          },
          "metadata": {},
          "execution_count": 20
        }
      ]
    },
    {
      "cell_type": "markdown",
      "source": [
        "# Day 3 - Data types (LIst, Tuples, Dictionary, Set)"
      ],
      "metadata": {
        "id": "phidqRzBWWBL"
      }
    },
    {
      "cell_type": "markdown",
      "source": [
        "## List"
      ],
      "metadata": {
        "id": "MaVAU5IeWe-z"
      }
    },
    {
      "cell_type": "code",
      "source": [
        "# Define list - collection / sequence of values of different data types\n",
        "lst = [10, 23.5, 'aba', 3+4j, [23,32,487]]\n",
        "\n",
        "print(type(lst)) ### type() to print the data type\n",
        "\n",
        "print(lst)"
      ],
      "metadata": {
        "id": "nDd0zKzVWf6V",
        "outputId": "c883dc07-e7bb-4852-d775-4194c19679f0",
        "colab": {
          "base_uri": "https://localhost:8080/"
        }
      },
      "execution_count": null,
      "outputs": [
        {
          "output_type": "stream",
          "name": "stdout",
          "text": [
            "<class 'list'>\n",
            "[10, 23.5, 'aba', (3+4j), [23, 32, 487]]\n"
          ]
        }
      ]
    },
    {
      "cell_type": "markdown",
      "source": [
        "## Variable Annotation"
      ],
      "metadata": {
        "id": "mj_tuu6UXhAe"
      }
    },
    {
      "cell_type": "markdown",
      "source": [
        "### use annotations at start of code to help other developers understand the data type of variables"
      ],
      "metadata": {
        "id": "YF5Ta4VaYXRs"
      }
    },
    {
      "cell_type": "code",
      "source": [
        "var1 : int = 10\n",
        "print(var1)\n",
        "print(type(var1))\n",
        "print(__annotations__['var1'])"
      ],
      "metadata": {
        "id": "d2L8cBKWXeJ7",
        "outputId": "389bab94-a7a4-47f6-b754-abd5492b4af5",
        "colab": {
          "base_uri": "https://localhost:8080/"
        }
      },
      "execution_count": null,
      "outputs": [
        {
          "output_type": "stream",
          "name": "stdout",
          "text": [
            "10\n",
            "<class 'int'>\n",
            "<class 'int'>\n"
          ]
        }
      ]
    },
    {
      "cell_type": "code",
      "source": [
        "var2 : int = 'NTT'\n",
        "print(var2)\n",
        "print(type(var2))\n",
        "print(__annotations__['var2'])"
      ],
      "metadata": {
        "id": "4tJO47NaXzqX",
        "outputId": "2532f5b9-f68b-4139-e4ec-880f93732e24",
        "colab": {
          "base_uri": "https://localhost:8080/"
        }
      },
      "execution_count": null,
      "outputs": [
        {
          "output_type": "stream",
          "name": "stdout",
          "text": [
            "NTT\n",
            "<class 'str'>\n",
            "<class 'int'>\n"
          ]
        }
      ]
    },
    {
      "cell_type": "code",
      "source": [
        "# isinstance()\n",
        "\n",
        "if isinstance(var1,int)==True:\n",
        "  print('var is int')"
      ],
      "metadata": {
        "id": "ZduyxuKnX6Xw",
        "outputId": "d4570ce0-ed89-406f-88be-5fa022456367",
        "colab": {
          "base_uri": "https://localhost:8080/"
        }
      },
      "execution_count": null,
      "outputs": [
        {
          "output_type": "stream",
          "name": "stdout",
          "text": [
            "var is int\n"
          ]
        }
      ]
    },
    {
      "cell_type": "code",
      "source": [
        "# isinstance()\n",
        "\n",
        "if isinstance(var2,int)==True:\n",
        "  print('var is int')\n",
        "else:\n",
        "  print('var is not int')"
      ],
      "metadata": {
        "id": "27vstDXiYoaj",
        "outputId": "56ff3800-c9ad-4a1e-a2d8-a613067ce295",
        "colab": {
          "base_uri": "https://localhost:8080/"
        }
      },
      "execution_count": null,
      "outputs": [
        {
          "output_type": "stream",
          "name": "stdout",
          "text": [
            "var is not int\n"
          ]
        }
      ]
    },
    {
      "cell_type": "code",
      "source": [
        "str1 = 'Bangalore'\n",
        "print(str1[1:1:1])"
      ],
      "metadata": {
        "id": "LKL1JmA2bWF7",
        "outputId": "8da5e6e8-1167-413b-da96-1e2003d2db2c",
        "colab": {
          "base_uri": "https://localhost:8080/"
        }
      },
      "execution_count": null,
      "outputs": [
        {
          "output_type": "stream",
          "name": "stdout",
          "text": [
            "\n"
          ]
        }
      ]
    },
    {
      "cell_type": "code",
      "source": [
        "str1 = 'Bangalore'\n",
        "print(str1[1:2:1])"
      ],
      "metadata": {
        "id": "JIVAiL661_H9",
        "outputId": "352b2cbf-9b14-440d-f821-58431324455e",
        "colab": {
          "base_uri": "https://localhost:8080/"
        }
      },
      "execution_count": null,
      "outputs": [
        {
          "output_type": "stream",
          "name": "stdout",
          "text": [
            "a\n"
          ]
        }
      ]
    },
    {
      "cell_type": "code",
      "source": [
        "str1 = 'Bangalore'\n",
        "print(str1[1:2:-1])"
      ],
      "metadata": {
        "id": "yD5x4w0P2GcH",
        "outputId": "7e148356-17c9-4db6-a07e-e9d1940d50bd",
        "colab": {
          "base_uri": "https://localhost:8080/"
        }
      },
      "execution_count": null,
      "outputs": [
        {
          "output_type": "stream",
          "name": "stdout",
          "text": [
            "\n"
          ]
        }
      ]
    },
    {
      "cell_type": "code",
      "source": [
        "str1 = 'Bangalore'\n",
        "print(str1[-1::])"
      ],
      "metadata": {
        "id": "rp7846JU2JlI",
        "outputId": "5ad8b5cb-4eb2-41da-895a-f3791412a616",
        "colab": {
          "base_uri": "https://localhost:8080/"
        }
      },
      "execution_count": null,
      "outputs": [
        {
          "output_type": "stream",
          "name": "stdout",
          "text": [
            "e\n"
          ]
        }
      ]
    },
    {
      "cell_type": "code",
      "source": [
        "str1 = 'Bangalore'\n",
        "print(str1[-1:-2:1])"
      ],
      "metadata": {
        "id": "8UxRNABn2j5I",
        "outputId": "46def6dc-c464-415a-9c7a-0b75e360d038",
        "colab": {
          "base_uri": "https://localhost:8080/"
        }
      },
      "execution_count": null,
      "outputs": [
        {
          "output_type": "stream",
          "name": "stdout",
          "text": [
            "\n"
          ]
        }
      ]
    },
    {
      "cell_type": "code",
      "source": [
        "str1 = 'Bangalore'\n",
        "print(str1[-1:-5:-1])"
      ],
      "metadata": {
        "id": "QuxMNEsK2ocm",
        "outputId": "970d05ae-c485-4460-887d-1ff219f326d0",
        "colab": {
          "base_uri": "https://localhost:8080/"
        }
      },
      "execution_count": null,
      "outputs": [
        {
          "output_type": "stream",
          "name": "stdout",
          "text": [
            "erol\n"
          ]
        }
      ]
    },
    {
      "cell_type": "code",
      "source": [
        "str1 = 'Bangalore'\n",
        "print(str1[-10:-5:-1])"
      ],
      "metadata": {
        "id": "CFqk2U9z2vT3",
        "outputId": "1e6c727a-8edc-4cfd-8217-81c683a0f883",
        "colab": {
          "base_uri": "https://localhost:8080/"
        }
      },
      "execution_count": null,
      "outputs": [
        {
          "output_type": "stream",
          "name": "stdout",
          "text": [
            "\n"
          ]
        }
      ]
    },
    {
      "cell_type": "code",
      "source": [
        "str1 = 'Bangalore'\n",
        "print(str1[1:1:1])"
      ],
      "metadata": {
        "id": "PCGuo6Iu3xI8",
        "outputId": "db01e220-8305-4711-db03-a95dff518df8",
        "colab": {
          "base_uri": "https://localhost:8080/"
        }
      },
      "execution_count": null,
      "outputs": [
        {
          "output_type": "stream",
          "name": "stdout",
          "text": [
            "\n"
          ]
        }
      ]
    },
    {
      "cell_type": "code",
      "source": [
        "str1 = 'Bangalore'\n",
        "print(str1[3:0:-1])"
      ],
      "metadata": {
        "id": "mgpOuMX533IK",
        "outputId": "c5a4fcaf-2cf5-40e1-ee5a-68a355085aa0",
        "colab": {
          "base_uri": "https://localhost:8080/"
        }
      },
      "execution_count": null,
      "outputs": [
        {
          "output_type": "stream",
          "name": "stdout",
          "text": [
            "gna\n"
          ]
        }
      ]
    },
    {
      "cell_type": "code",
      "source": [
        "str1 = 'Bangalore'\n",
        "print(str1[-1:-12:-1])"
      ],
      "metadata": {
        "id": "hJIWfVq74FZ-",
        "outputId": "deba6e87-c0f6-49d2-c6d8-cc831383d8fd",
        "colab": {
          "base_uri": "https://localhost:8080/"
        }
      },
      "execution_count": null,
      "outputs": [
        {
          "output_type": "stream",
          "name": "stdout",
          "text": [
            "erolagnaB\n"
          ]
        }
      ]
    },
    {
      "cell_type": "code",
      "source": [
        "str1 = 'Bangalore'\n",
        "print(str1[1:2:1])"
      ],
      "metadata": {
        "id": "VByT6YAY4XZ_",
        "outputId": "85d681ba-b094-4dd2-81bc-8fc6e786fe17",
        "colab": {
          "base_uri": "https://localhost:8080/"
        }
      },
      "execution_count": null,
      "outputs": [
        {
          "output_type": "stream",
          "name": "stdout",
          "text": [
            "a\n"
          ]
        }
      ]
    },
    {
      "cell_type": "code",
      "source": [
        "str1 = 'Bangalore'\n",
        "print(str1[-9:-1])"
      ],
      "metadata": {
        "id": "-RPdlqcE4np4",
        "outputId": "dbf6bcc1-1dfe-4494-ee27-c5c10053c52b",
        "colab": {
          "base_uri": "https://localhost:8080/"
        }
      },
      "execution_count": null,
      "outputs": [
        {
          "output_type": "stream",
          "name": "stdout",
          "text": [
            "Bangalor\n"
          ]
        }
      ]
    },
    {
      "cell_type": "code",
      "source": [
        "s = 'Hello, world!'\n",
        "print(s[-5:2:-2])"
      ],
      "metadata": {
        "id": "igqrm3Uv6f8v",
        "outputId": "67fc5661-3c83-4190-898b-1bad8096c5f1",
        "colab": {
          "base_uri": "https://localhost:8080/"
        }
      },
      "execution_count": null,
      "outputs": [
        {
          "output_type": "stream",
          "name": "stdout",
          "text": [
            "o o\n"
          ]
        }
      ]
    },
    {
      "cell_type": "code",
      "source": [
        "s = 'Python is fun!'"
      ],
      "metadata": {
        "id": "B01sR4oT88n9"
      },
      "execution_count": null,
      "outputs": []
    },
    {
      "cell_type": "code",
      "source": [
        "print(s[::2][::-1])"
      ],
      "metadata": {
        "id": "3ZaFcl3H9vzL",
        "outputId": "9ff3c16b-3ebb-4c8a-da77-595a52a3a413",
        "colab": {
          "base_uri": "https://localhost:8080/"
        }
      },
      "execution_count": null,
      "outputs": [
        {
          "output_type": "stream",
          "name": "stdout",
          "text": [
            "nfs otP\n"
          ]
        }
      ]
    },
    {
      "cell_type": "code",
      "source": [
        "s = 'Programming'\n",
        "print(s[3:len(s)-4])"
      ],
      "metadata": {
        "id": "ZQEfnyhR9zbb",
        "outputId": "d269b2ac-6748-40f4-b9d2-0c8f481b2e65",
        "colab": {
          "base_uri": "https://localhost:8080/"
        }
      },
      "execution_count": null,
      "outputs": [
        {
          "output_type": "stream",
          "name": "stdout",
          "text": [
            "gram\n"
          ]
        }
      ]
    },
    {
      "cell_type": "code",
      "source": [
        "# if else condition\n",
        "if 10>5:\n",
        "  print(\"in if\")\n",
        "\n",
        "print('out of if')"
      ],
      "metadata": {
        "id": "8IhMO3g0-YI-",
        "outputId": "ac98d787-cf93-4146-a70b-d5e37590d8f2",
        "colab": {
          "base_uri": "https://localhost:8080/"
        }
      },
      "execution_count": null,
      "outputs": [
        {
          "output_type": "stream",
          "name": "stdout",
          "text": [
            "in if\n",
            "out of if\n"
          ]
        }
      ]
    },
    {
      "cell_type": "code",
      "source": [
        "if 10>15:\n",
        "  print(\"in if\")\n",
        "\n",
        "print('out of if')"
      ],
      "metadata": {
        "id": "9fISbedVAola",
        "outputId": "80ce3dca-51e6-47cb-c39f-cfc949e5058b",
        "colab": {
          "base_uri": "https://localhost:8080/"
        }
      },
      "execution_count": null,
      "outputs": [
        {
          "output_type": "stream",
          "name": "stdout",
          "text": [
            "out of if\n"
          ]
        }
      ]
    },
    {
      "cell_type": "code",
      "source": [
        "if 10>15:\n",
        "  print(\"in if\")\n",
        "elif 10>12:\n",
        "  print('in elif')\n",
        "\n",
        "print('out of if')"
      ],
      "metadata": {
        "id": "kiP87e8HAqCn",
        "outputId": "f0e9dd7d-a10c-4682-f23b-0664d4df3623",
        "colab": {
          "base_uri": "https://localhost:8080/"
        }
      },
      "execution_count": null,
      "outputs": [
        {
          "output_type": "stream",
          "name": "stdout",
          "text": [
            "out of if\n"
          ]
        }
      ]
    },
    {
      "cell_type": "code",
      "source": [
        "if 10>15:\n",
        "  print(\"in if\")\n",
        "elif 10>12:\n",
        "  print('in elif')\n",
        "else:\n",
        "  print('in else')\n",
        "\n",
        "print('out of if')"
      ],
      "metadata": {
        "id": "xWezZsLgAwyT",
        "outputId": "697b62d8-7bac-46d8-885f-cb6aafcaa2ea",
        "colab": {
          "base_uri": "https://localhost:8080/"
        }
      },
      "execution_count": null,
      "outputs": [
        {
          "output_type": "stream",
          "name": "stdout",
          "text": [
            "in else\n",
            "out of if\n"
          ]
        }
      ]
    },
    {
      "cell_type": "code",
      "source": [
        "# input function\n",
        "\n",
        "a = input('Enter a value')\n",
        "print(a)\n",
        "print(type(a))"
      ],
      "metadata": {
        "id": "m581sGbJA0t1",
        "outputId": "5d19990a-9257-4657-b0fa-0daf2a23409d",
        "colab": {
          "base_uri": "https://localhost:8080/"
        }
      },
      "execution_count": null,
      "outputs": [
        {
          "output_type": "stream",
          "name": "stdout",
          "text": [
            "Enter a valuestr\n",
            "str\n",
            "<class 'str'>\n"
          ]
        }
      ]
    },
    {
      "cell_type": "code",
      "source": [
        "a = int(input('Enter a value'))\n",
        "print(a)\n",
        "print(type(a))"
      ],
      "metadata": {
        "id": "zAVyHA_gEFdS",
        "outputId": "6663a9ab-c608-4861-f049-5f6412758b6b",
        "colab": {
          "base_uri": "https://localhost:8080/"
        }
      },
      "execution_count": null,
      "outputs": [
        {
          "output_type": "stream",
          "name": "stdout",
          "text": [
            "Enter a value5\n",
            "5\n",
            "<class 'int'>\n"
          ]
        }
      ]
    },
    {
      "cell_type": "code",
      "source": [
        "a = float(input('Enter a value'))\n",
        "print(a)\n",
        "print(type(a))"
      ],
      "metadata": {
        "id": "kQ6WiHuYEKcm",
        "outputId": "e9794f49-a168-4725-ae36-4e05dff60f6d",
        "colab": {
          "base_uri": "https://localhost:8080/"
        }
      },
      "execution_count": null,
      "outputs": [
        {
          "output_type": "stream",
          "name": "stdout",
          "text": [
            "Enter a value11.1\n",
            "11.1\n",
            "<class 'float'>\n"
          ]
        }
      ]
    },
    {
      "cell_type": "code",
      "source": [
        "# palindrome string check\n",
        "\n",
        "s = input('Enter a string').lower()\n",
        "\n",
        "if s==s[::-1]:\n",
        "  print('palindrome')\n",
        "else:\n",
        "  print('not palindrome')"
      ],
      "metadata": {
        "id": "3JIPrDf_DlrD",
        "outputId": "4ddb0a84-b47a-4247-e58d-ccf3a276119c",
        "colab": {
          "base_uri": "https://localhost:8080/"
        }
      },
      "execution_count": null,
      "outputs": [
        {
          "output_type": "stream",
          "name": "stdout",
          "text": [
            "Enter a stringMalayalam\n",
            "palindrome\n"
          ]
        }
      ]
    },
    {
      "cell_type": "code",
      "source": [],
      "metadata": {
        "id": "urYqpKVFIUgn"
      },
      "execution_count": null,
      "outputs": []
    },
    {
      "cell_type": "code",
      "source": [
        "# multiplication table using While loop\n",
        "\n",
        "num = int(input('Enter a integer:'))\n",
        "i=1\n",
        "while i<=10:\n",
        "  print(num,'*',i,'=',num*i)\n",
        "  i+=1"
      ],
      "metadata": {
        "id": "gAe-ATqZDt_V",
        "outputId": "a7273572-ed42-4e2c-fe19-03f4b4a3e3bb",
        "colab": {
          "base_uri": "https://localhost:8080/"
        }
      },
      "execution_count": null,
      "outputs": [
        {
          "output_type": "stream",
          "name": "stdout",
          "text": [
            "Enter a integer:5\n",
            "5 * 1 = 5\n",
            "5 * 2 = 10\n",
            "5 * 3 = 15\n",
            "5 * 4 = 20\n",
            "5 * 5 = 25\n",
            "5 * 6 = 30\n",
            "5 * 7 = 35\n",
            "5 * 8 = 40\n",
            "5 * 9 = 45\n",
            "5 * 10 = 50\n"
          ]
        }
      ]
    },
    {
      "cell_type": "code",
      "source": [
        "# multiplication table using for loop\n",
        "# multiplication table using for loop\n",
        "\n",
        "num = int(input('Enter a integer: '))\n",
        "for i in range(1,11):\n",
        "  print(num,'*',i,'= ',num*i)"
      ],
      "metadata": {
        "id": "1kmp51JTI1pp",
        "outputId": "965d92c2-1383-4318-9641-27788c3f77c9",
        "colab": {
          "base_uri": "https://localhost:8080/"
        }
      },
      "execution_count": null,
      "outputs": [
        {
          "output_type": "stream",
          "name": "stdout",
          "text": [
            "Enter a integer: 5\n",
            "5 * 1 =  5\n",
            "5 * 2 =  10\n",
            "5 * 3 =  15\n",
            "5 * 4 =  20\n",
            "5 * 5 =  25\n",
            "5 * 6 =  30\n",
            "5 * 7 =  35\n",
            "5 * 8 =  40\n",
            "5 * 9 =  45\n",
            "5 * 10 =  50\n"
          ]
        }
      ]
    },
    {
      "cell_type": "code",
      "source": [
        "# for loop\n",
        "\n",
        "for i in ((10,20),('a','b'),(10.1,22.3)):\n",
        "  print(i)\n",
        "  print(type(i))\n"
      ],
      "metadata": {
        "id": "3VF8F1JTKCbD",
        "outputId": "d5d8b0be-3d30-4fa9-cd0b-ed3ccd3c83a5",
        "colab": {
          "base_uri": "https://localhost:8080/"
        }
      },
      "execution_count": null,
      "outputs": [
        {
          "output_type": "stream",
          "name": "stdout",
          "text": [
            "(10, 20)\n",
            "<class 'tuple'>\n",
            "('a', 'b')\n",
            "<class 'tuple'>\n",
            "(10.1, 22.3)\n",
            "<class 'tuple'>\n"
          ]
        }
      ]
    },
    {
      "cell_type": "code",
      "source": [
        "for i in range(0,11,3):\n",
        "  print(i)"
      ],
      "metadata": {
        "id": "CDmS3bueL_SV",
        "outputId": "26a3f8e1-c809-41d1-dc16-1a5d9dbe7a63",
        "colab": {
          "base_uri": "https://localhost:8080/"
        }
      },
      "execution_count": null,
      "outputs": [
        {
          "output_type": "stream",
          "name": "stdout",
          "text": [
            "0\n",
            "3\n",
            "6\n",
            "9\n"
          ]
        }
      ]
    },
    {
      "cell_type": "code",
      "source": [
        "# string concatenation\n",
        "\n",
        "str1 = 'Python is'\n",
        "str2 = 'awesome'\n",
        "str3 = str1 + str2\n",
        "print(str3)"
      ],
      "metadata": {
        "id": "auw1CY_d_vtQ",
        "outputId": "01cd9c51-25ed-468d-8fc9-d255e6d7a63e",
        "colab": {
          "base_uri": "https://localhost:8080/"
        }
      },
      "execution_count": null,
      "outputs": [
        {
          "output_type": "stream",
          "name": "stdout",
          "text": [
            "Python isawesome\n"
          ]
        }
      ]
    },
    {
      "cell_type": "code",
      "source": [
        "# string multiplication or repetition\n",
        "str4 = 'Love'\n",
        "str5 = str4 * 3\n",
        "print(str5)"
      ],
      "metadata": {
        "id": "F5bTRPld_7du",
        "outputId": "f9508e62-2a32-4438-e9a6-40f39add8ed7",
        "colab": {
          "base_uri": "https://localhost:8080/"
        }
      },
      "execution_count": null,
      "outputs": [
        {
          "output_type": "stream",
          "name": "stdout",
          "text": [
            "LoveLoveLove\n"
          ]
        }
      ]
    },
    {
      "cell_type": "code",
      "source": [
        "# string is immutable.\n",
        "str6 = 'NtTData'\n",
        "print(str6)\n",
        "print(str6[1])\n",
        "str6[1] = 'T' ## this operation is not allowed\n",
        "print(str6)"
      ],
      "metadata": {
        "id": "yMQzmHPJAQa_",
        "outputId": "a2877ace-d749-481a-f658-1834d12e788d",
        "colab": {
          "base_uri": "https://localhost:8080/",
          "height": 228
        }
      },
      "execution_count": null,
      "outputs": [
        {
          "output_type": "stream",
          "name": "stdout",
          "text": [
            "NtTData\n",
            "t\n"
          ]
        },
        {
          "output_type": "error",
          "ename": "TypeError",
          "evalue": "'str' object does not support item assignment",
          "traceback": [
            "\u001b[0;31m---------------------------------------------------------------------------\u001b[0m",
            "\u001b[0;31mTypeError\u001b[0m                                 Traceback (most recent call last)",
            "\u001b[0;32m<ipython-input-5-b46008e63135>\u001b[0m in \u001b[0;36m<cell line: 0>\u001b[0;34m()\u001b[0m\n\u001b[1;32m      3\u001b[0m \u001b[0mprint\u001b[0m\u001b[0;34m(\u001b[0m\u001b[0mstr6\u001b[0m\u001b[0;34m)\u001b[0m\u001b[0;34m\u001b[0m\u001b[0;34m\u001b[0m\u001b[0m\n\u001b[1;32m      4\u001b[0m \u001b[0mprint\u001b[0m\u001b[0;34m(\u001b[0m\u001b[0mstr6\u001b[0m\u001b[0;34m[\u001b[0m\u001b[0;36m1\u001b[0m\u001b[0;34m]\u001b[0m\u001b[0;34m)\u001b[0m\u001b[0;34m\u001b[0m\u001b[0;34m\u001b[0m\u001b[0m\n\u001b[0;32m----> 5\u001b[0;31m \u001b[0mstr6\u001b[0m\u001b[0;34m[\u001b[0m\u001b[0;36m1\u001b[0m\u001b[0;34m]\u001b[0m \u001b[0;34m=\u001b[0m \u001b[0;34m'T'\u001b[0m \u001b[0;31m## this operation is not allowed\u001b[0m\u001b[0;34m\u001b[0m\u001b[0;34m\u001b[0m\u001b[0m\n\u001b[0m\u001b[1;32m      6\u001b[0m \u001b[0mprint\u001b[0m\u001b[0;34m(\u001b[0m\u001b[0mstr6\u001b[0m\u001b[0;34m)\u001b[0m\u001b[0;34m\u001b[0m\u001b[0;34m\u001b[0m\u001b[0m\n",
            "\u001b[0;31mTypeError\u001b[0m: 'str' object does not support item assignment"
          ]
        }
      ]
    },
    {
      "cell_type": "code",
      "source": [
        "# deleting string using del\n",
        "str7 = 'Python'\n",
        "print(str7)\n",
        "\n",
        "del str7\n",
        "print(str7)"
      ],
      "metadata": {
        "id": "BZCglTumAv4m",
        "outputId": "33628fe7-9309-4ded-8745-740378e10958",
        "colab": {
          "base_uri": "https://localhost:8080/",
          "height": 193
        }
      },
      "execution_count": null,
      "outputs": [
        {
          "output_type": "stream",
          "name": "stdout",
          "text": [
            "Python\n"
          ]
        },
        {
          "output_type": "error",
          "ename": "NameError",
          "evalue": "name 'str7' is not defined",
          "traceback": [
            "\u001b[0;31m---------------------------------------------------------------------------\u001b[0m",
            "\u001b[0;31mNameError\u001b[0m                                 Traceback (most recent call last)",
            "\u001b[0;32m<ipython-input-6-1dc5f5226d7c>\u001b[0m in \u001b[0;36m<cell line: 0>\u001b[0;34m()\u001b[0m\n\u001b[1;32m      4\u001b[0m \u001b[0;34m\u001b[0m\u001b[0m\n\u001b[1;32m      5\u001b[0m \u001b[0;32mdel\u001b[0m \u001b[0mstr7\u001b[0m\u001b[0;34m\u001b[0m\u001b[0;34m\u001b[0m\u001b[0m\n\u001b[0;32m----> 6\u001b[0;31m \u001b[0mprint\u001b[0m\u001b[0;34m(\u001b[0m\u001b[0mstr7\u001b[0m\u001b[0;34m)\u001b[0m\u001b[0;34m\u001b[0m\u001b[0;34m\u001b[0m\u001b[0m\n\u001b[0m",
            "\u001b[0;31mNameError\u001b[0m: name 'str7' is not defined"
          ]
        }
      ]
    },
    {
      "cell_type": "code",
      "source": [
        "# Manually find length of string\n",
        "\n",
        "str8 = input('Enter a string: ')\n",
        "\n",
        "counter = 0\n",
        "\n",
        "for i in str8:\n",
        "  counter+=1\n",
        "\n",
        "print('Length of ', str8, ' is ', counter)\n",
        "\n",
        "# using len function\n",
        "\n",
        "print(len(str8))"
      ],
      "metadata": {
        "id": "_6PD83upBI1x",
        "outputId": "40d2885c-9d03-4680-d331-da443750d694",
        "colab": {
          "base_uri": "https://localhost:8080/"
        }
      },
      "execution_count": null,
      "outputs": [
        {
          "output_type": "stream",
          "name": "stdout",
          "text": [
            "Enter a string: Python\n",
            "Length of  Python  is  6\n",
            "6\n"
          ]
        }
      ]
    },
    {
      "cell_type": "code",
      "source": [
        "# Membership operator \"in\"\n",
        "\n",
        "if 'a' in 'apple':\n",
        "  print('yes')\n",
        "else:\n",
        "  print('no')"
      ],
      "metadata": {
        "id": "cK9mDAdDB4t-",
        "outputId": "8b24c821-470d-4827-95ae-f1f80938c7f3",
        "colab": {
          "base_uri": "https://localhost:8080/"
        }
      },
      "execution_count": null,
      "outputs": [
        {
          "output_type": "stream",
          "name": "stdout",
          "text": [
            "yes\n"
          ]
        }
      ]
    },
    {
      "cell_type": "code",
      "source": [
        "# Membership operator \"in\"\n",
        "\n",
        "if 'b' in 'apple':\n",
        "  print('yes')\n",
        "else:\n",
        "  print('no')"
      ],
      "metadata": {
        "id": "3V7LUpieCj0t",
        "outputId": "8c4686d5-e794-47be-b87f-117961074eb4",
        "colab": {
          "base_uri": "https://localhost:8080/"
        }
      },
      "execution_count": null,
      "outputs": [
        {
          "output_type": "stream",
          "name": "stdout",
          "text": [
            "no\n"
          ]
        }
      ]
    },
    {
      "cell_type": "code",
      "source": [
        "# Membership operator \"not in\"\n",
        "\n",
        "if 'a' not in 'apple':\n",
        "  print('no')\n",
        "else:\n",
        "  print('yes')"
      ],
      "metadata": {
        "id": "qwjp-5MBCt0K",
        "outputId": "9194138c-b4f2-474c-cbfe-3a9227b921f9",
        "colab": {
          "base_uri": "https://localhost:8080/"
        }
      },
      "execution_count": null,
      "outputs": [
        {
          "output_type": "stream",
          "name": "stdout",
          "text": [
            "yes\n"
          ]
        }
      ]
    },
    {
      "cell_type": "code",
      "source": [
        "# count occurrence of a substring\n",
        "\n",
        "main_str = input('Enter the string: ')\n",
        "sub_str = input('Enter the substring: ')\n",
        "\n",
        "print(main_str.count(sub_str))"
      ],
      "metadata": {
        "id": "XAmUvqwkC2Gi",
        "outputId": "467e135f-4b73-438a-b6ec-e932655a1cd5",
        "colab": {
          "base_uri": "https://localhost:8080/"
        }
      },
      "execution_count": null,
      "outputs": [
        {
          "output_type": "stream",
          "name": "stdout",
          "text": [
            "Enter the string: abenenen\n",
            "Enter the substring: en\n",
            "3\n"
          ]
        }
      ]
    },
    {
      "cell_type": "code",
      "source": [
        "# count occurrence of a substring\n",
        "\n",
        "main_str = input('Enter the string: ')\n",
        "sub_str = input('Enter the substring: ')\n",
        "\n",
        "print(main_str.count(sub_str,0,3))\n"
      ],
      "metadata": {
        "id": "qUqBooEmDqsg",
        "outputId": "ae6de289-c409-489b-8e7f-2c2d2f9e624c",
        "colab": {
          "base_uri": "https://localhost:8080/"
        }
      },
      "execution_count": null,
      "outputs": [
        {
          "output_type": "stream",
          "name": "stdout",
          "text": [
            "Enter the string: Bangalore\n",
            "Enter the substring: g\n",
            "0\n"
          ]
        }
      ]
    },
    {
      "cell_type": "code",
      "source": [
        "# startswith function : usecase to figure out if mobile number belong sto a particular country\n",
        "\n",
        "m_no = input('Enter mobile number with country code: ')\n",
        "\n",
        "if m_no.startswith('+91'):\n",
        "  print('India')\n",
        "elif m_no.startswith('+1'):\n",
        "  print('US')\n",
        "else:\n",
        "  print('Other country')\n"
      ],
      "metadata": {
        "id": "GeOSs0kdEiZG",
        "outputId": "418ac4d6-459f-4a58-d295-9f6fee5b4ec8",
        "colab": {
          "base_uri": "https://localhost:8080/"
        }
      },
      "execution_count": null,
      "outputs": [
        {
          "output_type": "stream",
          "name": "stdout",
          "text": [
            "Enter mobile number with country code: +91348378937\n",
            "India\n"
          ]
        }
      ]
    },
    {
      "cell_type": "code",
      "source": [
        "# ends with function: usecase to check for website, emails, domains etc\n",
        "\n",
        "url = input('Enter a url: ')\n",
        "\n",
        "if url.endswith('.edu'):\n",
        "  print('Educational website')\n",
        "elif url.endswith('.in'):\n",
        "  print('Indian website')\n",
        "elif url.endswith('.com'):\n",
        "  print('commercial website')\n",
        "else:\n",
        "  print('others')"
      ],
      "metadata": {
        "id": "XZ4nRVWgF3TJ",
        "outputId": "40720b4c-4f38-4f4d-8ca0-31b98279ad3c",
        "colab": {
          "base_uri": "https://localhost:8080/"
        }
      },
      "execution_count": null,
      "outputs": [
        {
          "output_type": "stream",
          "name": "stdout",
          "text": [
            "Enter a url: dsfkdsh.com\n",
            "commercial website\n"
          ]
        }
      ]
    },
    {
      "cell_type": "code",
      "source": [
        "# lstrip method\n",
        "\n",
        "name = input('Enter your name: ')\n",
        "print(name)\n",
        "print(name.lstrip())"
      ],
      "metadata": {
        "id": "PUbrG0H5GmDq",
        "outputId": "1180d4f6-4725-4a77-9eda-a803ee9c2811",
        "colab": {
          "base_uri": "https://localhost:8080/"
        }
      },
      "execution_count": null,
      "outputs": [
        {
          "output_type": "stream",
          "name": "stdout",
          "text": [
            "Enter your name:      Richa\n",
            "     Richa\n",
            "Richa\n"
          ]
        }
      ]
    },
    {
      "cell_type": "code",
      "source": [
        "# lstrip method\n",
        "\n",
        "name = input('Enter your name: ')\n",
        "print(name)\n",
        "print(name.lstrip())"
      ],
      "metadata": {
        "id": "Ge6ygUo6HVTF",
        "outputId": "e45eb2fa-da55-456a-8eae-99acdb8c4c4a",
        "colab": {
          "base_uri": "https://localhost:8080/"
        }
      },
      "execution_count": null,
      "outputs": [
        {
          "output_type": "stream",
          "name": "stdout",
          "text": [
            "Enter your name:    R icha\n",
            "   R icha\n",
            "R icha\n"
          ]
        }
      ]
    },
    {
      "cell_type": "code",
      "source": [
        "# lstrip method\n",
        "\n",
        "name = input('Enter your name: ')\n",
        "print(name)\n",
        "print(name.lstrip('*'))\n"
      ],
      "metadata": {
        "id": "ATokqY4yHboS",
        "outputId": "c16228b1-3a38-47b4-9a95-1f3caba34097",
        "colab": {
          "base_uri": "https://localhost:8080/"
        }
      },
      "execution_count": null,
      "outputs": [
        {
          "output_type": "stream",
          "name": "stdout",
          "text": [
            "Enter your name:    *Richa\n",
            "   *Richa\n",
            "   *Richa\n"
          ]
        }
      ]
    },
    {
      "cell_type": "code",
      "source": [
        "# lstrip method\n",
        "\n",
        "name = input('Enter your name: ')\n",
        "print(name)\n",
        "print(name.lstrip('*'))"
      ],
      "metadata": {
        "id": "S-mjWNShHfiM",
        "outputId": "fe64d0d4-1110-4eda-bdc4-069b86ee7dc5",
        "colab": {
          "base_uri": "https://localhost:8080/"
        }
      },
      "execution_count": null,
      "outputs": [
        {
          "output_type": "stream",
          "name": "stdout",
          "text": [
            "Enter your name: ** RIcha\n",
            "** RIcha\n",
            " RIcha\n"
          ]
        }
      ]
    },
    {
      "cell_type": "code",
      "source": [
        "url = ['https://www.myntra.com','https://www.amazon.com','https://www.flipkart.com']\n",
        "for i in url:\n",
        "  print(i.lstrip('https://www.'))"
      ],
      "metadata": {
        "id": "fJItox8eHi3C",
        "outputId": "b2fd971c-beff-43b4-a2c6-b69b6dbacde7",
        "colab": {
          "base_uri": "https://localhost:8080/"
        }
      },
      "execution_count": null,
      "outputs": [
        {
          "output_type": "stream",
          "name": "stdout",
          "text": [
            "myntra.com\n",
            "amazon.com\n",
            "flipkart.com\n"
          ]
        }
      ]
    },
    {
      "cell_type": "code",
      "source": [
        "url = ['https://www.myntra.com','https://www.amazon.com','https://www.flipkart.com']\n",
        "for i in url:\n",
        "  print(i.lstrip('htps://w.'))"
      ],
      "metadata": {
        "id": "ECWFQSkfIniR",
        "outputId": "02d61912-0ae9-4cc3-96b8-8905f1f883f8",
        "colab": {
          "base_uri": "https://localhost:8080/"
        }
      },
      "execution_count": null,
      "outputs": [
        {
          "output_type": "stream",
          "name": "stdout",
          "text": [
            "myntra.com\n",
            "amazon.com\n",
            "flipkart.com\n"
          ]
        }
      ]
    },
    {
      "cell_type": "code",
      "source": [
        "url = ['https://www.myntra.com','https://www.amazon.com','https://www.flipkart.com']\n",
        "for i in url:\n",
        "  print(i.lstrip('swpth:/.'))"
      ],
      "metadata": {
        "id": "dKUyP73OJC6X",
        "outputId": "21da2502-aceb-4aa7-9fb9-371e347fab9e",
        "colab": {
          "base_uri": "https://localhost:8080/"
        }
      },
      "execution_count": null,
      "outputs": [
        {
          "output_type": "stream",
          "name": "stdout",
          "text": [
            "myntra.com\n",
            "amazon.com\n",
            "flipkart.com\n"
          ]
        }
      ]
    },
    {
      "cell_type": "code",
      "source": [
        "url = ['https://www.myntra.com','https://www.amazon.com','https://www.flipkart.com']\n",
        "for i in url:\n",
        "  print(i.lstrip('htp/.'))"
      ],
      "metadata": {
        "id": "1MM9H6CmJpPJ",
        "outputId": "73aa410e-ca19-4605-ac6d-ca0e551e4c6f",
        "colab": {
          "base_uri": "https://localhost:8080/"
        }
      },
      "execution_count": null,
      "outputs": [
        {
          "output_type": "stream",
          "name": "stdout",
          "text": [
            "s://www.myntra.com\n",
            "s://www.amazon.com\n",
            "s://www.flipkart.com\n"
          ]
        }
      ]
    },
    {
      "cell_type": "code",
      "source": [
        "# rstrip\n",
        "\n",
        "url = ['https://www.myntra.com','https://www.amazon.com','https://www.flipkart.com','https://www.ajio.com']\n",
        "for i in url:\n",
        "  print(i.rstrip('htps.com'))"
      ],
      "metadata": {
        "id": "3Xx7n-EdL85F",
        "outputId": "cb921fd2-fa23-412b-f7f4-58c7c8a93d52",
        "colab": {
          "base_uri": "https://localhost:8080/"
        }
      },
      "execution_count": null,
      "outputs": [
        {
          "output_type": "stream",
          "name": "stdout",
          "text": [
            "https://www.myntra\n",
            "https://www.amazon\n",
            "https://www.flipkar\n",
            "https://www.aji\n"
          ]
        }
      ]
    },
    {
      "cell_type": "code",
      "source": [
        "# strip\n",
        "\n",
        "url = ['https://www.myntra.com','https://www.amazon.com','https://www.flipkart.com','https://www.ajio.com']\n",
        "for i in url:\n",
        "  print(i.strip('htps.com'))"
      ],
      "metadata": {
        "id": "S0dmrWh3MgoT",
        "outputId": "1b6f4698-9919-45a2-f245-a579e6206395",
        "colab": {
          "base_uri": "https://localhost:8080/"
        }
      },
      "execution_count": null,
      "outputs": [
        {
          "output_type": "stream",
          "name": "stdout",
          "text": [
            "://www.myntra\n",
            "://www.amazon\n",
            "://www.flipkar\n",
            "://www.aji\n"
          ]
        }
      ]
    },
    {
      "cell_type": "code",
      "source": [
        "# strip doesnt strip every character in between the string. only till the first mismatch found from both start and end\n",
        "\n",
        "print('   Python is awesome   '.strip())"
      ],
      "metadata": {
        "id": "z2a8B1HyNuHQ",
        "outputId": "5882b164-df41-4658-b671-b1a60e4e75f9",
        "colab": {
          "base_uri": "https://localhost:8080/"
        }
      },
      "execution_count": null,
      "outputs": [
        {
          "output_type": "stream",
          "name": "stdout",
          "text": [
            "Python is awesome\n"
          ]
        }
      ]
    },
    {
      "cell_type": "code",
      "source": [
        "# ord method to find the ascii or unicode value of the characters\n",
        "\n",
        "print(ord('a'))\n",
        "print(ord('b'))\n",
        "print(ord('c'))\n",
        "print(ord('A'))\n",
        "print(ord('B'))\n",
        "print(ord('C'))\n",
        "print(ord('Z'))"
      ],
      "metadata": {
        "id": "uJ1GodetOO_f",
        "outputId": "76ba4657-1823-405e-931b-eabe421d3046",
        "colab": {
          "base_uri": "https://localhost:8080/"
        }
      },
      "execution_count": null,
      "outputs": [
        {
          "output_type": "stream",
          "name": "stdout",
          "text": [
            "97\n",
            "98\n",
            "99\n",
            "65\n",
            "66\n",
            "67\n",
            "90\n"
          ]
        }
      ]
    },
    {
      "cell_type": "code",
      "source": [
        "s1 = 'AAnand'\n",
        "s2 = 'ABhijit'\n",
        "\n",
        "if s1>s2:\n",
        "  print('s1 is greater')\n",
        "else:\n",
        "  print('s2 is greater')"
      ],
      "metadata": {
        "id": "SwlfQg4_QjFW",
        "outputId": "79f5af9f-feef-49a5-c675-6d102b903238",
        "colab": {
          "base_uri": "https://localhost:8080/"
        }
      },
      "execution_count": null,
      "outputs": [
        {
          "output_type": "stream",
          "name": "stdout",
          "text": [
            "s2 is greater\n"
          ]
        }
      ]
    },
    {
      "cell_type": "code",
      "source": [
        "# comparison operator\n",
        "\n",
        "# ==, >, <, !=, >=, <="
      ],
      "metadata": {
        "id": "Ftxxfcj6Q7hu"
      },
      "execution_count": null,
      "outputs": []
    },
    {
      "cell_type": "code",
      "source": [
        "# replace method\n",
        "\n",
        "s = '**  Python is awesome  **'\n",
        "\n",
        "print(s.replace('*',''))\n",
        "print(s.replace(' ',''))\n",
        "print(s.replace(' ','*'))\n",
        "print(s.replace('* ',''))"
      ],
      "metadata": {
        "id": "JLAO8puyRQWA",
        "outputId": "609951cf-36ea-4333-fa54-5a462412f752",
        "colab": {
          "base_uri": "https://localhost:8080/"
        }
      },
      "execution_count": null,
      "outputs": [
        {
          "output_type": "stream",
          "name": "stdout",
          "text": [
            "  Python is awesome  \n",
            "**Pythonisawesome**\n",
            "****Python*is*awesome****\n",
            "* Python is awesome  **\n"
          ]
        }
      ]
    },
    {
      "cell_type": "code",
      "source": [
        "s = 'Python is awesome '\n",
        "\n",
        "print(s.replace(' ',','))\n",
        "print(s.replace(' ',',',1))\n",
        "print(s.replace(' ',',',2))"
      ],
      "metadata": {
        "id": "KOUiLchORb-4",
        "outputId": "c7d6f5ab-043f-41fb-cbe7-624cc89716b1",
        "colab": {
          "base_uri": "https://localhost:8080/"
        }
      },
      "execution_count": null,
      "outputs": [
        {
          "output_type": "stream",
          "name": "stdout",
          "text": [
            "Python,is,awesome,\n",
            "Python,is awesome \n",
            "Python,is,awesome \n"
          ]
        }
      ]
    },
    {
      "cell_type": "code",
      "source": [
        "# Find method\n",
        "\n",
        "s = 'I live in Bangalore, Bangalore is a beautiful place'\n",
        "\n",
        "print(s.find('Bangalore'))"
      ],
      "metadata": {
        "id": "mB9a3RchRyFJ",
        "outputId": "872ae7ba-cc79-4c91-f84d-0601484d6d0f",
        "colab": {
          "base_uri": "https://localhost:8080/"
        }
      },
      "execution_count": null,
      "outputs": [
        {
          "output_type": "stream",
          "name": "stdout",
          "text": [
            "10\n"
          ]
        }
      ]
    },
    {
      "cell_type": "code",
      "source": [
        "s = 'I live in Bangalore, Bangalore is a beautiful place'\n",
        "\n",
        "print(s.find('bangalore'))"
      ],
      "metadata": {
        "id": "dlP5BILWSseH",
        "outputId": "3edabf6b-cd8c-403a-bfd9-efdace3ca8e5",
        "colab": {
          "base_uri": "https://localhost:8080/"
        }
      },
      "execution_count": null,
      "outputs": [
        {
          "output_type": "stream",
          "name": "stdout",
          "text": [
            "-1\n"
          ]
        }
      ]
    },
    {
      "cell_type": "code",
      "source": [
        "s = 'I live in Bangalore, Bangalore is a beautiful place'\n",
        "\n",
        "print(s.count('Bangalore'))"
      ],
      "metadata": {
        "id": "a8_NE0kJSxFR",
        "outputId": "cc56cc10-3ba1-4745-e9ee-0dea4cef5293",
        "colab": {
          "base_uri": "https://localhost:8080/"
        }
      },
      "execution_count": null,
      "outputs": [
        {
          "output_type": "stream",
          "name": "stdout",
          "text": [
            "2\n"
          ]
        }
      ]
    },
    {
      "cell_type": "code",
      "source": [
        "# Rfind method\n",
        "\n",
        "s = 'I live in Bangalore, Bangalore is a beautiful place'\n",
        "\n",
        "print(s.rfind('Bangalore'))"
      ],
      "metadata": {
        "id": "vbOnt8h4S1Oi",
        "outputId": "595c102f-6fc2-471b-a090-e4f7e21d180e",
        "colab": {
          "base_uri": "https://localhost:8080/"
        }
      },
      "execution_count": null,
      "outputs": [
        {
          "output_type": "stream",
          "name": "stdout",
          "text": [
            "21\n"
          ]
        }
      ]
    },
    {
      "cell_type": "code",
      "source": [
        "# Split method\n",
        "\n",
        "s = 'I live in bangalore. bangalore is a beautiful place.'\n",
        "\n",
        "print(s.split())"
      ],
      "metadata": {
        "id": "YFihQ4CbTO3O",
        "outputId": "61897497-4530-4346-ce74-9d8b82e21e2d",
        "colab": {
          "base_uri": "https://localhost:8080/"
        }
      },
      "execution_count": null,
      "outputs": [
        {
          "output_type": "stream",
          "name": "stdout",
          "text": [
            "['I', 'live', 'in', 'bangalore.', 'bangalore', 'is', 'a', 'beautiful', 'place.']\n"
          ]
        }
      ]
    },
    {
      "cell_type": "code",
      "source": [
        "s = 'I live in bangalore. bangalore is a beautiful place.'\n",
        "\n",
        "print(s.split(''))"
      ],
      "metadata": {
        "id": "tHXM_PVrTv5_",
        "outputId": "88c242d6-670c-4add-8f6e-19a6903ab61d",
        "colab": {
          "base_uri": "https://localhost:8080/",
          "height": 176
        }
      },
      "execution_count": null,
      "outputs": [
        {
          "output_type": "error",
          "ename": "ValueError",
          "evalue": "empty separator",
          "traceback": [
            "\u001b[0;31m---------------------------------------------------------------------------\u001b[0m",
            "\u001b[0;31mValueError\u001b[0m                                Traceback (most recent call last)",
            "\u001b[0;32m<ipython-input-54-55c6f63a532c>\u001b[0m in \u001b[0;36m<cell line: 0>\u001b[0;34m()\u001b[0m\n\u001b[1;32m      1\u001b[0m \u001b[0ms\u001b[0m \u001b[0;34m=\u001b[0m \u001b[0;34m'I live in bangalore. bangalore is a beautiful place.'\u001b[0m\u001b[0;34m\u001b[0m\u001b[0;34m\u001b[0m\u001b[0m\n\u001b[1;32m      2\u001b[0m \u001b[0;34m\u001b[0m\u001b[0m\n\u001b[0;32m----> 3\u001b[0;31m \u001b[0mprint\u001b[0m\u001b[0;34m(\u001b[0m\u001b[0ms\u001b[0m\u001b[0;34m.\u001b[0m\u001b[0msplit\u001b[0m\u001b[0;34m(\u001b[0m\u001b[0;34m''\u001b[0m\u001b[0;34m)\u001b[0m\u001b[0;34m)\u001b[0m\u001b[0;34m\u001b[0m\u001b[0;34m\u001b[0m\u001b[0m\n\u001b[0m",
            "\u001b[0;31mValueError\u001b[0m: empty separator"
          ]
        }
      ]
    },
    {
      "cell_type": "code",
      "source": [
        "s = 'I live in bangalore. bangalore is a beautiful place.'\n",
        "\n",
        "print(s.split(' ',2))"
      ],
      "metadata": {
        "id": "qemnzYNMT_9j",
        "outputId": "c9df40ea-1bf9-4456-989c-405e92c803e7",
        "colab": {
          "base_uri": "https://localhost:8080/"
        }
      },
      "execution_count": null,
      "outputs": [
        {
          "output_type": "stream",
          "name": "stdout",
          "text": [
            "['I', 'live', 'in bangalore. bangalore is a beautiful place.']\n"
          ]
        }
      ]
    },
    {
      "cell_type": "code",
      "source": [
        "s = 'india, usa, australia,nz'\n",
        "print(s.split())\n",
        "print(s.split(','))\n",
        "print(s.split(', '))"
      ],
      "metadata": {
        "id": "vJISo6zMUEAw",
        "outputId": "179dca6a-5410-41de-e02d-ef000bbe8d1a",
        "colab": {
          "base_uri": "https://localhost:8080/"
        }
      },
      "execution_count": null,
      "outputs": [
        {
          "output_type": "stream",
          "name": "stdout",
          "text": [
            "['india,', 'usa,', 'australia,nz']\n",
            "['india', ' usa', ' australia', 'nz']\n",
            "['india', 'usa', 'australia,nz']\n"
          ]
        }
      ]
    },
    {
      "cell_type": "code",
      "source": [
        "|"
      ],
      "metadata": {
        "id": "1bEjg4pSUneG"
      },
      "execution_count": null,
      "outputs": []
    }
  ]
}