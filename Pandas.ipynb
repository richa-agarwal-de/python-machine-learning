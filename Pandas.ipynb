{
  "nbformat": 4,
  "nbformat_minor": 0,
  "metadata": {
    "colab": {
      "provenance": [],
      "include_colab_link": true
    },
    "kernelspec": {
      "name": "python3",
      "display_name": "Python 3"
    },
    "language_info": {
      "name": "python"
    }
  },
  "cells": [
    {
      "cell_type": "markdown",
      "metadata": {
        "id": "view-in-github",
        "colab_type": "text"
      },
      "source": [
        "<a href=\"https://colab.research.google.com/github/richa-agarwal-de/python-machine-learning/blob/main/Pandas.ipynb\" target=\"_parent\"><img src=\"https://colab.research.google.com/assets/colab-badge.svg\" alt=\"Open In Colab\"/></a>"
      ]
    },
    {
      "cell_type": "code",
      "execution_count": 1,
      "metadata": {
        "id": "HpmbKqI7jltH"
      },
      "outputs": [],
      "source": [
        "import pandas as pd\n",
        "import numpy as np"
      ]
    },
    {
      "cell_type": "code",
      "source": [
        "dict1 = {\n",
        "    \"name\": [\"Harry\", \"Rohan\", \"Radha\", \"Shubh\"],\n",
        "    \"marks\": [92, 34, 24, 17],\n",
        "    \"city\": [\"Rampur\", \"Bareily\", \"Kolkata\", \"Antarctica\"],\n",
        "    \"gender\": ['M', \"M\", \"F\", \"M\"]\n",
        "}"
      ],
      "metadata": {
        "id": "34ZbDQBAxLWX"
      },
      "execution_count": 3,
      "outputs": []
    },
    {
      "cell_type": "code",
      "source": [
        "df1 = pd.DataFrame(dict1)\n",
        "\n",
        "print(df1)"
      ],
      "metadata": {
        "id": "7ZfgRm9BuEk5",
        "outputId": "2648b092-ae66-42a5-950d-4b3c2b1fc64b",
        "colab": {
          "base_uri": "https://localhost:8080/"
        }
      },
      "execution_count": 5,
      "outputs": [
        {
          "output_type": "stream",
          "name": "stdout",
          "text": [
            "    name  marks        city gender\n",
            "0  Harry     92      Rampur      M\n",
            "1  Rohan     34     Bareily      M\n",
            "2  Radha     24     Kolkata      F\n",
            "3  Shubh     17  Antarctica      M\n"
          ]
        }
      ]
    },
    {
      "cell_type": "code",
      "source": [],
      "metadata": {
        "id": "kluHZg-JuPpm"
      },
      "execution_count": null,
      "outputs": []
    }
  ]
}